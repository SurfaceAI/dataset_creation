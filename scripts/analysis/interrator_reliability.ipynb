{
 "cells": [
  {
   "cell_type": "code",
   "execution_count": 17,
   "metadata": {},
   "outputs": [],
   "source": [
    "import os\n",
    "\n",
    "import numpy as np\n",
    "import pandas as pd\n",
    "import json\n",
    "\n",
    "from sklearn.metrics import cohen_kappa_score\n",
    "import krippendorff as kd"
   ]
  },
  {
   "cell_type": "code",
   "execution_count": 18,
   "metadata": {},
   "outputs": [],
   "source": [
    "version = \"v5\""
   ]
  },
  {
   "cell_type": "code",
   "execution_count": 19,
   "metadata": {},
   "outputs": [],
   "source": [
    "path = os.path.join(\"/\", \"Users\", \"alexandra\", \"Nextcloud-HTW\", \"SHARED\", \"SurfaceAI\", \"data\", \"mapillary_images\", \"training\", f\"{version}_c0\", \"metadata\", \"interrater_reliability\")\n",
    "files = [\n",
    "    \"annotator1.csv\",\n",
    "    \"annotator2.csv\",\n",
    "    \"annotator3.csv\",\n",
    "]\n",
    "\n",
    "nostreet_values = [\"(mainly) no street visible\", \"surface / smoothness not visible\"]\n",
    "unsure_revise_value = \"unsure - please revise\""
   ]
  },
  {
   "cell_type": "code",
   "execution_count": 20,
   "metadata": {},
   "outputs": [],
   "source": [
    "df = pd.DataFrame()\n",
    "for file in files:\n",
    "    df = pd.concat([df, pd.read_csv(os.path.join(path, file))])"
   ]
  },
  {
   "cell_type": "code",
   "execution_count": 21,
   "metadata": {},
   "outputs": [],
   "source": [
    "df[\"image_id\"] = df.image.apply(\n",
    "lambda x: str.split(\n",
    "    x, \"https://freemove.f4.htw-berlin.de/data/local-files/?d=v5/\"\n",
    ")[1]).apply(lambda x: int(str.split(x, \".jpg\")[0]))"
   ]
  },
  {
   "cell_type": "code",
   "execution_count": 22,
   "metadata": {},
   "outputs": [],
   "source": [
    "df.loc[~df.nostreet.isna(), \"surface\"] = \"nostreet\"\n",
    "df.loc[~df.nostreet.isna(), \"smoothness\"] = \"nostreet\""
   ]
  },
  {
   "cell_type": "code",
   "execution_count": 23,
   "metadata": {},
   "outputs": [],
   "source": [
    "# compare predictions(with nostreet)\n",
    "\n",
    "# make sure to only use images where all three annotators have annotated\n",
    "image_id_counts = df.groupby([\"image_id\"]).size()\n",
    "image_ids = image_id_counts[image_id_counts == 3].index"
   ]
  },
  {
   "cell_type": "code",
   "execution_count": 24,
   "metadata": {},
   "outputs": [
    {
     "data": {
      "text/plain": [
       "58.95"
      ]
     },
     "execution_count": 24,
     "metadata": {},
     "output_type": "execute_result"
    }
   ],
   "source": [
    "grouped_surface = df[df.image_id.isin(image_ids) ].groupby([\"image_id\", \"surface\"]).size()\n",
    "\n",
    "# same surface rating \n",
    "round(100* len(grouped_surface[grouped_surface == 3]) / len(grouped_surface), 2)"
   ]
  },
  {
   "cell_type": "code",
   "execution_count": 25,
   "metadata": {},
   "outputs": [
    {
     "data": {
      "text/plain": [
       "26.8"
      ]
     },
     "execution_count": 25,
     "metadata": {},
     "output_type": "execute_result"
    }
   ],
   "source": [
    "# same smoothness rating\n",
    "grouped_smoothness = df[df.image_id.isin(image_ids) ].groupby([\"image_id\", \"smoothness\"]).size()\n",
    "round(100* len(grouped_smoothness[grouped_smoothness == 3]) / len(grouped_smoothness), 2)\n",
    "# 30%"
   ]
  },
  {
   "cell_type": "code",
   "execution_count": 26,
   "metadata": {},
   "outputs": [
    {
     "data": {
      "text/plain": [
       "91.94"
      ]
     },
     "execution_count": 26,
     "metadata": {},
     "output_type": "execute_result"
    }
   ],
   "source": [
    "# compare predictions (without nostreet)\n",
    "image_id_counts = df[df.surface != \"nostreet\"].groupby([\"image_id\"]).size()\n",
    "image_ids = image_id_counts[image_id_counts == 3].index\n",
    "grouped_surface = df[df.image_id.isin(image_ids) ].groupby([\"image_id\", \"surface\"]).size()\n",
    "\n",
    "# same surface rating (with nostreet)\n",
    "round(100* len(grouped_surface[grouped_surface == 3]) / len(grouped_surface), 2)"
   ]
  },
  {
   "cell_type": "code",
   "execution_count": 27,
   "metadata": {},
   "outputs": [
    {
     "data": {
      "text/plain": [
       "31.49"
      ]
     },
     "execution_count": 27,
     "metadata": {},
     "output_type": "execute_result"
    }
   ],
   "source": [
    "# same smoothness rating\n",
    "grouped_smoothness = df[df.image_id.isin(image_ids) ].groupby([\"image_id\", \"smoothness\"]).size()\n",
    "round(100* len(grouped_smoothness[grouped_smoothness == 3]) / len(grouped_smoothness), 2)"
   ]
  },
  {
   "cell_type": "code",
   "execution_count": 28,
   "metadata": {},
   "outputs": [
    {
     "data": {
      "text/plain": [
       "annotator\n",
       "1    180\n",
       "5    180\n",
       "4    180\n",
       "Name: count, dtype: int64"
      ]
     },
     "execution_count": 28,
     "metadata": {},
     "output_type": "execute_result"
    }
   ],
   "source": [
    "df.annotator.value_counts()"
   ]
  },
  {
   "cell_type": "code",
   "execution_count": 32,
   "metadata": {},
   "outputs": [
    {
     "name": "stdout",
     "output_type": "stream",
     "text": [
      "Kappa for surface and annotator 1 and 4: 0.96\n",
      "Kappa for smoothness and annotator 1 and 4: 0.69\n",
      "Pearson for smoothness int and annotator 1 and 4: 0.79\n",
      "Kappa for surface and annotator 1 and 5: 0.95\n",
      "Kappa for smoothness and annotator 1 and 5: 0.47\n",
      "Pearson for smoothness int and annotator 1 and 5: 0.75\n",
      "Kappa for surface and annotator 4 and 5: 0.96\n",
      "Kappa for smoothness and annotator 4 and 5: 0.42\n",
      "Pearson for smoothness int and annotator 4 and 5: 0.73\n"
     ]
    }
   ],
   "source": [
    "# Compute Cohen's Kappa\n",
    "image_id_counts = df[df.surface != \"nostreet\"].groupby([\"image_id\"]).size()\n",
    "image_ids = image_id_counts[image_id_counts == 3].index\n",
    "annotator1 = 1\n",
    "annotator2 = 4\n",
    "annotator3 = 5\n",
    "\n",
    "for i,j in [(annotator1,annotator2), (annotator1,annotator3), (annotator2,annotator3)]:\n",
    "            rater1 = df[(df.image_id.isin(image_ids)) & (df.annotator == i)].sort_values(by=[\"image_id\"])\n",
    "            rater2 = df[(df.image_id.isin(image_ids) )& (df.annotator == j)].sort_values(by=[\"image_id\"])\n",
    "            kappa = cohen_kappa_score(rater1.surface.tolist(), rater2.surface.tolist())\n",
    "            print(f\"Kappa for surface and annotator {i} and {j}: {round(kappa, 2)}\")\n",
    "            kappa = cohen_kappa_score(rater1.smoothness.tolist(), rater2.smoothness.tolist())\n",
    "            print(f\"Kappa for smoothness and annotator {i} and {j}: {round(kappa, 2)}\")\n",
    "            pearson = np.corrcoef(rater1.smoothness_int, rater2.smoothness_int)[0,1]\n",
    "            print(f\"Pearson for smoothness int and annotator {i} and {j}: {round(pearson, 2)}\")\n",
    "            #kappa = cohen_kappa_score(rater1.smoothness_int.tolist(), rater2.smoothness_int.tolist())\n",
    "            #print(f\"Kappa for smoothness-int and annotator {i} and {j}: {round(kappa, 2)}\")"
   ]
  },
  {
   "cell_type": "code",
   "execution_count": null,
   "metadata": {},
   "outputs": [
    {
     "name": "stdout",
     "output_type": "stream",
     "text": [
      "Krippendorfs alpha for surface: 0.96\n",
      "Krippendorfs alpha for smoothness: 0.52\n",
      "Krippendorfs alpha for smoothness as ordinal: 0.74\n"
     ]
    }
   ],
   "source": [
    "rater1 = df[(df.image_id.isin(image_ids)) & (df.annotator == annotator1)].sort_values(by=[\"image_id\"])\n",
    "rater2 = df[(df.image_id.isin(image_ids) )& (df.annotator == annotator2)].sort_values(by=[\"image_id\"])\n",
    "rater3 = df[(df.image_id.isin(image_ids) )& (df.annotator == annotator3)].sort_values(by=[\"image_id\"])\n",
    "krippendorfs_alpha_surf = kd.alpha(np.array([\n",
    "                rater1.surface.tolist(), \n",
    "                rater2.surface.tolist(),\n",
    "                rater3.surface.tolist()]), level_of_measurement='nominal')\n",
    "krippendorfs_alpha_smooth = kd.alpha(np.array([\n",
    "                rater1.smoothness.tolist(), \n",
    "                rater2.smoothness.tolist(),\n",
    "                rater3.smoothness.tolist()]), level_of_measurement='nominal')\n",
    "krippendorfs_alpha_smooth_int = kd.alpha(np.array([\n",
    "                rater1.smoothness_int.tolist(), \n",
    "                rater2.smoothness_int.tolist(),\n",
    "                rater3.smoothness_int.tolist()]), level_of_measurement='ordinal')\n",
    "\n",
    "print(f\"Krippendorfs alpha for surface: {round(krippendorfs_alpha_surf, 2)}\")\n",
    "print(f\"Krippendorfs alpha for smoothness: {round(krippendorfs_alpha_smooth, 2)}\")\n",
    "print(f\"Krippendorfs alpha for smoothness as ordinal: {round(krippendorfs_alpha_smooth_int, 2)}\")"
   ]
  },
  {
   "cell_type": "markdown",
   "metadata": {},
   "source": []
  },
  {
   "cell_type": "markdown",
   "metadata": {},
   "source": []
  },
  {
   "cell_type": "code",
   "execution_count": 33,
   "metadata": {},
   "outputs": [
    {
     "data": {
      "text/plain": [
       "surface\n",
       "asphalt          202\n",
       "nostreet         118\n",
       "paving_stones     71\n",
       "unpaved           63\n",
       "concrete          46\n",
       "sett              40\n",
       "Name: count, dtype: int64"
      ]
     },
     "execution_count": 33,
     "metadata": {},
     "output_type": "execute_result"
    }
   ],
   "source": [
    "df.surface.value_counts()"
   ]
  },
  {
   "cell_type": "code",
   "execution_count": 34,
   "metadata": {},
   "outputs": [
    {
     "data": {
      "text/plain": [
       "smoothness\n",
       "good            167\n",
       "nostreet        118\n",
       "intermediate    104\n",
       "excellent        85\n",
       "bad              48\n",
       "very_bad         18\n",
       "Name: count, dtype: int64"
      ]
     },
     "execution_count": 34,
     "metadata": {},
     "output_type": "execute_result"
    }
   ],
   "source": [
    "df.smoothness.value_counts()"
   ]
  },
  {
   "cell_type": "code",
   "execution_count": null,
   "metadata": {},
   "outputs": [
    {
     "data": {
      "text/plain": [
       "image_id          smoothness  \n",
       "133711235471285   excellent       2\n",
       "                  good            1\n",
       "150388490313514   bad             2\n",
       "                  very_bad        1\n",
       "152418293439228   bad             1\n",
       "                                 ..\n",
       "1893331670830341  good            2\n",
       "2978958492337732  bad             1\n",
       "                  intermediate    2\n",
       "5471546489584414  excellent       2\n",
       "                  good            1\n",
       "Length: 124, dtype: int64"
      ]
     },
     "execution_count": 52,
     "metadata": {},
     "output_type": "execute_result"
    }
   ],
   "source": [
    "grouped_smoothness[grouped_smoothness < 3]"
   ]
  },
  {
   "cell_type": "code",
   "execution_count": 31,
   "metadata": {},
   "outputs": [],
   "source": [
    "# learning to rank\n",
    "df[\"smoothness_int\"] = df.smoothness.apply(lambda x: \n",
    "                                           0 if x == \"ver_bad\" \n",
    "                                           else 1 if x == \"bad\" \n",
    "                                           else 2 if x == \"intermediate\" \n",
    "                                           else 3 if x == \"good\" \n",
    "                                           else 4)"
   ]
  },
  {
   "cell_type": "code",
   "execution_count": null,
   "metadata": {},
   "outputs": [
    {
     "data": {
      "text/html": [
       "<div>\n",
       "<style scoped>\n",
       "    .dataframe tbody tr th:only-of-type {\n",
       "        vertical-align: middle;\n",
       "    }\n",
       "\n",
       "    .dataframe tbody tr th {\n",
       "        vertical-align: top;\n",
       "    }\n",
       "\n",
       "    .dataframe thead th {\n",
       "        text-align: right;\n",
       "    }\n",
       "</style>\n",
       "<table border=\"1\" class=\"dataframe\">\n",
       "  <thead>\n",
       "    <tr style=\"text-align: right;\">\n",
       "      <th></th>\n",
       "      <th>annotation_id</th>\n",
       "      <th>annotator</th>\n",
       "      <th>created_at</th>\n",
       "      <th>id</th>\n",
       "      <th>image</th>\n",
       "      <th>lead_time</th>\n",
       "      <th>nostreet</th>\n",
       "      <th>rails</th>\n",
       "      <th>roadtype</th>\n",
       "      <th>smoothness</th>\n",
       "      <th>surface</th>\n",
       "      <th>updated_at</th>\n",
       "      <th>image_id</th>\n",
       "      <th>smoothness_int</th>\n",
       "    </tr>\n",
       "  </thead>\n",
       "  <tbody>\n",
       "    <tr>\n",
       "      <th>0</th>\n",
       "      <td>2191</td>\n",
       "      <td>1</td>\n",
       "      <td>2024-01-25T09:14:06.497773Z</td>\n",
       "      <td>11261</td>\n",
       "      <td>https://freemove.f4.htw-berlin.de/data/local-f...</td>\n",
       "      <td>49.734</td>\n",
       "      <td>NaN</td>\n",
       "      <td>NaN</td>\n",
       "      <td>path (unspecified)</td>\n",
       "      <td>very_bad</td>\n",
       "      <td>unpaved</td>\n",
       "      <td>2024-01-25T09:14:06.497819Z</td>\n",
       "      <td>400591394237777</td>\n",
       "      <td>4</td>\n",
       "    </tr>\n",
       "    <tr>\n",
       "      <th>1</th>\n",
       "      <td>2192</td>\n",
       "      <td>1</td>\n",
       "      <td>2024-01-25T09:14:21.763658Z</td>\n",
       "      <td>11262</td>\n",
       "      <td>https://freemove.f4.htw-berlin.de/data/local-f...</td>\n",
       "      <td>14.851</td>\n",
       "      <td>NaN</td>\n",
       "      <td>NaN</td>\n",
       "      <td>road(car)</td>\n",
       "      <td>excellent</td>\n",
       "      <td>asphalt</td>\n",
       "      <td>2024-01-25T09:14:21.763686Z</td>\n",
       "      <td>343842900417019</td>\n",
       "      <td>4</td>\n",
       "    </tr>\n",
       "    <tr>\n",
       "      <th>2</th>\n",
       "      <td>2193</td>\n",
       "      <td>1</td>\n",
       "      <td>2024-01-25T09:14:37.148282Z</td>\n",
       "      <td>11263</td>\n",
       "      <td>https://freemove.f4.htw-berlin.de/data/local-f...</td>\n",
       "      <td>14.906</td>\n",
       "      <td>surface / smoothness not recognizable</td>\n",
       "      <td>NaN</td>\n",
       "      <td>NaN</td>\n",
       "      <td>nostreet</td>\n",
       "      <td>nostreet</td>\n",
       "      <td>2024-01-25T09:14:37.148308Z</td>\n",
       "      <td>311173223724780</td>\n",
       "      <td>4</td>\n",
       "    </tr>\n",
       "    <tr>\n",
       "      <th>3</th>\n",
       "      <td>2194</td>\n",
       "      <td>1</td>\n",
       "      <td>2024-01-25T09:15:10.549668Z</td>\n",
       "      <td>11264</td>\n",
       "      <td>https://freemove.f4.htw-berlin.de/data/local-f...</td>\n",
       "      <td>75.187</td>\n",
       "      <td>NaN</td>\n",
       "      <td>NaN</td>\n",
       "      <td>path (unspecified)</td>\n",
       "      <td>intermediate</td>\n",
       "      <td>paving_stones</td>\n",
       "      <td>2024-01-25T09:17:49.449167Z</td>\n",
       "      <td>1370581949983309</td>\n",
       "      <td>2</td>\n",
       "    </tr>\n",
       "    <tr>\n",
       "      <th>4</th>\n",
       "      <td>2195</td>\n",
       "      <td>1</td>\n",
       "      <td>2024-01-25T09:15:36.713374Z</td>\n",
       "      <td>11265</td>\n",
       "      <td>https://freemove.f4.htw-berlin.de/data/local-f...</td>\n",
       "      <td>29.964</td>\n",
       "      <td>NaN</td>\n",
       "      <td>NaN</td>\n",
       "      <td>road(car)</td>\n",
       "      <td>excellent</td>\n",
       "      <td>asphalt</td>\n",
       "      <td>2024-01-25T09:17:04.518672Z</td>\n",
       "      <td>303593837938660</td>\n",
       "      <td>4</td>\n",
       "    </tr>\n",
       "    <tr>\n",
       "      <th>...</th>\n",
       "      <td>...</td>\n",
       "      <td>...</td>\n",
       "      <td>...</td>\n",
       "      <td>...</td>\n",
       "      <td>...</td>\n",
       "      <td>...</td>\n",
       "      <td>...</td>\n",
       "      <td>...</td>\n",
       "      <td>...</td>\n",
       "      <td>...</td>\n",
       "      <td>...</td>\n",
       "      <td>...</td>\n",
       "      <td>...</td>\n",
       "      <td>...</td>\n",
       "    </tr>\n",
       "    <tr>\n",
       "      <th>175</th>\n",
       "      <td>2726</td>\n",
       "      <td>4</td>\n",
       "      <td>2024-01-25T18:32:41.849150Z</td>\n",
       "      <td>11796</td>\n",
       "      <td>https://freemove.f4.htw-berlin.de/data/local-f...</td>\n",
       "      <td>12.067</td>\n",
       "      <td>NaN</td>\n",
       "      <td>NaN</td>\n",
       "      <td>road(car)</td>\n",
       "      <td>good</td>\n",
       "      <td>paving_stones</td>\n",
       "      <td>2024-01-25T18:32:41.849176Z</td>\n",
       "      <td>489332022421464</td>\n",
       "      <td>3</td>\n",
       "    </tr>\n",
       "    <tr>\n",
       "      <th>176</th>\n",
       "      <td>2727</td>\n",
       "      <td>4</td>\n",
       "      <td>2024-01-25T18:33:04.995865Z</td>\n",
       "      <td>11797</td>\n",
       "      <td>https://freemove.f4.htw-berlin.de/data/local-f...</td>\n",
       "      <td>22.638</td>\n",
       "      <td>unsure - please revise</td>\n",
       "      <td>NaN</td>\n",
       "      <td>road(car)</td>\n",
       "      <td>nostreet</td>\n",
       "      <td>nostreet</td>\n",
       "      <td>2024-01-25T18:33:04.995890Z</td>\n",
       "      <td>911260209606682</td>\n",
       "      <td>4</td>\n",
       "    </tr>\n",
       "    <tr>\n",
       "      <th>177</th>\n",
       "      <td>2728</td>\n",
       "      <td>4</td>\n",
       "      <td>2024-01-25T18:33:12.702549Z</td>\n",
       "      <td>11798</td>\n",
       "      <td>https://freemove.f4.htw-berlin.de/data/local-f...</td>\n",
       "      <td>6.991</td>\n",
       "      <td>NaN</td>\n",
       "      <td>NaN</td>\n",
       "      <td>path (unspecified)</td>\n",
       "      <td>very_bad</td>\n",
       "      <td>unpaved</td>\n",
       "      <td>2024-01-25T18:33:12.702576Z</td>\n",
       "      <td>176719851431162</td>\n",
       "      <td>4</td>\n",
       "    </tr>\n",
       "    <tr>\n",
       "      <th>178</th>\n",
       "      <td>2729</td>\n",
       "      <td>4</td>\n",
       "      <td>2024-01-25T18:33:21.707119Z</td>\n",
       "      <td>11799</td>\n",
       "      <td>https://freemove.f4.htw-berlin.de/data/local-f...</td>\n",
       "      <td>8.473</td>\n",
       "      <td>surface / smoothness not recognizable</td>\n",
       "      <td>NaN</td>\n",
       "      <td>NaN</td>\n",
       "      <td>nostreet</td>\n",
       "      <td>nostreet</td>\n",
       "      <td>2024-01-25T18:33:21.707154Z</td>\n",
       "      <td>1543611642513017</td>\n",
       "      <td>4</td>\n",
       "    </tr>\n",
       "    <tr>\n",
       "      <th>179</th>\n",
       "      <td>2730</td>\n",
       "      <td>4</td>\n",
       "      <td>2024-01-25T18:33:36.979020Z</td>\n",
       "      <td>11800</td>\n",
       "      <td>https://freemove.f4.htw-berlin.de/data/local-f...</td>\n",
       "      <td>14.690</td>\n",
       "      <td>NaN</td>\n",
       "      <td>NaN</td>\n",
       "      <td>road(car)</td>\n",
       "      <td>good</td>\n",
       "      <td>asphalt</td>\n",
       "      <td>2024-01-25T18:33:36.979046Z</td>\n",
       "      <td>732278031269417</td>\n",
       "      <td>3</td>\n",
       "    </tr>\n",
       "  </tbody>\n",
       "</table>\n",
       "<p>540 rows × 14 columns</p>\n",
       "</div>"
      ],
      "text/plain": [
       "     annotation_id  annotator                   created_at     id  \\\n",
       "0             2191          1  2024-01-25T09:14:06.497773Z  11261   \n",
       "1             2192          1  2024-01-25T09:14:21.763658Z  11262   \n",
       "2             2193          1  2024-01-25T09:14:37.148282Z  11263   \n",
       "3             2194          1  2024-01-25T09:15:10.549668Z  11264   \n",
       "4             2195          1  2024-01-25T09:15:36.713374Z  11265   \n",
       "..             ...        ...                          ...    ...   \n",
       "175           2726          4  2024-01-25T18:32:41.849150Z  11796   \n",
       "176           2727          4  2024-01-25T18:33:04.995865Z  11797   \n",
       "177           2728          4  2024-01-25T18:33:12.702549Z  11798   \n",
       "178           2729          4  2024-01-25T18:33:21.707119Z  11799   \n",
       "179           2730          4  2024-01-25T18:33:36.979020Z  11800   \n",
       "\n",
       "                                                 image  lead_time  \\\n",
       "0    https://freemove.f4.htw-berlin.de/data/local-f...     49.734   \n",
       "1    https://freemove.f4.htw-berlin.de/data/local-f...     14.851   \n",
       "2    https://freemove.f4.htw-berlin.de/data/local-f...     14.906   \n",
       "3    https://freemove.f4.htw-berlin.de/data/local-f...     75.187   \n",
       "4    https://freemove.f4.htw-berlin.de/data/local-f...     29.964   \n",
       "..                                                 ...        ...   \n",
       "175  https://freemove.f4.htw-berlin.de/data/local-f...     12.067   \n",
       "176  https://freemove.f4.htw-berlin.de/data/local-f...     22.638   \n",
       "177  https://freemove.f4.htw-berlin.de/data/local-f...      6.991   \n",
       "178  https://freemove.f4.htw-berlin.de/data/local-f...      8.473   \n",
       "179  https://freemove.f4.htw-berlin.de/data/local-f...     14.690   \n",
       "\n",
       "                                  nostreet rails            roadtype  \\\n",
       "0                                      NaN   NaN  path (unspecified)   \n",
       "1                                      NaN   NaN           road(car)   \n",
       "2    surface / smoothness not recognizable   NaN                 NaN   \n",
       "3                                      NaN   NaN  path (unspecified)   \n",
       "4                                      NaN   NaN           road(car)   \n",
       "..                                     ...   ...                 ...   \n",
       "175                                    NaN   NaN           road(car)   \n",
       "176                 unsure - please revise   NaN           road(car)   \n",
       "177                                    NaN   NaN  path (unspecified)   \n",
       "178  surface / smoothness not recognizable   NaN                 NaN   \n",
       "179                                    NaN   NaN           road(car)   \n",
       "\n",
       "       smoothness        surface                   updated_at  \\\n",
       "0        very_bad        unpaved  2024-01-25T09:14:06.497819Z   \n",
       "1       excellent        asphalt  2024-01-25T09:14:21.763686Z   \n",
       "2        nostreet       nostreet  2024-01-25T09:14:37.148308Z   \n",
       "3    intermediate  paving_stones  2024-01-25T09:17:49.449167Z   \n",
       "4       excellent        asphalt  2024-01-25T09:17:04.518672Z   \n",
       "..            ...            ...                          ...   \n",
       "175          good  paving_stones  2024-01-25T18:32:41.849176Z   \n",
       "176      nostreet       nostreet  2024-01-25T18:33:04.995890Z   \n",
       "177      very_bad        unpaved  2024-01-25T18:33:12.702576Z   \n",
       "178      nostreet       nostreet  2024-01-25T18:33:21.707154Z   \n",
       "179          good        asphalt  2024-01-25T18:33:36.979046Z   \n",
       "\n",
       "             image_id  smoothness_int  \n",
       "0     400591394237777               4  \n",
       "1     343842900417019               4  \n",
       "2     311173223724780               4  \n",
       "3    1370581949983309               2  \n",
       "4     303593837938660               4  \n",
       "..                ...             ...  \n",
       "175   489332022421464               3  \n",
       "176   911260209606682               4  \n",
       "177   176719851431162               4  \n",
       "178  1543611642513017               4  \n",
       "179   732278031269417               3  \n",
       "\n",
       "[540 rows x 14 columns]"
      ]
     },
     "execution_count": 21,
     "metadata": {},
     "output_type": "execute_result"
    }
   ],
   "source": [
    "df"
   ]
  },
  {
   "cell_type": "code",
   "execution_count": null,
   "metadata": {},
   "outputs": [],
   "source": [
    "differing_ids = grouped_smoothness[grouped_smoothness < 3].index.get_level_values(0).tolist()\n",
    "df[df.image_id.isin(differing_ids)].sort_values(by=[\"image_id\", \"annotator\"])[[\"annotator\", \"image_id\", \"surface\", \"smoothness\"]].to_csv(\"test_irr.csv\")\n"
   ]
  },
  {
   "cell_type": "code",
   "execution_count": null,
   "metadata": {},
   "outputs": [
    {
     "name": "stdout",
     "output_type": "stream",
     "text": [
      "Copied: /Users/alexandra/Nextcloud-HTW/SHARED/SurfaceAI/data/mapillary_images/training/V5_c0/unsorted_images/133711235471285.jpg to /Users/alexandra/Nextcloud-HTW/SHARED/SurfaceAI/data/mapillary_images/training/V5_c0/unsorted_images/differing_ratings\n",
      "Copied: /Users/alexandra/Nextcloud-HTW/SHARED/SurfaceAI/data/mapillary_images/training/V5_c0/unsorted_images/133711235471285.jpg to /Users/alexandra/Nextcloud-HTW/SHARED/SurfaceAI/data/mapillary_images/training/V5_c0/unsorted_images/differing_ratings\n",
      "Copied: /Users/alexandra/Nextcloud-HTW/SHARED/SurfaceAI/data/mapillary_images/training/V5_c0/unsorted_images/150388490313514.jpg to /Users/alexandra/Nextcloud-HTW/SHARED/SurfaceAI/data/mapillary_images/training/V5_c0/unsorted_images/differing_ratings\n",
      "Copied: /Users/alexandra/Nextcloud-HTW/SHARED/SurfaceAI/data/mapillary_images/training/V5_c0/unsorted_images/150388490313514.jpg to /Users/alexandra/Nextcloud-HTW/SHARED/SurfaceAI/data/mapillary_images/training/V5_c0/unsorted_images/differing_ratings\n",
      "Copied: /Users/alexandra/Nextcloud-HTW/SHARED/SurfaceAI/data/mapillary_images/training/V5_c0/unsorted_images/152418293439228.jpg to /Users/alexandra/Nextcloud-HTW/SHARED/SurfaceAI/data/mapillary_images/training/V5_c0/unsorted_images/differing_ratings\n",
      "Copied: /Users/alexandra/Nextcloud-HTW/SHARED/SurfaceAI/data/mapillary_images/training/V5_c0/unsorted_images/152418293439228.jpg to /Users/alexandra/Nextcloud-HTW/SHARED/SurfaceAI/data/mapillary_images/training/V5_c0/unsorted_images/differing_ratings\n",
      "Copied: /Users/alexandra/Nextcloud-HTW/SHARED/SurfaceAI/data/mapillary_images/training/V5_c0/unsorted_images/174120257915737.jpg to /Users/alexandra/Nextcloud-HTW/SHARED/SurfaceAI/data/mapillary_images/training/V5_c0/unsorted_images/differing_ratings\n",
      "Copied: /Users/alexandra/Nextcloud-HTW/SHARED/SurfaceAI/data/mapillary_images/training/V5_c0/unsorted_images/174120257915737.jpg to /Users/alexandra/Nextcloud-HTW/SHARED/SurfaceAI/data/mapillary_images/training/V5_c0/unsorted_images/differing_ratings\n",
      "Copied: /Users/alexandra/Nextcloud-HTW/SHARED/SurfaceAI/data/mapillary_images/training/V5_c0/unsorted_images/179741264017338.jpg to /Users/alexandra/Nextcloud-HTW/SHARED/SurfaceAI/data/mapillary_images/training/V5_c0/unsorted_images/differing_ratings\n",
      "Copied: /Users/alexandra/Nextcloud-HTW/SHARED/SurfaceAI/data/mapillary_images/training/V5_c0/unsorted_images/179741264017338.jpg to /Users/alexandra/Nextcloud-HTW/SHARED/SurfaceAI/data/mapillary_images/training/V5_c0/unsorted_images/differing_ratings\n",
      "Copied: /Users/alexandra/Nextcloud-HTW/SHARED/SurfaceAI/data/mapillary_images/training/V5_c0/unsorted_images/206260955232282.jpg to /Users/alexandra/Nextcloud-HTW/SHARED/SurfaceAI/data/mapillary_images/training/V5_c0/unsorted_images/differing_ratings\n",
      "Copied: /Users/alexandra/Nextcloud-HTW/SHARED/SurfaceAI/data/mapillary_images/training/V5_c0/unsorted_images/206260955232282.jpg to /Users/alexandra/Nextcloud-HTW/SHARED/SurfaceAI/data/mapillary_images/training/V5_c0/unsorted_images/differing_ratings\n",
      "Copied: /Users/alexandra/Nextcloud-HTW/SHARED/SurfaceAI/data/mapillary_images/training/V5_c0/unsorted_images/254531669895308.jpg to /Users/alexandra/Nextcloud-HTW/SHARED/SurfaceAI/data/mapillary_images/training/V5_c0/unsorted_images/differing_ratings\n",
      "Copied: /Users/alexandra/Nextcloud-HTW/SHARED/SurfaceAI/data/mapillary_images/training/V5_c0/unsorted_images/254531669895308.jpg to /Users/alexandra/Nextcloud-HTW/SHARED/SurfaceAI/data/mapillary_images/training/V5_c0/unsorted_images/differing_ratings\n",
      "Copied: /Users/alexandra/Nextcloud-HTW/SHARED/SurfaceAI/data/mapillary_images/training/V5_c0/unsorted_images/266697295755827.jpg to /Users/alexandra/Nextcloud-HTW/SHARED/SurfaceAI/data/mapillary_images/training/V5_c0/unsorted_images/differing_ratings\n",
      "Copied: /Users/alexandra/Nextcloud-HTW/SHARED/SurfaceAI/data/mapillary_images/training/V5_c0/unsorted_images/266697295755827.jpg to /Users/alexandra/Nextcloud-HTW/SHARED/SurfaceAI/data/mapillary_images/training/V5_c0/unsorted_images/differing_ratings\n",
      "Copied: /Users/alexandra/Nextcloud-HTW/SHARED/SurfaceAI/data/mapillary_images/training/V5_c0/unsorted_images/275309700981601.jpg to /Users/alexandra/Nextcloud-HTW/SHARED/SurfaceAI/data/mapillary_images/training/V5_c0/unsorted_images/differing_ratings\n",
      "Copied: /Users/alexandra/Nextcloud-HTW/SHARED/SurfaceAI/data/mapillary_images/training/V5_c0/unsorted_images/275309700981601.jpg to /Users/alexandra/Nextcloud-HTW/SHARED/SurfaceAI/data/mapillary_images/training/V5_c0/unsorted_images/differing_ratings\n",
      "Copied: /Users/alexandra/Nextcloud-HTW/SHARED/SurfaceAI/data/mapillary_images/training/V5_c0/unsorted_images/296954835243635.jpg to /Users/alexandra/Nextcloud-HTW/SHARED/SurfaceAI/data/mapillary_images/training/V5_c0/unsorted_images/differing_ratings\n",
      "Copied: /Users/alexandra/Nextcloud-HTW/SHARED/SurfaceAI/data/mapillary_images/training/V5_c0/unsorted_images/296954835243635.jpg to /Users/alexandra/Nextcloud-HTW/SHARED/SurfaceAI/data/mapillary_images/training/V5_c0/unsorted_images/differing_ratings\n",
      "Copied: /Users/alexandra/Nextcloud-HTW/SHARED/SurfaceAI/data/mapillary_images/training/V5_c0/unsorted_images/304082264511195.jpg to /Users/alexandra/Nextcloud-HTW/SHARED/SurfaceAI/data/mapillary_images/training/V5_c0/unsorted_images/differing_ratings\n",
      "Copied: /Users/alexandra/Nextcloud-HTW/SHARED/SurfaceAI/data/mapillary_images/training/V5_c0/unsorted_images/304082264511195.jpg to /Users/alexandra/Nextcloud-HTW/SHARED/SurfaceAI/data/mapillary_images/training/V5_c0/unsorted_images/differing_ratings\n",
      "Copied: /Users/alexandra/Nextcloud-HTW/SHARED/SurfaceAI/data/mapillary_images/training/V5_c0/unsorted_images/304670958039856.jpg to /Users/alexandra/Nextcloud-HTW/SHARED/SurfaceAI/data/mapillary_images/training/V5_c0/unsorted_images/differing_ratings\n",
      "Copied: /Users/alexandra/Nextcloud-HTW/SHARED/SurfaceAI/data/mapillary_images/training/V5_c0/unsorted_images/304670958039856.jpg to /Users/alexandra/Nextcloud-HTW/SHARED/SurfaceAI/data/mapillary_images/training/V5_c0/unsorted_images/differing_ratings\n",
      "Copied: /Users/alexandra/Nextcloud-HTW/SHARED/SurfaceAI/data/mapillary_images/training/V5_c0/unsorted_images/308701420857006.jpg to /Users/alexandra/Nextcloud-HTW/SHARED/SurfaceAI/data/mapillary_images/training/V5_c0/unsorted_images/differing_ratings\n",
      "Copied: /Users/alexandra/Nextcloud-HTW/SHARED/SurfaceAI/data/mapillary_images/training/V5_c0/unsorted_images/308701420857006.jpg to /Users/alexandra/Nextcloud-HTW/SHARED/SurfaceAI/data/mapillary_images/training/V5_c0/unsorted_images/differing_ratings\n",
      "Copied: /Users/alexandra/Nextcloud-HTW/SHARED/SurfaceAI/data/mapillary_images/training/V5_c0/unsorted_images/314571826842492.jpg to /Users/alexandra/Nextcloud-HTW/SHARED/SurfaceAI/data/mapillary_images/training/V5_c0/unsorted_images/differing_ratings\n",
      "Copied: /Users/alexandra/Nextcloud-HTW/SHARED/SurfaceAI/data/mapillary_images/training/V5_c0/unsorted_images/314571826842492.jpg to /Users/alexandra/Nextcloud-HTW/SHARED/SurfaceAI/data/mapillary_images/training/V5_c0/unsorted_images/differing_ratings\n",
      "Copied: /Users/alexandra/Nextcloud-HTW/SHARED/SurfaceAI/data/mapillary_images/training/V5_c0/unsorted_images/325850996286928.jpg to /Users/alexandra/Nextcloud-HTW/SHARED/SurfaceAI/data/mapillary_images/training/V5_c0/unsorted_images/differing_ratings\n",
      "Copied: /Users/alexandra/Nextcloud-HTW/SHARED/SurfaceAI/data/mapillary_images/training/V5_c0/unsorted_images/325850996286928.jpg to /Users/alexandra/Nextcloud-HTW/SHARED/SurfaceAI/data/mapillary_images/training/V5_c0/unsorted_images/differing_ratings\n",
      "Copied: /Users/alexandra/Nextcloud-HTW/SHARED/SurfaceAI/data/mapillary_images/training/V5_c0/unsorted_images/334167128235269.jpg to /Users/alexandra/Nextcloud-HTW/SHARED/SurfaceAI/data/mapillary_images/training/V5_c0/unsorted_images/differing_ratings\n",
      "Copied: /Users/alexandra/Nextcloud-HTW/SHARED/SurfaceAI/data/mapillary_images/training/V5_c0/unsorted_images/334167128235269.jpg to /Users/alexandra/Nextcloud-HTW/SHARED/SurfaceAI/data/mapillary_images/training/V5_c0/unsorted_images/differing_ratings\n",
      "Copied: /Users/alexandra/Nextcloud-HTW/SHARED/SurfaceAI/data/mapillary_images/training/V5_c0/unsorted_images/343842900417019.jpg to /Users/alexandra/Nextcloud-HTW/SHARED/SurfaceAI/data/mapillary_images/training/V5_c0/unsorted_images/differing_ratings\n",
      "Copied: /Users/alexandra/Nextcloud-HTW/SHARED/SurfaceAI/data/mapillary_images/training/V5_c0/unsorted_images/343842900417019.jpg to /Users/alexandra/Nextcloud-HTW/SHARED/SurfaceAI/data/mapillary_images/training/V5_c0/unsorted_images/differing_ratings\n",
      "Copied: /Users/alexandra/Nextcloud-HTW/SHARED/SurfaceAI/data/mapillary_images/training/V5_c0/unsorted_images/380551717693336.jpg to /Users/alexandra/Nextcloud-HTW/SHARED/SurfaceAI/data/mapillary_images/training/V5_c0/unsorted_images/differing_ratings\n",
      "Copied: /Users/alexandra/Nextcloud-HTW/SHARED/SurfaceAI/data/mapillary_images/training/V5_c0/unsorted_images/380551717693336.jpg to /Users/alexandra/Nextcloud-HTW/SHARED/SurfaceAI/data/mapillary_images/training/V5_c0/unsorted_images/differing_ratings\n",
      "Copied: /Users/alexandra/Nextcloud-HTW/SHARED/SurfaceAI/data/mapillary_images/training/V5_c0/unsorted_images/386209555929504.jpg to /Users/alexandra/Nextcloud-HTW/SHARED/SurfaceAI/data/mapillary_images/training/V5_c0/unsorted_images/differing_ratings\n",
      "Copied: /Users/alexandra/Nextcloud-HTW/SHARED/SurfaceAI/data/mapillary_images/training/V5_c0/unsorted_images/386209555929504.jpg to /Users/alexandra/Nextcloud-HTW/SHARED/SurfaceAI/data/mapillary_images/training/V5_c0/unsorted_images/differing_ratings\n",
      "Copied: /Users/alexandra/Nextcloud-HTW/SHARED/SurfaceAI/data/mapillary_images/training/V5_c0/unsorted_images/387378582692355.jpg to /Users/alexandra/Nextcloud-HTW/SHARED/SurfaceAI/data/mapillary_images/training/V5_c0/unsorted_images/differing_ratings\n",
      "Copied: /Users/alexandra/Nextcloud-HTW/SHARED/SurfaceAI/data/mapillary_images/training/V5_c0/unsorted_images/387378582692355.jpg to /Users/alexandra/Nextcloud-HTW/SHARED/SurfaceAI/data/mapillary_images/training/V5_c0/unsorted_images/differing_ratings\n",
      "Copied: /Users/alexandra/Nextcloud-HTW/SHARED/SurfaceAI/data/mapillary_images/training/V5_c0/unsorted_images/395907218882142.jpg to /Users/alexandra/Nextcloud-HTW/SHARED/SurfaceAI/data/mapillary_images/training/V5_c0/unsorted_images/differing_ratings\n",
      "Copied: /Users/alexandra/Nextcloud-HTW/SHARED/SurfaceAI/data/mapillary_images/training/V5_c0/unsorted_images/395907218882142.jpg to /Users/alexandra/Nextcloud-HTW/SHARED/SurfaceAI/data/mapillary_images/training/V5_c0/unsorted_images/differing_ratings\n",
      "Copied: /Users/alexandra/Nextcloud-HTW/SHARED/SurfaceAI/data/mapillary_images/training/V5_c0/unsorted_images/462324401656761.jpg to /Users/alexandra/Nextcloud-HTW/SHARED/SurfaceAI/data/mapillary_images/training/V5_c0/unsorted_images/differing_ratings\n",
      "Copied: /Users/alexandra/Nextcloud-HTW/SHARED/SurfaceAI/data/mapillary_images/training/V5_c0/unsorted_images/462324401656761.jpg to /Users/alexandra/Nextcloud-HTW/SHARED/SurfaceAI/data/mapillary_images/training/V5_c0/unsorted_images/differing_ratings\n",
      "Copied: /Users/alexandra/Nextcloud-HTW/SHARED/SurfaceAI/data/mapillary_images/training/V5_c0/unsorted_images/469134124375790.jpg to /Users/alexandra/Nextcloud-HTW/SHARED/SurfaceAI/data/mapillary_images/training/V5_c0/unsorted_images/differing_ratings\n",
      "Copied: /Users/alexandra/Nextcloud-HTW/SHARED/SurfaceAI/data/mapillary_images/training/V5_c0/unsorted_images/469134124375790.jpg to /Users/alexandra/Nextcloud-HTW/SHARED/SurfaceAI/data/mapillary_images/training/V5_c0/unsorted_images/differing_ratings\n",
      "Copied: /Users/alexandra/Nextcloud-HTW/SHARED/SurfaceAI/data/mapillary_images/training/V5_c0/unsorted_images/473982713867247.jpg to /Users/alexandra/Nextcloud-HTW/SHARED/SurfaceAI/data/mapillary_images/training/V5_c0/unsorted_images/differing_ratings\n",
      "Copied: /Users/alexandra/Nextcloud-HTW/SHARED/SurfaceAI/data/mapillary_images/training/V5_c0/unsorted_images/473982713867247.jpg to /Users/alexandra/Nextcloud-HTW/SHARED/SurfaceAI/data/mapillary_images/training/V5_c0/unsorted_images/differing_ratings\n",
      "Copied: /Users/alexandra/Nextcloud-HTW/SHARED/SurfaceAI/data/mapillary_images/training/V5_c0/unsorted_images/480612676581281.jpg to /Users/alexandra/Nextcloud-HTW/SHARED/SurfaceAI/data/mapillary_images/training/V5_c0/unsorted_images/differing_ratings\n",
      "Copied: /Users/alexandra/Nextcloud-HTW/SHARED/SurfaceAI/data/mapillary_images/training/V5_c0/unsorted_images/480612676581281.jpg to /Users/alexandra/Nextcloud-HTW/SHARED/SurfaceAI/data/mapillary_images/training/V5_c0/unsorted_images/differing_ratings\n",
      "Copied: /Users/alexandra/Nextcloud-HTW/SHARED/SurfaceAI/data/mapillary_images/training/V5_c0/unsorted_images/485623799421085.jpg to /Users/alexandra/Nextcloud-HTW/SHARED/SurfaceAI/data/mapillary_images/training/V5_c0/unsorted_images/differing_ratings\n",
      "Copied: /Users/alexandra/Nextcloud-HTW/SHARED/SurfaceAI/data/mapillary_images/training/V5_c0/unsorted_images/485623799421085.jpg to /Users/alexandra/Nextcloud-HTW/SHARED/SurfaceAI/data/mapillary_images/training/V5_c0/unsorted_images/differing_ratings\n",
      "Copied: /Users/alexandra/Nextcloud-HTW/SHARED/SurfaceAI/data/mapillary_images/training/V5_c0/unsorted_images/486641302593035.jpg to /Users/alexandra/Nextcloud-HTW/SHARED/SurfaceAI/data/mapillary_images/training/V5_c0/unsorted_images/differing_ratings\n",
      "Copied: /Users/alexandra/Nextcloud-HTW/SHARED/SurfaceAI/data/mapillary_images/training/V5_c0/unsorted_images/486641302593035.jpg to /Users/alexandra/Nextcloud-HTW/SHARED/SurfaceAI/data/mapillary_images/training/V5_c0/unsorted_images/differing_ratings\n",
      "Copied: /Users/alexandra/Nextcloud-HTW/SHARED/SurfaceAI/data/mapillary_images/training/V5_c0/unsorted_images/486883359189018.jpg to /Users/alexandra/Nextcloud-HTW/SHARED/SurfaceAI/data/mapillary_images/training/V5_c0/unsorted_images/differing_ratings\n",
      "Copied: /Users/alexandra/Nextcloud-HTW/SHARED/SurfaceAI/data/mapillary_images/training/V5_c0/unsorted_images/486883359189018.jpg to /Users/alexandra/Nextcloud-HTW/SHARED/SurfaceAI/data/mapillary_images/training/V5_c0/unsorted_images/differing_ratings\n",
      "Copied: /Users/alexandra/Nextcloud-HTW/SHARED/SurfaceAI/data/mapillary_images/training/V5_c0/unsorted_images/492806515505261.jpg to /Users/alexandra/Nextcloud-HTW/SHARED/SurfaceAI/data/mapillary_images/training/V5_c0/unsorted_images/differing_ratings\n",
      "Copied: /Users/alexandra/Nextcloud-HTW/SHARED/SurfaceAI/data/mapillary_images/training/V5_c0/unsorted_images/492806515505261.jpg to /Users/alexandra/Nextcloud-HTW/SHARED/SurfaceAI/data/mapillary_images/training/V5_c0/unsorted_images/differing_ratings\n",
      "Copied: /Users/alexandra/Nextcloud-HTW/SHARED/SurfaceAI/data/mapillary_images/training/V5_c0/unsorted_images/502488240892250.jpg to /Users/alexandra/Nextcloud-HTW/SHARED/SurfaceAI/data/mapillary_images/training/V5_c0/unsorted_images/differing_ratings\n",
      "Copied: /Users/alexandra/Nextcloud-HTW/SHARED/SurfaceAI/data/mapillary_images/training/V5_c0/unsorted_images/502488240892250.jpg to /Users/alexandra/Nextcloud-HTW/SHARED/SurfaceAI/data/mapillary_images/training/V5_c0/unsorted_images/differing_ratings\n",
      "Copied: /Users/alexandra/Nextcloud-HTW/SHARED/SurfaceAI/data/mapillary_images/training/V5_c0/unsorted_images/511118723256567.jpg to /Users/alexandra/Nextcloud-HTW/SHARED/SurfaceAI/data/mapillary_images/training/V5_c0/unsorted_images/differing_ratings\n",
      "Copied: /Users/alexandra/Nextcloud-HTW/SHARED/SurfaceAI/data/mapillary_images/training/V5_c0/unsorted_images/511118723256567.jpg to /Users/alexandra/Nextcloud-HTW/SHARED/SurfaceAI/data/mapillary_images/training/V5_c0/unsorted_images/differing_ratings\n",
      "Copied: /Users/alexandra/Nextcloud-HTW/SHARED/SurfaceAI/data/mapillary_images/training/V5_c0/unsorted_images/513942847597933.jpg to /Users/alexandra/Nextcloud-HTW/SHARED/SurfaceAI/data/mapillary_images/training/V5_c0/unsorted_images/differing_ratings\n",
      "Copied: /Users/alexandra/Nextcloud-HTW/SHARED/SurfaceAI/data/mapillary_images/training/V5_c0/unsorted_images/513942847597933.jpg to /Users/alexandra/Nextcloud-HTW/SHARED/SurfaceAI/data/mapillary_images/training/V5_c0/unsorted_images/differing_ratings\n",
      "Copied: /Users/alexandra/Nextcloud-HTW/SHARED/SurfaceAI/data/mapillary_images/training/V5_c0/unsorted_images/593616108960257.jpg to /Users/alexandra/Nextcloud-HTW/SHARED/SurfaceAI/data/mapillary_images/training/V5_c0/unsorted_images/differing_ratings\n",
      "Copied: /Users/alexandra/Nextcloud-HTW/SHARED/SurfaceAI/data/mapillary_images/training/V5_c0/unsorted_images/593616108960257.jpg to /Users/alexandra/Nextcloud-HTW/SHARED/SurfaceAI/data/mapillary_images/training/V5_c0/unsorted_images/differing_ratings\n",
      "Copied: /Users/alexandra/Nextcloud-HTW/SHARED/SurfaceAI/data/mapillary_images/training/V5_c0/unsorted_images/674291418064900.jpg to /Users/alexandra/Nextcloud-HTW/SHARED/SurfaceAI/data/mapillary_images/training/V5_c0/unsorted_images/differing_ratings\n",
      "Copied: /Users/alexandra/Nextcloud-HTW/SHARED/SurfaceAI/data/mapillary_images/training/V5_c0/unsorted_images/674291418064900.jpg to /Users/alexandra/Nextcloud-HTW/SHARED/SurfaceAI/data/mapillary_images/training/V5_c0/unsorted_images/differing_ratings\n",
      "Copied: /Users/alexandra/Nextcloud-HTW/SHARED/SurfaceAI/data/mapillary_images/training/V5_c0/unsorted_images/685786289896614.jpg to /Users/alexandra/Nextcloud-HTW/SHARED/SurfaceAI/data/mapillary_images/training/V5_c0/unsorted_images/differing_ratings\n",
      "Copied: /Users/alexandra/Nextcloud-HTW/SHARED/SurfaceAI/data/mapillary_images/training/V5_c0/unsorted_images/685786289896614.jpg to /Users/alexandra/Nextcloud-HTW/SHARED/SurfaceAI/data/mapillary_images/training/V5_c0/unsorted_images/differing_ratings\n",
      "Copied: /Users/alexandra/Nextcloud-HTW/SHARED/SurfaceAI/data/mapillary_images/training/V5_c0/unsorted_images/714831890651341.jpg to /Users/alexandra/Nextcloud-HTW/SHARED/SurfaceAI/data/mapillary_images/training/V5_c0/unsorted_images/differing_ratings\n",
      "Copied: /Users/alexandra/Nextcloud-HTW/SHARED/SurfaceAI/data/mapillary_images/training/V5_c0/unsorted_images/714831890651341.jpg to /Users/alexandra/Nextcloud-HTW/SHARED/SurfaceAI/data/mapillary_images/training/V5_c0/unsorted_images/differing_ratings\n",
      "Copied: /Users/alexandra/Nextcloud-HTW/SHARED/SurfaceAI/data/mapillary_images/training/V5_c0/unsorted_images/732278031269417.jpg to /Users/alexandra/Nextcloud-HTW/SHARED/SurfaceAI/data/mapillary_images/training/V5_c0/unsorted_images/differing_ratings\n",
      "Copied: /Users/alexandra/Nextcloud-HTW/SHARED/SurfaceAI/data/mapillary_images/training/V5_c0/unsorted_images/732278031269417.jpg to /Users/alexandra/Nextcloud-HTW/SHARED/SurfaceAI/data/mapillary_images/training/V5_c0/unsorted_images/differing_ratings\n",
      "Copied: /Users/alexandra/Nextcloud-HTW/SHARED/SurfaceAI/data/mapillary_images/training/V5_c0/unsorted_images/768386147151725.jpg to /Users/alexandra/Nextcloud-HTW/SHARED/SurfaceAI/data/mapillary_images/training/V5_c0/unsorted_images/differing_ratings\n",
      "Copied: /Users/alexandra/Nextcloud-HTW/SHARED/SurfaceAI/data/mapillary_images/training/V5_c0/unsorted_images/768386147151725.jpg to /Users/alexandra/Nextcloud-HTW/SHARED/SurfaceAI/data/mapillary_images/training/V5_c0/unsorted_images/differing_ratings\n",
      "Copied: /Users/alexandra/Nextcloud-HTW/SHARED/SurfaceAI/data/mapillary_images/training/V5_c0/unsorted_images/784050885582739.jpg to /Users/alexandra/Nextcloud-HTW/SHARED/SurfaceAI/data/mapillary_images/training/V5_c0/unsorted_images/differing_ratings\n",
      "Copied: /Users/alexandra/Nextcloud-HTW/SHARED/SurfaceAI/data/mapillary_images/training/V5_c0/unsorted_images/784050885582739.jpg to /Users/alexandra/Nextcloud-HTW/SHARED/SurfaceAI/data/mapillary_images/training/V5_c0/unsorted_images/differing_ratings\n",
      "Copied: /Users/alexandra/Nextcloud-HTW/SHARED/SurfaceAI/data/mapillary_images/training/V5_c0/unsorted_images/785660368749915.jpg to /Users/alexandra/Nextcloud-HTW/SHARED/SurfaceAI/data/mapillary_images/training/V5_c0/unsorted_images/differing_ratings\n",
      "Copied: /Users/alexandra/Nextcloud-HTW/SHARED/SurfaceAI/data/mapillary_images/training/V5_c0/unsorted_images/785660368749915.jpg to /Users/alexandra/Nextcloud-HTW/SHARED/SurfaceAI/data/mapillary_images/training/V5_c0/unsorted_images/differing_ratings\n",
      "Copied: /Users/alexandra/Nextcloud-HTW/SHARED/SurfaceAI/data/mapillary_images/training/V5_c0/unsorted_images/802833323992739.jpg to /Users/alexandra/Nextcloud-HTW/SHARED/SurfaceAI/data/mapillary_images/training/V5_c0/unsorted_images/differing_ratings\n",
      "Copied: /Users/alexandra/Nextcloud-HTW/SHARED/SurfaceAI/data/mapillary_images/training/V5_c0/unsorted_images/802833323992739.jpg to /Users/alexandra/Nextcloud-HTW/SHARED/SurfaceAI/data/mapillary_images/training/V5_c0/unsorted_images/differing_ratings\n",
      "Copied: /Users/alexandra/Nextcloud-HTW/SHARED/SurfaceAI/data/mapillary_images/training/V5_c0/unsorted_images/826107518284061.jpg to /Users/alexandra/Nextcloud-HTW/SHARED/SurfaceAI/data/mapillary_images/training/V5_c0/unsorted_images/differing_ratings\n",
      "Copied: /Users/alexandra/Nextcloud-HTW/SHARED/SurfaceAI/data/mapillary_images/training/V5_c0/unsorted_images/826107518284061.jpg to /Users/alexandra/Nextcloud-HTW/SHARED/SurfaceAI/data/mapillary_images/training/V5_c0/unsorted_images/differing_ratings\n",
      "Copied: /Users/alexandra/Nextcloud-HTW/SHARED/SurfaceAI/data/mapillary_images/training/V5_c0/unsorted_images/853086875564411.jpg to /Users/alexandra/Nextcloud-HTW/SHARED/SurfaceAI/data/mapillary_images/training/V5_c0/unsorted_images/differing_ratings\n",
      "Copied: /Users/alexandra/Nextcloud-HTW/SHARED/SurfaceAI/data/mapillary_images/training/V5_c0/unsorted_images/853086875564411.jpg to /Users/alexandra/Nextcloud-HTW/SHARED/SurfaceAI/data/mapillary_images/training/V5_c0/unsorted_images/differing_ratings\n",
      "Copied: /Users/alexandra/Nextcloud-HTW/SHARED/SurfaceAI/data/mapillary_images/training/V5_c0/unsorted_images/930343491061882.jpg to /Users/alexandra/Nextcloud-HTW/SHARED/SurfaceAI/data/mapillary_images/training/V5_c0/unsorted_images/differing_ratings\n",
      "Copied: /Users/alexandra/Nextcloud-HTW/SHARED/SurfaceAI/data/mapillary_images/training/V5_c0/unsorted_images/930343491061882.jpg to /Users/alexandra/Nextcloud-HTW/SHARED/SurfaceAI/data/mapillary_images/training/V5_c0/unsorted_images/differing_ratings\n",
      "Copied: /Users/alexandra/Nextcloud-HTW/SHARED/SurfaceAI/data/mapillary_images/training/V5_c0/unsorted_images/962780511217814.jpg to /Users/alexandra/Nextcloud-HTW/SHARED/SurfaceAI/data/mapillary_images/training/V5_c0/unsorted_images/differing_ratings\n",
      "Copied: /Users/alexandra/Nextcloud-HTW/SHARED/SurfaceAI/data/mapillary_images/training/V5_c0/unsorted_images/962780511217814.jpg to /Users/alexandra/Nextcloud-HTW/SHARED/SurfaceAI/data/mapillary_images/training/V5_c0/unsorted_images/differing_ratings\n",
      "Copied: /Users/alexandra/Nextcloud-HTW/SHARED/SurfaceAI/data/mapillary_images/training/V5_c0/unsorted_images/1044650412955173.jpg to /Users/alexandra/Nextcloud-HTW/SHARED/SurfaceAI/data/mapillary_images/training/V5_c0/unsorted_images/differing_ratings\n",
      "Copied: /Users/alexandra/Nextcloud-HTW/SHARED/SurfaceAI/data/mapillary_images/training/V5_c0/unsorted_images/1044650412955173.jpg to /Users/alexandra/Nextcloud-HTW/SHARED/SurfaceAI/data/mapillary_images/training/V5_c0/unsorted_images/differing_ratings\n",
      "Copied: /Users/alexandra/Nextcloud-HTW/SHARED/SurfaceAI/data/mapillary_images/training/V5_c0/unsorted_images/1050942202320681.jpg to /Users/alexandra/Nextcloud-HTW/SHARED/SurfaceAI/data/mapillary_images/training/V5_c0/unsorted_images/differing_ratings\n",
      "Copied: /Users/alexandra/Nextcloud-HTW/SHARED/SurfaceAI/data/mapillary_images/training/V5_c0/unsorted_images/1050942202320681.jpg to /Users/alexandra/Nextcloud-HTW/SHARED/SurfaceAI/data/mapillary_images/training/V5_c0/unsorted_images/differing_ratings\n",
      "Copied: /Users/alexandra/Nextcloud-HTW/SHARED/SurfaceAI/data/mapillary_images/training/V5_c0/unsorted_images/1065726337925398.jpg to /Users/alexandra/Nextcloud-HTW/SHARED/SurfaceAI/data/mapillary_images/training/V5_c0/unsorted_images/differing_ratings\n",
      "Copied: /Users/alexandra/Nextcloud-HTW/SHARED/SurfaceAI/data/mapillary_images/training/V5_c0/unsorted_images/1065726337925398.jpg to /Users/alexandra/Nextcloud-HTW/SHARED/SurfaceAI/data/mapillary_images/training/V5_c0/unsorted_images/differing_ratings\n",
      "Copied: /Users/alexandra/Nextcloud-HTW/SHARED/SurfaceAI/data/mapillary_images/training/V5_c0/unsorted_images/1122869238220124.jpg to /Users/alexandra/Nextcloud-HTW/SHARED/SurfaceAI/data/mapillary_images/training/V5_c0/unsorted_images/differing_ratings\n",
      "Copied: /Users/alexandra/Nextcloud-HTW/SHARED/SurfaceAI/data/mapillary_images/training/V5_c0/unsorted_images/1122869238220124.jpg to /Users/alexandra/Nextcloud-HTW/SHARED/SurfaceAI/data/mapillary_images/training/V5_c0/unsorted_images/differing_ratings\n",
      "Copied: /Users/alexandra/Nextcloud-HTW/SHARED/SurfaceAI/data/mapillary_images/training/V5_c0/unsorted_images/1157478714721042.jpg to /Users/alexandra/Nextcloud-HTW/SHARED/SurfaceAI/data/mapillary_images/training/V5_c0/unsorted_images/differing_ratings\n",
      "Copied: /Users/alexandra/Nextcloud-HTW/SHARED/SurfaceAI/data/mapillary_images/training/V5_c0/unsorted_images/1157478714721042.jpg to /Users/alexandra/Nextcloud-HTW/SHARED/SurfaceAI/data/mapillary_images/training/V5_c0/unsorted_images/differing_ratings\n",
      "Copied: /Users/alexandra/Nextcloud-HTW/SHARED/SurfaceAI/data/mapillary_images/training/V5_c0/unsorted_images/1187095801776297.jpg to /Users/alexandra/Nextcloud-HTW/SHARED/SurfaceAI/data/mapillary_images/training/V5_c0/unsorted_images/differing_ratings\n",
      "Copied: /Users/alexandra/Nextcloud-HTW/SHARED/SurfaceAI/data/mapillary_images/training/V5_c0/unsorted_images/1187095801776297.jpg to /Users/alexandra/Nextcloud-HTW/SHARED/SurfaceAI/data/mapillary_images/training/V5_c0/unsorted_images/differing_ratings\n",
      "Copied: /Users/alexandra/Nextcloud-HTW/SHARED/SurfaceAI/data/mapillary_images/training/V5_c0/unsorted_images/1195616174188415.jpg to /Users/alexandra/Nextcloud-HTW/SHARED/SurfaceAI/data/mapillary_images/training/V5_c0/unsorted_images/differing_ratings\n",
      "Copied: /Users/alexandra/Nextcloud-HTW/SHARED/SurfaceAI/data/mapillary_images/training/V5_c0/unsorted_images/1195616174188415.jpg to /Users/alexandra/Nextcloud-HTW/SHARED/SurfaceAI/data/mapillary_images/training/V5_c0/unsorted_images/differing_ratings\n",
      "Copied: /Users/alexandra/Nextcloud-HTW/SHARED/SurfaceAI/data/mapillary_images/training/V5_c0/unsorted_images/1213895555715181.jpg to /Users/alexandra/Nextcloud-HTW/SHARED/SurfaceAI/data/mapillary_images/training/V5_c0/unsorted_images/differing_ratings\n",
      "Copied: /Users/alexandra/Nextcloud-HTW/SHARED/SurfaceAI/data/mapillary_images/training/V5_c0/unsorted_images/1213895555715181.jpg to /Users/alexandra/Nextcloud-HTW/SHARED/SurfaceAI/data/mapillary_images/training/V5_c0/unsorted_images/differing_ratings\n",
      "Copied: /Users/alexandra/Nextcloud-HTW/SHARED/SurfaceAI/data/mapillary_images/training/V5_c0/unsorted_images/1359545771138968.jpg to /Users/alexandra/Nextcloud-HTW/SHARED/SurfaceAI/data/mapillary_images/training/V5_c0/unsorted_images/differing_ratings\n",
      "Copied: /Users/alexandra/Nextcloud-HTW/SHARED/SurfaceAI/data/mapillary_images/training/V5_c0/unsorted_images/1359545771138968.jpg to /Users/alexandra/Nextcloud-HTW/SHARED/SurfaceAI/data/mapillary_images/training/V5_c0/unsorted_images/differing_ratings\n",
      "Copied: /Users/alexandra/Nextcloud-HTW/SHARED/SurfaceAI/data/mapillary_images/training/V5_c0/unsorted_images/1398786817146286.jpg to /Users/alexandra/Nextcloud-HTW/SHARED/SurfaceAI/data/mapillary_images/training/V5_c0/unsorted_images/differing_ratings\n",
      "Copied: /Users/alexandra/Nextcloud-HTW/SHARED/SurfaceAI/data/mapillary_images/training/V5_c0/unsorted_images/1398786817146286.jpg to /Users/alexandra/Nextcloud-HTW/SHARED/SurfaceAI/data/mapillary_images/training/V5_c0/unsorted_images/differing_ratings\n",
      "Copied: /Users/alexandra/Nextcloud-HTW/SHARED/SurfaceAI/data/mapillary_images/training/V5_c0/unsorted_images/1433739943713089.jpg to /Users/alexandra/Nextcloud-HTW/SHARED/SurfaceAI/data/mapillary_images/training/V5_c0/unsorted_images/differing_ratings\n",
      "Copied: /Users/alexandra/Nextcloud-HTW/SHARED/SurfaceAI/data/mapillary_images/training/V5_c0/unsorted_images/1433739943713089.jpg to /Users/alexandra/Nextcloud-HTW/SHARED/SurfaceAI/data/mapillary_images/training/V5_c0/unsorted_images/differing_ratings\n",
      "Copied: /Users/alexandra/Nextcloud-HTW/SHARED/SurfaceAI/data/mapillary_images/training/V5_c0/unsorted_images/1468794876833793.jpg to /Users/alexandra/Nextcloud-HTW/SHARED/SurfaceAI/data/mapillary_images/training/V5_c0/unsorted_images/differing_ratings\n",
      "Copied: /Users/alexandra/Nextcloud-HTW/SHARED/SurfaceAI/data/mapillary_images/training/V5_c0/unsorted_images/1468794876833793.jpg to /Users/alexandra/Nextcloud-HTW/SHARED/SurfaceAI/data/mapillary_images/training/V5_c0/unsorted_images/differing_ratings\n",
      "Copied: /Users/alexandra/Nextcloud-HTW/SHARED/SurfaceAI/data/mapillary_images/training/V5_c0/unsorted_images/1638275656507101.jpg to /Users/alexandra/Nextcloud-HTW/SHARED/SurfaceAI/data/mapillary_images/training/V5_c0/unsorted_images/differing_ratings\n",
      "Copied: /Users/alexandra/Nextcloud-HTW/SHARED/SurfaceAI/data/mapillary_images/training/V5_c0/unsorted_images/1638275656507101.jpg to /Users/alexandra/Nextcloud-HTW/SHARED/SurfaceAI/data/mapillary_images/training/V5_c0/unsorted_images/differing_ratings\n",
      "Copied: /Users/alexandra/Nextcloud-HTW/SHARED/SurfaceAI/data/mapillary_images/training/V5_c0/unsorted_images/1868359636648238.jpg to /Users/alexandra/Nextcloud-HTW/SHARED/SurfaceAI/data/mapillary_images/training/V5_c0/unsorted_images/differing_ratings\n",
      "Copied: /Users/alexandra/Nextcloud-HTW/SHARED/SurfaceAI/data/mapillary_images/training/V5_c0/unsorted_images/1868359636648238.jpg to /Users/alexandra/Nextcloud-HTW/SHARED/SurfaceAI/data/mapillary_images/training/V5_c0/unsorted_images/differing_ratings\n",
      "Copied: /Users/alexandra/Nextcloud-HTW/SHARED/SurfaceAI/data/mapillary_images/training/V5_c0/unsorted_images/1893331670830341.jpg to /Users/alexandra/Nextcloud-HTW/SHARED/SurfaceAI/data/mapillary_images/training/V5_c0/unsorted_images/differing_ratings\n",
      "Copied: /Users/alexandra/Nextcloud-HTW/SHARED/SurfaceAI/data/mapillary_images/training/V5_c0/unsorted_images/1893331670830341.jpg to /Users/alexandra/Nextcloud-HTW/SHARED/SurfaceAI/data/mapillary_images/training/V5_c0/unsorted_images/differing_ratings\n",
      "Copied: /Users/alexandra/Nextcloud-HTW/SHARED/SurfaceAI/data/mapillary_images/training/V5_c0/unsorted_images/2978958492337732.jpg to /Users/alexandra/Nextcloud-HTW/SHARED/SurfaceAI/data/mapillary_images/training/V5_c0/unsorted_images/differing_ratings\n",
      "Copied: /Users/alexandra/Nextcloud-HTW/SHARED/SurfaceAI/data/mapillary_images/training/V5_c0/unsorted_images/2978958492337732.jpg to /Users/alexandra/Nextcloud-HTW/SHARED/SurfaceAI/data/mapillary_images/training/V5_c0/unsorted_images/differing_ratings\n",
      "Copied: /Users/alexandra/Nextcloud-HTW/SHARED/SurfaceAI/data/mapillary_images/training/V5_c0/unsorted_images/5471546489584414.jpg to /Users/alexandra/Nextcloud-HTW/SHARED/SurfaceAI/data/mapillary_images/training/V5_c0/unsorted_images/differing_ratings\n",
      "Copied: /Users/alexandra/Nextcloud-HTW/SHARED/SurfaceAI/data/mapillary_images/training/V5_c0/unsorted_images/5471546489584414.jpg to /Users/alexandra/Nextcloud-HTW/SHARED/SurfaceAI/data/mapillary_images/training/V5_c0/unsorted_images/differing_ratings\n"
     ]
    }
   ],
   "source": [
    "import os\n",
    "import shutil\n",
    "\n",
    "def copy_files(file_list, destination_folder):\n",
    "    # Ensure the destination folder exists, create it if needed\n",
    "    if not os.path.exists(destination_folder):\n",
    "        os.makedirs(destination_folder)\n",
    "\n",
    "    for file_name in file_list:\n",
    "        source_path = file_name\n",
    "        destination_path = os.path.join(destination_folder, os.path.basename(file_name))\n",
    "\n",
    "        try:\n",
    "            shutil.copy2(source_path, destination_path)\n",
    "            #print(f\"Copied: {file_name} to {destination_folder}\")\n",
    "        except FileNotFoundError:\n",
    "            print(f\"File not found: {file_name}\")\n",
    "        except Exception as e:\n",
    "            print(f\"Error copying {file_name}: {e}\")\n",
    "\n",
    "# Example usage:\n",
    "origin_folder = \"/Users/alexandra/Nextcloud-HTW/SHARED/SurfaceAI/data/mapillary_images/training/V5_c0/unsorted_images\"\n",
    "file_list = [os.path.join(origin_folder, f\"{img_id}.jpg\") for img_id in differing_ids]  # Add your file names here\n",
    "destination_folder = os.path.join(origin_folder, \"differing_ratings\")\n",
    "\n",
    "copy_files(file_list, destination_folder)\n"
   ]
  },
  {
   "cell_type": "code",
   "execution_count": null,
   "metadata": {},
   "outputs": [],
   "source": []
  }
 ],
 "metadata": {
  "kernelspec": {
   "display_name": "sai_dc",
   "language": "python",
   "name": "python3"
  },
  "language_info": {
   "codemirror_mode": {
    "name": "ipython",
    "version": 3
   },
   "file_extension": ".py",
   "mimetype": "text/x-python",
   "name": "python",
   "nbconvert_exporter": "python",
   "pygments_lexer": "ipython3",
   "version": "3.12.0"
  }
 },
 "nbformat": 4,
 "nbformat_minor": 2
}
