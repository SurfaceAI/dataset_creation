{
 "cells": [
  {
   "cell_type": "code",
   "execution_count": 14,
   "metadata": {},
   "outputs": [],
   "source": [
    "import pandas as pd\n",
    "import matplotlib.pyplot as plt\n",
    "from sklearn.metrics import root_mean_squared_error"
   ]
  },
  {
   "cell_type": "code",
   "execution_count": 15,
   "metadata": {},
   "outputs": [],
   "source": [
    "annotations_folder = \"/Users/alexandra/Nextcloud-HTW/SHARED/SurfaceAI/data/mapillary_images/automated_labeling_experiments/gpt_experiments/annotations\"\n",
    "gpt_pred_folder = \"/Users/alexandra/Nextcloud-HTW/SHARED/SurfaceAI/data/mapillary_images/automated_labeling_experiments/gpt_experiments/results\""
   ]
  },
  {
   "cell_type": "code",
   "execution_count": 16,
   "metadata": {},
   "outputs": [],
   "source": [
    "exp_id = 1\n",
    "gpt_pred = pd.DataFrame()\n",
    "annot = pd.DataFrame()\n",
    "counts = pd.DataFrame()\n",
    "\n",
    "#class_selection = [[\"paving_stones\", \"bad\"]]\n",
    "class_selection = [\"paving_stones\", \"bad\"], [\"paving_stones\", \"intermediate\"], [\"asphalt\", \"bad\"]\n",
    "\n",
    "\n",
    "for cl in class_selection:\n",
    "    surface = cl[0]\n",
    "    smoothness = cl[1]\n",
    "    if exp_id == 1:\n",
    "        ds_version = 101\n",
    "        gpt_results = f\"experiment_{exp_id}_V{ds_version}_{surface}_{smoothness}.csv\"\n",
    "    elif exp_id == 2:\n",
    "        ds_version = 200\n",
    "        gpt_results = f\"experiment_{exp_id}_V{ds_version}_{surface}.csv\"\n",
    "    gpt_temp = pd.read_csv(f\"{gpt_pred_folder}/{gpt_results}\")\n",
    "    gpt_pred = pd.concat([gpt_pred, gpt_temp])\n",
    "    \n",
    "    total_n = len(gpt_temp)\n",
    "    gpt_pred_n = len(gpt_temp[(gpt_temp.preselection_type == surface) & (gpt_temp.prediction == smoothness)])\n",
    "    #counts = pd.concat([counts, pd.Series({\"surface\": surface, \"smoothness\": smoothness, \"total_n\": total_n, \"gpt_pred_n\": gpt_pred_n})], axis=1)\n",
    "    counts = pd.concat([counts, pd.Series([exp_id, surface, smoothness, total_n, gpt_pred_n])], axis=1)\n",
    "    \n",
    "    file_annot = f\"exp{exp_id}_{surface}_{smoothness}_annotations.csv\"\n",
    "    annot_temp = pd.read_csv(f\"{annotations_folder}/{file_annot}\")\n",
    "    annot = pd.concat([annot, annot_temp])\n",
    "\n",
    "\n",
    "counts = counts.T\n",
    "counts.columns = [\"exp\", \"surface\", \"smoothness\", \"total_n\", \"gpt_pred_n\"]\n",
    "annot[\"image_id\"] = annot.image.apply(lambda x: str.split(x, \"/\")[-1]).apply(lambda x: int(str.split(x, \".jpg\")[0]))\n",
    "annot.loc[annot.nostreet.notna(), \"surface\"] = \"nostreet\"\n",
    "annot.loc[annot.nostreet.notna(), \"smoothness\"] = \"nostreet\"\n",
    "\n",
    "df = annot[['image_id', 'surface', 'smoothness']].set_index(\"image_id\").join(gpt_pred.set_index('image_id'), on='image_id', how=\"left\").reset_index()\n",
    "# left join: only keep those with annotations\n",
    "\n",
    "# true positives\n",
    "tp = df[(df.preselection_type == df.surface) & (df.prediction == df.smoothness)].groupby([\"surface\", \"smoothness\"]).size()\n",
    "tp.name = \"tp\"\n",
    "counts = counts.set_index([\"surface\", \"smoothness\"]).join(tp)\n",
    "exclusions_n = df[(df.surface == \"nostreet\")].groupby([\"preselection_type\", \"prediction\"]).size()\n",
    "exclusions_n.name = \"exclusions (nostreet)\"\n",
    "exclusions_n.index.names = [\"surface\", \"smoothness\"]\n",
    "counts = counts.join(exclusions_n)\n",
    "counts[\"exclusions_%\"] = (counts[\"exclusions (nostreet)\"] / counts.gpt_pred_n).astype(float).round(2)"
   ]
  },
  {
   "cell_type": "code",
   "execution_count": 17,
   "metadata": {},
   "outputs": [],
   "source": [
    "# compute MSE\n",
    "df[\"prediction_int\"] = df.prediction.apply(lambda x: \n",
    "                                           5 if x == \"very_bad\" \n",
    "                                           else 4 if x == \"bad\" \n",
    "                                           else 3 if x == \"intermediate\" \n",
    "                                           else 2 if x == \"good\" \n",
    "                                           else 1 if x == \"excellent\" \n",
    "                                           else None)\n",
    "\n",
    "df[\"smoothness_int\"] = df.smoothness.apply(lambda x: \n",
    "                                           5 if x == \"very_bad\" \n",
    "                                           else 4 if x == \"bad\" \n",
    "                                           else 3 if x == \"intermediate\" \n",
    "                                           else 2 if x == \"good\" \n",
    "                                           else 1 if x == \"excellent\" \n",
    "                                           else None)"
   ]
  },
  {
   "cell_type": "code",
   "execution_count": 18,
   "metadata": {},
   "outputs": [],
   "source": [
    "df_no_na = df[df.smoothness_int.notna() & df.prediction_int.notna()].copy()\n",
    "df_no_na[\"squared_error\"] = abs(df_no_na.smoothness_int - df_no_na.prediction_int).apply(lambda x: x**2)\n",
    "rmse = df_no_na.groupby([\"preselection_type\", \"prediction\"]).apply(lambda x: root_mean_squared_error(x.smoothness_int, x.prediction_int)).astype(float).round(2)\n",
    "rmse.name = \"rmse\"\n",
    "rmse.index.names = [\"surface\", \"smoothness\"]\n",
    "counts = counts.join(rmse)"
   ]
  },
  {
   "cell_type": "code",
   "execution_count": 19,
   "metadata": {},
   "outputs": [],
   "source": [
    "def plot_error_hist(df_no_na, surface, smoothness):\n",
    "    print(f\"Class {surface} - {smoothness}\")\n",
    "    temp = df_no_na[(df_no_na.preselection_type == surface) & (df_no_na.prediction == smoothness)]\n",
    "    plt.hist(temp.squared_error)"
   ]
  },
  {
   "cell_type": "code",
   "execution_count": 20,
   "metadata": {},
   "outputs": [],
   "source": [
    "#plot_error_hist(df_no_na, \"paving_stones\", \"bad\")"
   ]
  },
  {
   "cell_type": "code",
   "execution_count": 21,
   "metadata": {},
   "outputs": [],
   "source": [
    "#plot_error_hist(df_no_na, \"paving_stones\", \"intermediate\")"
   ]
  },
  {
   "cell_type": "code",
   "execution_count": 22,
   "metadata": {},
   "outputs": [],
   "source": [
    "#plot_error_hist(df_no_na, \"asphalt\", \"bad\")"
   ]
  },
  {
   "cell_type": "code",
   "execution_count": 23,
   "metadata": {},
   "outputs": [
    {
     "data": {
      "text/html": [
       "<div>\n",
       "<style scoped>\n",
       "    .dataframe tbody tr th:only-of-type {\n",
       "        vertical-align: middle;\n",
       "    }\n",
       "\n",
       "    .dataframe tbody tr th {\n",
       "        vertical-align: top;\n",
       "    }\n",
       "\n",
       "    .dataframe thead th {\n",
       "        text-align: right;\n",
       "    }\n",
       "</style>\n",
       "<table border=\"1\" class=\"dataframe\">\n",
       "  <thead>\n",
       "    <tr style=\"text-align: right;\">\n",
       "      <th></th>\n",
       "      <th></th>\n",
       "      <th>exp</th>\n",
       "      <th>total_n</th>\n",
       "      <th>gpt_pred_n</th>\n",
       "      <th>tp</th>\n",
       "      <th>exclusions (nostreet)</th>\n",
       "      <th>exclusions_%</th>\n",
       "      <th>rmse</th>\n",
       "      <th>gpt_precision(tp/n_gpt_pred)</th>\n",
       "      <th>hit_ratio(tp/n_search_space)</th>\n",
       "    </tr>\n",
       "    <tr>\n",
       "      <th>surface</th>\n",
       "      <th>smoothness</th>\n",
       "      <th></th>\n",
       "      <th></th>\n",
       "      <th></th>\n",
       "      <th></th>\n",
       "      <th></th>\n",
       "      <th></th>\n",
       "      <th></th>\n",
       "      <th></th>\n",
       "      <th></th>\n",
       "    </tr>\n",
       "  </thead>\n",
       "  <tbody>\n",
       "    <tr>\n",
       "      <th rowspan=\"2\" valign=\"top\">paving_stones</th>\n",
       "      <th>bad</th>\n",
       "      <td>1</td>\n",
       "      <td>208</td>\n",
       "      <td>17</td>\n",
       "      <td>11</td>\n",
       "      <td>4</td>\n",
       "      <td>0.24</td>\n",
       "      <td>0.39</td>\n",
       "      <td>0.65</td>\n",
       "      <td>0.05</td>\n",
       "    </tr>\n",
       "    <tr>\n",
       "      <th>intermediate</th>\n",
       "      <td>1</td>\n",
       "      <td>1000</td>\n",
       "      <td>340</td>\n",
       "      <td>137</td>\n",
       "      <td>100</td>\n",
       "      <td>0.29</td>\n",
       "      <td>0.63</td>\n",
       "      <td>0.40</td>\n",
       "      <td>0.14</td>\n",
       "    </tr>\n",
       "    <tr>\n",
       "      <th>asphalt</th>\n",
       "      <th>bad</th>\n",
       "      <td>1</td>\n",
       "      <td>1014</td>\n",
       "      <td>185</td>\n",
       "      <td>73</td>\n",
       "      <td>45</td>\n",
       "      <td>0.24</td>\n",
       "      <td>0.80</td>\n",
       "      <td>0.39</td>\n",
       "      <td>0.07</td>\n",
       "    </tr>\n",
       "  </tbody>\n",
       "</table>\n",
       "</div>"
      ],
      "text/plain": [
       "                           exp total_n gpt_pred_n   tp  exclusions (nostreet)  \\\n",
       "surface       smoothness                                                        \n",
       "paving_stones bad            1     208         17   11                      4   \n",
       "              intermediate   1    1000        340  137                    100   \n",
       "asphalt       bad            1    1014        185   73                     45   \n",
       "\n",
       "                            exclusions_%  rmse  gpt_precision(tp/n_gpt_pred)  \\\n",
       "surface       smoothness                                                       \n",
       "paving_stones bad                   0.24  0.39                          0.65   \n",
       "              intermediate          0.29  0.63                          0.40   \n",
       "asphalt       bad                   0.24  0.80                          0.39   \n",
       "\n",
       "                            hit_ratio(tp/n_search_space)  \n",
       "surface       smoothness                                  \n",
       "paving_stones bad                                   0.05  \n",
       "              intermediate                          0.14  \n",
       "asphalt       bad                                   0.07  "
      ]
     },
     "execution_count": 23,
     "metadata": {},
     "output_type": "execute_result"
    }
   ],
   "source": [
    "counts[\"gpt_precision(tp/n_gpt_pred)\"] = (counts.tp / counts.gpt_pred_n).astype(float).round(2)\n",
    "counts[\"hit_ratio(tp/n_search_space)\"] = (counts.tp / counts.total_n).astype(float).round(2)\n",
    "counts"
   ]
  },
  {
   "cell_type": "code",
   "execution_count": null,
   "metadata": {},
   "outputs": [],
   "source": []
  },
  {
   "cell_type": "code",
   "execution_count": null,
   "metadata": {},
   "outputs": [],
   "source": []
  }
 ],
 "metadata": {
  "kernelspec": {
   "display_name": "sai_dc",
   "language": "python",
   "name": "python3"
  },
  "language_info": {
   "codemirror_mode": {
    "name": "ipython",
    "version": 3
   },
   "file_extension": ".py",
   "mimetype": "text/x-python",
   "name": "python",
   "nbconvert_exporter": "python",
   "pygments_lexer": "ipython3",
   "version": "3.12.0"
  }
 },
 "nbformat": 4,
 "nbformat_minor": 2
}
