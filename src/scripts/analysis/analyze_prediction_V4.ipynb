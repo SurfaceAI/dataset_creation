{
 "cells": [
  {
   "cell_type": "code",
   "execution_count": 2,
   "metadata": {},
   "outputs": [],
   "source": [
    "import pandas as pd\n",
    "from sklearn.metrics import precision_score, recall_score"
   ]
  },
  {
   "cell_type": "code",
   "execution_count": 44,
   "metadata": {},
   "outputs": [],
   "source": [
    "# Analysis of Batch 1"
   ]
  },
  {
   "cell_type": "code",
   "execution_count": 3,
   "metadata": {},
   "outputs": [],
   "source": [
    "pred = pd.read_csv(\"../../../data/v4/osm_model_predictions_20_epochs.csv\")"
   ]
  },
  {
   "cell_type": "code",
   "execution_count": 50,
   "metadata": {},
   "outputs": [],
   "source": [
    "annot = pd.read_csv(\"../../../data/v4/v4_labels.csv\")\n",
    "annot.rename({\"id\":\"image_id\"}, axis=1, inplace=True)"
   ]
  },
  {
   "cell_type": "code",
   "execution_count": 53,
   "metadata": {},
   "outputs": [
    {
     "data": {
      "text/plain": [
       "1799"
      ]
     },
     "execution_count": 53,
     "metadata": {},
     "output_type": "execute_result"
    }
   ],
   "source": [
    "len(annot)"
   ]
  },
  {
   "cell_type": "code",
   "execution_count": 55,
   "metadata": {},
   "outputs": [
    {
     "data": {
      "text/html": [
       "<div>\n",
       "<style scoped>\n",
       "    .dataframe tbody tr th:only-of-type {\n",
       "        vertical-align: middle;\n",
       "    }\n",
       "\n",
       "    .dataframe tbody tr th {\n",
       "        vertical-align: top;\n",
       "    }\n",
       "\n",
       "    .dataframe thead th {\n",
       "        text-align: right;\n",
       "    }\n",
       "</style>\n",
       "<table border=\"1\" class=\"dataframe\">\n",
       "  <thead>\n",
       "    <tr style=\"text-align: right;\">\n",
       "      <th></th>\n",
       "      <th>Unnamed: 0</th>\n",
       "      <th>image_id</th>\n",
       "      <th>sequence_id</th>\n",
       "      <th>creator_id</th>\n",
       "      <th>captured_at</th>\n",
       "      <th>highway_osm</th>\n",
       "      <th>surface_osm</th>\n",
       "      <th>smoothness_osm</th>\n",
       "      <th>surface_annotated</th>\n",
       "      <th>smoothness_annotated</th>\n",
       "      <th>highway_annotated</th>\n",
       "    </tr>\n",
       "  </thead>\n",
       "  <tbody>\n",
       "    <tr>\n",
       "      <th>0</th>\n",
       "      <td>0</td>\n",
       "      <td>144246817728733</td>\n",
       "      <td>9eysrLNqdTArOC6ZJcY3HH</td>\n",
       "      <td>106008994971903</td>\n",
       "      <td>1618074081000</td>\n",
       "      <td>residential</td>\n",
       "      <td>asphalt</td>\n",
       "      <td>bad</td>\n",
       "      <td>asphalt</td>\n",
       "      <td>bad</td>\n",
       "      <td>road(car)</td>\n",
       "    </tr>\n",
       "    <tr>\n",
       "      <th>1</th>\n",
       "      <td>1</td>\n",
       "      <td>203411474929087</td>\n",
       "      <td>Kcv9ZnyTb2sd6ab8iXMveg</td>\n",
       "      <td>105558841679641</td>\n",
       "      <td>1471014587240</td>\n",
       "      <td>tertiary</td>\n",
       "      <td>asphalt</td>\n",
       "      <td>bad</td>\n",
       "      <td>paving_stones</td>\n",
       "      <td>intermediate</td>\n",
       "      <td>cycleway</td>\n",
       "    </tr>\n",
       "    <tr>\n",
       "      <th>2</th>\n",
       "      <td>2</td>\n",
       "      <td>561894621471670</td>\n",
       "      <td>7kHVf95_aGLA6_u75Aoakg</td>\n",
       "      <td>102124648700555</td>\n",
       "      <td>1564340214000</td>\n",
       "      <td>service</td>\n",
       "      <td>asphalt</td>\n",
       "      <td>bad</td>\n",
       "      <td>asphalt</td>\n",
       "      <td>good</td>\n",
       "      <td>road(car)</td>\n",
       "    </tr>\n",
       "    <tr>\n",
       "      <th>3</th>\n",
       "      <td>3</td>\n",
       "      <td>3445204625796821</td>\n",
       "      <td>uWjGSNM2IBafoQzC0isRHx</td>\n",
       "      <td>109673317932619</td>\n",
       "      <td>1681905550000</td>\n",
       "      <td>path</td>\n",
       "      <td>asphalt</td>\n",
       "      <td>bad</td>\n",
       "      <td>asphalt</td>\n",
       "      <td>good</td>\n",
       "      <td>path (unspecified)</td>\n",
       "    </tr>\n",
       "    <tr>\n",
       "      <th>4</th>\n",
       "      <td>4</td>\n",
       "      <td>774416500991776</td>\n",
       "      <td>A0tgiQ9RGEMz1uvbC4Kj8x</td>\n",
       "      <td>102099175369556</td>\n",
       "      <td>1684429601534</td>\n",
       "      <td>path</td>\n",
       "      <td>asphalt</td>\n",
       "      <td>bad</td>\n",
       "      <td>NaN</td>\n",
       "      <td>NaN</td>\n",
       "      <td>NaN</td>\n",
       "    </tr>\n",
       "    <tr>\n",
       "      <th>...</th>\n",
       "      <td>...</td>\n",
       "      <td>...</td>\n",
       "      <td>...</td>\n",
       "      <td>...</td>\n",
       "      <td>...</td>\n",
       "      <td>...</td>\n",
       "      <td>...</td>\n",
       "      <td>...</td>\n",
       "      <td>...</td>\n",
       "      <td>...</td>\n",
       "      <td>...</td>\n",
       "    </tr>\n",
       "    <tr>\n",
       "      <th>1794</th>\n",
       "      <td>1794</td>\n",
       "      <td>152624063537797</td>\n",
       "      <td>zwc9p3a7a8bqorv5azanpp</td>\n",
       "      <td>103049658604940</td>\n",
       "      <td>1561207745755</td>\n",
       "      <td>path</td>\n",
       "      <td>unpaved</td>\n",
       "      <td>very_bad</td>\n",
       "      <td>asphalt</td>\n",
       "      <td>good</td>\n",
       "      <td>path (unspecified)</td>\n",
       "    </tr>\n",
       "    <tr>\n",
       "      <th>1795</th>\n",
       "      <td>1795</td>\n",
       "      <td>1261602977627531</td>\n",
       "      <td>hsvAWHFn3USlKI2kJBtpDV</td>\n",
       "      <td>100232345559807</td>\n",
       "      <td>1625472662500</td>\n",
       "      <td>service</td>\n",
       "      <td>unpaved</td>\n",
       "      <td>very_bad</td>\n",
       "      <td>unpaved</td>\n",
       "      <td>intermediate</td>\n",
       "      <td>path (unspecified)</td>\n",
       "    </tr>\n",
       "    <tr>\n",
       "      <th>1796</th>\n",
       "      <td>1796</td>\n",
       "      <td>956362611886219</td>\n",
       "      <td>YIBWpZy43laLHE8qrS7Q5F</td>\n",
       "      <td>100474358864037</td>\n",
       "      <td>1628425938404</td>\n",
       "      <td>track</td>\n",
       "      <td>unpaved</td>\n",
       "      <td>very_bad</td>\n",
       "      <td>asphalt</td>\n",
       "      <td>excellent</td>\n",
       "      <td>road(car)</td>\n",
       "    </tr>\n",
       "    <tr>\n",
       "      <th>1797</th>\n",
       "      <td>1797</td>\n",
       "      <td>306342574430217</td>\n",
       "      <td>L7A4ZsxVcsqn1z4f0WYoog</td>\n",
       "      <td>100474358864037</td>\n",
       "      <td>1555437447000</td>\n",
       "      <td>track</td>\n",
       "      <td>unpaved</td>\n",
       "      <td>very_bad</td>\n",
       "      <td>unpaved</td>\n",
       "      <td>intermediate</td>\n",
       "      <td>path (unspecified)</td>\n",
       "    </tr>\n",
       "    <tr>\n",
       "      <th>1798</th>\n",
       "      <td>1798</td>\n",
       "      <td>479136550015176</td>\n",
       "      <td>bgeqh9hphk28li7gb2umgo</td>\n",
       "      <td>104685021772982</td>\n",
       "      <td>1599302550096</td>\n",
       "      <td>track</td>\n",
       "      <td>unpaved</td>\n",
       "      <td>very_bad</td>\n",
       "      <td>asphalt</td>\n",
       "      <td>excellent</td>\n",
       "      <td>road(car)</td>\n",
       "    </tr>\n",
       "  </tbody>\n",
       "</table>\n",
       "<p>1799 rows × 11 columns</p>\n",
       "</div>"
      ],
      "text/plain": [
       "      Unnamed: 0          image_id             sequence_id       creator_id  \\\n",
       "0              0   144246817728733  9eysrLNqdTArOC6ZJcY3HH  106008994971903   \n",
       "1              1   203411474929087  Kcv9ZnyTb2sd6ab8iXMveg  105558841679641   \n",
       "2              2   561894621471670  7kHVf95_aGLA6_u75Aoakg  102124648700555   \n",
       "3              3  3445204625796821  uWjGSNM2IBafoQzC0isRHx  109673317932619   \n",
       "4              4   774416500991776  A0tgiQ9RGEMz1uvbC4Kj8x  102099175369556   \n",
       "...          ...               ...                     ...              ...   \n",
       "1794        1794   152624063537797  zwc9p3a7a8bqorv5azanpp  103049658604940   \n",
       "1795        1795  1261602977627531  hsvAWHFn3USlKI2kJBtpDV  100232345559807   \n",
       "1796        1796   956362611886219  YIBWpZy43laLHE8qrS7Q5F  100474358864037   \n",
       "1797        1797   306342574430217  L7A4ZsxVcsqn1z4f0WYoog  100474358864037   \n",
       "1798        1798   479136550015176  bgeqh9hphk28li7gb2umgo  104685021772982   \n",
       "\n",
       "        captured_at  highway_osm surface_osm smoothness_osm surface_annotated  \\\n",
       "0     1618074081000  residential     asphalt            bad           asphalt   \n",
       "1     1471014587240     tertiary     asphalt            bad     paving_stones   \n",
       "2     1564340214000      service     asphalt            bad           asphalt   \n",
       "3     1681905550000         path     asphalt            bad           asphalt   \n",
       "4     1684429601534         path     asphalt            bad               NaN   \n",
       "...             ...          ...         ...            ...               ...   \n",
       "1794  1561207745755         path     unpaved       very_bad           asphalt   \n",
       "1795  1625472662500      service     unpaved       very_bad           unpaved   \n",
       "1796  1628425938404        track     unpaved       very_bad           asphalt   \n",
       "1797  1555437447000        track     unpaved       very_bad           unpaved   \n",
       "1798  1599302550096        track     unpaved       very_bad           asphalt   \n",
       "\n",
       "     smoothness_annotated   highway_annotated  \n",
       "0                     bad           road(car)  \n",
       "1            intermediate            cycleway  \n",
       "2                    good           road(car)  \n",
       "3                    good  path (unspecified)  \n",
       "4                     NaN                 NaN  \n",
       "...                   ...                 ...  \n",
       "1794                 good  path (unspecified)  \n",
       "1795         intermediate  path (unspecified)  \n",
       "1796            excellent           road(car)  \n",
       "1797         intermediate  path (unspecified)  \n",
       "1798            excellent           road(car)  \n",
       "\n",
       "[1799 rows x 11 columns]"
      ]
     },
     "execution_count": 55,
     "metadata": {},
     "output_type": "execute_result"
    }
   ],
   "source": [
    "annot"
   ]
  },
  {
   "cell_type": "code",
   "execution_count": 56,
   "metadata": {},
   "outputs": [
    {
     "data": {
      "text/plain": [
       "surface_annotated  smoothness_annotated\n",
       "asphalt            bad                      13\n",
       "                   excellent               234\n",
       "                   good                    321\n",
       "                   intermediate             83\n",
       "concrete           bad                      19\n",
       "                   excellent                22\n",
       "                   good                    101\n",
       "                   intermediate             63\n",
       "paving_stones      bad                       2\n",
       "                   excellent                34\n",
       "                   good                    127\n",
       "                   intermediate             47\n",
       "sett               bad                      80\n",
       "                   good                     20\n",
       "                   intermediate             87\n",
       "unpaved            bad                      92\n",
       "                   intermediate             93\n",
       "                   very_bad                 25\n",
       "dtype: int64"
      ]
     },
     "execution_count": 56,
     "metadata": {},
     "output_type": "execute_result"
    }
   ],
   "source": [
    "annot.groupby([\"surface_annotated\", \"smoothness_annotated\"]).size()"
   ]
  },
  {
   "cell_type": "code",
   "execution_count": 51,
   "metadata": {},
   "outputs": [],
   "source": [
    "df = pred.set_index(\"image_id\").join(annot[[\"image_id\", \"surface_annotated\", \"smoothness_annotated\"]].set_index(\"image_id\"), how=\"left\")"
   ]
  },
  {
   "cell_type": "code",
   "execution_count": 6,
   "metadata": {},
   "outputs": [],
   "source": [
    "NEW_osm_pred = pd.read_csv(\"/Users/alexandra/Documents/GitHub/dataset_creation/data/v4_mapillary_metadata_with_tags_NEW.csv\")\n",
    "NEW_osm_pred = NEW_osm_pred[[\"id\", \"surface\", \"smoothness\"]]\n",
    "NEW_osm_pred.rename({\"surface\": \"surface_osm_NEW\", \"smoothness\": \"smoothness_osm_NEW\"}, inplace = True, axis = 1)"
   ]
  },
  {
   "cell_type": "code",
   "execution_count": 7,
   "metadata": {},
   "outputs": [],
   "source": [
    "df = df.join(NEW_osm_pred.set_index(\"id\"), how = \"left\")"
   ]
  },
  {
   "cell_type": "code",
   "execution_count": 8,
   "metadata": {},
   "outputs": [],
   "source": [
    "\n",
    "def clean_smoothness(smoothness):\n",
    "    \"\"\"Clean smoothness column of metadata dataframe according to defined OSM smoothness values\n",
    "\n",
    "    Args:\n",
    "        metadata (df): dataframe with image metadata, including column \"smoothness\"\n",
    "\n",
    "    Returns:\n",
    "        df: dataframe with cleaned smoothness column \"smoothness_clean\"\n",
    "    \"\"\"\n",
    "    smoothness = smoothness.str.strip()\n",
    "    smoothness_clean = smoothness.replace(\n",
    "        [\n",
    "            \"horrible\",\n",
    "            \"very_horrible\",\n",
    "            \"impassable\",\n",
    "            \"very bad\"\n",
    "        ],\n",
    "        \"very_bad\",\n",
    "    )\n",
    "\n",
    "    smoothness_clean = smoothness_clean.replace(\n",
    "        [\"perfect\", \"very_good\"], \"excellent\"\n",
    "    )\n",
    "    return smoothness_clean\n",
    "\n",
    "\n",
    "def clean_surface(surface):\n",
    "    \"\"\"Clean surface column of metadata dataframe according to defined OSM surface values\n",
    "\n",
    "    Args:\n",
    "        metadata (df): dataframe with image metadata, including column \"surface\"\n",
    "\n",
    "    Returns:\n",
    "        df: dataframe with cleaned surface column \"surface_clean\"\n",
    "    \"\"\"\n",
    "    surface = surface.str.strip()\n",
    "    surface_clean = surface.replace(\n",
    "        [\n",
    "            \"compacted\",\n",
    "            \"gravel\",\n",
    "            \"ground\",\n",
    "            \"fine_gravel\",\n",
    "            \"dirt\",\n",
    "            \"grass\",\n",
    "            \"earth\",\n",
    "            \"sand\",\n",
    "        ],\n",
    "        \"unpaved\",\n",
    "    )\n",
    "    surface_clean = surface_clean.replace(\n",
    "        [\"cobblestone\", \"cobblestone:flattened\", \"unhewn_cobblestone\"], \"sett\"\n",
    "    )\n",
    "    surface_clean = surface_clean.replace(\n",
    "        [\"concrete:plates\", \"concrete:lanes\"], \"concrete\",\n",
    "    )\n",
    "    return surface_clean"
   ]
  },
  {
   "cell_type": "code",
   "execution_count": 9,
   "metadata": {},
   "outputs": [],
   "source": [
    "# compute new intersection stats\n",
    "df = df[df.surface_osm_NEW.notna()]\n",
    "df = df[df.smoothness_osm_NEW.notna()]\n",
    "df.surface_osm_NEW = clean_surface(df.surface_osm_NEW)\n",
    "df.smoothness_osm_NEW = clean_surface(df.smoothness_osm_NEW)"
   ]
  },
  {
   "cell_type": "code",
   "execution_count": 10,
   "metadata": {},
   "outputs": [],
   "source": [
    "df_only_streets = df[~df.surface_annotated.isna()]\n",
    "#df = df_only_streets"
   ]
  },
  {
   "cell_type": "code",
   "execution_count": 11,
   "metadata": {},
   "outputs": [],
   "source": [
    "df.loc[df.surface_annotated.isna(), \"surface_annotated\"] = \"nostreet\"\n",
    "#df.loc[df.class_probability < 0.95, \"model_prediction\"] = \"nostreet\""
   ]
  },
  {
   "cell_type": "code",
   "execution_count": 12,
   "metadata": {},
   "outputs": [],
   "source": [
    "df[\"combined_prediction\"] = \"no prediction\"\n",
    "df.loc[df.model_prediction == df.osm_prediction, \"combined_prediction\"] = df[df.model_prediction == df.osm_prediction].model_prediction"
   ]
  },
  {
   "cell_type": "code",
   "execution_count": 13,
   "metadata": {},
   "outputs": [
    {
     "data": {
      "text/plain": [
       "surface_annotated  smoothness_annotated\n",
       "asphalt            bad                       5\n",
       "                   excellent                90\n",
       "                   good                    131\n",
       "                   intermediate             36\n",
       "concrete           bad                      10\n",
       "                   excellent                12\n",
       "                   good                     50\n",
       "                   intermediate             24\n",
       "paving_stones      excellent                13\n",
       "                   good                     62\n",
       "                   intermediate             18\n",
       "sett               bad                      44\n",
       "                   good                     10\n",
       "                   intermediate             37\n",
       "unpaved            bad                      33\n",
       "                   intermediate             41\n",
       "                   very_bad                  7\n",
       "dtype: int64"
      ]
     },
     "execution_count": 13,
     "metadata": {},
     "output_type": "execute_result"
    }
   ],
   "source": [
    "df[df.surface_annotated.notna() & df.smoothness_annotated.notna()].groupby([\"surface_annotated\", \"smoothness_annotated\"]).size()"
   ]
  },
  {
   "cell_type": "markdown",
   "metadata": {},
   "source": [
    "#### Accuracies"
   ]
  },
  {
   "cell_type": "code",
   "execution_count": 14,
   "metadata": {},
   "outputs": [
    {
     "data": {
      "text/plain": [
       "0.7994652406417112"
      ]
     },
     "execution_count": 14,
     "metadata": {},
     "output_type": "execute_result"
    }
   ],
   "source": [
    "# accurary of CNN model\n",
    "df[df.model_prediction == df.surface_annotated].shape[0] / df.shape[0]"
   ]
  },
  {
   "cell_type": "markdown",
   "metadata": {},
   "source": [
    "CNN Model reaches accuracy of 79% (including \"no street\")"
   ]
  },
  {
   "cell_type": "code",
   "execution_count": 15,
   "metadata": {},
   "outputs": [
    {
     "data": {
      "text/plain": [
       "0.9598715890850722"
      ]
     },
     "execution_count": 15,
     "metadata": {},
     "output_type": "execute_result"
    }
   ],
   "source": [
    "df_only_streets[df_only_streets.model_prediction == df_only_streets.surface_annotated].shape[0] / df_only_streets.shape[0]"
   ]
  },
  {
   "cell_type": "markdown",
   "metadata": {},
   "source": [
    "If only images are considered, that are not classified as \"nostreet\" by the annotators, the accuracy is 0.96%."
   ]
  },
  {
   "cell_type": "code",
   "execution_count": 16,
   "metadata": {},
   "outputs": [
    {
     "data": {
      "text/plain": [
       "0.8870370370370371"
      ]
     },
     "execution_count": 16,
     "metadata": {},
     "output_type": "execute_result"
    }
   ],
   "source": [
    "class_prb = 0.99\n",
    "df[(df.class_probability > class_prb) & (df.model_prediction == df.surface_annotated)].shape[0] / df[(df.class_probability > class_prb)].shape[0]"
   ]
  },
  {
   "cell_type": "markdown",
   "metadata": {},
   "source": [
    "If only high prob predictions are considered, the accuracy of the CNN model is 0.89%."
   ]
  },
  {
   "cell_type": "code",
   "execution_count": 17,
   "metadata": {},
   "outputs": [
    {
     "data": {
      "text/plain": [
       "0.7219251336898396"
      ]
     },
     "execution_count": 17,
     "metadata": {},
     "output_type": "execute_result"
    }
   ],
   "source": [
    "# how much percent of images has only high class probability?\n",
    "len(df[(df.class_probability > class_prb)]) / len(df)"
   ]
  },
  {
   "cell_type": "code",
   "execution_count": 18,
   "metadata": {},
   "outputs": [
    {
     "data": {
      "text/plain": [
       "0.5641711229946524"
      ]
     },
     "execution_count": 18,
     "metadata": {},
     "output_type": "execute_result"
    }
   ],
   "source": [
    "# accurary of osm \n",
    "df[df.osm_prediction == df.surface_annotated].shape[0] / df.shape[0]"
   ]
  },
  {
   "cell_type": "code",
   "execution_count": 19,
   "metadata": {},
   "outputs": [
    {
     "data": {
      "text/plain": [
       "0.5735294117647058"
      ]
     },
     "execution_count": 19,
     "metadata": {},
     "output_type": "execute_result"
    }
   ],
   "source": [
    "df[df.surface_osm_NEW == df.surface_annotated].shape[0] / df.shape[0]"
   ]
  },
  {
   "cell_type": "markdown",
   "metadata": {},
   "source": [
    "OSM labels have an accuracy of 56%."
   ]
  },
  {
   "cell_type": "code",
   "execution_count": 20,
   "metadata": {},
   "outputs": [
    {
     "data": {
      "text/plain": [
       "0.6773675762439807"
      ]
     },
     "execution_count": 20,
     "metadata": {},
     "output_type": "execute_result"
    }
   ],
   "source": [
    "df_only_streets[df_only_streets.osm_prediction == df_only_streets.surface_annotated].shape[0] / df_only_streets.shape[0]"
   ]
  },
  {
   "cell_type": "code",
   "execution_count": 21,
   "metadata": {},
   "outputs": [
    {
     "data": {
      "text/plain": [
       "0.6886035313001605"
      ]
     },
     "execution_count": 21,
     "metadata": {},
     "output_type": "execute_result"
    }
   ],
   "source": [
    "df_only_streets[df_only_streets.surface_osm_NEW == df_only_streets.surface_annotated].shape[0] / df_only_streets.shape[0]"
   ]
  },
  {
   "cell_type": "code",
   "execution_count": 22,
   "metadata": {},
   "outputs": [
    {
     "name": "stdout",
     "output_type": "stream",
     "text": [
      "asphalt\n",
      "0.94\n",
      "sett\n",
      "0.54\n",
      "concrete\n",
      "0.57\n",
      "paving_stones\n",
      "0.54\n",
      "unpaved\n",
      "0.9\n"
     ]
    }
   ],
   "source": [
    "# by surface:\n",
    "for surface in df_only_streets.surface_annotated.unique():\n",
    "    temp = df_only_streets[(df_only_streets.osm_prediction == surface)]\n",
    "    print(surface)\n",
    "    print(round(temp[temp.surface_osm_NEW == temp.surface_annotated].shape[0] / temp.shape[0],2))"
   ]
  },
  {
   "cell_type": "code",
   "execution_count": 52,
   "metadata": {},
   "outputs": [],
   "source": [
    "# accuracy of smoothness"
   ]
  },
  {
   "cell_type": "code",
   "execution_count": 23,
   "metadata": {},
   "outputs": [],
   "source": [
    "correct_type = df[df.surface_osm_NEW == df.surface_annotated]"
   ]
  },
  {
   "cell_type": "code",
   "execution_count": 24,
   "metadata": {},
   "outputs": [
    {
     "data": {
      "text/plain": [
       "0.5501165501165501"
      ]
     },
     "execution_count": 24,
     "metadata": {},
     "output_type": "execute_result"
    }
   ],
   "source": [
    "correct_type[correct_type.smoothness_osm_NEW == correct_type.smoothness_annotated].shape[0] / correct_type.shape[0]"
   ]
  },
  {
   "cell_type": "code",
   "execution_count": 25,
   "metadata": {},
   "outputs": [
    {
     "name": "stdout",
     "output_type": "stream",
     "text": [
      "asphalt\n",
      "0.94\n",
      "sett\n",
      "0.51\n",
      "concrete\n",
      "0.57\n",
      "paving_stones\n",
      "0.52\n",
      "unpaved\n",
      "0.89\n"
     ]
    }
   ],
   "source": [
    "# by surface:\n",
    "for surface in df_only_streets.surface_annotated.unique():\n",
    "    temp = df_only_streets[(df_only_streets.osm_prediction == surface)]\n",
    "    print(surface)\n",
    "    print(round(temp[temp.osm_prediction == temp.surface_annotated].shape[0] / temp.shape[0],2))"
   ]
  },
  {
   "cell_type": "code",
   "execution_count": 26,
   "metadata": {},
   "outputs": [
    {
     "name": "stdout",
     "output_type": "stream",
     "text": [
      "asphalt\n",
      "0.91\n",
      "sett\n",
      "0.53\n",
      "concrete\n",
      "0.57\n",
      "paving_stones\n",
      "0.54\n",
      "unpaved\n",
      "0.9\n"
     ]
    }
   ],
   "source": [
    "# by surface:\n",
    "for surface in df_only_streets.surface_annotated.unique():\n",
    "    temp = df_only_streets[(df_only_streets.surface_osm_NEW == surface)]\n",
    "    print(surface)\n",
    "    print(round(temp[temp.surface_osm_NEW == temp.surface_annotated].shape[0] / temp.shape[0],2))"
   ]
  },
  {
   "cell_type": "markdown",
   "metadata": {},
   "source": [
    "If only images are considered, that are not classified as \"nostreet\" by the annotators, the accuracy of OSM labels is 68%."
   ]
  },
  {
   "cell_type": "code",
   "execution_count": 27,
   "metadata": {},
   "outputs": [
    {
     "data": {
      "text/plain": [
       "surface_annotated\n",
       "asphalt          0.631841\n",
       "sett             0.174129\n",
       "paving_stones    0.134328\n",
       "concrete         0.039801\n",
       "unpaved          0.019900\n",
       "Name: proportion, dtype: float64"
      ]
     },
     "execution_count": 27,
     "metadata": {},
     "output_type": "execute_result"
    }
   ],
   "source": [
    "# incorrect labels of OSM predictions have the following annotated surfaces:\n",
    "df_only_streets[df_only_streets.osm_prediction != df_only_streets.surface_annotated].surface_annotated.value_counts(normalize=True)"
   ]
  },
  {
   "cell_type": "markdown",
   "metadata": {},
   "source": [
    "There is an overrepresentation of Asphalt in the incorrect OSM labels. Also, many images are \"nostreet\", i.e., cannot be classfied properly."
   ]
  },
  {
   "cell_type": "code",
   "execution_count": 28,
   "metadata": {},
   "outputs": [
    {
     "data": {
      "text/plain": [
       "0.5401069518716578"
      ]
     },
     "execution_count": 28,
     "metadata": {},
     "output_type": "execute_result"
    }
   ],
   "source": [
    "# accuracy of combined model\n",
    "df[df.combined_prediction == df.surface_annotated].shape[0] / df.shape[0]"
   ]
  },
  {
   "cell_type": "markdown",
   "metadata": {},
   "source": [
    "The combined prediction has an accuracy of 53%, if all images (including \"nostreet\") are considered. \n",
    "However, more interesting is the accuracy if a combined prediction is present:"
   ]
  },
  {
   "cell_type": "code",
   "execution_count": 29,
   "metadata": {},
   "outputs": [
    {
     "name": "stderr",
     "output_type": "stream",
     "text": [
      "/var/folders/m7/jb7xk8h91p541g43zv2r8l740000gn/T/ipykernel_61432/1833379915.py:2: UserWarning: Boolean Series key will be reindexed to match DataFrame index.\n",
      "  df[df.combined_prediction != \"no prediction\"][df.combined_prediction == df.surface_annotated].shape[0] / df[df.combined_prediction != \"no prediction\"].shape[0]\n"
     ]
    },
    {
     "data": {
      "text/plain": [
       "0.8898678414096917"
      ]
     },
     "execution_count": 29,
     "metadata": {},
     "output_type": "execute_result"
    }
   ],
   "source": [
    "# accuracy if a combined prediction is present\n",
    "df[df.combined_prediction != \"no prediction\"][df.combined_prediction == df.surface_annotated].shape[0] / df[df.combined_prediction != \"no prediction\"].shape[0]"
   ]
  },
  {
   "cell_type": "code",
   "execution_count": 30,
   "metadata": {},
   "outputs": [
    {
     "name": "stdout",
     "output_type": "stream",
     "text": [
      "asphalt\n",
      "0.93\n",
      "sett\n",
      "0.84\n",
      "concrete\n",
      "0.91\n",
      "paving_stones\n",
      "0.91\n",
      "unpaved\n",
      "0.82\n"
     ]
    }
   ],
   "source": [
    "# by surface:\n",
    "for surface in df_only_streets.surface_annotated.unique():\n",
    "    temp = df[(df.combined_prediction == surface)]\n",
    "    print(surface)\n",
    "    print(round(temp[temp.combined_prediction == temp.surface_annotated].shape[0] / temp.shape[0],2))"
   ]
  },
  {
   "cell_type": "code",
   "execution_count": 31,
   "metadata": {},
   "outputs": [
    {
     "data": {
      "text/plain": [
       "454"
      ]
     },
     "execution_count": 31,
     "metadata": {},
     "output_type": "execute_result"
    }
   ],
   "source": [
    "# how many have a combined prediction?\n",
    "len(df[df.combined_prediction != \"no prediction\"])"
   ]
  },
  {
   "cell_type": "code",
   "execution_count": 32,
   "metadata": {},
   "outputs": [
    {
     "data": {
      "text/plain": [
       "0.606951871657754"
      ]
     },
     "execution_count": 32,
     "metadata": {},
     "output_type": "execute_result"
    }
   ],
   "source": [
    "len(df[df.combined_prediction != \"no prediction\"]) / len(df)"
   ]
  },
  {
   "cell_type": "markdown",
   "metadata": {},
   "source": [
    "Th accuracy of the combined prediction is 89%. This includes 61% of all images."
   ]
  },
  {
   "cell_type": "code",
   "execution_count": 33,
   "metadata": {},
   "outputs": [
    {
     "data": {
      "text/plain": [
       "combined_prediction\n",
       "no prediction    0.393048\n",
       "asphalt          0.185829\n",
       "concrete         0.121658\n",
       "unpaved          0.121658\n",
       "paving_stones    0.092246\n",
       "sett             0.085561\n",
       "Name: proportion, dtype: float64"
      ]
     },
     "execution_count": 33,
     "metadata": {},
     "output_type": "execute_result"
    }
   ],
   "source": [
    "# how many images have a combined prediction?\n",
    "df.combined_prediction.value_counts(normalize=True)"
   ]
  },
  {
   "cell_type": "markdown",
   "metadata": {},
   "source": [
    "Distibution of combined predictions is not entirely even: espsecially sett and paving stones are underrepresented. \n",
    "However, the distribution is much more even than in the population."
   ]
  },
  {
   "cell_type": "code",
   "execution_count": 34,
   "metadata": {},
   "outputs": [
    {
     "name": "stdout",
     "output_type": "stream",
     "text": [
      "Class: asphalt\n",
      "Count in combined prediction: 139\n",
      "Precision: 0.93\n",
      "Recall: 0.49\n",
      "------------------------\n",
      "Class: sett\n",
      "Count in combined prediction: 64\n",
      "Precision: 0.84\n",
      "Recall: 0.59\n",
      "------------------------\n",
      "Class: concrete\n",
      "Count in combined prediction: 91\n",
      "Precision: 0.91\n",
      "Recall: 0.86\n",
      "------------------------\n",
      "Class: paving_stones\n",
      "Count in combined prediction: 69\n",
      "Precision: 0.91\n",
      "Recall: 0.68\n",
      "------------------------\n",
      "Class: unpaved\n",
      "Count in combined prediction: 91\n",
      "Precision: 0.82\n",
      "Recall: 0.93\n",
      "------------------------\n"
     ]
    },
    {
     "name": "stderr",
     "output_type": "stream",
     "text": [
      "/Users/alexandra/opt/anaconda3/envs/sai_dc/lib/python3.12/site-packages/sklearn/metrics/_classification.py:1497: UndefinedMetricWarning: Precision is ill-defined and being set to 0.0 in labels with no predicted samples. Use `zero_division` parameter to control this behavior.\n",
      "  _warn_prf(average, modifier, f\"{metric.capitalize()} is\", len(result))\n",
      "/Users/alexandra/opt/anaconda3/envs/sai_dc/lib/python3.12/site-packages/sklearn/metrics/_classification.py:1497: UndefinedMetricWarning: Recall is ill-defined and being set to 0.0 in labels with no true samples. Use `zero_division` parameter to control this behavior.\n",
      "  _warn_prf(average, modifier, f\"{metric.capitalize()} is\", len(result))\n"
     ]
    }
   ],
   "source": [
    "# Extract predicted and ground truth values\n",
    "y_true = df['surface_annotated']\n",
    "y_pred = df['combined_prediction']\n",
    "\n",
    "# Compute precision and recall\n",
    "precision = precision_score(y_true, y_pred, average='weighted')\n",
    "recall = recall_score(y_true, y_pred, average='weighted')\n",
    "\n",
    "# Display the results\n",
    "# print(\"Precision:\", precision)\n",
    "# print(\"Recall:\", recall)\n",
    "\n",
    "labels = df['surface_annotated'].unique()\n",
    "\n",
    "for class_name in labels:\n",
    "    if class_name == \"nostreet\":\n",
    "        continue\n",
    "    class_precision = precision_score(y_true == class_name, y_pred == class_name)\n",
    "    class_recall = recall_score(y_true == class_name, y_pred == class_name)\n",
    "\n",
    "    print(f\"Class: {class_name}\")\n",
    "    print(f\"Count in combined prediction: {len(y_pred[y_pred == class_name])}\")\n",
    "    print(f\"Precision: {round(class_precision, 2)}\")\n",
    "    print(f\"Recall: {round(class_recall, 2)}\")\n",
    "    print(\"------------------------\")\n"
   ]
  },
  {
   "cell_type": "code",
   "execution_count": 35,
   "metadata": {},
   "outputs": [
    {
     "data": {
      "text/html": [
       "<div>\n",
       "<style scoped>\n",
       "    .dataframe tbody tr th:only-of-type {\n",
       "        vertical-align: middle;\n",
       "    }\n",
       "\n",
       "    .dataframe tbody tr th {\n",
       "        vertical-align: top;\n",
       "    }\n",
       "\n",
       "    .dataframe thead th {\n",
       "        text-align: right;\n",
       "    }\n",
       "</style>\n",
       "<table border=\"1\" class=\"dataframe\">\n",
       "  <thead>\n",
       "    <tr style=\"text-align: right;\">\n",
       "      <th></th>\n",
       "      <th></th>\n",
       "      <th>0</th>\n",
       "    </tr>\n",
       "    <tr>\n",
       "      <th>surface_annotated</th>\n",
       "      <th>combined_prediction</th>\n",
       "      <th></th>\n",
       "    </tr>\n",
       "  </thead>\n",
       "  <tbody>\n",
       "    <tr>\n",
       "      <th rowspan=\"2\" valign=\"top\">asphalt</th>\n",
       "      <th>asphalt</th>\n",
       "      <td>129</td>\n",
       "    </tr>\n",
       "    <tr>\n",
       "      <th>no prediction</th>\n",
       "      <td>133</td>\n",
       "    </tr>\n",
       "    <tr>\n",
       "      <th rowspan=\"2\" valign=\"top\">concrete</th>\n",
       "      <th>concrete</th>\n",
       "      <td>83</td>\n",
       "    </tr>\n",
       "    <tr>\n",
       "      <th>no prediction</th>\n",
       "      <td>13</td>\n",
       "    </tr>\n",
       "    <tr>\n",
       "      <th rowspan=\"6\" valign=\"top\">nostreet</th>\n",
       "      <th>asphalt</th>\n",
       "      <td>9</td>\n",
       "    </tr>\n",
       "    <tr>\n",
       "      <th>concrete</th>\n",
       "      <td>8</td>\n",
       "    </tr>\n",
       "    <tr>\n",
       "      <th>no prediction</th>\n",
       "      <td>76</td>\n",
       "    </tr>\n",
       "    <tr>\n",
       "      <th>paving_stones</th>\n",
       "      <td>6</td>\n",
       "    </tr>\n",
       "    <tr>\n",
       "      <th>sett</th>\n",
       "      <td>10</td>\n",
       "    </tr>\n",
       "    <tr>\n",
       "      <th>unpaved</th>\n",
       "      <td>16</td>\n",
       "    </tr>\n",
       "    <tr>\n",
       "      <th rowspan=\"2\" valign=\"top\">paving_stones</th>\n",
       "      <th>no prediction</th>\n",
       "      <td>30</td>\n",
       "    </tr>\n",
       "    <tr>\n",
       "      <th>paving_stones</th>\n",
       "      <td>63</td>\n",
       "    </tr>\n",
       "    <tr>\n",
       "      <th rowspan=\"2\" valign=\"top\">sett</th>\n",
       "      <th>no prediction</th>\n",
       "      <td>37</td>\n",
       "    </tr>\n",
       "    <tr>\n",
       "      <th>sett</th>\n",
       "      <td>54</td>\n",
       "    </tr>\n",
       "    <tr>\n",
       "      <th rowspan=\"3\" valign=\"top\">unpaved</th>\n",
       "      <th>asphalt</th>\n",
       "      <td>1</td>\n",
       "    </tr>\n",
       "    <tr>\n",
       "      <th>no prediction</th>\n",
       "      <td>5</td>\n",
       "    </tr>\n",
       "    <tr>\n",
       "      <th>unpaved</th>\n",
       "      <td>75</td>\n",
       "    </tr>\n",
       "  </tbody>\n",
       "</table>\n",
       "</div>"
      ],
      "text/plain": [
       "                                         0\n",
       "surface_annotated combined_prediction     \n",
       "asphalt           asphalt              129\n",
       "                  no prediction        133\n",
       "concrete          concrete              83\n",
       "                  no prediction         13\n",
       "nostreet          asphalt                9\n",
       "                  concrete               8\n",
       "                  no prediction         76\n",
       "                  paving_stones          6\n",
       "                  sett                  10\n",
       "                  unpaved               16\n",
       "paving_stones     no prediction         30\n",
       "                  paving_stones         63\n",
       "sett              no prediction         37\n",
       "                  sett                  54\n",
       "unpaved           asphalt                1\n",
       "                  no prediction          5\n",
       "                  unpaved               75"
      ]
     },
     "execution_count": 35,
     "metadata": {},
     "output_type": "execute_result"
    }
   ],
   "source": [
    "pd.DataFrame(df.groupby([\"surface_annotated\", \"combined_prediction\"]).size())"
   ]
  },
  {
   "cell_type": "code",
   "execution_count": 36,
   "metadata": {},
   "outputs": [
    {
     "data": {
      "image/png": "[encoded data removed]",
      "text/plain": [
       "<Figure size 640x480 with 1 Axes>"
      ]
     },
     "metadata": {},
     "output_type": "display_data"
    }
   ],
   "source": [
    "import matplotlib.pyplot as plt\n",
    "import seaborn as sns\n",
    "from sklearn.metrics import confusion_matrix\n",
    "\n",
    "cm = confusion_matrix(y_true.values, y_pred.values)\n",
    "\n",
    "# Plotting the confusion matrix using seaborn heatmap\n",
    "sns.set(font_scale=1.2)\n",
    "sns.heatmap(cm, annot=True, fmt=\"d\", cmap=\"Blues\", cbar=False,\n",
    "            xticklabels=[\"asphalt\", \"concrete\", \"no prediction\", \"nostreet\", \"paving_stones\", \"sett\", \"unpaved\"],\n",
    "            yticklabels=[\"asphalt\", \"concrete\", \"no prediction\", \"nostreet\", \"paving_stones\", \"sett\", \"unpaved\"])\n",
    "plt.title(\"Confusion Matrix\")\n",
    "plt.xlabel(\"Combined prediction (OSM+model)\")\n",
    "plt.ylabel(\"Annotated\")\n",
    "plt.show()"
   ]
  },
  {
   "cell_type": "code",
   "execution_count": 37,
   "metadata": {},
   "outputs": [
    {
     "data": {
      "image/png": "[encoded data removed]",
      "text/plain": [
       "<Figure size 800x1400 with 6 Axes>"
      ]
     },
     "metadata": {},
     "output_type": "display_data"
    }
   ],
   "source": [
    "import matplotlib.pyplot as plt\n",
    "\n",
    "# Create histograms for each class in the \"surface\" column as subplots\n",
    "classes = df['surface_annotated'].unique()\n",
    "num_classes = len(classes)\n",
    "\n",
    "plt.figure(figsize=(8, 14))  # Set the figure size\n",
    "\n",
    "for i, class_name in enumerate(classes, 1):\n",
    "    class_data = df[df['surface_annotated'] == class_name]\n",
    "    \n",
    "    plt.subplot(num_classes, 1, i)\n",
    "    plt.hist(class_data.class_probability, bins=20, alpha=0.5, label=class_name)\n",
    "    \n",
    "    plt.xlabel(f'{class_name}')\n",
    "    plt.ylabel(f'{class_name}')"
   ]
  },
  {
   "cell_type": "code",
   "execution_count": 38,
   "metadata": {},
   "outputs": [
    {
     "data": {
      "text/plain": [
       "surface_annotated\n",
       "asphalt          133\n",
       "nostreet          76\n",
       "sett              37\n",
       "concrete          13\n",
       "paving_stones     30\n",
       "unpaved            5\n",
       "Name: count, dtype: int64"
      ]
     },
     "execution_count": 38,
     "metadata": {},
     "output_type": "execute_result"
    }
   ],
   "source": [
    "counts_no_prediction = df[df.combined_prediction == \"no prediction\"].surface_annotated.value_counts(sort=False)\n",
    "counts_no_prediction"
   ]
  },
  {
   "cell_type": "code",
   "execution_count": 39,
   "metadata": {},
   "outputs": [
    {
     "data": {
      "text/plain": [
       "surface_annotated\n",
       "asphalt          262\n",
       "nostreet         125\n",
       "sett              91\n",
       "concrete          96\n",
       "paving_stones     93\n",
       "unpaved           81\n",
       "Name: count, dtype: int64"
      ]
     },
     "execution_count": 39,
     "metadata": {},
     "output_type": "execute_result"
    }
   ],
   "source": [
    "counts_all = df.surface_annotated.value_counts(sort=False)\n",
    "counts_all"
   ]
  },
  {
   "cell_type": "code",
   "execution_count": 40,
   "metadata": {},
   "outputs": [
    {
     "data": {
      "text/plain": [
       "surface_annotated\n",
       "asphalt          0.507634\n",
       "nostreet         0.608000\n",
       "sett             0.406593\n",
       "concrete         0.135417\n",
       "paving_stones    0.322581\n",
       "unpaved          0.061728\n",
       "Name: count, dtype: float64"
      ]
     },
     "execution_count": 40,
     "metadata": {},
     "output_type": "execute_result"
    }
   ],
   "source": [
    "counts_no_prediction / counts_all"
   ]
  },
  {
   "cell_type": "markdown",
   "metadata": {},
   "source": [
    "We mostly lose asphalt and those where we could not make a prediction."
   ]
  },
  {
   "cell_type": "code",
   "execution_count": 41,
   "metadata": {},
   "outputs": [
    {
     "data": {
      "text/plain": [
       "smoothness_annotated\n",
       "excellent       115\n",
       "bad              92\n",
       "good            253\n",
       "intermediate    156\n",
       "very_bad          7\n",
       "Name: count, dtype: int64"
      ]
     },
     "execution_count": 41,
     "metadata": {},
     "output_type": "execute_result"
    }
   ],
   "source": [
    "smoothness_all = df.smoothness_annotated.value_counts(sort=False)\n",
    "smoothness_all"
   ]
  },
  {
   "cell_type": "code",
   "execution_count": 42,
   "metadata": {},
   "outputs": [],
   "source": [
    "smoothness_no_prediction = df[df.combined_prediction == \"no prediction\"].smoothness_annotated.value_counts(sort=False)"
   ]
  },
  {
   "cell_type": "code",
   "execution_count": 43,
   "metadata": {},
   "outputs": [
    {
     "data": {
      "text/plain": [
       "smoothness_annotated\n",
       "bad             0.315217\n",
       "excellent       0.495652\n",
       "good            0.403162\n",
       "intermediate    0.192308\n",
       "very_bad             NaN\n",
       "Name: count, dtype: float64"
      ]
     },
     "execution_count": 43,
     "metadata": {},
     "output_type": "execute_result"
    }
   ],
   "source": [
    "smoothness_no_prediction / smoothness_all"
   ]
  },
  {
   "cell_type": "code",
   "execution_count": null,
   "metadata": {},
   "outputs": [],
   "source": []
  }
 ],
 "metadata": {
  "kernelspec": {
   "display_name": "sai_dc",
   "language": "python",
   "name": "python3"
  },
  "language_info": {
   "codemirror_mode": {
    "name": "ipython",
    "version": 3
   },
   "file_extension": ".py",
   "mimetype": "text/x-python",
   "name": "python",
   "nbconvert_exporter": "python",
   "pygments_lexer": "ipython3",
   "version": "3.12.0"
  }
 },
 "nbformat": 4,
 "nbformat_minor": 2
}
