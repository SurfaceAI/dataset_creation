{
 "cells": [
  {
   "cell_type": "code",
   "execution_count": 2,
   "metadata": {},
   "outputs": [],
   "source": [
    "import pandas as pd\n",
    "import numpy as np"
   ]
  },
  {
   "cell_type": "markdown",
   "metadata": {},
   "source": [
    "### Mapillary counts"
   ]
  },
  {
   "cell_type": "code",
   "execution_count": 3,
   "metadata": {},
   "outputs": [],
   "source": [
    "img_ct = pd.read_csv(\"/Users/alexandra/Documents/GitHub/dataset_creation/data/tag_counts/germany_image_counts.csv\")"
   ]
  },
  {
   "cell_type": "code",
   "execution_count": 4,
   "metadata": {},
   "outputs": [
    {
     "data": {
      "text/plain": [
       "169994544"
      ]
     },
     "execution_count": 4,
     "metadata": {},
     "output_type": "execute_result"
    }
   ],
   "source": [
    "img_ct.image_count.sum()"
   ]
  },
  {
   "cell_type": "markdown",
   "metadata": {},
   "source": [
    "about 170M images in Germany (query data Nov. 2023)"
   ]
  },
  {
   "cell_type": "code",
   "execution_count": 5,
   "metadata": {},
   "outputs": [],
   "source": [
    "meta = pd.read_csv(\"/Users/alexandra/Documents/GitHub/dataset_creation/data/v5/train_tiles_metadata.csv\")"
   ]
  },
  {
   "cell_type": "code",
   "execution_count": 6,
   "metadata": {},
   "outputs": [
    {
     "data": {
      "text/plain": [
       "0.3026986736703738"
      ]
     },
     "execution_count": 6,
     "metadata": {},
     "output_type": "execute_result"
    }
   ],
   "source": [
    "len(meta) / img_ct.image_count.sum()"
   ]
  },
  {
   "cell_type": "markdown",
   "metadata": {},
   "source": [
    "30% sample"
   ]
  },
  {
   "cell_type": "code",
   "execution_count": 7,
   "metadata": {},
   "outputs": [],
   "source": [
    "meta[\"date\"] = pd.to_datetime(meta.captured_at,  unit=\"ms\")"
   ]
  },
  {
   "cell_type": "code",
   "execution_count": 8,
   "metadata": {},
   "outputs": [],
   "source": [
    "meta[\"year\"] = pd.to_datetime(meta.captured_at,  unit=\"ms\").dt.year"
   ]
  },
  {
   "cell_type": "code",
   "execution_count": 9,
   "metadata": {},
   "outputs": [
    {
     "data": {
      "text/plain": [
       "year\n",
       "1899           9\n",
       "1921           4\n",
       "1970          96\n",
       "1980         459\n",
       "1994          18\n",
       "2000           2\n",
       "2002        1299\n",
       "2004          48\n",
       "2005           5\n",
       "2006         849\n",
       "2007         320\n",
       "2008        1405\n",
       "2009        2129\n",
       "2010        3010\n",
       "2011        7734\n",
       "2012       11964\n",
       "2013        9228\n",
       "2014      620403\n",
       "2015     1203190\n",
       "2016     2040851\n",
       "2017     2915628\n",
       "2018     3688915\n",
       "2019     5432688\n",
       "2020     8348287\n",
       "2021    10028970\n",
       "2022     8821842\n",
       "2023     8060625\n",
       "2024      257145\n",
       "Name: count, dtype: int64"
      ]
     },
     "execution_count": 9,
     "metadata": {},
     "output_type": "execute_result"
    }
   ],
   "source": [
    "meta.value_counts(\"year\").sort_index()"
   ]
  },
  {
   "cell_type": "code",
   "execution_count": 10,
   "metadata": {},
   "outputs": [
    {
     "data": {
      "text/html": [
       "<div>\n",
       "<style scoped>\n",
       "    .dataframe tbody tr th:only-of-type {\n",
       "        vertical-align: middle;\n",
       "    }\n",
       "\n",
       "    .dataframe tbody tr th {\n",
       "        vertical-align: top;\n",
       "    }\n",
       "\n",
       "    .dataframe thead th {\n",
       "        text-align: right;\n",
       "    }\n",
       "</style>\n",
       "<table border=\"1\" class=\"dataframe\">\n",
       "  <thead>\n",
       "    <tr style=\"text-align: right;\">\n",
       "      <th></th>\n",
       "      <th>tile_id</th>\n",
       "      <th>id</th>\n",
       "      <th>sequence_id</th>\n",
       "      <th>captured_at</th>\n",
       "      <th>compass_angle</th>\n",
       "      <th>is_pano</th>\n",
       "      <th>creator_id</th>\n",
       "      <th>lon</th>\n",
       "      <th>lat</th>\n",
       "      <th>date</th>\n",
       "      <th>year</th>\n",
       "    </tr>\n",
       "  </thead>\n",
       "  <tbody>\n",
       "    <tr>\n",
       "      <th>0</th>\n",
       "      <td>8472_5495_14</td>\n",
       "      <td>1707356142945280</td>\n",
       "      <td>NFZVQseCHAkdM93c8TBX2p</td>\n",
       "      <td>1646408953313</td>\n",
       "      <td>235.849106</td>\n",
       "      <td>False</td>\n",
       "      <td>104536648714052</td>\n",
       "      <td>6.163904</td>\n",
       "      <td>50.854445</td>\n",
       "      <td>2022-03-04 15:49:13.313</td>\n",
       "      <td>2022</td>\n",
       "    </tr>\n",
       "    <tr>\n",
       "      <th>1</th>\n",
       "      <td>8472_5495_14</td>\n",
       "      <td>237587568154199</td>\n",
       "      <td>fnSJ7GaGLWXTQciojBhBOw</td>\n",
       "      <td>1441019869000</td>\n",
       "      <td>330.000000</td>\n",
       "      <td>False</td>\n",
       "      <td>103390745232765</td>\n",
       "      <td>6.165894</td>\n",
       "      <td>50.860008</td>\n",
       "      <td>2015-08-31 11:17:49.000</td>\n",
       "      <td>2015</td>\n",
       "    </tr>\n",
       "    <tr>\n",
       "      <th>2</th>\n",
       "      <td>8472_5495_14</td>\n",
       "      <td>975748309981229</td>\n",
       "      <td>NFZVQseCHAkdM93c8TBX2p</td>\n",
       "      <td>1646408904312</td>\n",
       "      <td>230.319958</td>\n",
       "      <td>False</td>\n",
       "      <td>104536648714052</td>\n",
       "      <td>6.166087</td>\n",
       "      <td>50.855450</td>\n",
       "      <td>2022-03-04 15:48:24.312</td>\n",
       "      <td>2022</td>\n",
       "    </tr>\n",
       "    <tr>\n",
       "      <th>3</th>\n",
       "      <td>8472_5495_14</td>\n",
       "      <td>168724596206843</td>\n",
       "      <td>TuRPvl8KZ0JDIYLEoFwbr4</td>\n",
       "      <td>1694435326000</td>\n",
       "      <td>143.651000</td>\n",
       "      <td>False</td>\n",
       "      <td>103550301888099</td>\n",
       "      <td>6.165631</td>\n",
       "      <td>50.854021</td>\n",
       "      <td>2023-09-11 12:28:46.000</td>\n",
       "      <td>2023</td>\n",
       "    </tr>\n",
       "    <tr>\n",
       "      <th>4</th>\n",
       "      <td>8472_5495_14</td>\n",
       "      <td>495587888161346</td>\n",
       "      <td>JEn6aNGUCtcuSafGMlEncw</td>\n",
       "      <td>1564562164000</td>\n",
       "      <td>179.258416</td>\n",
       "      <td>False</td>\n",
       "      <td>103390745232765</td>\n",
       "      <td>6.171484</td>\n",
       "      <td>50.850364</td>\n",
       "      <td>2019-07-31 08:36:04.000</td>\n",
       "      <td>2019</td>\n",
       "    </tr>\n",
       "  </tbody>\n",
       "</table>\n",
       "</div>"
      ],
      "text/plain": [
       "        tile_id                id             sequence_id    captured_at  \\\n",
       "0  8472_5495_14  1707356142945280  NFZVQseCHAkdM93c8TBX2p  1646408953313   \n",
       "1  8472_5495_14   237587568154199  fnSJ7GaGLWXTQciojBhBOw  1441019869000   \n",
       "2  8472_5495_14   975748309981229  NFZVQseCHAkdM93c8TBX2p  1646408904312   \n",
       "3  8472_5495_14   168724596206843  TuRPvl8KZ0JDIYLEoFwbr4  1694435326000   \n",
       "4  8472_5495_14   495587888161346  JEn6aNGUCtcuSafGMlEncw  1564562164000   \n",
       "\n",
       "   compass_angle  is_pano       creator_id       lon        lat  \\\n",
       "0     235.849106    False  104536648714052  6.163904  50.854445   \n",
       "1     330.000000    False  103390745232765  6.165894  50.860008   \n",
       "2     230.319958    False  104536648714052  6.166087  50.855450   \n",
       "3     143.651000    False  103550301888099  6.165631  50.854021   \n",
       "4     179.258416    False  103390745232765  6.171484  50.850364   \n",
       "\n",
       "                     date  year  \n",
       "0 2022-03-04 15:49:13.313  2022  \n",
       "1 2015-08-31 11:17:49.000  2015  \n",
       "2 2022-03-04 15:48:24.312  2022  \n",
       "3 2023-09-11 12:28:46.000  2023  \n",
       "4 2019-07-31 08:36:04.000  2019  "
      ]
     },
     "execution_count": 10,
     "metadata": {},
     "output_type": "execute_result"
    }
   ],
   "source": [
    "meta.head()"
   ]
  },
  {
   "cell_type": "code",
   "execution_count": 11,
   "metadata": {},
   "outputs": [
    {
     "data": {
      "text/plain": [
       "count                         51427459\n",
       "mean     2020-10-04 19:29:34.389486848\n",
       "min                2013-03-16 13:35:26\n",
       "25%                2019-06-23 16:25:13\n",
       "50%      2021-03-17 12:41:47.158000128\n",
       "75%         2022-06-12 10:46:37.500000\n",
       "max                2024-01-16 16:12:56\n",
       "Name: date, dtype: object"
      ]
     },
     "execution_count": 11,
     "metadata": {},
     "output_type": "execute_result"
    }
   ],
   "source": [
    "# take out date outliers (any dates before launch date 2013)\n",
    "meta[meta[\"captured_at\"] > 1363074956000][\"date\"].describe()"
   ]
  },
  {
   "cell_type": "code",
   "execution_count": 12,
   "metadata": {},
   "outputs": [
    {
     "ename": "KeyboardInterrupt",
     "evalue": "",
     "output_type": "error",
     "traceback": [
      "\u001b[0;31m---------------------------------------------------------------------------\u001b[0m",
      "\u001b[0;31mKeyboardInterrupt\u001b[0m                         Traceback (most recent call last)",
      "Cell \u001b[0;32mIn[12], line 1\u001b[0m\n\u001b[0;32m----> 1\u001b[0m np\u001b[38;5;241m.\u001b[39mpercentile(\u001b[43mmeta\u001b[49m\u001b[43m[\u001b[49m\u001b[43mmeta\u001b[49m\u001b[43m[\u001b[49m\u001b[38;5;124;43m\"\u001b[39;49m\u001b[38;5;124;43mcaptured_at\u001b[39;49m\u001b[38;5;124;43m\"\u001b[39;49m\u001b[43m]\u001b[49m\u001b[43m \u001b[49m\u001b[38;5;241;43m>\u001b[39;49m\u001b[43m \u001b[49m\u001b[38;5;241;43m1363074956000\u001b[39;49m\u001b[43m]\u001b[49m[\u001b[38;5;124m\"\u001b[39m\u001b[38;5;124mdate\u001b[39m\u001b[38;5;124m\"\u001b[39m], \u001b[38;5;241m50\u001b[39m)\n",
      "File \u001b[0;32m~/opt/anaconda3/envs/sai_dc/lib/python3.12/site-packages/pandas/core/frame.py:3884\u001b[0m, in \u001b[0;36mDataFrame.__getitem__\u001b[0;34m(self, key)\u001b[0m\n\u001b[1;32m   3882\u001b[0m \u001b[38;5;66;03m# Do we have a (boolean) 1d indexer?\u001b[39;00m\n\u001b[1;32m   3883\u001b[0m \u001b[38;5;28;01mif\u001b[39;00m com\u001b[38;5;241m.\u001b[39mis_bool_indexer(key):\n\u001b[0;32m-> 3884\u001b[0m     \u001b[38;5;28;01mreturn\u001b[39;00m \u001b[38;5;28;43mself\u001b[39;49m\u001b[38;5;241;43m.\u001b[39;49m\u001b[43m_getitem_bool_array\u001b[49m\u001b[43m(\u001b[49m\u001b[43mkey\u001b[49m\u001b[43m)\u001b[49m\n\u001b[1;32m   3886\u001b[0m \u001b[38;5;66;03m# We are left with two options: a single key, and a collection of keys,\u001b[39;00m\n\u001b[1;32m   3887\u001b[0m \u001b[38;5;66;03m# We interpret tuples as collections only for non-MultiIndex\u001b[39;00m\n\u001b[1;32m   3888\u001b[0m is_single_key \u001b[38;5;241m=\u001b[39m \u001b[38;5;28misinstance\u001b[39m(key, \u001b[38;5;28mtuple\u001b[39m) \u001b[38;5;129;01mor\u001b[39;00m \u001b[38;5;129;01mnot\u001b[39;00m is_list_like(key)\n",
      "File \u001b[0;32m~/opt/anaconda3/envs/sai_dc/lib/python3.12/site-packages/pandas/core/frame.py:3946\u001b[0m, in \u001b[0;36mDataFrame._getitem_bool_array\u001b[0;34m(self, key)\u001b[0m\n\u001b[1;32m   3943\u001b[0m     \u001b[38;5;28;01mreturn\u001b[39;00m \u001b[38;5;28mself\u001b[39m\u001b[38;5;241m.\u001b[39mcopy(deep\u001b[38;5;241m=\u001b[39m\u001b[38;5;28;01mNone\u001b[39;00m)\n\u001b[1;32m   3945\u001b[0m indexer \u001b[38;5;241m=\u001b[39m key\u001b[38;5;241m.\u001b[39mnonzero()[\u001b[38;5;241m0\u001b[39m]\n\u001b[0;32m-> 3946\u001b[0m \u001b[38;5;28;01mreturn\u001b[39;00m \u001b[38;5;28;43mself\u001b[39;49m\u001b[38;5;241;43m.\u001b[39;49m\u001b[43m_take_with_is_copy\u001b[49m\u001b[43m(\u001b[49m\u001b[43mindexer\u001b[49m\u001b[43m,\u001b[49m\u001b[43m \u001b[49m\u001b[43maxis\u001b[49m\u001b[38;5;241;43m=\u001b[39;49m\u001b[38;5;241;43m0\u001b[39;49m\u001b[43m)\u001b[49m\n",
      "File \u001b[0;32m~/opt/anaconda3/envs/sai_dc/lib/python3.12/site-packages/pandas/core/generic.py:4088\u001b[0m, in \u001b[0;36mNDFrame._take_with_is_copy\u001b[0;34m(self, indices, axis)\u001b[0m\n\u001b[1;32m   4077\u001b[0m \u001b[38;5;129m@final\u001b[39m\n\u001b[1;32m   4078\u001b[0m \u001b[38;5;28;01mdef\u001b[39;00m \u001b[38;5;21m_take_with_is_copy\u001b[39m(\u001b[38;5;28mself\u001b[39m, indices, axis: Axis \u001b[38;5;241m=\u001b[39m \u001b[38;5;241m0\u001b[39m) \u001b[38;5;241m-\u001b[39m\u001b[38;5;241m>\u001b[39m Self:\n\u001b[1;32m   4079\u001b[0m \u001b[38;5;250m    \u001b[39m\u001b[38;5;124;03m\"\"\"\u001b[39;00m\n\u001b[1;32m   4080\u001b[0m \u001b[38;5;124;03m    Internal version of the `take` method that sets the `_is_copy`\u001b[39;00m\n\u001b[1;32m   4081\u001b[0m \u001b[38;5;124;03m    attribute to keep track of the parent dataframe (using in indexing\u001b[39;00m\n\u001b[0;32m   (...)\u001b[0m\n\u001b[1;32m   4086\u001b[0m \u001b[38;5;124;03m    See the docstring of `take` for full explanation of the parameters.\u001b[39;00m\n\u001b[1;32m   4087\u001b[0m \u001b[38;5;124;03m    \"\"\"\u001b[39;00m\n\u001b[0;32m-> 4088\u001b[0m     result \u001b[38;5;241m=\u001b[39m \u001b[38;5;28;43mself\u001b[39;49m\u001b[38;5;241;43m.\u001b[39;49m\u001b[43mtake\u001b[49m\u001b[43m(\u001b[49m\u001b[43mindices\u001b[49m\u001b[38;5;241;43m=\u001b[39;49m\u001b[43mindices\u001b[49m\u001b[43m,\u001b[49m\u001b[43m \u001b[49m\u001b[43maxis\u001b[49m\u001b[38;5;241;43m=\u001b[39;49m\u001b[43maxis\u001b[49m\u001b[43m)\u001b[49m\n\u001b[1;32m   4089\u001b[0m     \u001b[38;5;66;03m# Maybe set copy if we didn't actually change the index.\u001b[39;00m\n\u001b[1;32m   4090\u001b[0m     \u001b[38;5;28;01mif\u001b[39;00m \u001b[38;5;28mself\u001b[39m\u001b[38;5;241m.\u001b[39mndim \u001b[38;5;241m==\u001b[39m \u001b[38;5;241m2\u001b[39m \u001b[38;5;129;01mand\u001b[39;00m \u001b[38;5;129;01mnot\u001b[39;00m result\u001b[38;5;241m.\u001b[39m_get_axis(axis)\u001b[38;5;241m.\u001b[39mequals(\u001b[38;5;28mself\u001b[39m\u001b[38;5;241m.\u001b[39m_get_axis(axis)):\n",
      "File \u001b[0;32m~/opt/anaconda3/envs/sai_dc/lib/python3.12/site-packages/pandas/core/generic.py:4068\u001b[0m, in \u001b[0;36mNDFrame.take\u001b[0;34m(self, indices, axis, **kwargs)\u001b[0m\n\u001b[1;32m   4063\u001b[0m     \u001b[38;5;66;03m# We can get here with a slice via DataFrame.__getitem__\u001b[39;00m\n\u001b[1;32m   4064\u001b[0m     indices \u001b[38;5;241m=\u001b[39m np\u001b[38;5;241m.\u001b[39marange(\n\u001b[1;32m   4065\u001b[0m         indices\u001b[38;5;241m.\u001b[39mstart, indices\u001b[38;5;241m.\u001b[39mstop, indices\u001b[38;5;241m.\u001b[39mstep, dtype\u001b[38;5;241m=\u001b[39mnp\u001b[38;5;241m.\u001b[39mintp\n\u001b[1;32m   4066\u001b[0m     )\n\u001b[0;32m-> 4068\u001b[0m new_data \u001b[38;5;241m=\u001b[39m \u001b[38;5;28;43mself\u001b[39;49m\u001b[38;5;241;43m.\u001b[39;49m\u001b[43m_mgr\u001b[49m\u001b[38;5;241;43m.\u001b[39;49m\u001b[43mtake\u001b[49m\u001b[43m(\u001b[49m\n\u001b[1;32m   4069\u001b[0m \u001b[43m    \u001b[49m\u001b[43mindices\u001b[49m\u001b[43m,\u001b[49m\n\u001b[1;32m   4070\u001b[0m \u001b[43m    \u001b[49m\u001b[43maxis\u001b[49m\u001b[38;5;241;43m=\u001b[39;49m\u001b[38;5;28;43mself\u001b[39;49m\u001b[38;5;241;43m.\u001b[39;49m\u001b[43m_get_block_manager_axis\u001b[49m\u001b[43m(\u001b[49m\u001b[43maxis\u001b[49m\u001b[43m)\u001b[49m\u001b[43m,\u001b[49m\n\u001b[1;32m   4071\u001b[0m \u001b[43m    \u001b[49m\u001b[43mverify\u001b[49m\u001b[38;5;241;43m=\u001b[39;49m\u001b[38;5;28;43;01mTrue\u001b[39;49;00m\u001b[43m,\u001b[49m\n\u001b[1;32m   4072\u001b[0m \u001b[43m\u001b[49m\u001b[43m)\u001b[49m\n\u001b[1;32m   4073\u001b[0m \u001b[38;5;28;01mreturn\u001b[39;00m \u001b[38;5;28mself\u001b[39m\u001b[38;5;241m.\u001b[39m_constructor_from_mgr(new_data, axes\u001b[38;5;241m=\u001b[39mnew_data\u001b[38;5;241m.\u001b[39maxes)\u001b[38;5;241m.\u001b[39m__finalize__(\n\u001b[1;32m   4074\u001b[0m     \u001b[38;5;28mself\u001b[39m, method\u001b[38;5;241m=\u001b[39m\u001b[38;5;124m\"\u001b[39m\u001b[38;5;124mtake\u001b[39m\u001b[38;5;124m\"\u001b[39m\n\u001b[1;32m   4075\u001b[0m )\n",
      "File \u001b[0;32m~/opt/anaconda3/envs/sai_dc/lib/python3.12/site-packages/pandas/core/internals/managers.py:877\u001b[0m, in \u001b[0;36mBaseBlockManager.take\u001b[0;34m(self, indexer, axis, verify)\u001b[0m\n\u001b[1;32m    874\u001b[0m indexer \u001b[38;5;241m=\u001b[39m maybe_convert_indices(indexer, n, verify\u001b[38;5;241m=\u001b[39mverify)\n\u001b[1;32m    876\u001b[0m new_labels \u001b[38;5;241m=\u001b[39m \u001b[38;5;28mself\u001b[39m\u001b[38;5;241m.\u001b[39maxes[axis]\u001b[38;5;241m.\u001b[39mtake(indexer)\n\u001b[0;32m--> 877\u001b[0m \u001b[38;5;28;01mreturn\u001b[39;00m \u001b[38;5;28;43mself\u001b[39;49m\u001b[38;5;241;43m.\u001b[39;49m\u001b[43mreindex_indexer\u001b[49m\u001b[43m(\u001b[49m\n\u001b[1;32m    878\u001b[0m \u001b[43m    \u001b[49m\u001b[43mnew_axis\u001b[49m\u001b[38;5;241;43m=\u001b[39;49m\u001b[43mnew_labels\u001b[49m\u001b[43m,\u001b[49m\n\u001b[1;32m    879\u001b[0m \u001b[43m    \u001b[49m\u001b[43mindexer\u001b[49m\u001b[38;5;241;43m=\u001b[39;49m\u001b[43mindexer\u001b[49m\u001b[43m,\u001b[49m\n\u001b[1;32m    880\u001b[0m \u001b[43m    \u001b[49m\u001b[43maxis\u001b[49m\u001b[38;5;241;43m=\u001b[39;49m\u001b[43maxis\u001b[49m\u001b[43m,\u001b[49m\n\u001b[1;32m    881\u001b[0m \u001b[43m    \u001b[49m\u001b[43mallow_dups\u001b[49m\u001b[38;5;241;43m=\u001b[39;49m\u001b[38;5;28;43;01mTrue\u001b[39;49;00m\u001b[43m,\u001b[49m\n\u001b[1;32m    882\u001b[0m \u001b[43m    \u001b[49m\u001b[43mcopy\u001b[49m\u001b[38;5;241;43m=\u001b[39;49m\u001b[38;5;28;43;01mNone\u001b[39;49;00m\u001b[43m,\u001b[49m\n\u001b[1;32m    883\u001b[0m \u001b[43m\u001b[49m\u001b[43m)\u001b[49m\n",
      "File \u001b[0;32m~/opt/anaconda3/envs/sai_dc/lib/python3.12/site-packages/pandas/core/internals/managers.py:671\u001b[0m, in \u001b[0;36mBaseBlockManager.reindex_indexer\u001b[0;34m(self, new_axis, indexer, axis, fill_value, allow_dups, copy, only_slice, use_na_proxy)\u001b[0m\n\u001b[1;32m    663\u001b[0m     new_blocks \u001b[38;5;241m=\u001b[39m \u001b[38;5;28mself\u001b[39m\u001b[38;5;241m.\u001b[39m_slice_take_blocks_ax0(\n\u001b[1;32m    664\u001b[0m         indexer,\n\u001b[1;32m    665\u001b[0m         fill_value\u001b[38;5;241m=\u001b[39mfill_value,\n\u001b[1;32m    666\u001b[0m         only_slice\u001b[38;5;241m=\u001b[39monly_slice,\n\u001b[1;32m    667\u001b[0m         use_na_proxy\u001b[38;5;241m=\u001b[39muse_na_proxy,\n\u001b[1;32m    668\u001b[0m     )\n\u001b[1;32m    669\u001b[0m \u001b[38;5;28;01melse\u001b[39;00m:\n\u001b[1;32m    670\u001b[0m     new_blocks \u001b[38;5;241m=\u001b[39m [\n\u001b[0;32m--> 671\u001b[0m         \u001b[43mblk\u001b[49m\u001b[38;5;241;43m.\u001b[39;49m\u001b[43mtake_nd\u001b[49m\u001b[43m(\u001b[49m\n\u001b[1;32m    672\u001b[0m \u001b[43m            \u001b[49m\u001b[43mindexer\u001b[49m\u001b[43m,\u001b[49m\n\u001b[1;32m    673\u001b[0m \u001b[43m            \u001b[49m\u001b[43maxis\u001b[49m\u001b[38;5;241;43m=\u001b[39;49m\u001b[38;5;241;43m1\u001b[39;49m\u001b[43m,\u001b[49m\n\u001b[1;32m    674\u001b[0m \u001b[43m            \u001b[49m\u001b[43mfill_value\u001b[49m\u001b[38;5;241;43m=\u001b[39;49m\u001b[43m(\u001b[49m\n\u001b[1;32m    675\u001b[0m \u001b[43m                \u001b[49m\u001b[43mfill_value\u001b[49m\u001b[43m \u001b[49m\u001b[38;5;28;43;01mif\u001b[39;49;00m\u001b[43m \u001b[49m\u001b[43mfill_value\u001b[49m\u001b[43m \u001b[49m\u001b[38;5;129;43;01mis\u001b[39;49;00m\u001b[43m \u001b[49m\u001b[38;5;129;43;01mnot\u001b[39;49;00m\u001b[43m \u001b[49m\u001b[38;5;28;43;01mNone\u001b[39;49;00m\u001b[43m \u001b[49m\u001b[38;5;28;43;01melse\u001b[39;49;00m\u001b[43m \u001b[49m\u001b[43mblk\u001b[49m\u001b[38;5;241;43m.\u001b[39;49m\u001b[43mfill_value\u001b[49m\n\u001b[1;32m    676\u001b[0m \u001b[43m            \u001b[49m\u001b[43m)\u001b[49m\u001b[43m,\u001b[49m\n\u001b[1;32m    677\u001b[0m \u001b[43m        \u001b[49m\u001b[43m)\u001b[49m\n\u001b[1;32m    678\u001b[0m         \u001b[38;5;28;01mfor\u001b[39;00m blk \u001b[38;5;129;01min\u001b[39;00m \u001b[38;5;28mself\u001b[39m\u001b[38;5;241m.\u001b[39mblocks\n\u001b[1;32m    679\u001b[0m     ]\n\u001b[1;32m    681\u001b[0m new_axes \u001b[38;5;241m=\u001b[39m \u001b[38;5;28mlist\u001b[39m(\u001b[38;5;28mself\u001b[39m\u001b[38;5;241m.\u001b[39maxes)\n\u001b[1;32m    682\u001b[0m new_axes[axis] \u001b[38;5;241m=\u001b[39m new_axis\n",
      "File \u001b[0;32m~/opt/anaconda3/envs/sai_dc/lib/python3.12/site-packages/pandas/core/internals/blocks.py:1061\u001b[0m, in \u001b[0;36mBlock.take_nd\u001b[0;34m(self, indexer, axis, new_mgr_locs, fill_value)\u001b[0m\n\u001b[1;32m   1058\u001b[0m     allow_fill \u001b[38;5;241m=\u001b[39m \u001b[38;5;28;01mTrue\u001b[39;00m\n\u001b[1;32m   1060\u001b[0m \u001b[38;5;66;03m# Note: algos.take_nd has upcast logic similar to coerce_to_target_dtype\u001b[39;00m\n\u001b[0;32m-> 1061\u001b[0m new_values \u001b[38;5;241m=\u001b[39m \u001b[43malgos\u001b[49m\u001b[38;5;241;43m.\u001b[39;49m\u001b[43mtake_nd\u001b[49m\u001b[43m(\u001b[49m\n\u001b[1;32m   1062\u001b[0m \u001b[43m    \u001b[49m\u001b[43mvalues\u001b[49m\u001b[43m,\u001b[49m\u001b[43m \u001b[49m\u001b[43mindexer\u001b[49m\u001b[43m,\u001b[49m\u001b[43m \u001b[49m\u001b[43maxis\u001b[49m\u001b[38;5;241;43m=\u001b[39;49m\u001b[43maxis\u001b[49m\u001b[43m,\u001b[49m\u001b[43m \u001b[49m\u001b[43mallow_fill\u001b[49m\u001b[38;5;241;43m=\u001b[39;49m\u001b[43mallow_fill\u001b[49m\u001b[43m,\u001b[49m\u001b[43m \u001b[49m\u001b[43mfill_value\u001b[49m\u001b[38;5;241;43m=\u001b[39;49m\u001b[43mfill_value\u001b[49m\n\u001b[1;32m   1063\u001b[0m \u001b[43m\u001b[49m\u001b[43m)\u001b[49m\n\u001b[1;32m   1065\u001b[0m \u001b[38;5;66;03m# Called from three places in managers, all of which satisfy\u001b[39;00m\n\u001b[1;32m   1066\u001b[0m \u001b[38;5;66;03m#  these assertions\u001b[39;00m\n\u001b[1;32m   1067\u001b[0m \u001b[38;5;28;01mif\u001b[39;00m \u001b[38;5;28misinstance\u001b[39m(\u001b[38;5;28mself\u001b[39m, ExtensionBlock):\n\u001b[1;32m   1068\u001b[0m     \u001b[38;5;66;03m# NB: in this case, the 'axis' kwarg will be ignored in the\u001b[39;00m\n\u001b[1;32m   1069\u001b[0m     \u001b[38;5;66;03m#  algos.take_nd call above.\u001b[39;00m\n",
      "File \u001b[0;32m~/opt/anaconda3/envs/sai_dc/lib/python3.12/site-packages/pandas/core/array_algos/take.py:111\u001b[0m, in \u001b[0;36mtake_nd\u001b[0;34m(arr, indexer, axis, fill_value, allow_fill)\u001b[0m\n\u001b[1;32m    108\u001b[0m     \u001b[38;5;28;01mif\u001b[39;00m \u001b[38;5;129;01mnot\u001b[39;00m is_1d_only_ea_dtype(arr\u001b[38;5;241m.\u001b[39mdtype):\n\u001b[1;32m    109\u001b[0m         \u001b[38;5;66;03m# i.e. DatetimeArray, TimedeltaArray\u001b[39;00m\n\u001b[1;32m    110\u001b[0m         arr \u001b[38;5;241m=\u001b[39m cast(\u001b[38;5;124m\"\u001b[39m\u001b[38;5;124mNDArrayBackedExtensionArray\u001b[39m\u001b[38;5;124m\"\u001b[39m, arr)\n\u001b[0;32m--> 111\u001b[0m         \u001b[38;5;28;01mreturn\u001b[39;00m \u001b[43marr\u001b[49m\u001b[38;5;241;43m.\u001b[39;49m\u001b[43mtake\u001b[49m\u001b[43m(\u001b[49m\n\u001b[1;32m    112\u001b[0m \u001b[43m            \u001b[49m\u001b[43mindexer\u001b[49m\u001b[43m,\u001b[49m\u001b[43m \u001b[49m\u001b[43mfill_value\u001b[49m\u001b[38;5;241;43m=\u001b[39;49m\u001b[43mfill_value\u001b[49m\u001b[43m,\u001b[49m\u001b[43m \u001b[49m\u001b[43mallow_fill\u001b[49m\u001b[38;5;241;43m=\u001b[39;49m\u001b[43mallow_fill\u001b[49m\u001b[43m,\u001b[49m\u001b[43m \u001b[49m\u001b[43maxis\u001b[49m\u001b[38;5;241;43m=\u001b[39;49m\u001b[43maxis\u001b[49m\n\u001b[1;32m    113\u001b[0m \u001b[43m        \u001b[49m\u001b[43m)\u001b[49m\n\u001b[1;32m    115\u001b[0m     \u001b[38;5;28;01mreturn\u001b[39;00m arr\u001b[38;5;241m.\u001b[39mtake(indexer, fill_value\u001b[38;5;241m=\u001b[39mfill_value, allow_fill\u001b[38;5;241m=\u001b[39mallow_fill)\n\u001b[1;32m    117\u001b[0m arr \u001b[38;5;241m=\u001b[39m np\u001b[38;5;241m.\u001b[39masarray(arr)\n",
      "File \u001b[0;32m~/opt/anaconda3/envs/sai_dc/lib/python3.12/site-packages/pandas/core/arrays/_mixins.py:160\u001b[0m, in \u001b[0;36mNDArrayBackedExtensionArray.take\u001b[0;34m(self, indices, allow_fill, fill_value, axis)\u001b[0m\n\u001b[1;32m    157\u001b[0m \u001b[38;5;28;01mif\u001b[39;00m allow_fill:\n\u001b[1;32m    158\u001b[0m     fill_value \u001b[38;5;241m=\u001b[39m \u001b[38;5;28mself\u001b[39m\u001b[38;5;241m.\u001b[39m_validate_scalar(fill_value)\n\u001b[0;32m--> 160\u001b[0m new_data \u001b[38;5;241m=\u001b[39m \u001b[43mtake\u001b[49m\u001b[43m(\u001b[49m\n\u001b[1;32m    161\u001b[0m \u001b[43m    \u001b[49m\u001b[38;5;28;43mself\u001b[39;49m\u001b[38;5;241;43m.\u001b[39;49m\u001b[43m_ndarray\u001b[49m\u001b[43m,\u001b[49m\n\u001b[1;32m    162\u001b[0m \u001b[43m    \u001b[49m\u001b[43mindices\u001b[49m\u001b[43m,\u001b[49m\n\u001b[1;32m    163\u001b[0m \u001b[43m    \u001b[49m\u001b[43mallow_fill\u001b[49m\u001b[38;5;241;43m=\u001b[39;49m\u001b[43mallow_fill\u001b[49m\u001b[43m,\u001b[49m\n\u001b[1;32m    164\u001b[0m \u001b[43m    \u001b[49m\u001b[43mfill_value\u001b[49m\u001b[38;5;241;43m=\u001b[39;49m\u001b[43mfill_value\u001b[49m\u001b[43m,\u001b[49m\n\u001b[1;32m    165\u001b[0m \u001b[43m    \u001b[49m\u001b[43maxis\u001b[49m\u001b[38;5;241;43m=\u001b[39;49m\u001b[43maxis\u001b[49m\u001b[43m,\u001b[49m\n\u001b[1;32m    166\u001b[0m \u001b[43m\u001b[49m\u001b[43m)\u001b[49m\n\u001b[1;32m    167\u001b[0m \u001b[38;5;28;01mreturn\u001b[39;00m \u001b[38;5;28mself\u001b[39m\u001b[38;5;241m.\u001b[39m_from_backing_data(new_data)\n",
      "File \u001b[0;32m~/opt/anaconda3/envs/sai_dc/lib/python3.12/site-packages/pandas/core/algorithms.py:1314\u001b[0m, in \u001b[0;36mtake\u001b[0;34m(arr, indices, axis, allow_fill, fill_value)\u001b[0m\n\u001b[1;32m   1311\u001b[0m \u001b[38;5;28;01mif\u001b[39;00m allow_fill:\n\u001b[1;32m   1312\u001b[0m     \u001b[38;5;66;03m# Pandas style, -1 means NA\u001b[39;00m\n\u001b[1;32m   1313\u001b[0m     validate_indices(indices, arr\u001b[38;5;241m.\u001b[39mshape[axis])\n\u001b[0;32m-> 1314\u001b[0m     result \u001b[38;5;241m=\u001b[39m \u001b[43mtake_nd\u001b[49m\u001b[43m(\u001b[49m\n\u001b[1;32m   1315\u001b[0m \u001b[43m        \u001b[49m\u001b[43marr\u001b[49m\u001b[43m,\u001b[49m\u001b[43m \u001b[49m\u001b[43mindices\u001b[49m\u001b[43m,\u001b[49m\u001b[43m \u001b[49m\u001b[43maxis\u001b[49m\u001b[38;5;241;43m=\u001b[39;49m\u001b[43maxis\u001b[49m\u001b[43m,\u001b[49m\u001b[43m \u001b[49m\u001b[43mallow_fill\u001b[49m\u001b[38;5;241;43m=\u001b[39;49m\u001b[38;5;28;43;01mTrue\u001b[39;49;00m\u001b[43m,\u001b[49m\u001b[43m \u001b[49m\u001b[43mfill_value\u001b[49m\u001b[38;5;241;43m=\u001b[39;49m\u001b[43mfill_value\u001b[49m\n\u001b[1;32m   1316\u001b[0m \u001b[43m    \u001b[49m\u001b[43m)\u001b[49m\n\u001b[1;32m   1317\u001b[0m \u001b[38;5;28;01melse\u001b[39;00m:\n\u001b[1;32m   1318\u001b[0m     \u001b[38;5;66;03m# NumPy style\u001b[39;00m\n\u001b[1;32m   1319\u001b[0m     result \u001b[38;5;241m=\u001b[39m arr\u001b[38;5;241m.\u001b[39mtake(indices, axis\u001b[38;5;241m=\u001b[39maxis)\n",
      "File \u001b[0;32m~/opt/anaconda3/envs/sai_dc/lib/python3.12/site-packages/pandas/core/array_algos/take.py:118\u001b[0m, in \u001b[0;36mtake_nd\u001b[0;34m(arr, indexer, axis, fill_value, allow_fill)\u001b[0m\n\u001b[1;32m    115\u001b[0m     \u001b[38;5;28;01mreturn\u001b[39;00m arr\u001b[38;5;241m.\u001b[39mtake(indexer, fill_value\u001b[38;5;241m=\u001b[39mfill_value, allow_fill\u001b[38;5;241m=\u001b[39mallow_fill)\n\u001b[1;32m    117\u001b[0m arr \u001b[38;5;241m=\u001b[39m np\u001b[38;5;241m.\u001b[39masarray(arr)\n\u001b[0;32m--> 118\u001b[0m \u001b[38;5;28;01mreturn\u001b[39;00m \u001b[43m_take_nd_ndarray\u001b[49m\u001b[43m(\u001b[49m\u001b[43marr\u001b[49m\u001b[43m,\u001b[49m\u001b[43m \u001b[49m\u001b[43mindexer\u001b[49m\u001b[43m,\u001b[49m\u001b[43m \u001b[49m\u001b[43maxis\u001b[49m\u001b[43m,\u001b[49m\u001b[43m \u001b[49m\u001b[43mfill_value\u001b[49m\u001b[43m,\u001b[49m\u001b[43m \u001b[49m\u001b[43mallow_fill\u001b[49m\u001b[43m)\u001b[49m\n",
      "File \u001b[0;32m~/opt/anaconda3/envs/sai_dc/lib/python3.12/site-packages/pandas/core/array_algos/take.py:163\u001b[0m, in \u001b[0;36m_take_nd_ndarray\u001b[0;34m(arr, indexer, axis, fill_value, allow_fill)\u001b[0m\n\u001b[1;32m    158\u001b[0m     out \u001b[38;5;241m=\u001b[39m np\u001b[38;5;241m.\u001b[39mempty(out_shape, dtype\u001b[38;5;241m=\u001b[39mdtype)\n\u001b[1;32m    160\u001b[0m func \u001b[38;5;241m=\u001b[39m _get_take_nd_function(\n\u001b[1;32m    161\u001b[0m     arr\u001b[38;5;241m.\u001b[39mndim, arr\u001b[38;5;241m.\u001b[39mdtype, out\u001b[38;5;241m.\u001b[39mdtype, axis\u001b[38;5;241m=\u001b[39maxis, mask_info\u001b[38;5;241m=\u001b[39mmask_info\n\u001b[1;32m    162\u001b[0m )\n\u001b[0;32m--> 163\u001b[0m \u001b[43mfunc\u001b[49m\u001b[43m(\u001b[49m\u001b[43marr\u001b[49m\u001b[43m,\u001b[49m\u001b[43m \u001b[49m\u001b[43mindexer\u001b[49m\u001b[43m,\u001b[49m\u001b[43m \u001b[49m\u001b[43mout\u001b[49m\u001b[43m,\u001b[49m\u001b[43m \u001b[49m\u001b[43mfill_value\u001b[49m\u001b[43m)\u001b[49m\n\u001b[1;32m    165\u001b[0m \u001b[38;5;28;01mif\u001b[39;00m flip_order:\n\u001b[1;32m    166\u001b[0m     out \u001b[38;5;241m=\u001b[39m out\u001b[38;5;241m.\u001b[39mT\n",
      "File \u001b[0;32m~/opt/anaconda3/envs/sai_dc/lib/python3.12/site-packages/pandas/core/array_algos/take.py:370\u001b[0m, in \u001b[0;36m_view_wrapper.<locals>.wrapper\u001b[0;34m(arr, indexer, out, fill_value)\u001b[0m\n\u001b[1;32m    367\u001b[0m         fill_value \u001b[38;5;241m=\u001b[39m fill_value\u001b[38;5;241m.\u001b[39mastype(\u001b[38;5;124m\"\u001b[39m\u001b[38;5;124mM8[ns]\u001b[39m\u001b[38;5;124m\"\u001b[39m)\n\u001b[1;32m    368\u001b[0m     fill_value \u001b[38;5;241m=\u001b[39m fill_wrap(fill_value)\n\u001b[0;32m--> 370\u001b[0m \u001b[43mf\u001b[49m\u001b[43m(\u001b[49m\u001b[43marr\u001b[49m\u001b[43m,\u001b[49m\u001b[43m \u001b[49m\u001b[43mindexer\u001b[49m\u001b[43m,\u001b[49m\u001b[43m \u001b[49m\u001b[43mout\u001b[49m\u001b[43m,\u001b[49m\u001b[43m \u001b[49m\u001b[43mfill_value\u001b[49m\u001b[38;5;241;43m=\u001b[39;49m\u001b[43mfill_value\u001b[49m\u001b[43m)\u001b[49m\n",
      "\u001b[0;31mKeyboardInterrupt\u001b[0m: "
     ]
    }
   ],
   "source": [
    "np.percentile(meta[meta[\"captured_at\"] > 1363074956000][\"date\"], 50)"
   ]
  },
  {
   "cell_type": "code",
   "execution_count": null,
   "metadata": {},
   "outputs": [
    {
     "data": {
      "text/plain": [
       "<Axes: >"
      ]
     },
     "execution_count": 59,
     "metadata": {},
     "output_type": "execute_result"
    },
    {
     "data": {
      "image/png": "[encoded data removed]",
      "text/plain": [
       "<Figure size 640x480 with 1 Axes>"
      ]
     },
     "metadata": {},
     "output_type": "display_data"
    }
   ],
   "source": [
    "meta[meta[\"captured_at\"] > 1363074956000][\"date\"].hist()"
   ]
  },
  {
   "cell_type": "code",
   "execution_count": null,
   "metadata": {},
   "outputs": [
    {
     "data": {
      "text/plain": [
       "count                         51457123\n",
       "mean     2020-10-02 15:08:45.973085440\n",
       "min                1899-11-30 08:09:47\n",
       "25%         2019-06-23 11:53:59.476000\n",
       "50%                2021-03-15 08:50:17\n",
       "75%                2022-06-12 05:47:11\n",
       "max                2024-01-16 16:12:56\n",
       "Name: date, dtype: object"
      ]
     },
     "execution_count": 34,
     "metadata": {},
     "output_type": "execute_result"
    }
   ],
   "source": [
    "meta[\"date\"].describe()"
   ]
  },
  {
   "cell_type": "markdown",
   "metadata": {},
   "source": [
    "### OSM counts"
   ]
  },
  {
   "cell_type": "code",
   "execution_count": null,
   "metadata": {},
   "outputs": [],
   "source": [
    "osm_data = pd.read_csv('/Users/alexandra/Nextcloud-HTW/SHARED/SurfaceAI/data/OSM/osm_surface_tag_counts_germany.csv')"
   ]
  },
  {
   "cell_type": "code",
   "execution_count": null,
   "metadata": {},
   "outputs": [],
   "source": [
    "osm_sum = osm_data[\"ct\"].sum()\n",
    "\n",
    "osm_data[\"percentage\"] = osm_data[\"ct\"] / osm_sum * 100"
   ]
  },
  {
   "cell_type": "code",
   "execution_count": null,
   "metadata": {},
   "outputs": [
    {
     "data": {
      "text/html": [
       "<div>\n",
       "<style scoped>\n",
       "    .dataframe tbody tr th:only-of-type {\n",
       "        vertical-align: middle;\n",
       "    }\n",
       "\n",
       "    .dataframe tbody tr th {\n",
       "        vertical-align: top;\n",
       "    }\n",
       "\n",
       "    .dataframe thead th {\n",
       "        text-align: right;\n",
       "    }\n",
       "</style>\n",
       "<table border=\"1\" class=\"dataframe\">\n",
       "  <thead>\n",
       "    <tr style=\"text-align: right;\">\n",
       "      <th></th>\n",
       "      <th>ct</th>\n",
       "      <th>surface</th>\n",
       "      <th>percentage</th>\n",
       "    </tr>\n",
       "  </thead>\n",
       "  <tbody>\n",
       "    <tr>\n",
       "      <th>0</th>\n",
       "      <td>3320158</td>\n",
       "      <td>asphalt</td>\n",
       "      <td>46.877943</td>\n",
       "    </tr>\n",
       "    <tr>\n",
       "      <th>1</th>\n",
       "      <td>1064144</td>\n",
       "      <td>paving_stones</td>\n",
       "      <td>15.024852</td>\n",
       "    </tr>\n",
       "    <tr>\n",
       "      <th>2</th>\n",
       "      <td>433195</td>\n",
       "      <td>ground</td>\n",
       "      <td>6.116363</td>\n",
       "    </tr>\n",
       "    <tr>\n",
       "      <th>3</th>\n",
       "      <td>374243</td>\n",
       "      <td>gravel</td>\n",
       "      <td>5.284008</td>\n",
       "    </tr>\n",
       "    <tr>\n",
       "      <th>4</th>\n",
       "      <td>363550</td>\n",
       "      <td>grass</td>\n",
       "      <td>5.133032</td>\n",
       "    </tr>\n",
       "    <tr>\n",
       "      <th>5</th>\n",
       "      <td>328231</td>\n",
       "      <td>paved</td>\n",
       "      <td>4.634356</td>\n",
       "    </tr>\n",
       "    <tr>\n",
       "      <th>6</th>\n",
       "      <td>266713</td>\n",
       "      <td>compacted</td>\n",
       "      <td>3.765772</td>\n",
       "    </tr>\n",
       "    <tr>\n",
       "      <th>7</th>\n",
       "      <td>148819</td>\n",
       "      <td>concrete</td>\n",
       "      <td>2.101204</td>\n",
       "    </tr>\n",
       "    <tr>\n",
       "      <th>8</th>\n",
       "      <td>145985</td>\n",
       "      <td>dirt</td>\n",
       "      <td>2.061190</td>\n",
       "    </tr>\n",
       "    <tr>\n",
       "      <th>9</th>\n",
       "      <td>135753</td>\n",
       "      <td>sett</td>\n",
       "      <td>1.916722</td>\n",
       "    </tr>\n",
       "    <tr>\n",
       "      <th>10</th>\n",
       "      <td>131422</td>\n",
       "      <td>unpaved</td>\n",
       "      <td>1.855572</td>\n",
       "    </tr>\n",
       "    <tr>\n",
       "      <th>11</th>\n",
       "      <td>123998</td>\n",
       "      <td>fine_gravel</td>\n",
       "      <td>1.750751</td>\n",
       "    </tr>\n",
       "    <tr>\n",
       "      <th>12</th>\n",
       "      <td>55938</td>\n",
       "      <td>cobblestone</td>\n",
       "      <td>0.789799</td>\n",
       "    </tr>\n",
       "    <tr>\n",
       "      <th>13</th>\n",
       "      <td>41657</td>\n",
       "      <td>sand</td>\n",
       "      <td>0.588163</td>\n",
       "    </tr>\n",
       "    <tr>\n",
       "      <th>14</th>\n",
       "      <td>40180</td>\n",
       "      <td>pebblestone</td>\n",
       "      <td>0.567309</td>\n",
       "    </tr>\n",
       "    <tr>\n",
       "      <th>15</th>\n",
       "      <td>26647</td>\n",
       "      <td>wood</td>\n",
       "      <td>0.376234</td>\n",
       "    </tr>\n",
       "    <tr>\n",
       "      <th>16</th>\n",
       "      <td>21824</td>\n",
       "      <td>concrete:plates</td>\n",
       "      <td>0.308137</td>\n",
       "    </tr>\n",
       "    <tr>\n",
       "      <th>17</th>\n",
       "      <td>14258</td>\n",
       "      <td>earth</td>\n",
       "      <td>0.201311</td>\n",
       "    </tr>\n",
       "    <tr>\n",
       "      <th>18</th>\n",
       "      <td>11963</td>\n",
       "      <td>concrete:lanes</td>\n",
       "      <td>0.168908</td>\n",
       "    </tr>\n",
       "    <tr>\n",
       "      <th>19</th>\n",
       "      <td>9614</td>\n",
       "      <td>grass_paver</td>\n",
       "      <td>0.135742</td>\n",
       "    </tr>\n",
       "    <tr>\n",
       "      <th>20</th>\n",
       "      <td>8790</td>\n",
       "      <td>metal</td>\n",
       "      <td>0.124108</td>\n",
       "    </tr>\n",
       "    <tr>\n",
       "      <th>21</th>\n",
       "      <td>5952</td>\n",
       "      <td>unhewn_cobblestone</td>\n",
       "      <td>0.084037</td>\n",
       "    </tr>\n",
       "    <tr>\n",
       "      <th>22</th>\n",
       "      <td>3029</td>\n",
       "      <td>stone</td>\n",
       "      <td>0.042767</td>\n",
       "    </tr>\n",
       "    <tr>\n",
       "      <th>23</th>\n",
       "      <td>2775</td>\n",
       "      <td>mud</td>\n",
       "      <td>0.039181</td>\n",
       "    </tr>\n",
       "    <tr>\n",
       "      <th>24</th>\n",
       "      <td>2431</td>\n",
       "      <td>rock</td>\n",
       "      <td>0.034324</td>\n",
       "    </tr>\n",
       "    <tr>\n",
       "      <th>25</th>\n",
       "      <td>1290</td>\n",
       "      <td>woodchips</td>\n",
       "      <td>0.018214</td>\n",
       "    </tr>\n",
       "  </tbody>\n",
       "</table>\n",
       "</div>"
      ],
      "text/plain": [
       "         ct             surface  percentage\n",
       "0   3320158             asphalt   46.877943\n",
       "1   1064144       paving_stones   15.024852\n",
       "2    433195              ground    6.116363\n",
       "3    374243              gravel    5.284008\n",
       "4    363550               grass    5.133032\n",
       "5    328231               paved    4.634356\n",
       "6    266713           compacted    3.765772\n",
       "7    148819            concrete    2.101204\n",
       "8    145985                dirt    2.061190\n",
       "9    135753                sett    1.916722\n",
       "10   131422             unpaved    1.855572\n",
       "11   123998         fine_gravel    1.750751\n",
       "12    55938         cobblestone    0.789799\n",
       "13    41657                sand    0.588163\n",
       "14    40180         pebblestone    0.567309\n",
       "15    26647                wood    0.376234\n",
       "16    21824     concrete:plates    0.308137\n",
       "17    14258               earth    0.201311\n",
       "18    11963      concrete:lanes    0.168908\n",
       "19     9614         grass_paver    0.135742\n",
       "20     8790               metal    0.124108\n",
       "21     5952  unhewn_cobblestone    0.084037\n",
       "22     3029               stone    0.042767\n",
       "23     2775                 mud    0.039181\n",
       "24     2431                rock    0.034324\n",
       "25     1290           woodchips    0.018214"
      ]
     },
     "execution_count": 21,
     "metadata": {},
     "output_type": "execute_result"
    }
   ],
   "source": [
    "osm_data"
   ]
  },
  {
   "cell_type": "code",
   "execution_count": null,
   "metadata": {},
   "outputs": [],
   "source": [
    "osm_data[\"surface_clean\"] = osm_data[\"surface\"].replace(\n",
    "        [\n",
    "            \"compacted\",\n",
    "            \"gravel\",\n",
    "            \"ground\",\n",
    "            \"fine_gravel\",\n",
    "            \"dirt\",\n",
    "            \"grass\",\n",
    "            \"earth\",\n",
    "            \"sand\",\n",
    "        ],\n",
    "        \"unpaved\",\n",
    "    )\n",
    "\n",
    "osm_data[\"surface_clean\"] = osm_data[\"surface_clean\"].replace(\n",
    "        [\"cobblestone\", \"unhewn_cobblestone\"], \"sett\"\n",
    "    )"
   ]
  },
  {
   "cell_type": "code",
   "execution_count": null,
   "metadata": {},
   "outputs": [],
   "source": [
    "osm_data = pd.DataFrame(osm_data.groupby(\"surface_clean\")[\"ct\"].sum())\n",
    "osm_data[\"percentage\"] = osm_data[\"ct\"] / osm_sum * 100"
   ]
  },
  {
   "cell_type": "code",
   "execution_count": null,
   "metadata": {},
   "outputs": [
    {
     "data": {
      "text/html": [
       "<div>\n",
       "<style scoped>\n",
       "    .dataframe tbody tr th:only-of-type {\n",
       "        vertical-align: middle;\n",
       "    }\n",
       "\n",
       "    .dataframe tbody tr th {\n",
       "        vertical-align: top;\n",
       "    }\n",
       "\n",
       "    .dataframe thead th {\n",
       "        text-align: right;\n",
       "    }\n",
       "</style>\n",
       "<table border=\"1\" class=\"dataframe\">\n",
       "  <thead>\n",
       "    <tr style=\"text-align: right;\">\n",
       "      <th></th>\n",
       "      <th>ct</th>\n",
       "      <th>percentage</th>\n",
       "    </tr>\n",
       "    <tr>\n",
       "      <th>surface_clean</th>\n",
       "      <th></th>\n",
       "      <th></th>\n",
       "    </tr>\n",
       "  </thead>\n",
       "  <tbody>\n",
       "    <tr>\n",
       "      <th>woodchips</th>\n",
       "      <td>1290</td>\n",
       "      <td>0.018214</td>\n",
       "    </tr>\n",
       "    <tr>\n",
       "      <th>rock</th>\n",
       "      <td>2431</td>\n",
       "      <td>0.034324</td>\n",
       "    </tr>\n",
       "    <tr>\n",
       "      <th>mud</th>\n",
       "      <td>2775</td>\n",
       "      <td>0.039181</td>\n",
       "    </tr>\n",
       "    <tr>\n",
       "      <th>stone</th>\n",
       "      <td>3029</td>\n",
       "      <td>0.042767</td>\n",
       "    </tr>\n",
       "    <tr>\n",
       "      <th>metal</th>\n",
       "      <td>8790</td>\n",
       "      <td>0.124108</td>\n",
       "    </tr>\n",
       "    <tr>\n",
       "      <th>grass_paver</th>\n",
       "      <td>9614</td>\n",
       "      <td>0.135742</td>\n",
       "    </tr>\n",
       "    <tr>\n",
       "      <th>concrete:lanes</th>\n",
       "      <td>11963</td>\n",
       "      <td>0.168908</td>\n",
       "    </tr>\n",
       "    <tr>\n",
       "      <th>concrete:plates</th>\n",
       "      <td>21824</td>\n",
       "      <td>0.308137</td>\n",
       "    </tr>\n",
       "    <tr>\n",
       "      <th>wood</th>\n",
       "      <td>26647</td>\n",
       "      <td>0.376234</td>\n",
       "    </tr>\n",
       "    <tr>\n",
       "      <th>pebblestone</th>\n",
       "      <td>40180</td>\n",
       "      <td>0.567309</td>\n",
       "    </tr>\n",
       "    <tr>\n",
       "      <th>concrete</th>\n",
       "      <td>148819</td>\n",
       "      <td>2.101204</td>\n",
       "    </tr>\n",
       "    <tr>\n",
       "      <th>sett</th>\n",
       "      <td>197643</td>\n",
       "      <td>2.790559</td>\n",
       "    </tr>\n",
       "    <tr>\n",
       "      <th>paved</th>\n",
       "      <td>328231</td>\n",
       "      <td>4.634356</td>\n",
       "    </tr>\n",
       "    <tr>\n",
       "      <th>paving_stones</th>\n",
       "      <td>1064144</td>\n",
       "      <td>15.024852</td>\n",
       "    </tr>\n",
       "    <tr>\n",
       "      <th>unpaved</th>\n",
       "      <td>1895021</td>\n",
       "      <td>26.756163</td>\n",
       "    </tr>\n",
       "    <tr>\n",
       "      <th>asphalt</th>\n",
       "      <td>3320158</td>\n",
       "      <td>46.877943</td>\n",
       "    </tr>\n",
       "  </tbody>\n",
       "</table>\n",
       "</div>"
      ],
      "text/plain": [
       "                      ct  percentage\n",
       "surface_clean                       \n",
       "woodchips           1290    0.018214\n",
       "rock                2431    0.034324\n",
       "mud                 2775    0.039181\n",
       "stone               3029    0.042767\n",
       "metal               8790    0.124108\n",
       "grass_paver         9614    0.135742\n",
       "concrete:lanes     11963    0.168908\n",
       "concrete:plates    21824    0.308137\n",
       "wood               26647    0.376234\n",
       "pebblestone        40180    0.567309\n",
       "concrete          148819    2.101204\n",
       "sett              197643    2.790559\n",
       "paved             328231    4.634356\n",
       "paving_stones    1064144   15.024852\n",
       "unpaved          1895021   26.756163\n",
       "asphalt          3320158   46.877943"
      ]
     },
     "execution_count": 27,
     "metadata": {},
     "output_type": "execute_result"
    }
   ],
   "source": [
    "osm_data.sort_values(\"percentage\")"
   ]
  },
  {
   "cell_type": "code",
   "execution_count": null,
   "metadata": {},
   "outputs": [
    {
     "data": {
      "text/plain": [
       "ct                     191691\n",
       "surface       settcobblestone\n",
       "percentage           2.706522\n",
       "dtype: object"
      ]
     },
     "execution_count": 9,
     "metadata": {},
     "output_type": "execute_result"
    }
   ],
   "source": [
    "osm_data[osm_data[\"surface\"].isin([\"sett\", \"cobblestone\"])].sum()"
   ]
  },
  {
   "cell_type": "code",
   "execution_count": null,
   "metadata": {},
   "outputs": [
    {
     "data": {
      "text/plain": [
       "5279"
      ]
     },
     "execution_count": 4,
     "metadata": {},
     "output_type": "execute_result"
    }
   ],
   "source": [
    "# number considered of tiles\n",
    "df = pd.read_csv(\"/Users/alexandra/Documents/GitHub/dataset_creation/data/v5/train_tiles_selection.csv\", index_col=False)\n",
    "len(df)"
   ]
  },
  {
   "cell_type": "code",
   "execution_count": null,
   "metadata": {},
   "outputs": [
    {
     "data": {
      "text/plain": [
       "3996"
      ]
     },
     "execution_count": 5,
     "metadata": {},
     "output_type": "execute_result"
    }
   ],
   "source": [
    "df[\"tile_id\"] = [str(x) + \"_\" + str(y) for x, y in zip(df[\"x\"], df[\"y\"])]\n",
    "df.tile_id.nunique()"
   ]
  },
  {
   "cell_type": "code",
   "execution_count": null,
   "metadata": {},
   "outputs": [],
   "source": [
    "# number of images\n",
    "df = pd.read_csv(\"/Users/alexandra/Documents/GitHub/dataset_creation/data/v5/train_tiles_metadata.csv\", index_col=False)"
   ]
  },
  {
   "cell_type": "code",
   "execution_count": null,
   "metadata": {},
   "outputs": [
    {
     "data": {
      "text/plain": [
       "51457123"
      ]
     },
     "execution_count": 7,
     "metadata": {},
     "output_type": "execute_result"
    }
   ],
   "source": [
    "len(df)"
   ]
  },
  {
   "cell_type": "code",
   "execution_count": null,
   "metadata": {},
   "outputs": [
    {
     "data": {
      "text/plain": [
       "surface        smoothness  \n",
       "asphalt        bad              29\n",
       "               excellent       484\n",
       "               good            727\n",
       "               intermediate    220\n",
       "concrete       bad              46\n",
       "               excellent        63\n",
       "               good            240\n",
       "               intermediate    191\n",
       "paving_stones  bad               7\n",
       "               excellent        99\n",
       "               good            334\n",
       "               intermediate    108\n",
       "sett           bad             183\n",
       "               good             36\n",
       "               intermediate    275\n",
       "unpaved        bad             268\n",
       "               intermediate    247\n",
       "               very_bad        110\n",
       "dtype: int64"
      ]
     },
     "execution_count": 31,
     "metadata": {},
     "output_type": "execute_result"
    }
   ],
   "source": [
    "# annotations of batch 1\n",
    "df_V4 = pd.read_csv(\"/Users/alexandra/Nextcloud-HTW/SHARED/SurfaceAI/data/mapillary_images/training/V6/metadata/annotations_combined.csv\", index_col=False)\n",
    "df_V4.groupby([\"surface\", \"smoothness\"]).size()"
   ]
  },
  {
   "cell_type": "code",
   "execution_count": null,
   "metadata": {},
   "outputs": [
    {
     "data": {
      "text/plain": [
       "0.18621456364647027"
      ]
     },
     "execution_count": 18,
     "metadata": {},
     "output_type": "execute_result"
    }
   ],
   "source": [
    "sum(df_V4.nostreet.notna()) / len(df_V4)"
   ]
  },
  {
   "cell_type": "code",
   "execution_count": null,
   "metadata": {},
   "outputs": [
    {
     "data": {
      "text/plain": [
       "0.39542143600416235"
      ]
     },
     "execution_count": 27,
     "metadata": {},
     "output_type": "execute_result"
    }
   ],
   "source": [
    "# annotations of batch V5_c2\n",
    "df_V5c2 = pd.read_csv(\"/Users/alexandra/Nextcloud-HTW/SHARED/SurfaceAI/data/mapillary_images/training/V5_c2/metadata/annotations_combined.csv\", index_col=False)\n",
    "sum(df_V5c2.nostreet.notna()) / len(df_V5c2)"
   ]
  },
  {
   "cell_type": "code",
   "execution_count": 8,
   "metadata": {},
   "outputs": [
    {
     "name": "stderr",
     "output_type": "stream",
     "text": [
      "/var/folders/m7/jb7xk8h91p541g43zv2r8l740000gn/T/ipykernel_20036/80938205.py:2: DtypeWarning: Columns (9,10,11,12,13,14,15,16,17) have mixed types. Specify dtype option on import or set low_memory=False.\n",
      "  df_tag = pd.read_csv(\"/Users/alexandra/Documents/GitHub/dataset_creation/data/v5/img_metadata_with_tags.csv\", index_col=False)\n"
     ]
    }
   ],
   "source": [
    "# number of images with a tag\n",
    "df_tag = pd.read_csv(\"/Users/alexandra/Documents/GitHub/dataset_creation/data/v5/img_metadata_with_tags.csv\", index_col=False)"
   ]
  },
  {
   "cell_type": "code",
   "execution_count": 9,
   "metadata": {},
   "outputs": [
    {
     "data": {
      "text/plain": [
       "14246142"
      ]
     },
     "execution_count": 9,
     "metadata": {},
     "output_type": "execute_result"
    }
   ],
   "source": [
    "len(df_tag)"
   ]
  },
  {
   "cell_type": "code",
   "execution_count": null,
   "metadata": {},
   "outputs": [],
   "source": [
    "# V7\n",
    "ann1 = pd.read_csv(\"/Users/alexandra/Nextcloud-HTW/SHARED/SurfaceAI/data/mapillary_images/training/V5_c2/metadata/V5_c2_annotator1.csv\", index_col=False)\n",
    "ann2 = pd.read_csv(\"/Users/alexandra/Nextcloud-HTW/SHARED/SurfaceAI/data/mapillary_images/training/V5_c2/metadata/V5_c2_annotator2.csv\", index_col=False)\n",
    "\n",
    "df = pd.concat([ann1, ann2], ignore_index=True)\n",
    "df.loc[df.nostreet.notna(),\"surface\"] = \"nostreet\"\n",
    "df.loc[df.nostreet.notna(),\"smoothness\"] = \"nostreet\"\n",
    "df.groupby([\"surface\", \"smoothness\"]).size() "
   ]
  },
  {
   "cell_type": "markdown",
   "metadata": {},
   "source": [
    "## creator names"
   ]
  },
  {
   "cell_type": "code",
   "execution_count": 68,
   "metadata": {},
   "outputs": [
    {
     "name": "stdout",
     "output_type": "stream",
     "text": [
      "{\"id\":\"148771344320493\",\"creator\":{\"username\":\"macsico\",\"id\":\"108354611399818\"}}"
     ]
    },
    {
     "name": "stderr",
     "output_type": "stream",
     "text": [
      "python(80358) MallocStackLogging: can't turn off malloc stack logging because it was not enabled.\n"
     ]
    },
    {
     "name": "stdout",
     "output_type": "stream",
     "text": [
      "{\"id\":\"293245499014573\",\"creator\":{\"username\":\"zoegglmeyr\",\"id\":\"110552844504419\"}}"
     ]
    },
    {
     "name": "stderr",
     "output_type": "stream",
     "text": [
      "python(80359) MallocStackLogging: can't turn off malloc stack logging because it was not enabled.\n",
      "python(80360) MallocStackLogging: can't turn off malloc stack logging because it was not enabled.\n"
     ]
    },
    {
     "name": "stdout",
     "output_type": "stream",
     "text": [
      "{\"id\":\"133978728960378\",\"creator\":{\"username\":\"carlheinz\",\"id\":\"100232345559807\"}}"
     ]
    }
   ],
   "source": [
    "!curl 'https://graph.mapillary.com/148771344320493?access_token=MLY|5381465351976670|a4ac3be1ecdebf1885b0790b8efec369&fields=id,creator'\n",
    "!curl 'https://graph.mapillary.com/293245499014573?access_token=MLY|5381465351976670|a4ac3be1ecdebf1885b0790b8efec369&fields=id,creator'\n",
    "!curl 'https://graph.mapillary.com/133978728960378?access_token=MLY|5381465351976670|a4ac3be1ecdebf1885b0790b8efec369&fields=id,creator'\n",
    "!curl 'https://graph.mapillary.com/129178263353193?access_token=MLY|5381465351976670|a4ac3be1ecdebf1885b0790b8efec369&fields=id,creator'\n",
    "!curl 'https://graph.mapillary.com/291493615899057?access_token=MLY|5381465351976670|a4ac3be1ecdebf1885b0790b8efec369&fields=id,creator'\n",
    "!curl 'https://graph.mapillary.com/828495164980463?access_token=MLY|5381465351976670|a4ac3be1ecdebf1885b0790b8efec369&fields=id,creator'\n",
    "!curl 'https://graph.mapillary.com/137193541781677?access_token=MLY|5381465351976670|a4ac3be1ecdebf1885b0790b8efec369&fields=id,creator'\n",
    "!curl 'https://graph.mapillary.com/149787357161377?access_token=MLY|5381465351976670|a4ac3be1ecdebf1885b0790b8efec369&fields=id,creator'"
   ]
  },
  {
   "cell_type": "code",
   "execution_count": 74,
   "metadata": {},
   "outputs": [
    {
     "name": "stderr",
     "output_type": "stream",
     "text": [
      "python(82785) MallocStackLogging: can't turn off malloc stack logging because it was not enabled.\n"
     ]
    },
    {
     "name": "stdout",
     "output_type": "stream",
     "text": [
      "{\"id\":\"149787357161377\",\"creator\":{\"username\":\"rasmustravemnd\",\"id\":\"107765738126751\"}}"
     ]
    }
   ],
   "source": []
  },
  {
   "cell_type": "code",
   "execution_count": null,
   "metadata": {},
   "outputs": [
    {
     "data": {
      "text/plain": [
       "43222"
      ]
     },
     "metadata": {},
     "output_type": "display_data"
    }
   ],
   "source": [
    "len(meta[meta[\"captured_at\"] < 1394610956000])"
   ]
  },
  {
   "cell_type": "markdown",
   "metadata": {},
   "source": [
    "## Annotation ratio"
   ]
  },
  {
   "cell_type": "code",
   "execution_count": 13,
   "metadata": {},
   "outputs": [],
   "source": [
    "\n",
    "def clean_smoothness(metadata):\n",
    "    \"\"\"Clean smoothness column of metadata dataframe according to defined OSM smoothness values\n",
    "\n",
    "    Args:\n",
    "        metadata (df): dataframe with image metadata, including column \"smoothness\"\n",
    "\n",
    "    Returns:\n",
    "        df: dataframe with cleaned smoothness column \"smoothness_clean\"\n",
    "    \"\"\"\n",
    "    metadata[\"smoothness\"] = metadata.smoothness.str.strip()\n",
    "    metadata[\"smoothness_clean\"] = metadata[\"smoothness\"].replace(\n",
    "        [\n",
    "            \"horrible\",\n",
    "            \"very_horrible\",\n",
    "            \"impassable\",\n",
    "        ],\n",
    "        \"very bad\",\n",
    "    )\n",
    "\n",
    "    metadata[\"smoothness_clean\"] = metadata[\"smoothness_clean\"].replace(\n",
    "        [\"perfect\", \"very_good\"], \"excellent\"\n",
    "    )\n",
    "    return metadata\n",
    "\n",
    "\n",
    "def clean_surface(metadata):\n",
    "    \"\"\"Clean surface column of metadata dataframe according to defined OSM surface values\n",
    "\n",
    "    Args:\n",
    "        metadata (df): dataframe with image metadata, including column \"surface\"\n",
    "\n",
    "    Returns:\n",
    "        df: dataframe with cleaned surface column \"surface_clean\"\n",
    "    \"\"\"\n",
    "    metadata[\"surface\"] = metadata.surface.str.strip()\n",
    "    metadata[\"surface_clean\"] = metadata[\"surface\"].replace(\n",
    "        [\n",
    "            \"compacted\",\n",
    "            \"gravel\",\n",
    "            \"ground\",\n",
    "            \"fine_gravel\",\n",
    "            \"dirt\",\n",
    "            \"grass\",\n",
    "            \"earth\",\n",
    "            \"sand\",\n",
    "        ],\n",
    "        \"unpaved\",\n",
    "    )\n",
    "    metadata[\"surface_clean\"] = metadata[\"surface_clean\"].replace(\n",
    "        [\"cobblestone\", \"unhewn_cobblestone\"], \"sett\"\n",
    "    )\n",
    "    metadata[\"surface_clean\"] = metadata[\"surface_clean\"].replace(\n",
    "        [\"concrete:plates\", \"concrete:lanes\"], \"concrete\",\n",
    "    )\n",
    "    return metadata"
   ]
  },
  {
   "cell_type": "code",
   "execution_count": 14,
   "metadata": {},
   "outputs": [],
   "source": [
    "#annotations = pd.read_csv(\"/Users/alexandra/Nextcloud-HTW/SHARED/SurfaceAI/data/mapillary_images/training/V6/metadata/annotations_combined.csv\", index_col=False)\n",
    "annotations = pd.read_csv(\"/Users/alexandra/Nextcloud-HTW/SHARED/SurfaceAI/data/mapillary_images/training/v12/metadata/annotations_combined.csv\", index_col=False)"
   ]
  },
  {
   "cell_type": "code",
   "execution_count": 15,
   "metadata": {},
   "outputs": [],
   "source": [
    "metadata = pd.read_csv(\"/Users/alexandra/Documents/GitHub/dataset_creation/data/v5/train_image_selection_metadata.csv\", index_col=False)\n",
    "metadata2 = pd.read_csv(\"/Users/alexandra/Documents/GitHub/dataset_creation/data/v4/v4_train_image_selection_metadata.csv\", index_col=False)\n",
    "metadata_full = pd.concat([metadata, metadata2], ignore_index=True)"
   ]
  },
  {
   "cell_type": "code",
   "execution_count": 16,
   "metadata": {},
   "outputs": [],
   "source": [
    "metadata = metadata_full[metadata_full.id.isin(annotations.image_id)]"
   ]
  },
  {
   "cell_type": "code",
   "execution_count": 17,
   "metadata": {},
   "outputs": [],
   "source": [
    "grouping_level = [\"surface\", \"smoothness\"]\n",
    "grouping_level_ = [\"surface_clean\", \"smoothness_clean\"]"
   ]
  },
  {
   "cell_type": "code",
   "execution_count": 18,
   "metadata": {},
   "outputs": [],
   "source": [
    "#original_class_counts = pd.read_csv(\"/Users/alexandra/Documents/GitHub/dataset_creation/data/v5/original_class_counts.csv\", index_col=False)\n",
    "#remaining_class_counts = pd.read_csv(\"/Users/alexandra/Documents/GitHub/dataset_creation/data/v5/remaining_classes_after_V8.csv\", index_col=False)\n",
    "\n",
    "annotated_class_counts = pd.DataFrame(annotations.groupby(grouping_level).size())"
   ]
  },
  {
   "cell_type": "code",
   "execution_count": 19,
   "metadata": {},
   "outputs": [],
   "source": [
    "df = annotations[[\"image_id\", \"surface\", \"smoothness\"]].set_index(\"image_id\").join(metadata[[\"id\", \"surface_clean\", \"smoothness_clean\"]].set_index(\"id\"), how=\"inner\", rsuffix='_osm')"
   ]
  },
  {
   "cell_type": "code",
   "execution_count": 20,
   "metadata": {},
   "outputs": [],
   "source": [
    "incorrect_surface = df[df.surface != df.surface_clean]\n",
    "incorrect_surface = pd.DataFrame(incorrect_surface.groupby(grouping_level_).size())"
   ]
  },
  {
   "cell_type": "code",
   "execution_count": 21,
   "metadata": {},
   "outputs": [],
   "source": [
    "if grouping_level == [\"surface\"]:\n",
    "    label_as_osm = pd.DataFrame(df[(df.surface == df.surface_clean)].groupby(grouping_level).size())\n",
    "else:\n",
    "    label_as_osm = pd.DataFrame(df[(df.surface == df.surface_clean) & (df.smoothness == df.smoothness_clean)].groupby(grouping_level).size())"
   ]
  },
  {
   "cell_type": "code",
   "execution_count": 22,
   "metadata": {},
   "outputs": [],
   "source": [
    "original_class_counts = pd.DataFrame(metadata_full.groupby(grouping_level_).size())"
   ]
  },
  {
   "cell_type": "code",
   "execution_count": 23,
   "metadata": {},
   "outputs": [],
   "source": [
    "remaining_class_counts = pd.read_csv(\"/Users/alexandra/Documents/GitHub/dataset_creation/data/v5/remaining_classes_after_V12.csv\", index_col=False)"
   ]
  },
  {
   "cell_type": "code",
   "execution_count": 24,
   "metadata": {},
   "outputs": [],
   "source": [
    "remaining_class_counts = remaining_class_counts.groupby(grouping_level_).sum()"
   ]
  },
  {
   "cell_type": "code",
   "execution_count": 25,
   "metadata": {},
   "outputs": [],
   "source": [
    "annotated_class_counts.columns=[\"ds_counts\"]\n",
    "original_class_counts.columns=[\"orig_counts\"]\n",
    "label_as_osm.columns=[\"label_as_osm\"]\n",
    "incorrect_surface.columns=[\"incorrect_surface\"]"
   ]
  },
  {
   "cell_type": "code",
   "execution_count": 26,
   "metadata": {},
   "outputs": [],
   "source": [
    "osm_tag_counts = pd.read_csv(\"/Users/alexandra/Nextcloud-HTW/SHARED/SurfaceAI/data/OSM/osm_tag_counts_germany.csv\")"
   ]
  },
  {
   "cell_type": "code",
   "execution_count": 27,
   "metadata": {},
   "outputs": [],
   "source": [
    "osm_tag_counts.surface = osm_tag_counts.surface.str.strip()\n",
    "osm_tag_counts.smoothness = osm_tag_counts.smoothness.str.strip()"
   ]
  },
  {
   "cell_type": "code",
   "execution_count": 28,
   "metadata": {},
   "outputs": [],
   "source": [
    "osm_tag_counts = clean_surface(osm_tag_counts)\n",
    "osm_tag_counts = clean_smoothness(osm_tag_counts)"
   ]
  },
  {
   "cell_type": "code",
   "execution_count": 29,
   "metadata": {},
   "outputs": [],
   "source": [
    "if grouping_level == [\"surface\"]:\n",
    "    drop_col = [\"surface\", \"smoothness\", \"smoothness_clean\"]\n",
    "else:\n",
    "    drop_col = [\"surface\", \"smoothness\"]\n",
    "\n",
    "osm_tag_counts = osm_tag_counts.drop(drop_col, axis=1).groupby(grouping_level_).sum()"
   ]
  },
  {
   "cell_type": "code",
   "execution_count": 30,
   "metadata": {},
   "outputs": [],
   "source": [
    "osm_tag_counts[\"OSM_share\"] = round(osm_tag_counts.ct / sum(osm_tag_counts.ct)* 100, 2)"
   ]
  },
  {
   "cell_type": "code",
   "execution_count": 176,
   "metadata": {},
   "outputs": [],
   "source": [
    "cts = (original_class_counts\n",
    " .join(remaining_class_counts, on=grouping_level_, how=\"left\")\n",
    " .join(annotated_class_counts, on=grouping_level_, how=\"left\")\n",
    " .join(incorrect_surface, on=grouping_level_, how=\"left\")\n",
    " .join(label_as_osm, on=grouping_level_, how=\"left\")\n",
    " .join(osm_tag_counts, how=\"left\")\n",
    " .fillna(0)\n",
    ")"
   ]
  },
  {
   "cell_type": "code",
   "execution_count": 177,
   "metadata": {},
   "outputs": [],
   "source": [
    "cts[\"annotated_counts\"] = cts.orig_counts - cts.remaining_counts\n",
    "cts[\"annotated_counts_only_correct_surface\"] = cts.annotated_counts - cts.incorrect_surface\n",
    "cts[\"annotation_ratio\"] = (cts.ds_counts / cts.annotated_counts).round(3) * 100\n",
    "cts[\"correct_OSM/ds_counts\"] = round(cts.label_as_osm / cts.ds_counts * 100)\n",
    "cts[\"correct_OSM/annotation_counts\"] = round(cts.label_as_osm / cts.annotated_counts * 100, 2)\n",
    "cts[\"correct_OSM/annotation_counts_only_correct_surface\"] = round(cts.label_as_osm / cts.annotated_counts_only_correct_surface * 100, 2)\n",
    "cts[\"times_better\"] = round(cts[\"correct_OSM/annotation_counts\"] / cts.OSM_share, 2)\n",
    "cts[\"times_better_correct_surface\"] = round(cts[\"correct_OSM/annotation_counts_only_correct_surface\"] / cts.OSM_share, 2)"
   ]
  },
  {
   "cell_type": "code",
   "execution_count": 178,
   "metadata": {},
   "outputs": [],
   "source": [
    "avg = pd.DataFrame([cts.mean().round(2), cts.median().round(2)])\n",
    "avg[\"surface_clean\"] = [\"x_average\", \"x_median\"]\n",
    "avg[\"smoothness_clean\"] = [\"x_average\", \"x_median\"]\n",
    "avg.set_index([\"surface_clean\", \"smoothness_clean\"], inplace = True)"
   ]
  },
  {
   "cell_type": "code",
   "execution_count": 179,
   "metadata": {},
   "outputs": [],
   "source": [
    "cts = pd.concat([cts, avg])"
   ]
  },
  {
   "cell_type": "code",
   "execution_count": 186,
   "metadata": {},
   "outputs": [
    {
     "data": {
      "text/plain": [
       "Index(['orig_counts', 'remaining_counts', 'ds_counts', 'incorrect_surface',\n",
       "       'label_as_osm', 'ct', 'OSM_share', 'annotated_counts',\n",
       "       'annotated_counts_only_correct_surface', 'annotation_ratio',\n",
       "       'correct_OSM/ds_counts', 'correct_OSM/annotation_counts',\n",
       "       'correct_OSM/annotation_counts_only_correct_surface', 'times_better',\n",
       "       'times_better_correct_surface'],\n",
       "      dtype='object')"
      ]
     },
     "execution_count": 186,
     "metadata": {},
     "output_type": "execute_result"
    }
   ],
   "source": [
    "cts.columns"
   ]
  },
  {
   "cell_type": "code",
   "execution_count": 181,
   "metadata": {},
   "outputs": [
    {
     "data": {
      "text/html": [
       "<div>\n",
       "<style scoped>\n",
       "    .dataframe tbody tr th:only-of-type {\n",
       "        vertical-align: middle;\n",
       "    }\n",
       "\n",
       "    .dataframe tbody tr th {\n",
       "        vertical-align: top;\n",
       "    }\n",
       "\n",
       "    .dataframe thead th {\n",
       "        text-align: right;\n",
       "    }\n",
       "</style>\n",
       "<table border=\"1\" class=\"dataframe\">\n",
       "  <thead>\n",
       "    <tr style=\"text-align: right;\">\n",
       "      <th></th>\n",
       "      <th></th>\n",
       "      <th>OSM_share</th>\n",
       "      <th>correct_OSM/annotation_counts</th>\n",
       "      <th>correct_OSM/annotation_counts_only_correct_surface</th>\n",
       "      <th>times_better</th>\n",
       "      <th>times_better_correct_surface</th>\n",
       "    </tr>\n",
       "    <tr>\n",
       "      <th>surface_clean</th>\n",
       "      <th>smoothness_clean</th>\n",
       "      <th></th>\n",
       "      <th></th>\n",
       "      <th></th>\n",
       "      <th></th>\n",
       "      <th></th>\n",
       "    </tr>\n",
       "  </thead>\n",
       "  <tbody>\n",
       "    <tr>\n",
       "      <th rowspan=\"4\" valign=\"top\">asphalt</th>\n",
       "      <th>bad</th>\n",
       "      <td>0.69</td>\n",
       "      <td>6.16</td>\n",
       "      <td>8.00</td>\n",
       "      <td>8.93</td>\n",
       "      <td>11.59</td>\n",
       "    </tr>\n",
       "    <tr>\n",
       "      <th>excellent</th>\n",
       "      <td>20.31</td>\n",
       "      <td>41.29</td>\n",
       "      <td>47.94</td>\n",
       "      <td>2.03</td>\n",
       "      <td>2.36</td>\n",
       "    </tr>\n",
       "    <tr>\n",
       "      <th>good</th>\n",
       "      <td>29.29</td>\n",
       "      <td>42.58</td>\n",
       "      <td>51.16</td>\n",
       "      <td>1.45</td>\n",
       "      <td>1.75</td>\n",
       "    </tr>\n",
       "    <tr>\n",
       "      <th>intermediate</th>\n",
       "      <td>4.05</td>\n",
       "      <td>15.40</td>\n",
       "      <td>22.08</td>\n",
       "      <td>3.80</td>\n",
       "      <td>5.45</td>\n",
       "    </tr>\n",
       "    <tr>\n",
       "      <th rowspan=\"4\" valign=\"top\">concrete</th>\n",
       "      <th>bad</th>\n",
       "      <td>0.23</td>\n",
       "      <td>6.38</td>\n",
       "      <td>7.69</td>\n",
       "      <td>27.74</td>\n",
       "      <td>33.43</td>\n",
       "    </tr>\n",
       "    <tr>\n",
       "      <th>excellent</th>\n",
       "      <td>0.37</td>\n",
       "      <td>18.93</td>\n",
       "      <td>35.51</td>\n",
       "      <td>51.16</td>\n",
       "      <td>95.97</td>\n",
       "    </tr>\n",
       "    <tr>\n",
       "      <th>good</th>\n",
       "      <td>0.94</td>\n",
       "      <td>18.15</td>\n",
       "      <td>22.44</td>\n",
       "      <td>19.31</td>\n",
       "      <td>23.87</td>\n",
       "    </tr>\n",
       "    <tr>\n",
       "      <th>intermediate</th>\n",
       "      <td>0.79</td>\n",
       "      <td>20.59</td>\n",
       "      <td>29.01</td>\n",
       "      <td>26.06</td>\n",
       "      <td>36.72</td>\n",
       "    </tr>\n",
       "    <tr>\n",
       "      <th rowspan=\"4\" valign=\"top\">paving_stones</th>\n",
       "      <th>bad</th>\n",
       "      <td>0.22</td>\n",
       "      <td>1.41</td>\n",
       "      <td>1.66</td>\n",
       "      <td>6.41</td>\n",
       "      <td>7.55</td>\n",
       "    </tr>\n",
       "    <tr>\n",
       "      <th>excellent</th>\n",
       "      <td>2.98</td>\n",
       "      <td>11.30</td>\n",
       "      <td>13.69</td>\n",
       "      <td>3.79</td>\n",
       "      <td>4.59</td>\n",
       "    </tr>\n",
       "    <tr>\n",
       "      <th>good</th>\n",
       "      <td>10.62</td>\n",
       "      <td>22.19</td>\n",
       "      <td>27.06</td>\n",
       "      <td>2.09</td>\n",
       "      <td>2.55</td>\n",
       "    </tr>\n",
       "    <tr>\n",
       "      <th>intermediate</th>\n",
       "      <td>1.94</td>\n",
       "      <td>3.75</td>\n",
       "      <td>4.60</td>\n",
       "      <td>1.93</td>\n",
       "      <td>2.37</td>\n",
       "    </tr>\n",
       "    <tr>\n",
       "      <th rowspan=\"3\" valign=\"top\">sett</th>\n",
       "      <th>bad</th>\n",
       "      <td>1.26</td>\n",
       "      <td>18.09</td>\n",
       "      <td>19.64</td>\n",
       "      <td>14.36</td>\n",
       "      <td>15.59</td>\n",
       "    </tr>\n",
       "    <tr>\n",
       "      <th>good</th>\n",
       "      <td>0.55</td>\n",
       "      <td>3.85</td>\n",
       "      <td>4.23</td>\n",
       "      <td>7.00</td>\n",
       "      <td>7.69</td>\n",
       "    </tr>\n",
       "    <tr>\n",
       "      <th>intermediate</th>\n",
       "      <td>1.97</td>\n",
       "      <td>25.24</td>\n",
       "      <td>31.60</td>\n",
       "      <td>12.81</td>\n",
       "      <td>16.04</td>\n",
       "    </tr>\n",
       "    <tr>\n",
       "      <th rowspan=\"3\" valign=\"top\">unpaved</th>\n",
       "      <th>bad</th>\n",
       "      <td>7.68</td>\n",
       "      <td>25.76</td>\n",
       "      <td>34.57</td>\n",
       "      <td>3.35</td>\n",
       "      <td>4.50</td>\n",
       "    </tr>\n",
       "    <tr>\n",
       "      <th>intermediate</th>\n",
       "      <td>5.76</td>\n",
       "      <td>33.33</td>\n",
       "      <td>41.38</td>\n",
       "      <td>5.79</td>\n",
       "      <td>7.18</td>\n",
       "    </tr>\n",
       "    <tr>\n",
       "      <th>very_bad</th>\n",
       "      <td>3.88</td>\n",
       "      <td>17.29</td>\n",
       "      <td>23.09</td>\n",
       "      <td>4.46</td>\n",
       "      <td>5.95</td>\n",
       "    </tr>\n",
       "    <tr>\n",
       "      <th>x_average</th>\n",
       "      <th>x_average</th>\n",
       "      <td>5.20</td>\n",
       "      <td>18.43</td>\n",
       "      <td>23.63</td>\n",
       "      <td>11.25</td>\n",
       "      <td>15.84</td>\n",
       "    </tr>\n",
       "    <tr>\n",
       "      <th>x_median</th>\n",
       "      <th>x_median</th>\n",
       "      <td>1.96</td>\n",
       "      <td>18.12</td>\n",
       "      <td>22.76</td>\n",
       "      <td>6.10</td>\n",
       "      <td>7.36</td>\n",
       "    </tr>\n",
       "  </tbody>\n",
       "</table>\n",
       "</div>"
      ],
      "text/plain": [
       "                                OSM_share  correct_OSM/annotation_counts  \\\n",
       "surface_clean smoothness_clean                                             \n",
       "asphalt       bad                    0.69                           6.16   \n",
       "              excellent             20.31                          41.29   \n",
       "              good                  29.29                          42.58   \n",
       "              intermediate           4.05                          15.40   \n",
       "concrete      bad                    0.23                           6.38   \n",
       "              excellent              0.37                          18.93   \n",
       "              good                   0.94                          18.15   \n",
       "              intermediate           0.79                          20.59   \n",
       "paving_stones bad                    0.22                           1.41   \n",
       "              excellent              2.98                          11.30   \n",
       "              good                  10.62                          22.19   \n",
       "              intermediate           1.94                           3.75   \n",
       "sett          bad                    1.26                          18.09   \n",
       "              good                   0.55                           3.85   \n",
       "              intermediate           1.97                          25.24   \n",
       "unpaved       bad                    7.68                          25.76   \n",
       "              intermediate           5.76                          33.33   \n",
       "              very_bad               3.88                          17.29   \n",
       "x_average     x_average              5.20                          18.43   \n",
       "x_median      x_median               1.96                          18.12   \n",
       "\n",
       "                                correct_OSM/annotation_counts_only_correct_surface  \\\n",
       "surface_clean smoothness_clean                                                       \n",
       "asphalt       bad                                                            8.00    \n",
       "              excellent                                                     47.94    \n",
       "              good                                                          51.16    \n",
       "              intermediate                                                  22.08    \n",
       "concrete      bad                                                            7.69    \n",
       "              excellent                                                     35.51    \n",
       "              good                                                          22.44    \n",
       "              intermediate                                                  29.01    \n",
       "paving_stones bad                                                            1.66    \n",
       "              excellent                                                     13.69    \n",
       "              good                                                          27.06    \n",
       "              intermediate                                                   4.60    \n",
       "sett          bad                                                           19.64    \n",
       "              good                                                           4.23    \n",
       "              intermediate                                                  31.60    \n",
       "unpaved       bad                                                           34.57    \n",
       "              intermediate                                                  41.38    \n",
       "              very_bad                                                      23.09    \n",
       "x_average     x_average                                                     23.63    \n",
       "x_median      x_median                                                      22.76    \n",
       "\n",
       "                                times_better  times_better_correct_surface  \n",
       "surface_clean smoothness_clean                                              \n",
       "asphalt       bad                       8.93                         11.59  \n",
       "              excellent                 2.03                          2.36  \n",
       "              good                      1.45                          1.75  \n",
       "              intermediate              3.80                          5.45  \n",
       "concrete      bad                      27.74                         33.43  \n",
       "              excellent                51.16                         95.97  \n",
       "              good                     19.31                         23.87  \n",
       "              intermediate             26.06                         36.72  \n",
       "paving_stones bad                       6.41                          7.55  \n",
       "              excellent                 3.79                          4.59  \n",
       "              good                      2.09                          2.55  \n",
       "              intermediate              1.93                          2.37  \n",
       "sett          bad                      14.36                         15.59  \n",
       "              good                      7.00                          7.69  \n",
       "              intermediate             12.81                         16.04  \n",
       "unpaved       bad                       3.35                          4.50  \n",
       "              intermediate              5.79                          7.18  \n",
       "              very_bad                  4.46                          5.95  \n",
       "x_average     x_average                11.25                         15.84  \n",
       "x_median      x_median                  6.10                          7.36  "
      ]
     },
     "execution_count": 181,
     "metadata": {},
     "output_type": "execute_result"
    }
   ],
   "source": [
    "cts[[\"OSM_share\", \"correct_OSM/annotation_counts\", \"correct_OSM/annotation_counts_only_correct_surface\", \"times_better\", \"times_better_correct_surface\"]]"
   ]
  },
  {
   "cell_type": "code",
   "execution_count": 182,
   "metadata": {},
   "outputs": [],
   "source": [
    "smoothness_mapping = {\"excellent\": 1, \"good\": 2, \"intermediate\": 3, \"bad\": 4, \"very bad\": 5}"
   ]
  },
  {
   "cell_type": "code",
   "execution_count": 185,
   "metadata": {},
   "outputs": [
    {
     "data": {
      "text/html": [
       "<div>\n",
       "<style scoped>\n",
       "    .dataframe tbody tr th:only-of-type {\n",
       "        vertical-align: middle;\n",
       "    }\n",
       "\n",
       "    .dataframe tbody tr th {\n",
       "        vertical-align: top;\n",
       "    }\n",
       "\n",
       "    .dataframe thead th {\n",
       "        text-align: right;\n",
       "    }\n",
       "</style>\n",
       "<table border=\"1\" class=\"dataframe\">\n",
       "  <thead>\n",
       "    <tr style=\"text-align: right;\">\n",
       "      <th></th>\n",
       "      <th>surface_clean</th>\n",
       "      <th>smoothness_clean</th>\n",
       "      <th>orig_counts</th>\n",
       "      <th>remaining_counts</th>\n",
       "      <th>ds_counts</th>\n",
       "      <th>incorrect_surface</th>\n",
       "      <th>label_as_osm</th>\n",
       "      <th>ct</th>\n",
       "      <th>OSM_share</th>\n",
       "      <th>annotated_counts</th>\n",
       "      <th>annotated_counts_only_correct_surface</th>\n",
       "      <th>annotation_ratio</th>\n",
       "      <th>correct_OSM/ds_counts</th>\n",
       "      <th>correct_OSM/annotation_counts</th>\n",
       "      <th>correct_OSM/annotation_counts_only_correct_surface</th>\n",
       "      <th>times_better</th>\n",
       "      <th>times_better_correct_surface</th>\n",
       "    </tr>\n",
       "  </thead>\n",
       "  <tbody>\n",
       "    <tr>\n",
       "      <th>0</th>\n",
       "      <td>asphalt</td>\n",
       "      <td>bad</td>\n",
       "      <td>1348.00</td>\n",
       "      <td>0.00</td>\n",
       "      <td>123.00</td>\n",
       "      <td>310.00</td>\n",
       "      <td>83.00</td>\n",
       "      <td>7505.00</td>\n",
       "      <td>0.69</td>\n",
       "      <td>1348.0</td>\n",
       "      <td>1038.00</td>\n",
       "      <td>9.10</td>\n",
       "      <td>67.00</td>\n",
       "      <td>6.16</td>\n",
       "      <td>8.00</td>\n",
       "      <td>8.93</td>\n",
       "      <td>11.59</td>\n",
       "    </tr>\n",
       "    <tr>\n",
       "      <th>1</th>\n",
       "      <td>asphalt</td>\n",
       "      <td>excellent</td>\n",
       "      <td>2000.00</td>\n",
       "      <td>1690.00</td>\n",
       "      <td>783.00</td>\n",
       "      <td>43.00</td>\n",
       "      <td>128.00</td>\n",
       "      <td>219803.00</td>\n",
       "      <td>20.31</td>\n",
       "      <td>310.0</td>\n",
       "      <td>267.00</td>\n",
       "      <td>252.60</td>\n",
       "      <td>16.00</td>\n",
       "      <td>41.29</td>\n",
       "      <td>47.94</td>\n",
       "      <td>2.03</td>\n",
       "      <td>2.36</td>\n",
       "    </tr>\n",
       "    <tr>\n",
       "      <th>2</th>\n",
       "      <td>asphalt</td>\n",
       "      <td>good</td>\n",
       "      <td>2000.00</td>\n",
       "      <td>1690.00</td>\n",
       "      <td>1334.00</td>\n",
       "      <td>52.00</td>\n",
       "      <td>132.00</td>\n",
       "      <td>316996.00</td>\n",
       "      <td>29.29</td>\n",
       "      <td>310.0</td>\n",
       "      <td>258.00</td>\n",
       "      <td>430.30</td>\n",
       "      <td>10.00</td>\n",
       "      <td>42.58</td>\n",
       "      <td>51.16</td>\n",
       "      <td>1.45</td>\n",
       "      <td>1.75</td>\n",
       "    </tr>\n",
       "    <tr>\n",
       "      <th>3</th>\n",
       "      <td>asphalt</td>\n",
       "      <td>intermediate</td>\n",
       "      <td>2000.00</td>\n",
       "      <td>0.00</td>\n",
       "      <td>623.00</td>\n",
       "      <td>605.00</td>\n",
       "      <td>308.00</td>\n",
       "      <td>43824.00</td>\n",
       "      <td>4.05</td>\n",
       "      <td>2000.0</td>\n",
       "      <td>1395.00</td>\n",
       "      <td>31.20</td>\n",
       "      <td>49.00</td>\n",
       "      <td>15.40</td>\n",
       "      <td>22.08</td>\n",
       "      <td>3.80</td>\n",
       "      <td>5.45</td>\n",
       "    </tr>\n",
       "    <tr>\n",
       "      <th>8</th>\n",
       "      <td>paving_stones</td>\n",
       "      <td>bad</td>\n",
       "      <td>569.00</td>\n",
       "      <td>0.00</td>\n",
       "      <td>31.00</td>\n",
       "      <td>86.00</td>\n",
       "      <td>8.00</td>\n",
       "      <td>2340.00</td>\n",
       "      <td>0.22</td>\n",
       "      <td>569.0</td>\n",
       "      <td>483.00</td>\n",
       "      <td>5.40</td>\n",
       "      <td>26.00</td>\n",
       "      <td>1.41</td>\n",
       "      <td>1.66</td>\n",
       "      <td>6.41</td>\n",
       "      <td>7.55</td>\n",
       "    </tr>\n",
       "    <tr>\n",
       "      <th>9</th>\n",
       "      <td>paving_stones</td>\n",
       "      <td>excellent</td>\n",
       "      <td>2000.00</td>\n",
       "      <td>0.00</td>\n",
       "      <td>342.00</td>\n",
       "      <td>349.00</td>\n",
       "      <td>226.00</td>\n",
       "      <td>32197.00</td>\n",
       "      <td>2.98</td>\n",
       "      <td>2000.0</td>\n",
       "      <td>1651.00</td>\n",
       "      <td>17.10</td>\n",
       "      <td>66.00</td>\n",
       "      <td>11.30</td>\n",
       "      <td>13.69</td>\n",
       "      <td>3.79</td>\n",
       "      <td>4.59</td>\n",
       "    </tr>\n",
       "    <tr>\n",
       "      <th>10</th>\n",
       "      <td>paving_stones</td>\n",
       "      <td>good</td>\n",
       "      <td>2000.00</td>\n",
       "      <td>1689.00</td>\n",
       "      <td>693.00</td>\n",
       "      <td>56.00</td>\n",
       "      <td>69.00</td>\n",
       "      <td>114971.00</td>\n",
       "      <td>10.62</td>\n",
       "      <td>311.0</td>\n",
       "      <td>255.00</td>\n",
       "      <td>222.80</td>\n",
       "      <td>10.00</td>\n",
       "      <td>22.19</td>\n",
       "      <td>27.06</td>\n",
       "      <td>2.09</td>\n",
       "      <td>2.55</td>\n",
       "    </tr>\n",
       "    <tr>\n",
       "      <th>11</th>\n",
       "      <td>paving_stones</td>\n",
       "      <td>intermediate</td>\n",
       "      <td>2000.00</td>\n",
       "      <td>0.00</td>\n",
       "      <td>197.00</td>\n",
       "      <td>368.00</td>\n",
       "      <td>75.00</td>\n",
       "      <td>20957.00</td>\n",
       "      <td>1.94</td>\n",
       "      <td>2000.0</td>\n",
       "      <td>1632.00</td>\n",
       "      <td>9.80</td>\n",
       "      <td>38.00</td>\n",
       "      <td>3.75</td>\n",
       "      <td>4.60</td>\n",
       "      <td>1.93</td>\n",
       "      <td>2.37</td>\n",
       "    </tr>\n",
       "    <tr>\n",
       "      <th>18</th>\n",
       "      <td>x_average</td>\n",
       "      <td>x_average</td>\n",
       "      <td>1542.61</td>\n",
       "      <td>682.11</td>\n",
       "      <td>390.72</td>\n",
       "      <td>174.28</td>\n",
       "      <td>119.78</td>\n",
       "      <td>56224.94</td>\n",
       "      <td>5.20</td>\n",
       "      <td>860.5</td>\n",
       "      <td>686.22</td>\n",
       "      <td>90.37</td>\n",
       "      <td>39.61</td>\n",
       "      <td>18.43</td>\n",
       "      <td>23.63</td>\n",
       "      <td>11.25</td>\n",
       "      <td>15.84</td>\n",
       "    </tr>\n",
       "    <tr>\n",
       "      <th>19</th>\n",
       "      <td>x_median</td>\n",
       "      <td>x_median</td>\n",
       "      <td>1975.50</td>\n",
       "      <td>271.00</td>\n",
       "      <td>320.50</td>\n",
       "      <td>96.50</td>\n",
       "      <td>99.00</td>\n",
       "      <td>21155.50</td>\n",
       "      <td>1.96</td>\n",
       "      <td>539.5</td>\n",
       "      <td>395.00</td>\n",
       "      <td>28.90</td>\n",
       "      <td>38.50</td>\n",
       "      <td>18.12</td>\n",
       "      <td>22.76</td>\n",
       "      <td>6.10</td>\n",
       "      <td>7.36</td>\n",
       "    </tr>\n",
       "  </tbody>\n",
       "</table>\n",
       "</div>"
      ],
      "text/plain": [
       "    surface_clean smoothness_clean  orig_counts  remaining_counts  ds_counts  \\\n",
       "0         asphalt              bad      1348.00              0.00     123.00   \n",
       "1         asphalt        excellent      2000.00           1690.00     783.00   \n",
       "2         asphalt             good      2000.00           1690.00    1334.00   \n",
       "3         asphalt     intermediate      2000.00              0.00     623.00   \n",
       "8   paving_stones              bad       569.00              0.00      31.00   \n",
       "9   paving_stones        excellent      2000.00              0.00     342.00   \n",
       "10  paving_stones             good      2000.00           1689.00     693.00   \n",
       "11  paving_stones     intermediate      2000.00              0.00     197.00   \n",
       "18      x_average        x_average      1542.61            682.11     390.72   \n",
       "19       x_median         x_median      1975.50            271.00     320.50   \n",
       "\n",
       "    incorrect_surface  label_as_osm         ct  OSM_share  annotated_counts  \\\n",
       "0              310.00         83.00    7505.00       0.69            1348.0   \n",
       "1               43.00        128.00  219803.00      20.31             310.0   \n",
       "2               52.00        132.00  316996.00      29.29             310.0   \n",
       "3              605.00        308.00   43824.00       4.05            2000.0   \n",
       "8               86.00          8.00    2340.00       0.22             569.0   \n",
       "9              349.00        226.00   32197.00       2.98            2000.0   \n",
       "10              56.00         69.00  114971.00      10.62             311.0   \n",
       "11             368.00         75.00   20957.00       1.94            2000.0   \n",
       "18             174.28        119.78   56224.94       5.20             860.5   \n",
       "19              96.50         99.00   21155.50       1.96             539.5   \n",
       "\n",
       "    annotated_counts_only_correct_surface  annotation_ratio  \\\n",
       "0                                 1038.00              9.10   \n",
       "1                                  267.00            252.60   \n",
       "2                                  258.00            430.30   \n",
       "3                                 1395.00             31.20   \n",
       "8                                  483.00              5.40   \n",
       "9                                 1651.00             17.10   \n",
       "10                                 255.00            222.80   \n",
       "11                                1632.00              9.80   \n",
       "18                                 686.22             90.37   \n",
       "19                                 395.00             28.90   \n",
       "\n",
       "    correct_OSM/ds_counts  correct_OSM/annotation_counts  \\\n",
       "0                   67.00                           6.16   \n",
       "1                   16.00                          41.29   \n",
       "2                   10.00                          42.58   \n",
       "3                   49.00                          15.40   \n",
       "8                   26.00                           1.41   \n",
       "9                   66.00                          11.30   \n",
       "10                  10.00                          22.19   \n",
       "11                  38.00                           3.75   \n",
       "18                  39.61                          18.43   \n",
       "19                  38.50                          18.12   \n",
       "\n",
       "    correct_OSM/annotation_counts_only_correct_surface  times_better  \\\n",
       "0                                                8.00           8.93   \n",
       "1                                               47.94           2.03   \n",
       "2                                               51.16           1.45   \n",
       "3                                               22.08           3.80   \n",
       "8                                                1.66           6.41   \n",
       "9                                               13.69           3.79   \n",
       "10                                              27.06           2.09   \n",
       "11                                               4.60           1.93   \n",
       "18                                              23.63          11.25   \n",
       "19                                              22.76           6.10   \n",
       "\n",
       "    times_better_correct_surface  \n",
       "0                          11.59  \n",
       "1                           2.36  \n",
       "2                           1.75  \n",
       "3                           5.45  \n",
       "8                           7.55  \n",
       "9                           4.59  \n",
       "10                          2.55  \n",
       "11                          2.37  \n",
       "18                         15.84  \n",
       "19                          7.36  "
      ]
     },
     "execution_count": 185,
     "metadata": {},
     "output_type": "execute_result"
    }
   ],
   "source": [
    "cts_selection"
   ]
  },
  {
   "cell_type": "markdown",
   "metadata": {},
   "source": [
    "## Datapool size"
   ]
  },
  {
   "cell_type": "code",
   "execution_count": 204,
   "metadata": {},
   "outputs": [],
   "source": [
    "# how many images in entire datapool V101\n",
    "v100 = pd.read_csv(\"/Users/alexandra/Documents/GitHub/dataset_creation/data/v100/train_tiles_selection.csv\", index_col=False)\n",
    "v100[\"tile_id\"] = [str(x) + \"_\" + str(y) + \"_14\" for x, y in zip(v100[\"x\"], v100[\"y\"])]"
   ]
  },
  {
   "cell_type": "code",
   "execution_count": 223,
   "metadata": {},
   "outputs": [],
   "source": [
    "v5 = pd.read_csv(\"/Users/alexandra/Documents/GitHub/dataset_creation/data/v5/train_tiles_selection.csv\", index_col=False)\n",
    "v5[\"tile_id\"] = [str(x) + \"_\" + str(y) + \"_14\" for x, y in zip(v5[\"x\"], v5[\"y\"])]"
   ]
  },
  {
   "cell_type": "code",
   "execution_count": 224,
   "metadata": {},
   "outputs": [],
   "source": [
    "v5_selection = pd.read_csv(\"/Users/alexandra/Documents/GitHub/dataset_creation/data/v5/train_image_selection_metadata.csv\", index_col=False)"
   ]
  },
  {
   "cell_type": "code",
   "execution_count": 225,
   "metadata": {},
   "outputs": [],
   "source": [
    "v5x = v5[~v5.tile_id.isin(v5_selection.tile_id)]"
   ]
  },
  {
   "cell_type": "code",
   "execution_count": 228,
   "metadata": {},
   "outputs": [
    {
     "data": {
      "text/plain": [
       "21369848"
      ]
     },
     "execution_count": 228,
     "metadata": {},
     "output_type": "execute_result"
    }
   ],
   "source": [
    "sum(v100.image_count) + sum(v5x.image_count)"
   ]
  },
  {
   "cell_type": "markdown",
   "metadata": {},
   "source": [
    "## Precision of S2"
   ]
  },
  {
   "cell_type": "code",
   "execution_count": 229,
   "metadata": {},
   "outputs": [],
   "source": [
    "# currently in analyze_annotated_data.ipynb"
   ]
  },
  {
   "cell_type": "code",
   "execution_count": null,
   "metadata": {},
   "outputs": [],
   "source": []
  }
 ],
 "metadata": {
  "kernelspec": {
   "display_name": "sai_dc",
   "language": "python",
   "name": "python3"
  },
  "language_info": {
   "codemirror_mode": {
    "name": "ipython",
    "version": 3
   },
   "file_extension": ".py",
   "mimetype": "text/x-python",
   "name": "python",
   "nbconvert_exporter": "python",
   "pygments_lexer": "ipython3",
   "version": "3.12.0"
  }
 },
 "nbformat": 4,
 "nbformat_minor": 2
}
