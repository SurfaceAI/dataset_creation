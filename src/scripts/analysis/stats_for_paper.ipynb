{
 "cells": [
  {
   "cell_type": "code",
   "execution_count": 54,
   "metadata": {},
   "outputs": [],
   "source": [
    "import pandas as pd\n",
    "import numpy as np\n",
    "import os\n",
    "import subprocess"
   ]
  },
  {
   "cell_type": "markdown",
   "metadata": {},
   "source": [
    "### Mapillary counts"
   ]
  },
  {
   "cell_type": "code",
   "execution_count": 55,
   "metadata": {},
   "outputs": [
    {
     "data": {
      "text/plain": [
       "169994544"
      ]
     },
     "execution_count": 55,
     "metadata": {},
     "output_type": "execute_result"
    }
   ],
   "source": [
    "img_ct = pd.read_csv(\"../../../data/tag_counts/germany_image_counts.csv\")\n",
    "img_ct.image_count.sum()"
   ]
  },
  {
   "cell_type": "markdown",
   "metadata": {},
   "source": [
    "about 170M images in Germany (query data Nov. 2023)"
   ]
  },
  {
   "cell_type": "markdown",
   "metadata": {},
   "source": [
    "### Mercantile tiles"
   ]
  },
  {
   "cell_type": "code",
   "execution_count": 60,
   "metadata": {},
   "outputs": [],
   "source": [
    "meta = pd.read_csv(\"../../../data/v5/train_tiles_metadata.csv\")"
   ]
  },
  {
   "cell_type": "code",
   "execution_count": 61,
   "metadata": {},
   "outputs": [
    {
     "data": {
      "text/plain": [
       "51457123"
      ]
     },
     "execution_count": 61,
     "metadata": {},
     "output_type": "execute_result"
    }
   ],
   "source": [
    "len(meta)"
   ]
  },
  {
   "cell_type": "markdown",
   "metadata": {},
   "source": [
    "5.1M images in search space of V5."
   ]
  },
  {
   "cell_type": "code",
   "execution_count": 66,
   "metadata": {},
   "outputs": [
    {
     "data": {
      "text/plain": [
       "0.303"
      ]
     },
     "execution_count": 66,
     "metadata": {},
     "output_type": "execute_result"
    }
   ],
   "source": [
    "round(len(meta) / img_ct.image_count.sum(), 3)"
   ]
  },
  {
   "cell_type": "markdown",
   "metadata": {},
   "source": [
    "30% sample in V5 as image search space."
   ]
  },
  {
   "cell_type": "code",
   "execution_count": 67,
   "metadata": {},
   "outputs": [],
   "source": [
    "meta[\"date\"] = pd.to_datetime(meta.captured_at,  unit=\"ms\")"
   ]
  },
  {
   "cell_type": "code",
   "execution_count": 68,
   "metadata": {},
   "outputs": [],
   "source": [
    "meta[\"year\"] = pd.to_datetime(meta.captured_at,  unit=\"ms\").dt.year"
   ]
  },
  {
   "cell_type": "code",
   "execution_count": 69,
   "metadata": {},
   "outputs": [
    {
     "data": {
      "text/plain": [
       "year\n",
       "1899           9\n",
       "1921           4\n",
       "1970          96\n",
       "1980         459\n",
       "1994          18\n",
       "2000           2\n",
       "2002        1299\n",
       "2004          48\n",
       "2005           5\n",
       "2006         849\n",
       "2007         320\n",
       "2008        1405\n",
       "2009        2129\n",
       "2010        3010\n",
       "2011        7734\n",
       "2012       11964\n",
       "2013        9228\n",
       "2014      620403\n",
       "2015     1203190\n",
       "2016     2040851\n",
       "2017     2915628\n",
       "2018     3688915\n",
       "2019     5432688\n",
       "2020     8348287\n",
       "2021    10028970\n",
       "2022     8821842\n",
       "2023     8060625\n",
       "2024      257145\n",
       "Name: count, dtype: int64"
      ]
     },
     "execution_count": 69,
     "metadata": {},
     "output_type": "execute_result"
    }
   ],
   "source": [
    "meta.value_counts(\"year\").sort_index()"
   ]
  },
  {
   "cell_type": "code",
   "execution_count": 70,
   "metadata": {},
   "outputs": [
    {
     "data": {
      "text/plain": [
       "count                         51427459\n",
       "mean     2020-10-04 19:29:34.389486848\n",
       "min                2013-03-16 13:35:26\n",
       "25%                2019-06-23 16:25:13\n",
       "50%      2021-03-17 12:41:47.158000128\n",
       "75%         2022-06-12 10:46:37.500000\n",
       "max                2024-01-16 16:12:56\n",
       "Name: date, dtype: object"
      ]
     },
     "execution_count": 70,
     "metadata": {},
     "output_type": "execute_result"
    }
   ],
   "source": [
    "# take out date outliers (any dates before launch date 2013)\n",
    "meta[meta[\"captured_at\"] > 1363074956000][\"date\"].describe()"
   ]
  },
  {
   "cell_type": "code",
   "execution_count": 71,
   "metadata": {},
   "outputs": [
    {
     "data": {
      "text/plain": [
       "43222"
      ]
     },
     "execution_count": 71,
     "metadata": {},
     "output_type": "execute_result"
    }
   ],
   "source": [
    "len(meta[meta[\"captured_at\"] < 1394610956000])"
   ]
  },
  {
   "cell_type": "code",
   "execution_count": 72,
   "metadata": {},
   "outputs": [
    {
     "data": {
      "text/plain": [
       "numpy.datetime64('2021-03-17T12:41:47.158000000')"
      ]
     },
     "execution_count": 72,
     "metadata": {},
     "output_type": "execute_result"
    }
   ],
   "source": [
    "np.percentile(meta[meta[\"captured_at\"] > 1363074956000][\"date\"], 50)"
   ]
  },
  {
   "cell_type": "code",
   "execution_count": 73,
   "metadata": {},
   "outputs": [
    {
     "data": {
      "text/plain": [
       "<Axes: >"
      ]
     },
     "execution_count": 73,
     "metadata": {},
     "output_type": "execute_result"
    },
    {
     "data": {
      "image/png": "[encoded data removed]",
      "text/plain": [
       "<Figure size 640x480 with 1 Axes>"
      ]
     },
     "metadata": {},
     "output_type": "display_data"
    }
   ],
   "source": [
    "meta[meta[\"captured_at\"] > 1363074956000][\"date\"].hist()"
   ]
  },
  {
   "cell_type": "code",
   "execution_count": 79,
   "metadata": {},
   "outputs": [
    {
     "data": {
      "text/plain": [
       "1799"
      ]
     },
     "execution_count": 79,
     "metadata": {},
     "output_type": "execute_result"
    }
   ],
   "source": [
    "len(df_V4)"
   ]
  },
  {
   "cell_type": "markdown",
   "metadata": {},
   "source": [
    "## creator names"
   ]
  },
  {
   "cell_type": "code",
   "execution_count": 82,
   "metadata": {},
   "outputs": [
    {
     "name": "stdout",
     "output_type": "stream",
     "text": [
      "{\"id\":\"148771344320493\",\"creator\":{\"username\":\"macsico\",\"id\":\"108354611399818\"}}{\"id\":\"293245499014573\",\"creator\":{\"username\":\"zoegglmeyr\",\"id\":\"110552844504419\"}}{\"id\":\"133978728960378\",\"creator\":{\"username\":\"carlheinz\",\"id\":\"100232345559807\"}}{\"id\":\"129178263353193\",\"creator\":{\"username\":\"carlheinz\",\"id\":\"100232345559807\"}}{\"id\":\"291493615899057\",\"creator\":{\"username\":\"hubert87\",\"id\":\"102532525320329\"}}{\"id\":\"828495164980463\",\"creator\":{\"username\":\"carlheinz\",\"id\":\"100232345559807\"}}{\"id\":\"137193541781677\",\"creator\":{\"username\":\"waldemar\",\"id\":\"110655437834109\"}}{\"id\":\"149787357161377\",\"creator\":{\"username\":\"rasmustravemnd\",\"id\":\"107765738126751\"}}"
     ]
    }
   ],
   "source": [
    "!curl 'https://graph.mapillary.com/148771344320493?access_token=MLY|5381465351976670|a4ac3be1ecdebf1885b0790b8efec369&fields=id,creator'\n",
    "!curl 'https://graph.mapillary.com/293245499014573?access_token=MLY|5381465351976670|a4ac3be1ecdebf1885b0790b8efec369&fields=id,creator'\n",
    "!curl 'https://graph.mapillary.com/133978728960378?access_token=MLY|5381465351976670|a4ac3be1ecdebf1885b0790b8efec369&fields=id,creator'\n",
    "!curl 'https://graph.mapillary.com/129178263353193?access_token=MLY|5381465351976670|a4ac3be1ecdebf1885b0790b8efec369&fields=id,creator'\n",
    "!curl 'https://graph.mapillary.com/291493615899057?access_token=MLY|5381465351976670|a4ac3be1ecdebf1885b0790b8efec369&fields=id,creator'\n",
    "!curl 'https://graph.mapillary.com/828495164980463?access_token=MLY|5381465351976670|a4ac3be1ecdebf1885b0790b8efec369&fields=id,creator'\n",
    "!curl 'https://graph.mapillary.com/137193541781677?access_token=MLY|5381465351976670|a4ac3be1ecdebf1885b0790b8efec369&fields=id,creator'\n",
    "!curl 'https://graph.mapillary.com/149787357161377?access_token=MLY|5381465351976670|a4ac3be1ecdebf1885b0790b8efec369&fields=id,creator'"
   ]
  },
  {
   "cell_type": "markdown",
   "metadata": {},
   "source": [
    "## Precision of OSMT and TCM"
   ]
  },
  {
   "cell_type": "code",
   "execution_count": 83,
   "metadata": {},
   "outputs": [],
   "source": [
    "\n",
    "def clean_smoothness(metadata):\n",
    "    \"\"\"Clean smoothness column of metadata dataframe according to defined OSM smoothness values\n",
    "\n",
    "    Args:\n",
    "        metadata (df): dataframe with image metadata, including column \"smoothness\"\n",
    "\n",
    "    Returns:\n",
    "        df: dataframe with cleaned smoothness column \"smoothness_clean\"\n",
    "    \"\"\"\n",
    "    metadata[\"smoothness\"] = metadata.smoothness.str.strip()\n",
    "    metadata[\"smoothness_clean\"] = metadata[\"smoothness\"].replace(\n",
    "        [\n",
    "            \"horrible\",\n",
    "            \"very_horrible\",\n",
    "            \"impassable\",\n",
    "            \"very bad\"\n",
    "        ],\n",
    "        \"very_bad\",\n",
    "    )\n",
    "\n",
    "    metadata[\"smoothness_clean\"] = metadata[\"smoothness_clean\"].replace(\n",
    "        [\"perfect\", \"very_good\"], \"excellent\"\n",
    "    )\n",
    "    return metadata\n",
    "\n",
    "\n",
    "def clean_surface(metadata):\n",
    "    \"\"\"Clean surface column of metadata dataframe according to defined OSM surface values\n",
    "\n",
    "    Args:\n",
    "        metadata (df): dataframe with image metadata, including column \"surface\"\n",
    "\n",
    "    Returns:\n",
    "        df: dataframe with cleaned surface column \"surface_clean\"\n",
    "    \"\"\"\n",
    "    metadata[\"surface\"] = metadata.surface.str.strip()\n",
    "    metadata[\"surface_clean\"] = metadata[\"surface\"].replace(\n",
    "        [\n",
    "            \"compacted\",\n",
    "            \"gravel\",\n",
    "            \"ground\",\n",
    "            \"fine_gravel\",\n",
    "            \"dirt\",\n",
    "            \"grass\",\n",
    "            \"earth\",\n",
    "            \"sand\",\n",
    "        ],\n",
    "        \"unpaved\",\n",
    "    )\n",
    "    metadata[\"surface_clean\"] = metadata[\"surface_clean\"].replace(\n",
    "        [\"cobblestone\", \"cobblestone:flattened\", \"unhewn_cobblestone\"], \"sett\"\n",
    "    )\n",
    "    metadata[\"surface_clean\"] = metadata[\"surface_clean\"].replace(\n",
    "        [\"concrete:plates\", \"concrete:lanes\"], \"concrete\",\n",
    "    )\n",
    "    return metadata"
   ]
  },
  {
   "cell_type": "code",
   "execution_count": 84,
   "metadata": {},
   "outputs": [],
   "source": [
    "smoothness_mapping = {\"excellent\": 1, \"good\": 2, \"intermediate\": 3, \"bad\": 4, \"very_bad\": 5}"
   ]
  },
  {
   "cell_type": "code",
   "execution_count": 85,
   "metadata": {},
   "outputs": [],
   "source": [
    "# osm frequency distribution\n",
    "osm_tag_counts = pd.read_csv(\"/Users/alexandra/Nextcloud-HTW/SHARED/SurfaceAI/data/OSM/osm_tag_counts_germany.csv\")\n",
    "osm_tag_counts.surface = osm_tag_counts.surface.str.strip()\n",
    "osm_tag_counts.smoothness = osm_tag_counts.smoothness.str.strip()\n",
    "osm_tag_counts = clean_surface(osm_tag_counts)\n",
    "osm_tag_counts = clean_smoothness(osm_tag_counts)\n",
    "osm_tag_counts.rename({\"surface_clean\": \"surface_osm\", \"smoothness_clean\": \"smoothness_osm\"}, axis=1, inplace=True)\n",
    "osm_tag_counts[\"smoothness_osm_int\"] = osm_tag_counts.smoothness_osm.map(smoothness_mapping)\n",
    "\n",
    "# compute distr.\n",
    "osm_tag_counts[\"osm_distr\"] = round(osm_tag_counts.ct / osm_tag_counts.ct.sum() * 100, 2)\n",
    "\n",
    "# remove irrelevant classes \n",
    "osm_tag_counts = osm_tag_counts[~osm_tag_counts.surface_osm.isin([\"pebblestone\", \"wood\",\"grass_paver\", \"metal\"])]\n"
   ]
  },
  {
   "cell_type": "code",
   "execution_count": 99,
   "metadata": {},
   "outputs": [],
   "source": [
    "# annotations\n",
    "annotations = pd.read_csv(\"../../../data/v12/annotations_combined.csv\", index_col=False, dtype={\"image_id\": str})\n",
    "annotations.loc[annotations.nostreet.notna(), \"surface\"] = \"nostreet\"\n",
    "annotations.loc[annotations.nostreet.notna(), \"smoothness\"] = \"nostreet\"\n"
   ]
  },
  {
   "cell_type": "code",
   "execution_count": 100,
   "metadata": {},
   "outputs": [],
   "source": [
    "# intersected osm tags\n",
    "osm_tags = pd.read_csv(\"../../../data/v5_mapillary_metadata_with_tags_NEW.csv\", dtype={\"id\": str})\n",
    "osm_tags= clean_surface(osm_tags)\n",
    "osm_tags =  clean_smoothness(osm_tags)\n",
    "osm_tags.rename({\"surface_clean\": \"surface_osm\", \"smoothness_clean\": \"smoothness_osm\"}, axis=1, inplace=True)\n",
    "osm_tags[\"smoothness_osm_int\"] = osm_tags.smoothness_osm.map(smoothness_mapping)\n",
    "\n"
   ]
  },
  {
   "cell_type": "code",
   "execution_count": 101,
   "metadata": {},
   "outputs": [],
   "source": [
    "# get all classification model predictions\n",
    "cloud_image_folder = (\n",
    "    \"/Users/alexandra/Nextcloud-HTW/SHARED/SurfaceAI/data/mapillary_images/\"\n",
    ")\n",
    "model_prediction_path = os.path.join(cloud_image_folder, \"training\", \"{}\", \"metadata\")\n",
    "model_prediction_file = {\n",
    "    \"V5_c1\": \"model_predictions_V5_c1_predicted.csv\",\n",
    "    \"V5_c2\": \"surface_prediction-V5_c2-20240215_143635.csv\",\n",
    "    \"V5_c3\": \"surface_prediction-V5_c3-20240222_122429.csv\",\n",
    "    \"V5_c4\": \"surface_prediction-V5_c4-20240226_150406.csv\",\n",
    "    \"V5_c5\": \"surface_prediction-V5_c5-20240226_155720.csv\",\n",
    "    \"V5_c6\": \"surface_prediction-V5_c6-20240305_171454.csv\",\n",
    "    \"V5_c7\": \"surface_prediction-V5_c7-20240306_100314.csv\",\n",
    "}\n",
    "\n",
    "tcm_pred = pd.DataFrame()\n",
    "for pred_file in model_prediction_file.items():\n",
    "    temp = pd.read_csv(os.path.join(model_prediction_path.format(pred_file[0]), pred_file[1]), dtype={\"Image\": str, \"image_id\": str})\n",
    "    temp.rename({\"Image\": \"image_id\", \"Prediction\": \"class_probability\", \"Level_0\":\"model_prediction\"}, axis=1, inplace=True)\n",
    "    idx = temp.groupby(\"image_id\")[\"class_probability\"].idxmax()\n",
    "    temp = temp.loc[idx]\n",
    "    tcm_pred = pd.concat([tcm_pred,temp])"
   ]
  },
  {
   "cell_type": "code",
   "execution_count": 102,
   "metadata": {},
   "outputs": [],
   "source": [
    "df = (annotations[[\"image_id\", \"surface\", \"smoothness\"]]\n",
    ".set_index(\"image_id\")\n",
    ".join(osm_tags[[\"id\", \"surface_osm\", \"smoothness_osm_int\", \"smoothness_osm\"]].set_index(\"id\"), how=\"outer\")\n",
    ")\n",
    "\n",
    "df[\"smoothness_int\"] = df.smoothness.map(smoothness_mapping)\n",
    "\n",
    "# only keep images where we have a classification model prediction\n",
    "df = df.join(tcm_pred.set_index(\"image_id\"), how=\"right\")\n",
    "\n",
    "# remove all instances where we do not have a new OSM tag\n",
    "df = df[df.surface_osm.notna()]\n",
    "df = df[df.smoothness_osm.notna()]"
   ]
  },
  {
   "cell_type": "code",
   "execution_count": 103,
   "metadata": {},
   "outputs": [],
   "source": [
    "def osmt_precisions(df, osm_tag_counts, group_by_annot, group_by_osm):\n",
    "    if group_by_annot == [\"surface\"]:\n",
    "        # drop uncleaned columns\n",
    "        drop_col = [\"surface\", \"smoothness\", \"smoothness_osm\"]\n",
    "        # on how many tags do annotations and prediction agree (true positives)?\n",
    "        tp = pd.DataFrame(df[(df.surface == df.surface_osm) &\n",
    "                            (df.model_prediction == df.surface_osm)].groupby(group_by_annot).size())\n",
    "    else:\n",
    "        drop_col = [\"surface\", \"smoothness\"]\n",
    "        tp = pd.DataFrame(df[(df.surface == df.surface_osm) & \n",
    "                            (df.model_prediction == df.surface_osm) &\n",
    "                            (df.smoothness == df.smoothness_osm)].groupby(group_by_annot).size())\n",
    "    osm_tag_counts = osm_tag_counts.drop(drop_col, axis=1).groupby(group_by_osm).sum()\n",
    "    tp.columns = [\"tp\"]\n",
    "\n",
    "    # how many images did we classify by the model? # group by OSM Tag counts \n",
    "    TCM_classified = pd.DataFrame(df.groupby(group_by_osm).size())\n",
    "    TCM_classified.columns = [\"TCM_classified\"]\n",
    "\n",
    "    # on how many tags do OSMT and TCM agree (how many are annotated) that also have (any) annotation?\n",
    "    annotated = pd.DataFrame(df[(df.model_prediction == df.surface_osm) &\n",
    "                                df.surface.notna()].groupby(group_by_osm).size())\n",
    "    annotated.columns = [\"annotated\"]\n",
    "\n",
    "    cts = (tp\n",
    "    .join(osm_tag_counts[\"osm_distr\"], on=group_by_annot, how=\"left\")\n",
    "    .join(TCM_classified, on=group_by_annot, how=\"outer\")\n",
    "    .join(annotated, on=group_by_annot, how=\"outer\")\n",
    "    )\n",
    "\n",
    "    cts[\"OSMT: tp/TCM_classified\"] = round(cts.tp / cts.TCM_classified * 100, 2)\n",
    "    cts[\"OSMT+CTM: tp/annotated\"] = round(cts.tp / cts.annotated * 100, 2)\n",
    "    cts.sort_index(inplace=True)\n",
    "    return(cts)"
   ]
  },
  {
   "cell_type": "code",
   "execution_count": 104,
   "metadata": {},
   "outputs": [
    {
     "data": {
      "text/html": [
       "<div>\n",
       "<style scoped>\n",
       "    .dataframe tbody tr th:only-of-type {\n",
       "        vertical-align: middle;\n",
       "    }\n",
       "\n",
       "    .dataframe tbody tr th {\n",
       "        vertical-align: top;\n",
       "    }\n",
       "\n",
       "    .dataframe thead th {\n",
       "        text-align: right;\n",
       "    }\n",
       "</style>\n",
       "<table border=\"1\" class=\"dataframe\">\n",
       "  <thead>\n",
       "    <tr style=\"text-align: right;\">\n",
       "      <th></th>\n",
       "      <th></th>\n",
       "      <th></th>\n",
       "      <th>tp</th>\n",
       "      <th>osm_distr</th>\n",
       "      <th>TCM_classified</th>\n",
       "      <th>annotated</th>\n",
       "      <th>OSMT: tp/TCM_classified</th>\n",
       "      <th>OSMT+CTM: tp/annotated</th>\n",
       "    </tr>\n",
       "    <tr>\n",
       "      <th>surface</th>\n",
       "      <th>smoothness_int</th>\n",
       "      <th>smoothness</th>\n",
       "      <th></th>\n",
       "      <th></th>\n",
       "      <th></th>\n",
       "      <th></th>\n",
       "      <th></th>\n",
       "      <th></th>\n",
       "    </tr>\n",
       "  </thead>\n",
       "  <tbody>\n",
       "    <tr>\n",
       "      <th rowspan=\"4\" valign=\"top\">asphalt</th>\n",
       "      <th>1.0</th>\n",
       "      <th>excellent</th>\n",
       "      <td>123.0</td>\n",
       "      <td>20.31</td>\n",
       "      <td>442</td>\n",
       "      <td>283</td>\n",
       "      <td>27.83</td>\n",
       "      <td>43.46</td>\n",
       "    </tr>\n",
       "    <tr>\n",
       "      <th>2.0</th>\n",
       "      <th>good</th>\n",
       "      <td>147.0</td>\n",
       "      <td>29.29</td>\n",
       "      <td>515</td>\n",
       "      <td>293</td>\n",
       "      <td>28.54</td>\n",
       "      <td>50.17</td>\n",
       "    </tr>\n",
       "    <tr>\n",
       "      <th>3.0</th>\n",
       "      <th>intermediate</th>\n",
       "      <td>353.0</td>\n",
       "      <td>4.05</td>\n",
       "      <td>2396</td>\n",
       "      <td>1738</td>\n",
       "      <td>14.73</td>\n",
       "      <td>20.31</td>\n",
       "    </tr>\n",
       "    <tr>\n",
       "      <th>4.0</th>\n",
       "      <th>bad</th>\n",
       "      <td>94.0</td>\n",
       "      <td>0.69</td>\n",
       "      <td>1667</td>\n",
       "      <td>1068</td>\n",
       "      <td>5.64</td>\n",
       "      <td>8.80</td>\n",
       "    </tr>\n",
       "    <tr>\n",
       "      <th rowspan=\"4\" valign=\"top\">concrete</th>\n",
       "      <th>1.0</th>\n",
       "      <th>excellent</th>\n",
       "      <td>47.0</td>\n",
       "      <td>0.36</td>\n",
       "      <td>1112</td>\n",
       "      <td>165</td>\n",
       "      <td>4.23</td>\n",
       "      <td>28.48</td>\n",
       "    </tr>\n",
       "    <tr>\n",
       "      <th>2.0</th>\n",
       "      <th>good</th>\n",
       "      <td>104.0</td>\n",
       "      <td>0.94</td>\n",
       "      <td>446</td>\n",
       "      <td>189</td>\n",
       "      <td>23.32</td>\n",
       "      <td>55.03</td>\n",
       "    </tr>\n",
       "    <tr>\n",
       "      <th>3.0</th>\n",
       "      <th>intermediate</th>\n",
       "      <td>107.0</td>\n",
       "      <td>0.78</td>\n",
       "      <td>479</td>\n",
       "      <td>240</td>\n",
       "      <td>22.34</td>\n",
       "      <td>44.58</td>\n",
       "    </tr>\n",
       "    <tr>\n",
       "      <th>4.0</th>\n",
       "      <th>bad</th>\n",
       "      <td>32.0</td>\n",
       "      <td>0.23</td>\n",
       "      <td>351</td>\n",
       "      <td>156</td>\n",
       "      <td>9.12</td>\n",
       "      <td>20.51</td>\n",
       "    </tr>\n",
       "    <tr>\n",
       "      <th rowspan=\"4\" valign=\"top\">paving_stones</th>\n",
       "      <th>1.0</th>\n",
       "      <th>excellent</th>\n",
       "      <td>300.0</td>\n",
       "      <td>2.98</td>\n",
       "      <td>2761</td>\n",
       "      <td>991</td>\n",
       "      <td>10.87</td>\n",
       "      <td>30.27</td>\n",
       "    </tr>\n",
       "    <tr>\n",
       "      <th>2.0</th>\n",
       "      <th>good</th>\n",
       "      <td>70.0</td>\n",
       "      <td>10.62</td>\n",
       "      <td>456</td>\n",
       "      <td>151</td>\n",
       "      <td>15.35</td>\n",
       "      <td>46.36</td>\n",
       "    </tr>\n",
       "    <tr>\n",
       "      <th>3.0</th>\n",
       "      <th>intermediate</th>\n",
       "      <td>79.0</td>\n",
       "      <td>1.94</td>\n",
       "      <td>2586</td>\n",
       "      <td>794</td>\n",
       "      <td>3.05</td>\n",
       "      <td>9.95</td>\n",
       "    </tr>\n",
       "    <tr>\n",
       "      <th>4.0</th>\n",
       "      <th>bad</th>\n",
       "      <td>8.0</td>\n",
       "      <td>0.22</td>\n",
       "      <td>797</td>\n",
       "      <td>209</td>\n",
       "      <td>1.00</td>\n",
       "      <td>3.83</td>\n",
       "    </tr>\n",
       "    <tr>\n",
       "      <th rowspan=\"3\" valign=\"top\">sett</th>\n",
       "      <th>2.0</th>\n",
       "      <th>good</th>\n",
       "      <td>31.0</td>\n",
       "      <td>0.56</td>\n",
       "      <td>1418</td>\n",
       "      <td>240</td>\n",
       "      <td>2.19</td>\n",
       "      <td>12.92</td>\n",
       "    </tr>\n",
       "    <tr>\n",
       "      <th>3.0</th>\n",
       "      <th>intermediate</th>\n",
       "      <td>98.0</td>\n",
       "      <td>1.97</td>\n",
       "      <td>506</td>\n",
       "      <td>205</td>\n",
       "      <td>19.37</td>\n",
       "      <td>47.80</td>\n",
       "    </tr>\n",
       "    <tr>\n",
       "      <th>4.0</th>\n",
       "      <th>bad</th>\n",
       "      <td>306.0</td>\n",
       "      <td>1.26</td>\n",
       "      <td>2568</td>\n",
       "      <td>656</td>\n",
       "      <td>11.92</td>\n",
       "      <td>46.65</td>\n",
       "    </tr>\n",
       "    <tr>\n",
       "      <th rowspan=\"4\" valign=\"top\">unpaved</th>\n",
       "      <th>2.0</th>\n",
       "      <th>good</th>\n",
       "      <td>NaN</td>\n",
       "      <td>NaN</td>\n",
       "      <td>5</td>\n",
       "      <td>1</td>\n",
       "      <td>NaN</td>\n",
       "      <td>NaN</td>\n",
       "    </tr>\n",
       "    <tr>\n",
       "      <th>3.0</th>\n",
       "      <th>intermediate</th>\n",
       "      <td>140.0</td>\n",
       "      <td>5.75</td>\n",
       "      <td>399</td>\n",
       "      <td>230</td>\n",
       "      <td>35.09</td>\n",
       "      <td>60.87</td>\n",
       "    </tr>\n",
       "    <tr>\n",
       "      <th>4.0</th>\n",
       "      <th>bad</th>\n",
       "      <td>105.0</td>\n",
       "      <td>7.67</td>\n",
       "      <td>367</td>\n",
       "      <td>235</td>\n",
       "      <td>28.61</td>\n",
       "      <td>44.68</td>\n",
       "    </tr>\n",
       "    <tr>\n",
       "      <th>5.0</th>\n",
       "      <th>very_bad</th>\n",
       "      <td>89.0</td>\n",
       "      <td>7.38</td>\n",
       "      <td>476</td>\n",
       "      <td>331</td>\n",
       "      <td>18.70</td>\n",
       "      <td>26.89</td>\n",
       "    </tr>\n",
       "  </tbody>\n",
       "</table>\n",
       "</div>"
      ],
      "text/plain": [
       "                                              tp  osm_distr  TCM_classified  \\\n",
       "surface       smoothness_int smoothness                                       \n",
       "asphalt       1.0            excellent     123.0      20.31             442   \n",
       "              2.0            good          147.0      29.29             515   \n",
       "              3.0            intermediate  353.0       4.05            2396   \n",
       "              4.0            bad            94.0       0.69            1667   \n",
       "concrete      1.0            excellent      47.0       0.36            1112   \n",
       "              2.0            good          104.0       0.94             446   \n",
       "              3.0            intermediate  107.0       0.78             479   \n",
       "              4.0            bad            32.0       0.23             351   \n",
       "paving_stones 1.0            excellent     300.0       2.98            2761   \n",
       "              2.0            good           70.0      10.62             456   \n",
       "              3.0            intermediate   79.0       1.94            2586   \n",
       "              4.0            bad             8.0       0.22             797   \n",
       "sett          2.0            good           31.0       0.56            1418   \n",
       "              3.0            intermediate   98.0       1.97             506   \n",
       "              4.0            bad           306.0       1.26            2568   \n",
       "unpaved       2.0            good            NaN        NaN               5   \n",
       "              3.0            intermediate  140.0       5.75             399   \n",
       "              4.0            bad           105.0       7.67             367   \n",
       "              5.0            very_bad       89.0       7.38             476   \n",
       "\n",
       "                                           annotated  OSMT: tp/TCM_classified  \\\n",
       "surface       smoothness_int smoothness                                         \n",
       "asphalt       1.0            excellent           283                    27.83   \n",
       "              2.0            good                293                    28.54   \n",
       "              3.0            intermediate       1738                    14.73   \n",
       "              4.0            bad                1068                     5.64   \n",
       "concrete      1.0            excellent           165                     4.23   \n",
       "              2.0            good                189                    23.32   \n",
       "              3.0            intermediate        240                    22.34   \n",
       "              4.0            bad                 156                     9.12   \n",
       "paving_stones 1.0            excellent           991                    10.87   \n",
       "              2.0            good                151                    15.35   \n",
       "              3.0            intermediate        794                     3.05   \n",
       "              4.0            bad                 209                     1.00   \n",
       "sett          2.0            good                240                     2.19   \n",
       "              3.0            intermediate        205                    19.37   \n",
       "              4.0            bad                 656                    11.92   \n",
       "unpaved       2.0            good                  1                      NaN   \n",
       "              3.0            intermediate        230                    35.09   \n",
       "              4.0            bad                 235                    28.61   \n",
       "              5.0            very_bad            331                    18.70   \n",
       "\n",
       "                                           OSMT+CTM: tp/annotated  \n",
       "surface       smoothness_int smoothness                            \n",
       "asphalt       1.0            excellent                      43.46  \n",
       "              2.0            good                           50.17  \n",
       "              3.0            intermediate                   20.31  \n",
       "              4.0            bad                             8.80  \n",
       "concrete      1.0            excellent                      28.48  \n",
       "              2.0            good                           55.03  \n",
       "              3.0            intermediate                   44.58  \n",
       "              4.0            bad                            20.51  \n",
       "paving_stones 1.0            excellent                      30.27  \n",
       "              2.0            good                           46.36  \n",
       "              3.0            intermediate                    9.95  \n",
       "              4.0            bad                             3.83  \n",
       "sett          2.0            good                           12.92  \n",
       "              3.0            intermediate                   47.80  \n",
       "              4.0            bad                            46.65  \n",
       "unpaved       2.0            good                             NaN  \n",
       "              3.0            intermediate                   60.87  \n",
       "              4.0            bad                            44.68  \n",
       "              5.0            very_bad                       26.89  "
      ]
     },
     "execution_count": 104,
     "metadata": {},
     "output_type": "execute_result"
    }
   ],
   "source": [
    "group_by_annot = [\"surface\", \"smoothness_int\", \"smoothness\"]\n",
    "group_by_osm = [\"surface_osm\", \"smoothness_osm_int\", \"smoothness_osm\"]\n",
    "cts = osmt_precisions(df, osm_tag_counts, group_by_annot, group_by_osm)\n",
    "cts"
   ]
  },
  {
   "cell_type": "code",
   "execution_count": 105,
   "metadata": {},
   "outputs": [
    {
     "data": {
      "text/plain": [
       "19747"
      ]
     },
     "execution_count": 105,
     "metadata": {},
     "output_type": "execute_result"
    }
   ],
   "source": [
    "cts.TCM_classified.sum()"
   ]
  },
  {
   "cell_type": "code",
   "execution_count": 106,
   "metadata": {},
   "outputs": [],
   "source": [
    "cts.reset_index(inplace=True)"
   ]
  },
  {
   "cell_type": "code",
   "execution_count": 107,
   "metadata": {},
   "outputs": [
    {
     "name": "stdout",
     "output_type": "stream",
     "text": [
      "\\begin{tabular}{lrrr}\n",
      "\\toprule\n",
      "class & osm_distr & OSMT: tp/TCM_classified & OSMT+CTM: tp/annotated \\\\\n",
      "\\midrule\n",
      "asphalt-excellent & 20.31 & 27.83 & 43.46 \\\\\n",
      "asphalt-good & 29.29 & 28.54 & 50.17 \\\\\n",
      "asphalt-intermediate & 4.05 & 14.73 & 20.31 \\\\\n",
      "asphalt-bad & 0.69 & 5.64 & 8.80 \\\\\n",
      "concrete-excellent & 0.36 & 4.23 & 28.48 \\\\\n",
      "concrete-good & 0.94 & 23.32 & 55.03 \\\\\n",
      "concrete-intermediate & 0.78 & 22.34 & 44.58 \\\\\n",
      "concrete-bad & 0.23 & 9.12 & 20.51 \\\\\n",
      "paving_stones-excellent & 2.98 & 10.87 & 30.27 \\\\\n",
      "paving_stones-good & 10.62 & 15.35 & 46.36 \\\\\n",
      "paving_stones-intermediate & 1.94 & 3.05 & 9.95 \\\\\n",
      "paving_stones-bad & 0.22 & 1.00 & 3.83 \\\\\n",
      "sett-good & 0.56 & 2.19 & 12.92 \\\\\n",
      "sett-intermediate & 1.97 & 19.37 & 47.80 \\\\\n",
      "sett-bad & 1.26 & 11.92 & 46.65 \\\\\n",
      "unpaved-good & NaN & NaN & NaN \\\\\n",
      "unpaved-intermediate & 5.75 & 35.09 & 60.87 \\\\\n",
      "unpaved-bad & 7.67 & 28.61 & 44.68 \\\\\n",
      "unpaved-very_bad & 7.38 & 18.70 & 26.89 \\\\\n",
      "\\bottomrule\n",
      "\\end{tabular}\n",
      "\n"
     ]
    }
   ],
   "source": [
    "# all classes\n",
    "cts[\"class\"] = cts.surface + \"-\" + cts.smoothness\n",
    "print(\n",
    "    cts.loc[:, \n",
    "            [\"class\", \"osm_distr\", \"OSMT: tp/TCM_classified\", \"OSMT+CTM: tp/annotated\"]]\n",
    "    .to_latex(float_format=\"%.2f\", index=False)\n",
    ")"
   ]
  },
  {
   "cell_type": "code",
   "execution_count": 108,
   "metadata": {},
   "outputs": [
    {
     "name": "stdout",
     "output_type": "stream",
     "text": [
      "\\begin{tabular}{lrrr}\n",
      "\\toprule\n",
      "class & osm_distr & OSMT: tp/TCM_classified & OSMT+CTM: tp/annotated \\\\\n",
      "\\midrule\n",
      "asphalt-excellent & 20.31 & 27.83 & 43.46 \\\\\n",
      "asphalt-good & 29.29 & 28.54 & 50.17 \\\\\n",
      "asphalt-intermediate & 4.05 & 14.73 & 20.31 \\\\\n",
      "asphalt-bad & 0.69 & 5.64 & 8.80 \\\\\n",
      "paving_stones-excellent & 2.98 & 10.87 & 30.27 \\\\\n",
      "paving_stones-good & 10.62 & 15.35 & 46.36 \\\\\n",
      "paving_stones-intermediate & 1.94 & 3.05 & 9.95 \\\\\n",
      "paving_stones-bad & 0.22 & 1.00 & 3.83 \\\\\n",
      "\\bottomrule\n",
      "\\end{tabular}\n",
      "\n"
     ]
    }
   ],
   "source": [
    "# selection for paper\n",
    "cts[\"class\"] = cts.surface + \"-\" + cts.smoothness\n",
    "print(\n",
    "    cts.loc[cts.surface.isin([\"asphalt\", \"paving_stones\"]), \n",
    "            [\"class\", \"osm_distr\", \"OSMT: tp/TCM_classified\", \"OSMT+CTM: tp/annotated\"]]\n",
    "    .to_latex(float_format=\"%.2f\", index=False)\n",
    ")"
   ]
  },
  {
   "cell_type": "code",
   "execution_count": 109,
   "metadata": {},
   "outputs": [
    {
     "data": {
      "text/html": [
       "<div>\n",
       "<style scoped>\n",
       "    .dataframe tbody tr th:only-of-type {\n",
       "        vertical-align: middle;\n",
       "    }\n",
       "\n",
       "    .dataframe tbody tr th {\n",
       "        vertical-align: top;\n",
       "    }\n",
       "\n",
       "    .dataframe thead th {\n",
       "        text-align: right;\n",
       "    }\n",
       "</style>\n",
       "<table border=\"1\" class=\"dataframe\">\n",
       "  <thead>\n",
       "    <tr style=\"text-align: right;\">\n",
       "      <th></th>\n",
       "      <th>tp</th>\n",
       "      <th>osm_distr</th>\n",
       "      <th>TCM_classified</th>\n",
       "      <th>annotated</th>\n",
       "      <th>OSMT: tp/TCM_classified</th>\n",
       "      <th>OSMT+CTM: tp/annotated</th>\n",
       "    </tr>\n",
       "    <tr>\n",
       "      <th>surface</th>\n",
       "      <th></th>\n",
       "      <th></th>\n",
       "      <th></th>\n",
       "      <th></th>\n",
       "      <th></th>\n",
       "      <th></th>\n",
       "    </tr>\n",
       "  </thead>\n",
       "  <tbody>\n",
       "    <tr>\n",
       "      <th>asphalt</th>\n",
       "      <td>2207</td>\n",
       "      <td>54.42</td>\n",
       "      <td>5020</td>\n",
       "      <td>3382</td>\n",
       "      <td>43.96</td>\n",
       "      <td>65.26</td>\n",
       "    </tr>\n",
       "    <tr>\n",
       "      <th>concrete</th>\n",
       "      <td>553</td>\n",
       "      <td>2.32</td>\n",
       "      <td>2388</td>\n",
       "      <td>750</td>\n",
       "      <td>23.16</td>\n",
       "      <td>73.73</td>\n",
       "    </tr>\n",
       "    <tr>\n",
       "      <th>paving_stones</th>\n",
       "      <td>1265</td>\n",
       "      <td>15.78</td>\n",
       "      <td>6600</td>\n",
       "      <td>2145</td>\n",
       "      <td>19.17</td>\n",
       "      <td>58.97</td>\n",
       "    </tr>\n",
       "    <tr>\n",
       "      <th>sett</th>\n",
       "      <td>796</td>\n",
       "      <td>4.05</td>\n",
       "      <td>4492</td>\n",
       "      <td>1101</td>\n",
       "      <td>17.72</td>\n",
       "      <td>72.30</td>\n",
       "    </tr>\n",
       "    <tr>\n",
       "      <th>unpaved</th>\n",
       "      <td>554</td>\n",
       "      <td>22.14</td>\n",
       "      <td>1247</td>\n",
       "      <td>797</td>\n",
       "      <td>44.43</td>\n",
       "      <td>69.51</td>\n",
       "    </tr>\n",
       "  </tbody>\n",
       "</table>\n",
       "</div>"
      ],
      "text/plain": [
       "                 tp  osm_distr  TCM_classified  annotated  \\\n",
       "surface                                                     \n",
       "asphalt        2207      54.42            5020       3382   \n",
       "concrete        553       2.32            2388        750   \n",
       "paving_stones  1265      15.78            6600       2145   \n",
       "sett            796       4.05            4492       1101   \n",
       "unpaved         554      22.14            1247        797   \n",
       "\n",
       "               OSMT: tp/TCM_classified  OSMT+CTM: tp/annotated  \n",
       "surface                                                         \n",
       "asphalt                          43.96                   65.26  \n",
       "concrete                         23.16                   73.73  \n",
       "paving_stones                    19.17                   58.97  \n",
       "sett                             17.72                   72.30  \n",
       "unpaved                          44.43                   69.51  "
      ]
     },
     "execution_count": 109,
     "metadata": {},
     "output_type": "execute_result"
    }
   ],
   "source": [
    "group_by_annot = [\"surface\"]\n",
    "group_by_osm = [\"surface_osm\"]\n",
    "cts = osmt_precisions(df, osm_tag_counts, group_by_annot, group_by_osm)\n",
    "cts"
   ]
  },
  {
   "cell_type": "markdown",
   "metadata": {},
   "source": [
    "### Precision of overall surface type for OSM-tag + pseudo-label approach"
   ]
  },
  {
   "cell_type": "markdown",
   "metadata": {},
   "source": [
    "\"OSM labels and manual annotation agreed on 68\\% of surface type labels, and among these, the quality was correct for 53\\% of the images.\"\n",
    " > See \"anlayze_prediction_V4.ipynb\""
   ]
  },
  {
   "cell_type": "code",
   "execution_count": 110,
   "metadata": {},
   "outputs": [
    {
     "data": {
      "text/html": [
       "<div>\n",
       "<style scoped>\n",
       "    .dataframe tbody tr th:only-of-type {\n",
       "        vertical-align: middle;\n",
       "    }\n",
       "\n",
       "    .dataframe tbody tr th {\n",
       "        vertical-align: top;\n",
       "    }\n",
       "\n",
       "    .dataframe thead th {\n",
       "        text-align: right;\n",
       "    }\n",
       "</style>\n",
       "<table border=\"1\" class=\"dataframe\">\n",
       "  <thead>\n",
       "    <tr style=\"text-align: right;\">\n",
       "      <th></th>\n",
       "      <th>tp</th>\n",
       "      <th>annot</th>\n",
       "      <th>prec</th>\n",
       "    </tr>\n",
       "  </thead>\n",
       "  <tbody>\n",
       "    <tr>\n",
       "      <th>asphalt</th>\n",
       "      <td>2207</td>\n",
       "      <td>3382</td>\n",
       "      <td>0.652572</td>\n",
       "    </tr>\n",
       "    <tr>\n",
       "      <th>concrete</th>\n",
       "      <td>553</td>\n",
       "      <td>750</td>\n",
       "      <td>0.737333</td>\n",
       "    </tr>\n",
       "    <tr>\n",
       "      <th>paving_stones</th>\n",
       "      <td>1265</td>\n",
       "      <td>2145</td>\n",
       "      <td>0.589744</td>\n",
       "    </tr>\n",
       "    <tr>\n",
       "      <th>sett</th>\n",
       "      <td>796</td>\n",
       "      <td>1101</td>\n",
       "      <td>0.722979</td>\n",
       "    </tr>\n",
       "    <tr>\n",
       "      <th>unpaved</th>\n",
       "      <td>554</td>\n",
       "      <td>797</td>\n",
       "      <td>0.695107</td>\n",
       "    </tr>\n",
       "    <tr>\n",
       "      <th>mean</th>\n",
       "      <td>5375</td>\n",
       "      <td>8175</td>\n",
       "      <td>0.657492</td>\n",
       "    </tr>\n",
       "  </tbody>\n",
       "</table>\n",
       "</div>"
      ],
      "text/plain": [
       "                 tp  annot      prec\n",
       "asphalt        2207   3382  0.652572\n",
       "concrete        553    750  0.737333\n",
       "paving_stones  1265   2145  0.589744\n",
       "sett            796   1101  0.722979\n",
       "unpaved         554    797  0.695107\n",
       "mean           5375   8175  0.657492"
      ]
     },
     "execution_count": 110,
     "metadata": {},
     "output_type": "execute_result"
    }
   ],
   "source": [
    "# for OSM pre-label + pseudo-label\n",
    "\n",
    "# precision, when **including** nostreet\n",
    "valid_img = df[(df.model_prediction == df.surface_osm) &\n",
    "            (df.surface.notna()) ]\n",
    "\n",
    "annotated = valid_img.groupby(group_by_osm).size()\n",
    "\n",
    "tp = valid_img[\n",
    "            (valid_img.surface == valid_img.model_prediction)].groupby(group_by_osm).size()\n",
    "\n",
    "prec_surface_only_valid = pd.DataFrame({\"tp\": tp}).join(pd.DataFrame({\"annot\": annotated}))\n",
    "total = prec_surface_only_valid.sum()\n",
    "prec_surface_only_valid = pd.concat([prec_surface_only_valid, pd.DataFrame({\"mean\": total}).T])\n",
    "prec_surface_only_valid[\"prec\"] = prec_surface_only_valid.tp / prec_surface_only_valid.annot\n",
    "#tp / len (df[(df.surface != \"nostreet\") & df.surface.notna()])\n",
    "prec_surface_only_valid"
   ]
  },
  {
   "cell_type": "code",
   "execution_count": 111,
   "metadata": {},
   "outputs": [
    {
     "data": {
      "text/html": [
       "<div>\n",
       "<style scoped>\n",
       "    .dataframe tbody tr th:only-of-type {\n",
       "        vertical-align: middle;\n",
       "    }\n",
       "\n",
       "    .dataframe tbody tr th {\n",
       "        vertical-align: top;\n",
       "    }\n",
       "\n",
       "    .dataframe thead th {\n",
       "        text-align: right;\n",
       "    }\n",
       "</style>\n",
       "<table border=\"1\" class=\"dataframe\">\n",
       "  <thead>\n",
       "    <tr style=\"text-align: right;\">\n",
       "      <th></th>\n",
       "      <th>tp</th>\n",
       "      <th>annot</th>\n",
       "      <th>prec</th>\n",
       "    </tr>\n",
       "  </thead>\n",
       "  <tbody>\n",
       "    <tr>\n",
       "      <th>asphalt</th>\n",
       "      <td>2207</td>\n",
       "      <td>2225</td>\n",
       "      <td>0.991910</td>\n",
       "    </tr>\n",
       "    <tr>\n",
       "      <th>concrete</th>\n",
       "      <td>553</td>\n",
       "      <td>588</td>\n",
       "      <td>0.940476</td>\n",
       "    </tr>\n",
       "    <tr>\n",
       "      <th>paving_stones</th>\n",
       "      <td>1265</td>\n",
       "      <td>1416</td>\n",
       "      <td>0.893362</td>\n",
       "    </tr>\n",
       "    <tr>\n",
       "      <th>sett</th>\n",
       "      <td>796</td>\n",
       "      <td>834</td>\n",
       "      <td>0.954436</td>\n",
       "    </tr>\n",
       "    <tr>\n",
       "      <th>unpaved</th>\n",
       "      <td>554</td>\n",
       "      <td>557</td>\n",
       "      <td>0.994614</td>\n",
       "    </tr>\n",
       "    <tr>\n",
       "      <th>mean</th>\n",
       "      <td>5375</td>\n",
       "      <td>5620</td>\n",
       "      <td>0.956406</td>\n",
       "    </tr>\n",
       "  </tbody>\n",
       "</table>\n",
       "</div>"
      ],
      "text/plain": [
       "                 tp  annot      prec\n",
       "asphalt        2207   2225  0.991910\n",
       "concrete        553    588  0.940476\n",
       "paving_stones  1265   1416  0.893362\n",
       "sett            796    834  0.954436\n",
       "unpaved         554    557  0.994614\n",
       "mean           5375   5620  0.956406"
      ]
     },
     "execution_count": 111,
     "metadata": {},
     "output_type": "execute_result"
    }
   ],
   "source": [
    "# for OSM pre-label + pseudo-label\n",
    "# precision, when **removing** nostreet\n",
    "valid_img = df[(df.surface != \"nostreet\") &\n",
    "            (df.model_prediction == df.surface_osm) &\n",
    "            (df.surface.notna()) ]\n",
    "\n",
    "annotated = valid_img.groupby(group_by_osm).size()\n",
    "\n",
    "tp = valid_img[\n",
    "            (valid_img.surface == valid_img.surface_osm) &\n",
    "            (valid_img.model_prediction == valid_img.surface_osm)].groupby(group_by_osm).size()\n",
    "\n",
    "prec_surface_only_valid = pd.DataFrame({\"tp\": tp}).join(pd.DataFrame({\"annot\": annotated}))\n",
    "total = prec_surface_only_valid.sum()\n",
    "prec_surface_only_valid = pd.concat([prec_surface_only_valid, pd.DataFrame({\"mean\": total}).T])\n",
    "prec_surface_only_valid[\"prec\"] = prec_surface_only_valid.tp / prec_surface_only_valid.annot\n",
    "#tp / len (df[(df.surface != \"nostreet\") & df.surface.notna()])\n",
    "prec_surface_only_valid"
   ]
  },
  {
   "cell_type": "code",
   "execution_count": 112,
   "metadata": {},
   "outputs": [
    {
     "data": {
      "text/plain": [
       "0.9549596678373276"
      ]
     },
     "execution_count": 112,
     "metadata": {},
     "output_type": "execute_result"
    }
   ],
   "source": [
    "prec_surface_only_valid[prec_surface_only_valid.index != \"mean\"].prec.mean()"
   ]
  },
  {
   "cell_type": "markdown",
   "metadata": {},
   "source": [
    "## Datapool size"
   ]
  },
  {
   "cell_type": "code",
   "execution_count": null,
   "metadata": {},
   "outputs": [],
   "source": [
    "# how many images in entire datapool V101\n",
    "v100 = pd.read_csv(\"../../../data/v100/train_tiles_selection.csv\", index_col=False)\n",
    "v100[\"tile_id\"] = [str(x) + \"_\" + str(y) + \"_14\" for x, y in zip(v100[\"x\"], v100[\"y\"])]"
   ]
  },
  {
   "cell_type": "code",
   "execution_count": 223,
   "metadata": {},
   "outputs": [],
   "source": [
    "v5 = pd.read_csv(\"/Users/alexandra/Documents/GitHub/dataset_creation/data/v5/train_tiles_selection.csv\", index_col=False)\n",
    "v5[\"tile_id\"] = [str(x) + \"_\" + str(y) + \"_14\" for x, y in zip(v5[\"x\"], v5[\"y\"])]"
   ]
  },
  {
   "cell_type": "code",
   "execution_count": 224,
   "metadata": {},
   "outputs": [],
   "source": [
    "v5_selection = pd.read_csv(\"../../../data/v5/train_image_selection_metadata.csv\", index_col=False)"
   ]
  },
  {
   "cell_type": "code",
   "execution_count": 225,
   "metadata": {},
   "outputs": [],
   "source": [
    "v5x = v5[~v5.tile_id.isin(v5_selection.tile_id)]"
   ]
  },
  {
   "cell_type": "code",
   "execution_count": 228,
   "metadata": {},
   "outputs": [
    {
     "data": {
      "text/plain": [
       "21369848"
      ]
     },
     "execution_count": 228,
     "metadata": {},
     "output_type": "execute_result"
    }
   ],
   "source": [
    "sum(v100.image_count) + sum(v5x.image_count)"
   ]
  },
  {
   "cell_type": "markdown",
   "metadata": {},
   "source": [
    "## Image sizes per class"
   ]
  },
  {
   "cell_type": "code",
   "execution_count": 2,
   "metadata": {},
   "outputs": [
    {
     "name": "stdout",
     "output_type": "stream",
     "text": [
      "\\begin{tabular}{llllll}\n",
      "\\toprule\n",
      " & excellent & good & intermediate & bad & very_bad \\\\\n",
      "surface_type &  &  &  &  &  \\\\\n",
      "\\midrule\n",
      "asphalt & 791 (180) & 1407 (289) & 768 (53) & 238 (8) & 0 (0) \\\\\n",
      "concrete & 310 (4) & 340 (10) & 248 (2) & 58 (0) & 0 (0) \\\\\n",
      "paving_stones & 360 (25) & 989 (74) & 505 (14) & 70 (0) & 0 (0) \\\\\n",
      "sett & 0 (0) & 128 (1) & 677 (17) & 526 (14) & 0 (0) \\\\\n",
      "unpaved & 0 (0) & 0 (0) & 305 (21) & 339 (48) & 287 (16) \\\\\n",
      "\\bottomrule\n",
      "\\end{tabular}\n",
      "\n"
     ]
    }
   ],
   "source": [
    "v1point0 = pd.read_csv(\"../../../data/mapillary_images/V1_0/streetSurfaceVis_v1_0.csv\")\n",
    "\n",
    "\n",
    "# split by train / test\n",
    "v1point0[\"train_\"] = \"\"\n",
    "v1point0.loc[v1point0.train, \"train_\"] = \"0\"\n",
    "v1point0.loc[v1point0.train == False, \"train_\"] = \"1\"\n",
    "summary = (v1point0\n",
    "    .groupby([\"surface_type\", \"surface_quality\", \"train_\"]).size()\n",
    "    .unstack(\"surface_quality\", fill_value=0)\n",
    "\n",
    "    .reindex(columns=[\"excellent\", \"good\", \"intermediate\", \"bad\", \"very_bad\"])\n",
    "    .unstack(\"train_\", fill_value=0)\n",
    "    .droplevel(1, axis=1)\n",
    "    )\n",
    "\n",
    "summary_table = pd.DataFrame()\n",
    "summary_table.index = summary.index\n",
    "summary_table[\"excellent\"] = summary.iloc[:, 0].astype(str) + \" (\" + summary.iloc[:, 1].astype(str) + \")\"\n",
    "summary_table[\"good\"] = summary.iloc[:, 2].astype(str) + \" (\" + summary.iloc[:, 3].astype(str) + \")\"\n",
    "summary_table[\"intermediate\"] = summary.iloc[:, 4].astype(str) + \" (\" + summary.iloc[:, 5].astype(str) + \")\"\n",
    "summary_table[\"bad\"] = summary.iloc[:, 6].astype(str) + \" (\" + summary.iloc[:, 7].astype(str) + \")\"\n",
    "summary_table[\"very_bad\"] = summary.iloc[:, 8].astype(str) + \" (\" + summary.iloc[:, 9].astype(str) + \")\"\n",
    "print(summary_table.to_latex())"
   ]
  },
  {
   "cell_type": "code",
   "execution_count": 3,
   "metadata": {},
   "outputs": [
    {
     "data": {
      "text/html": [
       "<div>\n",
       "<style scoped>\n",
       "    .dataframe tbody tr th:only-of-type {\n",
       "        vertical-align: middle;\n",
       "    }\n",
       "\n",
       "    .dataframe tbody tr th {\n",
       "        vertical-align: top;\n",
       "    }\n",
       "\n",
       "    .dataframe thead th {\n",
       "        text-align: right;\n",
       "    }\n",
       "</style>\n",
       "<table border=\"1\" class=\"dataframe\">\n",
       "  <thead>\n",
       "    <tr style=\"text-align: right;\">\n",
       "      <th></th>\n",
       "      <th>excellent</th>\n",
       "      <th>good</th>\n",
       "      <th>intermediate</th>\n",
       "      <th>bad</th>\n",
       "      <th>very_bad</th>\n",
       "    </tr>\n",
       "    <tr>\n",
       "      <th>surface_type</th>\n",
       "      <th></th>\n",
       "      <th></th>\n",
       "      <th></th>\n",
       "      <th></th>\n",
       "      <th></th>\n",
       "    </tr>\n",
       "  </thead>\n",
       "  <tbody>\n",
       "    <tr>\n",
       "      <th>asphalt</th>\n",
       "      <td>791 (180)</td>\n",
       "      <td>1407 (289)</td>\n",
       "      <td>768 (53)</td>\n",
       "      <td>238 (8)</td>\n",
       "      <td>0 (0)</td>\n",
       "    </tr>\n",
       "    <tr>\n",
       "      <th>concrete</th>\n",
       "      <td>310 (4)</td>\n",
       "      <td>340 (10)</td>\n",
       "      <td>248 (2)</td>\n",
       "      <td>58 (0)</td>\n",
       "      <td>0 (0)</td>\n",
       "    </tr>\n",
       "    <tr>\n",
       "      <th>paving_stones</th>\n",
       "      <td>360 (25)</td>\n",
       "      <td>989 (74)</td>\n",
       "      <td>505 (14)</td>\n",
       "      <td>70 (0)</td>\n",
       "      <td>0 (0)</td>\n",
       "    </tr>\n",
       "    <tr>\n",
       "      <th>sett</th>\n",
       "      <td>0 (0)</td>\n",
       "      <td>128 (1)</td>\n",
       "      <td>677 (17)</td>\n",
       "      <td>526 (14)</td>\n",
       "      <td>0 (0)</td>\n",
       "    </tr>\n",
       "    <tr>\n",
       "      <th>unpaved</th>\n",
       "      <td>0 (0)</td>\n",
       "      <td>0 (0)</td>\n",
       "      <td>305 (21)</td>\n",
       "      <td>339 (48)</td>\n",
       "      <td>287 (16)</td>\n",
       "    </tr>\n",
       "  </tbody>\n",
       "</table>\n",
       "</div>"
      ],
      "text/plain": [
       "               excellent        good intermediate       bad  very_bad\n",
       "surface_type                                                         \n",
       "asphalt        791 (180)  1407 (289)     768 (53)   238 (8)     0 (0)\n",
       "concrete         310 (4)    340 (10)      248 (2)    58 (0)     0 (0)\n",
       "paving_stones   360 (25)    989 (74)     505 (14)    70 (0)     0 (0)\n",
       "sett               0 (0)     128 (1)     677 (17)  526 (14)     0 (0)\n",
       "unpaved            0 (0)       0 (0)     305 (21)  339 (48)  287 (16)"
      ]
     },
     "execution_count": 3,
     "metadata": {},
     "output_type": "execute_result"
    }
   ],
   "source": [
    "summary_table"
   ]
  },
  {
   "cell_type": "code",
   "execution_count": 36,
   "metadata": {},
   "outputs": [
    {
     "name": "stdout",
     "output_type": "stream",
     "text": [
      "\\begin{tabular}{lrrrrr}\n",
      "\\toprule\n",
      "surface_quality & excellent & good & intermediate & bad & very_bad \\\\\n",
      "surface_type &  &  &  &  &  \\\\\n",
      "\\midrule\n",
      "asphalt & 971 & 1696 & 821 & 246 & 0 \\\\\n",
      "concrete & 314 & 350 & 250 & 58 & 0 \\\\\n",
      "paving_stones & 385 & 1063 & 519 & 70 & 0 \\\\\n",
      "sett & 0 & 129 & 694 & 540 & 0 \\\\\n",
      "unpaved & 0 & 0 & 326 & 387 & 303 \\\\\n",
      "\\bottomrule\n",
      "\\end{tabular}\n",
      "\n"
     ]
    }
   ],
   "source": [
    "summary = (v1point0\n",
    "    .groupby([\"surface_type\", \"surface_quality\"]).size()\n",
    "    .unstack(\"surface_quality\", fill_value=0)\n",
    "    .reindex(columns=[\"excellent\", \"good\", \"intermediate\", \"bad\", \"very_bad\"])\n",
    "    )\n",
    "\n",
    "print(summary.to_latex())"
   ]
  },
  {
   "cell_type": "code",
   "execution_count": 37,
   "metadata": {},
   "outputs": [],
   "source": [
    "#summary"
   ]
  },
  {
   "cell_type": "code",
   "execution_count": 39,
   "metadata": {},
   "outputs": [
    {
     "data": {
      "text/plain": [
       "9122"
      ]
     },
     "execution_count": 39,
     "metadata": {},
     "output_type": "execute_result"
    }
   ],
   "source": [
    "len(v1point0)"
   ]
  },
  {
   "cell_type": "code",
   "execution_count": 38,
   "metadata": {},
   "outputs": [
    {
     "data": {
      "text/plain": [
       "train\n",
       "False     776\n",
       "True     8346\n",
       "dtype: int64"
      ]
     },
     "execution_count": 38,
     "metadata": {},
     "output_type": "execute_result"
    }
   ],
   "source": [
    "v1point0.groupby([ \"train\"]).size()"
   ]
  },
  {
   "cell_type": "markdown",
   "metadata": {},
   "source": [
    "### V12 numbers"
   ]
  },
  {
   "cell_type": "code",
   "execution_count": 33,
   "metadata": {},
   "outputs": [
    {
     "data": {
      "text/plain": [
       "surface        smoothness  \n",
       "asphalt        bad              123\n",
       "               excellent        783\n",
       "               good            1334\n",
       "               intermediate     623\n",
       "concrete       bad               54\n",
       "               excellent        189\n",
       "               good             340\n",
       "               intermediate     249\n",
       "paving_stones  bad               31\n",
       "               excellent        342\n",
       "               good             693\n",
       "               intermediate     197\n",
       "sett           bad              518\n",
       "               good              99\n",
       "               intermediate     659\n",
       "unpaved        bad              336\n",
       "               intermediate     305\n",
       "               very_bad         158\n",
       "dtype: int64"
      ]
     },
     "execution_count": 33,
     "metadata": {},
     "output_type": "execute_result"
    }
   ],
   "source": [
    "v12 = pd.read_csv(\"../../../data/v12/metadata/annotations_combined.csv\", index_col=False, dtype={\"image_id\": str})\n",
    "\n",
    "v12.groupby([\"surface\", \"smoothness\"]).size()"
   ]
  },
  {
   "cell_type": "markdown",
   "metadata": {},
   "source": []
  }
 ],
 "metadata": {
  "kernelspec": {
   "display_name": "sai_dc",
   "language": "python",
   "name": "python3"
  },
  "language_info": {
   "codemirror_mode": {
    "name": "ipython",
    "version": 3
   },
   "file_extension": ".py",
   "mimetype": "text/x-python",
   "name": "python",
   "nbconvert_exporter": "python",
   "pygments_lexer": "ipython3",
   "version": "3.12.0"
  }
 },
 "nbformat": 4,
 "nbformat_minor": 2
}
