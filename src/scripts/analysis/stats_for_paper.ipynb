{
 "cells": [
  {
   "cell_type": "code",
   "execution_count": 1,
   "metadata": {},
   "outputs": [],
   "source": [
    "import pandas as pd\n",
    "import numpy as np\n",
    "import os"
   ]
  },
  {
   "cell_type": "markdown",
   "metadata": {},
   "source": [
    "### Mapillary counts"
   ]
  },
  {
   "cell_type": "code",
   "execution_count": 79,
   "metadata": {},
   "outputs": [
    {
     "data": {
      "text/plain": [
       "169994544"
      ]
     },
     "execution_count": 79,
     "metadata": {},
     "output_type": "execute_result"
    }
   ],
   "source": [
    "img_ct = pd.read_csv(\"/Users/alexandra/Documents/GitHub/dataset_creation/data/tag_counts/germany_image_counts.csv\")\n",
    "img_ct.image_count.sum()"
   ]
  },
  {
   "cell_type": "markdown",
   "metadata": {},
   "source": [
    "about 170M images in Germany (query data Nov. 2023)"
   ]
  },
  {
   "cell_type": "markdown",
   "metadata": {},
   "source": [
    "### Mercantile tiles"
   ]
  },
  {
   "cell_type": "code",
   "execution_count": 80,
   "metadata": {},
   "outputs": [
    {
     "data": {
      "text/plain": [
       "5279"
      ]
     },
     "execution_count": 80,
     "metadata": {},
     "output_type": "execute_result"
    }
   ],
   "source": [
    "# number considered of tiles\n",
    "df = pd.read_csv(\"/Users/alexandra/Documents/GitHub/dataset_creation/data/v5/train_tiles_selection.csv\", index_col=False)\n",
    "len(df)"
   ]
  },
  {
   "cell_type": "code",
   "execution_count": 81,
   "metadata": {},
   "outputs": [
    {
     "data": {
      "text/plain": [
       "3996"
      ]
     },
     "execution_count": 81,
     "metadata": {},
     "output_type": "execute_result"
    }
   ],
   "source": [
    "df[\"tile_id\"] = [str(x) + \"_\" + str(y) for x, y in zip(df[\"x\"], df[\"y\"])]\n",
    "df.tile_id.nunique()"
   ]
  },
  {
   "cell_type": "code",
   "execution_count": 5,
   "metadata": {},
   "outputs": [],
   "source": [
    "meta = pd.read_csv(\"/Users/alexandra/Documents/GitHub/dataset_creation/data/v5/train_tiles_metadata.csv\")"
   ]
  },
  {
   "cell_type": "code",
   "execution_count": null,
   "metadata": {},
   "outputs": [
    {
     "data": {
      "text/plain": [
       "51457123"
      ]
     },
     "execution_count": 7,
     "metadata": {},
     "output_type": "execute_result"
    }
   ],
   "source": [
    "len(meta)"
   ]
  },
  {
   "cell_type": "code",
   "execution_count": 6,
   "metadata": {},
   "outputs": [
    {
     "data": {
      "text/plain": [
       "0.3026986736703738"
      ]
     },
     "execution_count": 6,
     "metadata": {},
     "output_type": "execute_result"
    }
   ],
   "source": [
    "len(meta) / img_ct.image_count.sum()"
   ]
  },
  {
   "cell_type": "markdown",
   "metadata": {},
   "source": [
    "30% sample in V5 as image search space"
   ]
  },
  {
   "cell_type": "code",
   "execution_count": 7,
   "metadata": {},
   "outputs": [],
   "source": [
    "meta[\"date\"] = pd.to_datetime(meta.captured_at,  unit=\"ms\")"
   ]
  },
  {
   "cell_type": "code",
   "execution_count": 8,
   "metadata": {},
   "outputs": [],
   "source": [
    "meta[\"year\"] = pd.to_datetime(meta.captured_at,  unit=\"ms\").dt.year"
   ]
  },
  {
   "cell_type": "code",
   "execution_count": 9,
   "metadata": {},
   "outputs": [
    {
     "data": {
      "text/plain": [
       "year\n",
       "1899           9\n",
       "1921           4\n",
       "1970          96\n",
       "1980         459\n",
       "1994          18\n",
       "2000           2\n",
       "2002        1299\n",
       "2004          48\n",
       "2005           5\n",
       "2006         849\n",
       "2007         320\n",
       "2008        1405\n",
       "2009        2129\n",
       "2010        3010\n",
       "2011        7734\n",
       "2012       11964\n",
       "2013        9228\n",
       "2014      620403\n",
       "2015     1203190\n",
       "2016     2040851\n",
       "2017     2915628\n",
       "2018     3688915\n",
       "2019     5432688\n",
       "2020     8348287\n",
       "2021    10028970\n",
       "2022     8821842\n",
       "2023     8060625\n",
       "2024      257145\n",
       "Name: count, dtype: int64"
      ]
     },
     "execution_count": 9,
     "metadata": {},
     "output_type": "execute_result"
    }
   ],
   "source": [
    "meta.value_counts(\"year\").sort_index()"
   ]
  },
  {
   "cell_type": "code",
   "execution_count": 10,
   "metadata": {},
   "outputs": [
    {
     "data": {
      "text/html": [
       "<div>\n",
       "<style scoped>\n",
       "    .dataframe tbody tr th:only-of-type {\n",
       "        vertical-align: middle;\n",
       "    }\n",
       "\n",
       "    .dataframe tbody tr th {\n",
       "        vertical-align: top;\n",
       "    }\n",
       "\n",
       "    .dataframe thead th {\n",
       "        text-align: right;\n",
       "    }\n",
       "</style>\n",
       "<table border=\"1\" class=\"dataframe\">\n",
       "  <thead>\n",
       "    <tr style=\"text-align: right;\">\n",
       "      <th></th>\n",
       "      <th>tile_id</th>\n",
       "      <th>id</th>\n",
       "      <th>sequence_id</th>\n",
       "      <th>captured_at</th>\n",
       "      <th>compass_angle</th>\n",
       "      <th>is_pano</th>\n",
       "      <th>creator_id</th>\n",
       "      <th>lon</th>\n",
       "      <th>lat</th>\n",
       "      <th>date</th>\n",
       "      <th>year</th>\n",
       "    </tr>\n",
       "  </thead>\n",
       "  <tbody>\n",
       "    <tr>\n",
       "      <th>0</th>\n",
       "      <td>8472_5495_14</td>\n",
       "      <td>1707356142945280</td>\n",
       "      <td>NFZVQseCHAkdM93c8TBX2p</td>\n",
       "      <td>1646408953313</td>\n",
       "      <td>235.849106</td>\n",
       "      <td>False</td>\n",
       "      <td>104536648714052</td>\n",
       "      <td>6.163904</td>\n",
       "      <td>50.854445</td>\n",
       "      <td>2022-03-04 15:49:13.313</td>\n",
       "      <td>2022</td>\n",
       "    </tr>\n",
       "    <tr>\n",
       "      <th>1</th>\n",
       "      <td>8472_5495_14</td>\n",
       "      <td>237587568154199</td>\n",
       "      <td>fnSJ7GaGLWXTQciojBhBOw</td>\n",
       "      <td>1441019869000</td>\n",
       "      <td>330.000000</td>\n",
       "      <td>False</td>\n",
       "      <td>103390745232765</td>\n",
       "      <td>6.165894</td>\n",
       "      <td>50.860008</td>\n",
       "      <td>2015-08-31 11:17:49.000</td>\n",
       "      <td>2015</td>\n",
       "    </tr>\n",
       "    <tr>\n",
       "      <th>2</th>\n",
       "      <td>8472_5495_14</td>\n",
       "      <td>975748309981229</td>\n",
       "      <td>NFZVQseCHAkdM93c8TBX2p</td>\n",
       "      <td>1646408904312</td>\n",
       "      <td>230.319958</td>\n",
       "      <td>False</td>\n",
       "      <td>104536648714052</td>\n",
       "      <td>6.166087</td>\n",
       "      <td>50.855450</td>\n",
       "      <td>2022-03-04 15:48:24.312</td>\n",
       "      <td>2022</td>\n",
       "    </tr>\n",
       "    <tr>\n",
       "      <th>3</th>\n",
       "      <td>8472_5495_14</td>\n",
       "      <td>168724596206843</td>\n",
       "      <td>TuRPvl8KZ0JDIYLEoFwbr4</td>\n",
       "      <td>1694435326000</td>\n",
       "      <td>143.651000</td>\n",
       "      <td>False</td>\n",
       "      <td>103550301888099</td>\n",
       "      <td>6.165631</td>\n",
       "      <td>50.854021</td>\n",
       "      <td>2023-09-11 12:28:46.000</td>\n",
       "      <td>2023</td>\n",
       "    </tr>\n",
       "    <tr>\n",
       "      <th>4</th>\n",
       "      <td>8472_5495_14</td>\n",
       "      <td>495587888161346</td>\n",
       "      <td>JEn6aNGUCtcuSafGMlEncw</td>\n",
       "      <td>1564562164000</td>\n",
       "      <td>179.258416</td>\n",
       "      <td>False</td>\n",
       "      <td>103390745232765</td>\n",
       "      <td>6.171484</td>\n",
       "      <td>50.850364</td>\n",
       "      <td>2019-07-31 08:36:04.000</td>\n",
       "      <td>2019</td>\n",
       "    </tr>\n",
       "  </tbody>\n",
       "</table>\n",
       "</div>"
      ],
      "text/plain": [
       "        tile_id                id             sequence_id    captured_at  \\\n",
       "0  8472_5495_14  1707356142945280  NFZVQseCHAkdM93c8TBX2p  1646408953313   \n",
       "1  8472_5495_14   237587568154199  fnSJ7GaGLWXTQciojBhBOw  1441019869000   \n",
       "2  8472_5495_14   975748309981229  NFZVQseCHAkdM93c8TBX2p  1646408904312   \n",
       "3  8472_5495_14   168724596206843  TuRPvl8KZ0JDIYLEoFwbr4  1694435326000   \n",
       "4  8472_5495_14   495587888161346  JEn6aNGUCtcuSafGMlEncw  1564562164000   \n",
       "\n",
       "   compass_angle  is_pano       creator_id       lon        lat  \\\n",
       "0     235.849106    False  104536648714052  6.163904  50.854445   \n",
       "1     330.000000    False  103390745232765  6.165894  50.860008   \n",
       "2     230.319958    False  104536648714052  6.166087  50.855450   \n",
       "3     143.651000    False  103550301888099  6.165631  50.854021   \n",
       "4     179.258416    False  103390745232765  6.171484  50.850364   \n",
       "\n",
       "                     date  year  \n",
       "0 2022-03-04 15:49:13.313  2022  \n",
       "1 2015-08-31 11:17:49.000  2015  \n",
       "2 2022-03-04 15:48:24.312  2022  \n",
       "3 2023-09-11 12:28:46.000  2023  \n",
       "4 2019-07-31 08:36:04.000  2019  "
      ]
     },
     "execution_count": 10,
     "metadata": {},
     "output_type": "execute_result"
    }
   ],
   "source": [
    "meta.head()"
   ]
  },
  {
   "cell_type": "code",
   "execution_count": 11,
   "metadata": {},
   "outputs": [
    {
     "data": {
      "text/plain": [
       "count                         51427459\n",
       "mean     2020-10-04 19:29:34.389486848\n",
       "min                2013-03-16 13:35:26\n",
       "25%                2019-06-23 16:25:13\n",
       "50%      2021-03-17 12:41:47.158000128\n",
       "75%         2022-06-12 10:46:37.500000\n",
       "max                2024-01-16 16:12:56\n",
       "Name: date, dtype: object"
      ]
     },
     "execution_count": 11,
     "metadata": {},
     "output_type": "execute_result"
    }
   ],
   "source": [
    "# take out date outliers (any dates before launch date 2013)\n",
    "meta[meta[\"captured_at\"] > 1363074956000][\"date\"].describe()"
   ]
  },
  {
   "cell_type": "code",
   "execution_count": null,
   "metadata": {},
   "outputs": [],
   "source": [
    "len(meta[meta[\"captured_at\"] < 1394610956000])"
   ]
  },
  {
   "cell_type": "code",
   "execution_count": 12,
   "metadata": {},
   "outputs": [
    {
     "ename": "KeyboardInterrupt",
     "evalue": "",
     "output_type": "error",
     "traceback": [
      "\u001b[0;31m---------------------------------------------------------------------------\u001b[0m",
      "\u001b[0;31mKeyboardInterrupt\u001b[0m                         Traceback (most recent call last)",
      "Cell \u001b[0;32mIn[12], line 1\u001b[0m\n\u001b[0;32m----> 1\u001b[0m np\u001b[38;5;241m.\u001b[39mpercentile(\u001b[43mmeta\u001b[49m\u001b[43m[\u001b[49m\u001b[43mmeta\u001b[49m\u001b[43m[\u001b[49m\u001b[38;5;124;43m\"\u001b[39;49m\u001b[38;5;124;43mcaptured_at\u001b[39;49m\u001b[38;5;124;43m\"\u001b[39;49m\u001b[43m]\u001b[49m\u001b[43m \u001b[49m\u001b[38;5;241;43m>\u001b[39;49m\u001b[43m \u001b[49m\u001b[38;5;241;43m1363074956000\u001b[39;49m\u001b[43m]\u001b[49m[\u001b[38;5;124m\"\u001b[39m\u001b[38;5;124mdate\u001b[39m\u001b[38;5;124m\"\u001b[39m], \u001b[38;5;241m50\u001b[39m)\n",
      "File \u001b[0;32m~/opt/anaconda3/envs/sai_dc/lib/python3.12/site-packages/pandas/core/frame.py:3884\u001b[0m, in \u001b[0;36mDataFrame.__getitem__\u001b[0;34m(self, key)\u001b[0m\n\u001b[1;32m   3882\u001b[0m \u001b[38;5;66;03m# Do we have a (boolean) 1d indexer?\u001b[39;00m\n\u001b[1;32m   3883\u001b[0m \u001b[38;5;28;01mif\u001b[39;00m com\u001b[38;5;241m.\u001b[39mis_bool_indexer(key):\n\u001b[0;32m-> 3884\u001b[0m     \u001b[38;5;28;01mreturn\u001b[39;00m \u001b[38;5;28;43mself\u001b[39;49m\u001b[38;5;241;43m.\u001b[39;49m\u001b[43m_getitem_bool_array\u001b[49m\u001b[43m(\u001b[49m\u001b[43mkey\u001b[49m\u001b[43m)\u001b[49m\n\u001b[1;32m   3886\u001b[0m \u001b[38;5;66;03m# We are left with two options: a single key, and a collection of keys,\u001b[39;00m\n\u001b[1;32m   3887\u001b[0m \u001b[38;5;66;03m# We interpret tuples as collections only for non-MultiIndex\u001b[39;00m\n\u001b[1;32m   3888\u001b[0m is_single_key \u001b[38;5;241m=\u001b[39m \u001b[38;5;28misinstance\u001b[39m(key, \u001b[38;5;28mtuple\u001b[39m) \u001b[38;5;129;01mor\u001b[39;00m \u001b[38;5;129;01mnot\u001b[39;00m is_list_like(key)\n",
      "File \u001b[0;32m~/opt/anaconda3/envs/sai_dc/lib/python3.12/site-packages/pandas/core/frame.py:3946\u001b[0m, in \u001b[0;36mDataFrame._getitem_bool_array\u001b[0;34m(self, key)\u001b[0m\n\u001b[1;32m   3943\u001b[0m     \u001b[38;5;28;01mreturn\u001b[39;00m \u001b[38;5;28mself\u001b[39m\u001b[38;5;241m.\u001b[39mcopy(deep\u001b[38;5;241m=\u001b[39m\u001b[38;5;28;01mNone\u001b[39;00m)\n\u001b[1;32m   3945\u001b[0m indexer \u001b[38;5;241m=\u001b[39m key\u001b[38;5;241m.\u001b[39mnonzero()[\u001b[38;5;241m0\u001b[39m]\n\u001b[0;32m-> 3946\u001b[0m \u001b[38;5;28;01mreturn\u001b[39;00m \u001b[38;5;28;43mself\u001b[39;49m\u001b[38;5;241;43m.\u001b[39;49m\u001b[43m_take_with_is_copy\u001b[49m\u001b[43m(\u001b[49m\u001b[43mindexer\u001b[49m\u001b[43m,\u001b[49m\u001b[43m \u001b[49m\u001b[43maxis\u001b[49m\u001b[38;5;241;43m=\u001b[39;49m\u001b[38;5;241;43m0\u001b[39;49m\u001b[43m)\u001b[49m\n",
      "File \u001b[0;32m~/opt/anaconda3/envs/sai_dc/lib/python3.12/site-packages/pandas/core/generic.py:4088\u001b[0m, in \u001b[0;36mNDFrame._take_with_is_copy\u001b[0;34m(self, indices, axis)\u001b[0m\n\u001b[1;32m   4077\u001b[0m \u001b[38;5;129m@final\u001b[39m\n\u001b[1;32m   4078\u001b[0m \u001b[38;5;28;01mdef\u001b[39;00m \u001b[38;5;21m_take_with_is_copy\u001b[39m(\u001b[38;5;28mself\u001b[39m, indices, axis: Axis \u001b[38;5;241m=\u001b[39m \u001b[38;5;241m0\u001b[39m) \u001b[38;5;241m-\u001b[39m\u001b[38;5;241m>\u001b[39m Self:\n\u001b[1;32m   4079\u001b[0m \u001b[38;5;250m    \u001b[39m\u001b[38;5;124;03m\"\"\"\u001b[39;00m\n\u001b[1;32m   4080\u001b[0m \u001b[38;5;124;03m    Internal version of the `take` method that sets the `_is_copy`\u001b[39;00m\n\u001b[1;32m   4081\u001b[0m \u001b[38;5;124;03m    attribute to keep track of the parent dataframe (using in indexing\u001b[39;00m\n\u001b[0;32m   (...)\u001b[0m\n\u001b[1;32m   4086\u001b[0m \u001b[38;5;124;03m    See the docstring of `take` for full explanation of the parameters.\u001b[39;00m\n\u001b[1;32m   4087\u001b[0m \u001b[38;5;124;03m    \"\"\"\u001b[39;00m\n\u001b[0;32m-> 4088\u001b[0m     result \u001b[38;5;241m=\u001b[39m \u001b[38;5;28;43mself\u001b[39;49m\u001b[38;5;241;43m.\u001b[39;49m\u001b[43mtake\u001b[49m\u001b[43m(\u001b[49m\u001b[43mindices\u001b[49m\u001b[38;5;241;43m=\u001b[39;49m\u001b[43mindices\u001b[49m\u001b[43m,\u001b[49m\u001b[43m \u001b[49m\u001b[43maxis\u001b[49m\u001b[38;5;241;43m=\u001b[39;49m\u001b[43maxis\u001b[49m\u001b[43m)\u001b[49m\n\u001b[1;32m   4089\u001b[0m     \u001b[38;5;66;03m# Maybe set copy if we didn't actually change the index.\u001b[39;00m\n\u001b[1;32m   4090\u001b[0m     \u001b[38;5;28;01mif\u001b[39;00m \u001b[38;5;28mself\u001b[39m\u001b[38;5;241m.\u001b[39mndim \u001b[38;5;241m==\u001b[39m \u001b[38;5;241m2\u001b[39m \u001b[38;5;129;01mand\u001b[39;00m \u001b[38;5;129;01mnot\u001b[39;00m result\u001b[38;5;241m.\u001b[39m_get_axis(axis)\u001b[38;5;241m.\u001b[39mequals(\u001b[38;5;28mself\u001b[39m\u001b[38;5;241m.\u001b[39m_get_axis(axis)):\n",
      "File \u001b[0;32m~/opt/anaconda3/envs/sai_dc/lib/python3.12/site-packages/pandas/core/generic.py:4068\u001b[0m, in \u001b[0;36mNDFrame.take\u001b[0;34m(self, indices, axis, **kwargs)\u001b[0m\n\u001b[1;32m   4063\u001b[0m     \u001b[38;5;66;03m# We can get here with a slice via DataFrame.__getitem__\u001b[39;00m\n\u001b[1;32m   4064\u001b[0m     indices \u001b[38;5;241m=\u001b[39m np\u001b[38;5;241m.\u001b[39marange(\n\u001b[1;32m   4065\u001b[0m         indices\u001b[38;5;241m.\u001b[39mstart, indices\u001b[38;5;241m.\u001b[39mstop, indices\u001b[38;5;241m.\u001b[39mstep, dtype\u001b[38;5;241m=\u001b[39mnp\u001b[38;5;241m.\u001b[39mintp\n\u001b[1;32m   4066\u001b[0m     )\n\u001b[0;32m-> 4068\u001b[0m new_data \u001b[38;5;241m=\u001b[39m \u001b[38;5;28;43mself\u001b[39;49m\u001b[38;5;241;43m.\u001b[39;49m\u001b[43m_mgr\u001b[49m\u001b[38;5;241;43m.\u001b[39;49m\u001b[43mtake\u001b[49m\u001b[43m(\u001b[49m\n\u001b[1;32m   4069\u001b[0m \u001b[43m    \u001b[49m\u001b[43mindices\u001b[49m\u001b[43m,\u001b[49m\n\u001b[1;32m   4070\u001b[0m \u001b[43m    \u001b[49m\u001b[43maxis\u001b[49m\u001b[38;5;241;43m=\u001b[39;49m\u001b[38;5;28;43mself\u001b[39;49m\u001b[38;5;241;43m.\u001b[39;49m\u001b[43m_get_block_manager_axis\u001b[49m\u001b[43m(\u001b[49m\u001b[43maxis\u001b[49m\u001b[43m)\u001b[49m\u001b[43m,\u001b[49m\n\u001b[1;32m   4071\u001b[0m \u001b[43m    \u001b[49m\u001b[43mverify\u001b[49m\u001b[38;5;241;43m=\u001b[39;49m\u001b[38;5;28;43;01mTrue\u001b[39;49;00m\u001b[43m,\u001b[49m\n\u001b[1;32m   4072\u001b[0m \u001b[43m\u001b[49m\u001b[43m)\u001b[49m\n\u001b[1;32m   4073\u001b[0m \u001b[38;5;28;01mreturn\u001b[39;00m \u001b[38;5;28mself\u001b[39m\u001b[38;5;241m.\u001b[39m_constructor_from_mgr(new_data, axes\u001b[38;5;241m=\u001b[39mnew_data\u001b[38;5;241m.\u001b[39maxes)\u001b[38;5;241m.\u001b[39m__finalize__(\n\u001b[1;32m   4074\u001b[0m     \u001b[38;5;28mself\u001b[39m, method\u001b[38;5;241m=\u001b[39m\u001b[38;5;124m\"\u001b[39m\u001b[38;5;124mtake\u001b[39m\u001b[38;5;124m\"\u001b[39m\n\u001b[1;32m   4075\u001b[0m )\n",
      "File \u001b[0;32m~/opt/anaconda3/envs/sai_dc/lib/python3.12/site-packages/pandas/core/internals/managers.py:877\u001b[0m, in \u001b[0;36mBaseBlockManager.take\u001b[0;34m(self, indexer, axis, verify)\u001b[0m\n\u001b[1;32m    874\u001b[0m indexer \u001b[38;5;241m=\u001b[39m maybe_convert_indices(indexer, n, verify\u001b[38;5;241m=\u001b[39mverify)\n\u001b[1;32m    876\u001b[0m new_labels \u001b[38;5;241m=\u001b[39m \u001b[38;5;28mself\u001b[39m\u001b[38;5;241m.\u001b[39maxes[axis]\u001b[38;5;241m.\u001b[39mtake(indexer)\n\u001b[0;32m--> 877\u001b[0m \u001b[38;5;28;01mreturn\u001b[39;00m \u001b[38;5;28;43mself\u001b[39;49m\u001b[38;5;241;43m.\u001b[39;49m\u001b[43mreindex_indexer\u001b[49m\u001b[43m(\u001b[49m\n\u001b[1;32m    878\u001b[0m \u001b[43m    \u001b[49m\u001b[43mnew_axis\u001b[49m\u001b[38;5;241;43m=\u001b[39;49m\u001b[43mnew_labels\u001b[49m\u001b[43m,\u001b[49m\n\u001b[1;32m    879\u001b[0m \u001b[43m    \u001b[49m\u001b[43mindexer\u001b[49m\u001b[38;5;241;43m=\u001b[39;49m\u001b[43mindexer\u001b[49m\u001b[43m,\u001b[49m\n\u001b[1;32m    880\u001b[0m \u001b[43m    \u001b[49m\u001b[43maxis\u001b[49m\u001b[38;5;241;43m=\u001b[39;49m\u001b[43maxis\u001b[49m\u001b[43m,\u001b[49m\n\u001b[1;32m    881\u001b[0m \u001b[43m    \u001b[49m\u001b[43mallow_dups\u001b[49m\u001b[38;5;241;43m=\u001b[39;49m\u001b[38;5;28;43;01mTrue\u001b[39;49;00m\u001b[43m,\u001b[49m\n\u001b[1;32m    882\u001b[0m \u001b[43m    \u001b[49m\u001b[43mcopy\u001b[49m\u001b[38;5;241;43m=\u001b[39;49m\u001b[38;5;28;43;01mNone\u001b[39;49;00m\u001b[43m,\u001b[49m\n\u001b[1;32m    883\u001b[0m \u001b[43m\u001b[49m\u001b[43m)\u001b[49m\n",
      "File \u001b[0;32m~/opt/anaconda3/envs/sai_dc/lib/python3.12/site-packages/pandas/core/internals/managers.py:671\u001b[0m, in \u001b[0;36mBaseBlockManager.reindex_indexer\u001b[0;34m(self, new_axis, indexer, axis, fill_value, allow_dups, copy, only_slice, use_na_proxy)\u001b[0m\n\u001b[1;32m    663\u001b[0m     new_blocks \u001b[38;5;241m=\u001b[39m \u001b[38;5;28mself\u001b[39m\u001b[38;5;241m.\u001b[39m_slice_take_blocks_ax0(\n\u001b[1;32m    664\u001b[0m         indexer,\n\u001b[1;32m    665\u001b[0m         fill_value\u001b[38;5;241m=\u001b[39mfill_value,\n\u001b[1;32m    666\u001b[0m         only_slice\u001b[38;5;241m=\u001b[39monly_slice,\n\u001b[1;32m    667\u001b[0m         use_na_proxy\u001b[38;5;241m=\u001b[39muse_na_proxy,\n\u001b[1;32m    668\u001b[0m     )\n\u001b[1;32m    669\u001b[0m \u001b[38;5;28;01melse\u001b[39;00m:\n\u001b[1;32m    670\u001b[0m     new_blocks \u001b[38;5;241m=\u001b[39m [\n\u001b[0;32m--> 671\u001b[0m         \u001b[43mblk\u001b[49m\u001b[38;5;241;43m.\u001b[39;49m\u001b[43mtake_nd\u001b[49m\u001b[43m(\u001b[49m\n\u001b[1;32m    672\u001b[0m \u001b[43m            \u001b[49m\u001b[43mindexer\u001b[49m\u001b[43m,\u001b[49m\n\u001b[1;32m    673\u001b[0m \u001b[43m            \u001b[49m\u001b[43maxis\u001b[49m\u001b[38;5;241;43m=\u001b[39;49m\u001b[38;5;241;43m1\u001b[39;49m\u001b[43m,\u001b[49m\n\u001b[1;32m    674\u001b[0m \u001b[43m            \u001b[49m\u001b[43mfill_value\u001b[49m\u001b[38;5;241;43m=\u001b[39;49m\u001b[43m(\u001b[49m\n\u001b[1;32m    675\u001b[0m \u001b[43m                \u001b[49m\u001b[43mfill_value\u001b[49m\u001b[43m \u001b[49m\u001b[38;5;28;43;01mif\u001b[39;49;00m\u001b[43m \u001b[49m\u001b[43mfill_value\u001b[49m\u001b[43m \u001b[49m\u001b[38;5;129;43;01mis\u001b[39;49;00m\u001b[43m \u001b[49m\u001b[38;5;129;43;01mnot\u001b[39;49;00m\u001b[43m \u001b[49m\u001b[38;5;28;43;01mNone\u001b[39;49;00m\u001b[43m \u001b[49m\u001b[38;5;28;43;01melse\u001b[39;49;00m\u001b[43m \u001b[49m\u001b[43mblk\u001b[49m\u001b[38;5;241;43m.\u001b[39;49m\u001b[43mfill_value\u001b[49m\n\u001b[1;32m    676\u001b[0m \u001b[43m            \u001b[49m\u001b[43m)\u001b[49m\u001b[43m,\u001b[49m\n\u001b[1;32m    677\u001b[0m \u001b[43m        \u001b[49m\u001b[43m)\u001b[49m\n\u001b[1;32m    678\u001b[0m         \u001b[38;5;28;01mfor\u001b[39;00m blk \u001b[38;5;129;01min\u001b[39;00m \u001b[38;5;28mself\u001b[39m\u001b[38;5;241m.\u001b[39mblocks\n\u001b[1;32m    679\u001b[0m     ]\n\u001b[1;32m    681\u001b[0m new_axes \u001b[38;5;241m=\u001b[39m \u001b[38;5;28mlist\u001b[39m(\u001b[38;5;28mself\u001b[39m\u001b[38;5;241m.\u001b[39maxes)\n\u001b[1;32m    682\u001b[0m new_axes[axis] \u001b[38;5;241m=\u001b[39m new_axis\n",
      "File \u001b[0;32m~/opt/anaconda3/envs/sai_dc/lib/python3.12/site-packages/pandas/core/internals/blocks.py:1061\u001b[0m, in \u001b[0;36mBlock.take_nd\u001b[0;34m(self, indexer, axis, new_mgr_locs, fill_value)\u001b[0m\n\u001b[1;32m   1058\u001b[0m     allow_fill \u001b[38;5;241m=\u001b[39m \u001b[38;5;28;01mTrue\u001b[39;00m\n\u001b[1;32m   1060\u001b[0m \u001b[38;5;66;03m# Note: algos.take_nd has upcast logic similar to coerce_to_target_dtype\u001b[39;00m\n\u001b[0;32m-> 1061\u001b[0m new_values \u001b[38;5;241m=\u001b[39m \u001b[43malgos\u001b[49m\u001b[38;5;241;43m.\u001b[39;49m\u001b[43mtake_nd\u001b[49m\u001b[43m(\u001b[49m\n\u001b[1;32m   1062\u001b[0m \u001b[43m    \u001b[49m\u001b[43mvalues\u001b[49m\u001b[43m,\u001b[49m\u001b[43m \u001b[49m\u001b[43mindexer\u001b[49m\u001b[43m,\u001b[49m\u001b[43m \u001b[49m\u001b[43maxis\u001b[49m\u001b[38;5;241;43m=\u001b[39;49m\u001b[43maxis\u001b[49m\u001b[43m,\u001b[49m\u001b[43m \u001b[49m\u001b[43mallow_fill\u001b[49m\u001b[38;5;241;43m=\u001b[39;49m\u001b[43mallow_fill\u001b[49m\u001b[43m,\u001b[49m\u001b[43m \u001b[49m\u001b[43mfill_value\u001b[49m\u001b[38;5;241;43m=\u001b[39;49m\u001b[43mfill_value\u001b[49m\n\u001b[1;32m   1063\u001b[0m \u001b[43m\u001b[49m\u001b[43m)\u001b[49m\n\u001b[1;32m   1065\u001b[0m \u001b[38;5;66;03m# Called from three places in managers, all of which satisfy\u001b[39;00m\n\u001b[1;32m   1066\u001b[0m \u001b[38;5;66;03m#  these assertions\u001b[39;00m\n\u001b[1;32m   1067\u001b[0m \u001b[38;5;28;01mif\u001b[39;00m \u001b[38;5;28misinstance\u001b[39m(\u001b[38;5;28mself\u001b[39m, ExtensionBlock):\n\u001b[1;32m   1068\u001b[0m     \u001b[38;5;66;03m# NB: in this case, the 'axis' kwarg will be ignored in the\u001b[39;00m\n\u001b[1;32m   1069\u001b[0m     \u001b[38;5;66;03m#  algos.take_nd call above.\u001b[39;00m\n",
      "File \u001b[0;32m~/opt/anaconda3/envs/sai_dc/lib/python3.12/site-packages/pandas/core/array_algos/take.py:111\u001b[0m, in \u001b[0;36mtake_nd\u001b[0;34m(arr, indexer, axis, fill_value, allow_fill)\u001b[0m\n\u001b[1;32m    108\u001b[0m     \u001b[38;5;28;01mif\u001b[39;00m \u001b[38;5;129;01mnot\u001b[39;00m is_1d_only_ea_dtype(arr\u001b[38;5;241m.\u001b[39mdtype):\n\u001b[1;32m    109\u001b[0m         \u001b[38;5;66;03m# i.e. DatetimeArray, TimedeltaArray\u001b[39;00m\n\u001b[1;32m    110\u001b[0m         arr \u001b[38;5;241m=\u001b[39m cast(\u001b[38;5;124m\"\u001b[39m\u001b[38;5;124mNDArrayBackedExtensionArray\u001b[39m\u001b[38;5;124m\"\u001b[39m, arr)\n\u001b[0;32m--> 111\u001b[0m         \u001b[38;5;28;01mreturn\u001b[39;00m \u001b[43marr\u001b[49m\u001b[38;5;241;43m.\u001b[39;49m\u001b[43mtake\u001b[49m\u001b[43m(\u001b[49m\n\u001b[1;32m    112\u001b[0m \u001b[43m            \u001b[49m\u001b[43mindexer\u001b[49m\u001b[43m,\u001b[49m\u001b[43m \u001b[49m\u001b[43mfill_value\u001b[49m\u001b[38;5;241;43m=\u001b[39;49m\u001b[43mfill_value\u001b[49m\u001b[43m,\u001b[49m\u001b[43m \u001b[49m\u001b[43mallow_fill\u001b[49m\u001b[38;5;241;43m=\u001b[39;49m\u001b[43mallow_fill\u001b[49m\u001b[43m,\u001b[49m\u001b[43m \u001b[49m\u001b[43maxis\u001b[49m\u001b[38;5;241;43m=\u001b[39;49m\u001b[43maxis\u001b[49m\n\u001b[1;32m    113\u001b[0m \u001b[43m        \u001b[49m\u001b[43m)\u001b[49m\n\u001b[1;32m    115\u001b[0m     \u001b[38;5;28;01mreturn\u001b[39;00m arr\u001b[38;5;241m.\u001b[39mtake(indexer, fill_value\u001b[38;5;241m=\u001b[39mfill_value, allow_fill\u001b[38;5;241m=\u001b[39mallow_fill)\n\u001b[1;32m    117\u001b[0m arr \u001b[38;5;241m=\u001b[39m np\u001b[38;5;241m.\u001b[39masarray(arr)\n",
      "File \u001b[0;32m~/opt/anaconda3/envs/sai_dc/lib/python3.12/site-packages/pandas/core/arrays/_mixins.py:160\u001b[0m, in \u001b[0;36mNDArrayBackedExtensionArray.take\u001b[0;34m(self, indices, allow_fill, fill_value, axis)\u001b[0m\n\u001b[1;32m    157\u001b[0m \u001b[38;5;28;01mif\u001b[39;00m allow_fill:\n\u001b[1;32m    158\u001b[0m     fill_value \u001b[38;5;241m=\u001b[39m \u001b[38;5;28mself\u001b[39m\u001b[38;5;241m.\u001b[39m_validate_scalar(fill_value)\n\u001b[0;32m--> 160\u001b[0m new_data \u001b[38;5;241m=\u001b[39m \u001b[43mtake\u001b[49m\u001b[43m(\u001b[49m\n\u001b[1;32m    161\u001b[0m \u001b[43m    \u001b[49m\u001b[38;5;28;43mself\u001b[39;49m\u001b[38;5;241;43m.\u001b[39;49m\u001b[43m_ndarray\u001b[49m\u001b[43m,\u001b[49m\n\u001b[1;32m    162\u001b[0m \u001b[43m    \u001b[49m\u001b[43mindices\u001b[49m\u001b[43m,\u001b[49m\n\u001b[1;32m    163\u001b[0m \u001b[43m    \u001b[49m\u001b[43mallow_fill\u001b[49m\u001b[38;5;241;43m=\u001b[39;49m\u001b[43mallow_fill\u001b[49m\u001b[43m,\u001b[49m\n\u001b[1;32m    164\u001b[0m \u001b[43m    \u001b[49m\u001b[43mfill_value\u001b[49m\u001b[38;5;241;43m=\u001b[39;49m\u001b[43mfill_value\u001b[49m\u001b[43m,\u001b[49m\n\u001b[1;32m    165\u001b[0m \u001b[43m    \u001b[49m\u001b[43maxis\u001b[49m\u001b[38;5;241;43m=\u001b[39;49m\u001b[43maxis\u001b[49m\u001b[43m,\u001b[49m\n\u001b[1;32m    166\u001b[0m \u001b[43m\u001b[49m\u001b[43m)\u001b[49m\n\u001b[1;32m    167\u001b[0m \u001b[38;5;28;01mreturn\u001b[39;00m \u001b[38;5;28mself\u001b[39m\u001b[38;5;241m.\u001b[39m_from_backing_data(new_data)\n",
      "File \u001b[0;32m~/opt/anaconda3/envs/sai_dc/lib/python3.12/site-packages/pandas/core/algorithms.py:1314\u001b[0m, in \u001b[0;36mtake\u001b[0;34m(arr, indices, axis, allow_fill, fill_value)\u001b[0m\n\u001b[1;32m   1311\u001b[0m \u001b[38;5;28;01mif\u001b[39;00m allow_fill:\n\u001b[1;32m   1312\u001b[0m     \u001b[38;5;66;03m# Pandas style, -1 means NA\u001b[39;00m\n\u001b[1;32m   1313\u001b[0m     validate_indices(indices, arr\u001b[38;5;241m.\u001b[39mshape[axis])\n\u001b[0;32m-> 1314\u001b[0m     result \u001b[38;5;241m=\u001b[39m \u001b[43mtake_nd\u001b[49m\u001b[43m(\u001b[49m\n\u001b[1;32m   1315\u001b[0m \u001b[43m        \u001b[49m\u001b[43marr\u001b[49m\u001b[43m,\u001b[49m\u001b[43m \u001b[49m\u001b[43mindices\u001b[49m\u001b[43m,\u001b[49m\u001b[43m \u001b[49m\u001b[43maxis\u001b[49m\u001b[38;5;241;43m=\u001b[39;49m\u001b[43maxis\u001b[49m\u001b[43m,\u001b[49m\u001b[43m \u001b[49m\u001b[43mallow_fill\u001b[49m\u001b[38;5;241;43m=\u001b[39;49m\u001b[38;5;28;43;01mTrue\u001b[39;49;00m\u001b[43m,\u001b[49m\u001b[43m \u001b[49m\u001b[43mfill_value\u001b[49m\u001b[38;5;241;43m=\u001b[39;49m\u001b[43mfill_value\u001b[49m\n\u001b[1;32m   1316\u001b[0m \u001b[43m    \u001b[49m\u001b[43m)\u001b[49m\n\u001b[1;32m   1317\u001b[0m \u001b[38;5;28;01melse\u001b[39;00m:\n\u001b[1;32m   1318\u001b[0m     \u001b[38;5;66;03m# NumPy style\u001b[39;00m\n\u001b[1;32m   1319\u001b[0m     result \u001b[38;5;241m=\u001b[39m arr\u001b[38;5;241m.\u001b[39mtake(indices, axis\u001b[38;5;241m=\u001b[39maxis)\n",
      "File \u001b[0;32m~/opt/anaconda3/envs/sai_dc/lib/python3.12/site-packages/pandas/core/array_algos/take.py:118\u001b[0m, in \u001b[0;36mtake_nd\u001b[0;34m(arr, indexer, axis, fill_value, allow_fill)\u001b[0m\n\u001b[1;32m    115\u001b[0m     \u001b[38;5;28;01mreturn\u001b[39;00m arr\u001b[38;5;241m.\u001b[39mtake(indexer, fill_value\u001b[38;5;241m=\u001b[39mfill_value, allow_fill\u001b[38;5;241m=\u001b[39mallow_fill)\n\u001b[1;32m    117\u001b[0m arr \u001b[38;5;241m=\u001b[39m np\u001b[38;5;241m.\u001b[39masarray(arr)\n\u001b[0;32m--> 118\u001b[0m \u001b[38;5;28;01mreturn\u001b[39;00m \u001b[43m_take_nd_ndarray\u001b[49m\u001b[43m(\u001b[49m\u001b[43marr\u001b[49m\u001b[43m,\u001b[49m\u001b[43m \u001b[49m\u001b[43mindexer\u001b[49m\u001b[43m,\u001b[49m\u001b[43m \u001b[49m\u001b[43maxis\u001b[49m\u001b[43m,\u001b[49m\u001b[43m \u001b[49m\u001b[43mfill_value\u001b[49m\u001b[43m,\u001b[49m\u001b[43m \u001b[49m\u001b[43mallow_fill\u001b[49m\u001b[43m)\u001b[49m\n",
      "File \u001b[0;32m~/opt/anaconda3/envs/sai_dc/lib/python3.12/site-packages/pandas/core/array_algos/take.py:163\u001b[0m, in \u001b[0;36m_take_nd_ndarray\u001b[0;34m(arr, indexer, axis, fill_value, allow_fill)\u001b[0m\n\u001b[1;32m    158\u001b[0m     out \u001b[38;5;241m=\u001b[39m np\u001b[38;5;241m.\u001b[39mempty(out_shape, dtype\u001b[38;5;241m=\u001b[39mdtype)\n\u001b[1;32m    160\u001b[0m func \u001b[38;5;241m=\u001b[39m _get_take_nd_function(\n\u001b[1;32m    161\u001b[0m     arr\u001b[38;5;241m.\u001b[39mndim, arr\u001b[38;5;241m.\u001b[39mdtype, out\u001b[38;5;241m.\u001b[39mdtype, axis\u001b[38;5;241m=\u001b[39maxis, mask_info\u001b[38;5;241m=\u001b[39mmask_info\n\u001b[1;32m    162\u001b[0m )\n\u001b[0;32m--> 163\u001b[0m \u001b[43mfunc\u001b[49m\u001b[43m(\u001b[49m\u001b[43marr\u001b[49m\u001b[43m,\u001b[49m\u001b[43m \u001b[49m\u001b[43mindexer\u001b[49m\u001b[43m,\u001b[49m\u001b[43m \u001b[49m\u001b[43mout\u001b[49m\u001b[43m,\u001b[49m\u001b[43m \u001b[49m\u001b[43mfill_value\u001b[49m\u001b[43m)\u001b[49m\n\u001b[1;32m    165\u001b[0m \u001b[38;5;28;01mif\u001b[39;00m flip_order:\n\u001b[1;32m    166\u001b[0m     out \u001b[38;5;241m=\u001b[39m out\u001b[38;5;241m.\u001b[39mT\n",
      "File \u001b[0;32m~/opt/anaconda3/envs/sai_dc/lib/python3.12/site-packages/pandas/core/array_algos/take.py:370\u001b[0m, in \u001b[0;36m_view_wrapper.<locals>.wrapper\u001b[0;34m(arr, indexer, out, fill_value)\u001b[0m\n\u001b[1;32m    367\u001b[0m         fill_value \u001b[38;5;241m=\u001b[39m fill_value\u001b[38;5;241m.\u001b[39mastype(\u001b[38;5;124m\"\u001b[39m\u001b[38;5;124mM8[ns]\u001b[39m\u001b[38;5;124m\"\u001b[39m)\n\u001b[1;32m    368\u001b[0m     fill_value \u001b[38;5;241m=\u001b[39m fill_wrap(fill_value)\n\u001b[0;32m--> 370\u001b[0m \u001b[43mf\u001b[49m\u001b[43m(\u001b[49m\u001b[43marr\u001b[49m\u001b[43m,\u001b[49m\u001b[43m \u001b[49m\u001b[43mindexer\u001b[49m\u001b[43m,\u001b[49m\u001b[43m \u001b[49m\u001b[43mout\u001b[49m\u001b[43m,\u001b[49m\u001b[43m \u001b[49m\u001b[43mfill_value\u001b[49m\u001b[38;5;241;43m=\u001b[39;49m\u001b[43mfill_value\u001b[49m\u001b[43m)\u001b[49m\n",
      "\u001b[0;31mKeyboardInterrupt\u001b[0m: "
     ]
    }
   ],
   "source": [
    "np.percentile(meta[meta[\"captured_at\"] > 1363074956000][\"date\"], 50)"
   ]
  },
  {
   "cell_type": "code",
   "execution_count": null,
   "metadata": {},
   "outputs": [
    {
     "data": {
      "text/plain": [
       "<Axes: >"
      ]
     },
     "execution_count": 59,
     "metadata": {},
     "output_type": "execute_result"
    },
    {
     "data": {
      "image/png": "[encoded data removed]",
      "text/plain": [
       "<Figure size 640x480 with 1 Axes>"
      ]
     },
     "metadata": {},
     "output_type": "display_data"
    }
   ],
   "source": [
    "meta[meta[\"captured_at\"] > 1363074956000][\"date\"].hist()"
   ]
  },
  {
   "cell_type": "code",
   "execution_count": null,
   "metadata": {},
   "outputs": [
    {
     "data": {
      "text/plain": [
       "count                         51457123\n",
       "mean     2020-10-02 15:08:45.973085440\n",
       "min                1899-11-30 08:09:47\n",
       "25%         2019-06-23 11:53:59.476000\n",
       "50%                2021-03-15 08:50:17\n",
       "75%                2022-06-12 05:47:11\n",
       "max                2024-01-16 16:12:56\n",
       "Name: date, dtype: object"
      ]
     },
     "execution_count": 34,
     "metadata": {},
     "output_type": "execute_result"
    }
   ],
   "source": [
    "meta[\"date\"].describe()"
   ]
  },
  {
   "cell_type": "markdown",
   "metadata": {},
   "source": [
    "## Analysis Batch 1"
   ]
  },
  {
   "cell_type": "code",
   "execution_count": 27,
   "metadata": {},
   "outputs": [],
   "source": [
    "# annotations of batch 1\n",
    "df_V4 = pd.read_csv(\"/Users/alexandra/Nextcloud-HTW/SHARED/SurfaceAI/data/mapillary_images/training/V4/metadata/annotations_combined.csv\", index_col=False)"
   ]
  },
  {
   "cell_type": "code",
   "execution_count": 28,
   "metadata": {},
   "outputs": [
    {
     "data": {
      "text/plain": [
       "1799"
      ]
     },
     "execution_count": 28,
     "metadata": {},
     "output_type": "execute_result"
    }
   ],
   "source": [
    "len(df_V4)"
   ]
  },
  {
   "cell_type": "code",
   "execution_count": 29,
   "metadata": {},
   "outputs": [
    {
     "data": {
      "text/plain": [
       "surface        smoothness  \n",
       "asphalt        bad              13\n",
       "               excellent       234\n",
       "               good            321\n",
       "               intermediate     83\n",
       "concrete       bad              19\n",
       "               excellent        22\n",
       "               good            101\n",
       "               intermediate     63\n",
       "paving_stones  bad               2\n",
       "               excellent        34\n",
       "               good            127\n",
       "               intermediate     47\n",
       "sett           bad              80\n",
       "               good             20\n",
       "               intermediate     87\n",
       "unpaved        bad              92\n",
       "               intermediate     93\n",
       "               very_bad         25\n",
       "dtype: int64"
      ]
     },
     "execution_count": 29,
     "metadata": {},
     "output_type": "execute_result"
    }
   ],
   "source": [
    "df_V4.groupby([\"surface\", \"smoothness\"]).size()"
   ]
  },
  {
   "cell_type": "markdown",
   "metadata": {},
   "source": [
    "#### How much data is excluded"
   ]
  },
  {
   "cell_type": "code",
   "execution_count": 30,
   "metadata": {},
   "outputs": [
    {
     "ename": "KeyboardInterrupt",
     "evalue": "",
     "output_type": "error",
     "traceback": [
      "\u001b[0;31m---------------------------------------------------------------------------\u001b[0m",
      "\u001b[0;31mKeyboardInterrupt\u001b[0m                         Traceback (most recent call last)",
      "Cell \u001b[0;32mIn[30], line 2\u001b[0m\n\u001b[1;32m      1\u001b[0m \u001b[38;5;66;03m# number of images with a tag\u001b[39;00m\n\u001b[0;32m----> 2\u001b[0m df_tag \u001b[38;5;241m=\u001b[39m \u001b[43mpd\u001b[49m\u001b[38;5;241;43m.\u001b[39;49m\u001b[43mread_csv\u001b[49m\u001b[43m(\u001b[49m\u001b[38;5;124;43m\"\u001b[39;49m\u001b[38;5;124;43m/Users/alexandra/Documents/GitHub/dataset_creation/data/v5/img_metadata_with_tags.csv\u001b[39;49m\u001b[38;5;124;43m\"\u001b[39;49m\u001b[43m,\u001b[49m\u001b[43m \u001b[49m\u001b[43mindex_col\u001b[49m\u001b[38;5;241;43m=\u001b[39;49m\u001b[38;5;28;43;01mFalse\u001b[39;49;00m\u001b[43m)\u001b[49m\n",
      "File \u001b[0;32m~/opt/anaconda3/envs/sai_dc/lib/python3.12/site-packages/pandas/io/parsers/readers.py:948\u001b[0m, in \u001b[0;36mread_csv\u001b[0;34m(filepath_or_buffer, sep, delimiter, header, names, index_col, usecols, dtype, engine, converters, true_values, false_values, skipinitialspace, skiprows, skipfooter, nrows, na_values, keep_default_na, na_filter, verbose, skip_blank_lines, parse_dates, infer_datetime_format, keep_date_col, date_parser, date_format, dayfirst, cache_dates, iterator, chunksize, compression, thousands, decimal, lineterminator, quotechar, quoting, doublequote, escapechar, comment, encoding, encoding_errors, dialect, on_bad_lines, delim_whitespace, low_memory, memory_map, float_precision, storage_options, dtype_backend)\u001b[0m\n\u001b[1;32m    935\u001b[0m kwds_defaults \u001b[38;5;241m=\u001b[39m _refine_defaults_read(\n\u001b[1;32m    936\u001b[0m     dialect,\n\u001b[1;32m    937\u001b[0m     delimiter,\n\u001b[0;32m   (...)\u001b[0m\n\u001b[1;32m    944\u001b[0m     dtype_backend\u001b[38;5;241m=\u001b[39mdtype_backend,\n\u001b[1;32m    945\u001b[0m )\n\u001b[1;32m    946\u001b[0m kwds\u001b[38;5;241m.\u001b[39mupdate(kwds_defaults)\n\u001b[0;32m--> 948\u001b[0m \u001b[38;5;28;01mreturn\u001b[39;00m \u001b[43m_read\u001b[49m\u001b[43m(\u001b[49m\u001b[43mfilepath_or_buffer\u001b[49m\u001b[43m,\u001b[49m\u001b[43m \u001b[49m\u001b[43mkwds\u001b[49m\u001b[43m)\u001b[49m\n",
      "File \u001b[0;32m~/opt/anaconda3/envs/sai_dc/lib/python3.12/site-packages/pandas/io/parsers/readers.py:617\u001b[0m, in \u001b[0;36m_read\u001b[0;34m(filepath_or_buffer, kwds)\u001b[0m\n\u001b[1;32m    614\u001b[0m     \u001b[38;5;28;01mreturn\u001b[39;00m parser\n\u001b[1;32m    616\u001b[0m \u001b[38;5;28;01mwith\u001b[39;00m parser:\n\u001b[0;32m--> 617\u001b[0m     \u001b[38;5;28;01mreturn\u001b[39;00m \u001b[43mparser\u001b[49m\u001b[38;5;241;43m.\u001b[39;49m\u001b[43mread\u001b[49m\u001b[43m(\u001b[49m\u001b[43mnrows\u001b[49m\u001b[43m)\u001b[49m\n",
      "File \u001b[0;32m~/opt/anaconda3/envs/sai_dc/lib/python3.12/site-packages/pandas/io/parsers/readers.py:1748\u001b[0m, in \u001b[0;36mTextFileReader.read\u001b[0;34m(self, nrows)\u001b[0m\n\u001b[1;32m   1741\u001b[0m nrows \u001b[38;5;241m=\u001b[39m validate_integer(\u001b[38;5;124m\"\u001b[39m\u001b[38;5;124mnrows\u001b[39m\u001b[38;5;124m\"\u001b[39m, nrows)\n\u001b[1;32m   1742\u001b[0m \u001b[38;5;28;01mtry\u001b[39;00m:\n\u001b[1;32m   1743\u001b[0m     \u001b[38;5;66;03m# error: \"ParserBase\" has no attribute \"read\"\u001b[39;00m\n\u001b[1;32m   1744\u001b[0m     (\n\u001b[1;32m   1745\u001b[0m         index,\n\u001b[1;32m   1746\u001b[0m         columns,\n\u001b[1;32m   1747\u001b[0m         col_dict,\n\u001b[0;32m-> 1748\u001b[0m     ) \u001b[38;5;241m=\u001b[39m \u001b[38;5;28;43mself\u001b[39;49m\u001b[38;5;241;43m.\u001b[39;49m\u001b[43m_engine\u001b[49m\u001b[38;5;241;43m.\u001b[39;49m\u001b[43mread\u001b[49m\u001b[43m(\u001b[49m\u001b[43m  \u001b[49m\u001b[38;5;66;43;03m# type: ignore[attr-defined]\u001b[39;49;00m\n\u001b[1;32m   1749\u001b[0m \u001b[43m        \u001b[49m\u001b[43mnrows\u001b[49m\n\u001b[1;32m   1750\u001b[0m \u001b[43m    \u001b[49m\u001b[43m)\u001b[49m\n\u001b[1;32m   1751\u001b[0m \u001b[38;5;28;01mexcept\u001b[39;00m \u001b[38;5;167;01mException\u001b[39;00m:\n\u001b[1;32m   1752\u001b[0m     \u001b[38;5;28mself\u001b[39m\u001b[38;5;241m.\u001b[39mclose()\n",
      "File \u001b[0;32m~/opt/anaconda3/envs/sai_dc/lib/python3.12/site-packages/pandas/io/parsers/c_parser_wrapper.py:234\u001b[0m, in \u001b[0;36mCParserWrapper.read\u001b[0;34m(self, nrows)\u001b[0m\n\u001b[1;32m    232\u001b[0m \u001b[38;5;28;01mtry\u001b[39;00m:\n\u001b[1;32m    233\u001b[0m     \u001b[38;5;28;01mif\u001b[39;00m \u001b[38;5;28mself\u001b[39m\u001b[38;5;241m.\u001b[39mlow_memory:\n\u001b[0;32m--> 234\u001b[0m         chunks \u001b[38;5;241m=\u001b[39m \u001b[38;5;28;43mself\u001b[39;49m\u001b[38;5;241;43m.\u001b[39;49m\u001b[43m_reader\u001b[49m\u001b[38;5;241;43m.\u001b[39;49m\u001b[43mread_low_memory\u001b[49m\u001b[43m(\u001b[49m\u001b[43mnrows\u001b[49m\u001b[43m)\u001b[49m\n\u001b[1;32m    235\u001b[0m         \u001b[38;5;66;03m# destructive to chunks\u001b[39;00m\n\u001b[1;32m    236\u001b[0m         data \u001b[38;5;241m=\u001b[39m _concatenate_chunks(chunks)\n",
      "File \u001b[0;32mparsers.pyx:843\u001b[0m, in \u001b[0;36mpandas._libs.parsers.TextReader.read_low_memory\u001b[0;34m()\u001b[0m\n",
      "File \u001b[0;32mparsers.pyx:904\u001b[0m, in \u001b[0;36mpandas._libs.parsers.TextReader._read_rows\u001b[0;34m()\u001b[0m\n",
      "File \u001b[0;32mparsers.pyx:879\u001b[0m, in \u001b[0;36mpandas._libs.parsers.TextReader._tokenize_rows\u001b[0;34m()\u001b[0m\n",
      "File \u001b[0;32mparsers.pyx:890\u001b[0m, in \u001b[0;36mpandas._libs.parsers.TextReader._check_tokenize_status\u001b[0;34m()\u001b[0m\n",
      "File \u001b[0;32mparsers.pyx:2050\u001b[0m, in \u001b[0;36mpandas._libs.parsers.raise_parser_error\u001b[0;34m()\u001b[0m\n",
      "File \u001b[0;32m<frozen codecs>:319\u001b[0m, in \u001b[0;36mdecode\u001b[0;34m(self, input, final)\u001b[0m\n",
      "\u001b[0;31mKeyboardInterrupt\u001b[0m: "
     ]
    }
   ],
   "source": [
    "# number of images with a tag\n",
    "df_tag = pd.read_csv(\"/Users/alexandra/Documents/GitHub/dataset_creation/data/v5/img_metadata_with_tags.csv\", index_col=False)"
   ]
  },
  {
   "cell_type": "code",
   "execution_count": null,
   "metadata": {},
   "outputs": [
    {
     "data": {
      "text/plain": [
       "14246142"
      ]
     },
     "execution_count": 9,
     "metadata": {},
     "output_type": "execute_result"
    }
   ],
   "source": [
    "len(df_tag)"
   ]
  },
  {
   "cell_type": "code",
   "execution_count": 31,
   "metadata": {},
   "outputs": [],
   "source": [
    "# TODO: add \"analyze_preidction_V4\""
   ]
  },
  {
   "cell_type": "markdown",
   "metadata": {},
   "source": [
    "## creator names"
   ]
  },
  {
   "cell_type": "code",
   "execution_count": 32,
   "metadata": {},
   "outputs": [
    {
     "name": "stdout",
     "output_type": "stream",
     "text": [
      "{\"id\":\"148771344320493\",\"creator\":{\"username\":\"macsico\",\"id\":\"108354611399818\"}}{\"id\":\"293245499014573\",\"creator\":{\"username\":\"zoegglmeyr\",\"id\":\"110552844504419\"}}{\"id\":\"133978728960378\",\"creator\":{\"username\":\"carlheinz\",\"id\":\"100232345559807\"}}{\"id\":\"129178263353193\",\"creator\":{\"username\":\"carlheinz\",\"id\":\"100232345559807\"}}{\"id\":\"291493615899057\",\"creator\":{\"username\":\"hubert87\",\"id\":\"102532525320329\"}}{\"id\":\"828495164980463\",\"creator\":{\"username\":\"carlheinz\",\"id\":\"100232345559807\"}}^C\n",
      "{\"id\":\"149787357161377\",\"creator\":{\"username\":\"rasmustravemnd\",\"id\":\"107765738126751\"}}"
     ]
    }
   ],
   "source": [
    "!curl 'https://graph.mapillary.com/148771344320493?access_token=MLY|5381465351976670|a4ac3be1ecdebf1885b0790b8efec369&fields=id,creator'\n",
    "!curl 'https://graph.mapillary.com/293245499014573?access_token=MLY|5381465351976670|a4ac3be1ecdebf1885b0790b8efec369&fields=id,creator'\n",
    "!curl 'https://graph.mapillary.com/133978728960378?access_token=MLY|5381465351976670|a4ac3be1ecdebf1885b0790b8efec369&fields=id,creator'\n",
    "!curl 'https://graph.mapillary.com/129178263353193?access_token=MLY|5381465351976670|a4ac3be1ecdebf1885b0790b8efec369&fields=id,creator'\n",
    "!curl 'https://graph.mapillary.com/291493615899057?access_token=MLY|5381465351976670|a4ac3be1ecdebf1885b0790b8efec369&fields=id,creator'\n",
    "!curl 'https://graph.mapillary.com/828495164980463?access_token=MLY|5381465351976670|a4ac3be1ecdebf1885b0790b8efec369&fields=id,creator'\n",
    "!curl 'https://graph.mapillary.com/137193541781677?access_token=MLY|5381465351976670|a4ac3be1ecdebf1885b0790b8efec369&fields=id,creator'\n",
    "!curl 'https://graph.mapillary.com/149787357161377?access_token=MLY|5381465351976670|a4ac3be1ecdebf1885b0790b8efec369&fields=id,creator'"
   ]
  },
  {
   "cell_type": "markdown",
   "metadata": {},
   "source": [
    "## Precision of OSMT and TCM"
   ]
  },
  {
   "cell_type": "code",
   "execution_count": 10,
   "metadata": {},
   "outputs": [],
   "source": [
    "\n",
    "def clean_smoothness(metadata):\n",
    "    \"\"\"Clean smoothness column of metadata dataframe according to defined OSM smoothness values\n",
    "\n",
    "    Args:\n",
    "        metadata (df): dataframe with image metadata, including column \"smoothness\"\n",
    "\n",
    "    Returns:\n",
    "        df: dataframe with cleaned smoothness column \"smoothness_clean\"\n",
    "    \"\"\"\n",
    "    metadata[\"smoothness\"] = metadata.smoothness.str.strip()\n",
    "    metadata[\"smoothness_clean\"] = metadata[\"smoothness\"].replace(\n",
    "        [\n",
    "            \"horrible\",\n",
    "            \"very_horrible\",\n",
    "            \"impassable\",\n",
    "            \"very bad\"\n",
    "        ],\n",
    "        \"very_bad\",\n",
    "    )\n",
    "\n",
    "    metadata[\"smoothness_clean\"] = metadata[\"smoothness_clean\"].replace(\n",
    "        [\"perfect\", \"very_good\"], \"excellent\"\n",
    "    )\n",
    "    return metadata\n",
    "\n",
    "\n",
    "def clean_surface(metadata):\n",
    "    \"\"\"Clean surface column of metadata dataframe according to defined OSM surface values\n",
    "\n",
    "    Args:\n",
    "        metadata (df): dataframe with image metadata, including column \"surface\"\n",
    "\n",
    "    Returns:\n",
    "        df: dataframe with cleaned surface column \"surface_clean\"\n",
    "    \"\"\"\n",
    "    metadata[\"surface\"] = metadata.surface.str.strip()\n",
    "    metadata[\"surface_clean\"] = metadata[\"surface\"].replace(\n",
    "        [\n",
    "            \"compacted\",\n",
    "            \"gravel\",\n",
    "            \"ground\",\n",
    "            \"fine_gravel\",\n",
    "            \"dirt\",\n",
    "            \"grass\",\n",
    "            \"earth\",\n",
    "            \"sand\",\n",
    "        ],\n",
    "        \"unpaved\",\n",
    "    )\n",
    "    metadata[\"surface_clean\"] = metadata[\"surface_clean\"].replace(\n",
    "        [\"cobblestone\", \"cobblestone:flattened\", \"unhewn_cobblestone\"], \"sett\"\n",
    "    )\n",
    "    metadata[\"surface_clean\"] = metadata[\"surface_clean\"].replace(\n",
    "        [\"concrete:plates\", \"concrete:lanes\"], \"concrete\",\n",
    "    )\n",
    "    return metadata"
   ]
  },
  {
   "cell_type": "code",
   "execution_count": 11,
   "metadata": {},
   "outputs": [],
   "source": [
    "smoothness_mapping = {\"excellent\": 1, \"good\": 2, \"intermediate\": 3, \"bad\": 4, \"very_bad\": 5}"
   ]
  },
  {
   "cell_type": "code",
   "execution_count": 12,
   "metadata": {},
   "outputs": [],
   "source": [
    "# osm frequency distribution\n",
    "osm_tag_counts = pd.read_csv(\"/Users/alexandra/Nextcloud-HTW/SHARED/SurfaceAI/data/OSM/osm_tag_counts_germany.csv\")\n",
    "osm_tag_counts.surface = osm_tag_counts.surface.str.strip()\n",
    "osm_tag_counts.smoothness = osm_tag_counts.smoothness.str.strip()\n",
    "osm_tag_counts = clean_surface(osm_tag_counts)\n",
    "osm_tag_counts = clean_smoothness(osm_tag_counts)\n",
    "osm_tag_counts.rename({\"surface_clean\": \"surface_osm\", \"smoothness_clean\": \"smoothness_osm\"}, axis=1, inplace=True)\n",
    "osm_tag_counts[\"smoothness_osm_int\"] = osm_tag_counts.smoothness_osm.map(smoothness_mapping)\n",
    "\n",
    "# compute distr.\n",
    "osm_tag_counts[\"osm_distr\"] = round(osm_tag_counts.ct / osm_tag_counts.ct.sum() * 100, 2)\n",
    "\n",
    "# remove irrelevant classes \n",
    "osm_tag_counts = osm_tag_counts[~osm_tag_counts.surface_osm.isin([\"pebblestone\", \"wood\",\"grass_paver\", \"metal\"])]\n"
   ]
  },
  {
   "cell_type": "code",
   "execution_count": 13,
   "metadata": {},
   "outputs": [],
   "source": [
    "# annotations\n",
    "annotations = pd.read_csv(\"/Users/alexandra/Nextcloud-HTW/SHARED/SurfaceAI/data/mapillary_images/training/v12/metadata/annotations_combined.csv\", index_col=False, dtype={\"image_id\": str})\n",
    "annotations.loc[annotations.nostreet.notna(), \"surface\"] = \"nostreet\"\n",
    "annotations.loc[annotations.nostreet.notna(), \"smoothness\"] = \"nostreet\"\n"
   ]
  },
  {
   "cell_type": "code",
   "execution_count": 14,
   "metadata": {},
   "outputs": [],
   "source": [
    "# intersected osm tags\n",
    "osm_tags = pd.read_csv(\"/Users/alexandra/Documents/GitHub/dataset_creation/data/v5_mapillary_metadata_with_tags_NEW.csv\", dtype={\"id\": str})\n",
    "osm_tags= clean_surface(osm_tags)\n",
    "osm_tags =  clean_smoothness(osm_tags)\n",
    "osm_tags.rename({\"surface_clean\": \"surface_osm\", \"smoothness_clean\": \"smoothness_osm\"}, axis=1, inplace=True)\n",
    "osm_tags[\"smoothness_osm_int\"] = osm_tags.smoothness_osm.map(smoothness_mapping)\n",
    "\n"
   ]
  },
  {
   "cell_type": "code",
   "execution_count": 15,
   "metadata": {},
   "outputs": [],
   "source": [
    "# get all classification model predictions\n",
    "cloud_image_folder = (\n",
    "    \"/Users/alexandra/Nextcloud-HTW/SHARED/SurfaceAI/data/mapillary_images/\"\n",
    ")\n",
    "model_prediction_path = os.path.join(cloud_image_folder, \"training\", \"{}\", \"metadata\")\n",
    "model_prediction_file = {\n",
    "    \"V5_c1\": \"model_predictions_V5_c1_predicted.csv\",\n",
    "    \"V5_c2\": \"surface_prediction-V5_c2-20240215_143635.csv\",\n",
    "    \"V5_c3\": \"surface_prediction-V5_c3-20240222_122429.csv\",\n",
    "    \"V5_c4\": \"surface_prediction-V5_c4-20240226_150406.csv\",\n",
    "    \"V5_c5\": \"surface_prediction-V5_c5-20240226_155720.csv\",\n",
    "    \"V5_c6\": \"surface_prediction-V5_c6-20240305_171454.csv\",\n",
    "    \"V5_c7\": \"surface_prediction-V5_c7-20240306_100314.csv\",\n",
    "}\n",
    "\n",
    "tcm_pred = pd.DataFrame()\n",
    "for pred_file in model_prediction_file.items():\n",
    "    temp = pd.read_csv(os.path.join(model_prediction_path.format(pred_file[0]), pred_file[1]), dtype={\"Image\": str, \"image_id\": str})\n",
    "    temp.rename({\"Image\": \"image_id\", \"Prediction\": \"class_probability\", \"Level_0\":\"model_prediction\"}, axis=1, inplace=True)\n",
    "    idx = temp.groupby(\"image_id\")[\"class_probability\"].idxmax()\n",
    "    temp = temp.loc[idx]\n",
    "    tcm_pred = pd.concat([tcm_pred,temp])"
   ]
  },
  {
   "cell_type": "code",
   "execution_count": 16,
   "metadata": {},
   "outputs": [],
   "source": [
    "df = (annotations[[\"image_id\", \"surface\", \"smoothness\"]]\n",
    ".set_index(\"image_id\")\n",
    ".join(osm_tags[[\"id\", \"surface_osm\", \"smoothness_osm_int\", \"smoothness_osm\"]].set_index(\"id\"), how=\"outer\")\n",
    ")\n",
    "\n",
    "df[\"smoothness_int\"] = df.smoothness.map(smoothness_mapping)\n",
    "\n",
    "# only keep images where we have a classification model prediction\n",
    "df = df.join(tcm_pred.set_index(\"image_id\"), how=\"right\")\n",
    "\n",
    "# remove all instances where we do not have a new OSM tag\n",
    "df = df[df.surface_osm.notna()]\n",
    "df = df[df.smoothness_osm.notna()]"
   ]
  },
  {
   "cell_type": "code",
   "execution_count": 17,
   "metadata": {},
   "outputs": [],
   "source": [
    "def osmt_precisions(df, osm_tag_counts, group_by_annot, group_by_osm):\n",
    "    if group_by_annot == [\"surface\"]:\n",
    "        # drop uncleaned columns\n",
    "        drop_col = [\"surface\", \"smoothness\", \"smoothness_osm\"]\n",
    "        # on how many tags do annotations and prediction agree (true positives)?\n",
    "        tp = pd.DataFrame(df[(df.surface == df.surface_osm) &\n",
    "                            (df.model_prediction == df.surface_osm)].groupby(group_by_annot).size())\n",
    "    else:\n",
    "        drop_col = [\"surface\", \"smoothness\"]\n",
    "        tp = pd.DataFrame(df[(df.surface == df.surface_osm) & \n",
    "                            (df.model_prediction == df.surface_osm) &\n",
    "                            (df.smoothness == df.smoothness_osm)].groupby(group_by_annot).size())\n",
    "    osm_tag_counts = osm_tag_counts.drop(drop_col, axis=1).groupby(group_by_osm).sum()\n",
    "    tp.columns = [\"tp\"]\n",
    "\n",
    "    # how many images did we classify by the model? # group by OSM Tag counts \n",
    "    TCM_classified = pd.DataFrame(df.groupby(group_by_osm).size())\n",
    "    TCM_classified.columns = [\"TCM_classified\"]\n",
    "\n",
    "    # on how many tags do OSMT and TCM agree (how many are annotated) that also have (any) annotation?\n",
    "    annotated = pd.DataFrame(df[(df.model_prediction == df.surface_osm) &\n",
    "                                df.surface.notna()].groupby(group_by_osm).size())\n",
    "    annotated.columns = [\"annotated\"]\n",
    "\n",
    "    cts = (tp\n",
    "    .join(osm_tag_counts[\"osm_distr\"], on=group_by_annot, how=\"left\")\n",
    "    .join(TCM_classified, on=group_by_annot, how=\"outer\")\n",
    "    .join(annotated, on=group_by_annot, how=\"outer\")\n",
    "    )\n",
    "\n",
    "    cts[\"OSMT: tp/TCM_classified\"] = round(cts.tp / cts.TCM_classified * 100, 2)\n",
    "    cts[\"OSMT+CTM: tp/annotated\"] = round(cts.tp / cts.annotated * 100, 2)\n",
    "    cts.sort_index(inplace=True)\n",
    "    return(cts)"
   ]
  },
  {
   "cell_type": "code",
   "execution_count": 18,
   "metadata": {},
   "outputs": [
    {
     "data": {
      "text/html": [
       "<div>\n",
       "<style scoped>\n",
       "    .dataframe tbody tr th:only-of-type {\n",
       "        vertical-align: middle;\n",
       "    }\n",
       "\n",
       "    .dataframe tbody tr th {\n",
       "        vertical-align: top;\n",
       "    }\n",
       "\n",
       "    .dataframe thead th {\n",
       "        text-align: right;\n",
       "    }\n",
       "</style>\n",
       "<table border=\"1\" class=\"dataframe\">\n",
       "  <thead>\n",
       "    <tr style=\"text-align: right;\">\n",
       "      <th></th>\n",
       "      <th></th>\n",
       "      <th></th>\n",
       "      <th>tp</th>\n",
       "      <th>osm_distr</th>\n",
       "      <th>TCM_classified</th>\n",
       "      <th>annotated</th>\n",
       "      <th>OSMT: tp/TCM_classified</th>\n",
       "      <th>OSMT+CTM: tp/annotated</th>\n",
       "    </tr>\n",
       "    <tr>\n",
       "      <th>surface</th>\n",
       "      <th>smoothness_int</th>\n",
       "      <th>smoothness</th>\n",
       "      <th></th>\n",
       "      <th></th>\n",
       "      <th></th>\n",
       "      <th></th>\n",
       "      <th></th>\n",
       "      <th></th>\n",
       "    </tr>\n",
       "  </thead>\n",
       "  <tbody>\n",
       "    <tr>\n",
       "      <th rowspan=\"4\" valign=\"top\">asphalt</th>\n",
       "      <th>1.0</th>\n",
       "      <th>excellent</th>\n",
       "      <td>123.0</td>\n",
       "      <td>20.31</td>\n",
       "      <td>442</td>\n",
       "      <td>283</td>\n",
       "      <td>27.83</td>\n",
       "      <td>43.46</td>\n",
       "    </tr>\n",
       "    <tr>\n",
       "      <th>2.0</th>\n",
       "      <th>good</th>\n",
       "      <td>147.0</td>\n",
       "      <td>29.29</td>\n",
       "      <td>515</td>\n",
       "      <td>293</td>\n",
       "      <td>28.54</td>\n",
       "      <td>50.17</td>\n",
       "    </tr>\n",
       "    <tr>\n",
       "      <th>3.0</th>\n",
       "      <th>intermediate</th>\n",
       "      <td>353.0</td>\n",
       "      <td>4.05</td>\n",
       "      <td>2396</td>\n",
       "      <td>1738</td>\n",
       "      <td>14.73</td>\n",
       "      <td>20.31</td>\n",
       "    </tr>\n",
       "    <tr>\n",
       "      <th>4.0</th>\n",
       "      <th>bad</th>\n",
       "      <td>94.0</td>\n",
       "      <td>0.69</td>\n",
       "      <td>1667</td>\n",
       "      <td>1068</td>\n",
       "      <td>5.64</td>\n",
       "      <td>8.80</td>\n",
       "    </tr>\n",
       "    <tr>\n",
       "      <th rowspan=\"4\" valign=\"top\">concrete</th>\n",
       "      <th>1.0</th>\n",
       "      <th>excellent</th>\n",
       "      <td>47.0</td>\n",
       "      <td>0.36</td>\n",
       "      <td>1112</td>\n",
       "      <td>165</td>\n",
       "      <td>4.23</td>\n",
       "      <td>28.48</td>\n",
       "    </tr>\n",
       "    <tr>\n",
       "      <th>2.0</th>\n",
       "      <th>good</th>\n",
       "      <td>104.0</td>\n",
       "      <td>0.94</td>\n",
       "      <td>446</td>\n",
       "      <td>189</td>\n",
       "      <td>23.32</td>\n",
       "      <td>55.03</td>\n",
       "    </tr>\n",
       "    <tr>\n",
       "      <th>3.0</th>\n",
       "      <th>intermediate</th>\n",
       "      <td>107.0</td>\n",
       "      <td>0.78</td>\n",
       "      <td>479</td>\n",
       "      <td>240</td>\n",
       "      <td>22.34</td>\n",
       "      <td>44.58</td>\n",
       "    </tr>\n",
       "    <tr>\n",
       "      <th>4.0</th>\n",
       "      <th>bad</th>\n",
       "      <td>32.0</td>\n",
       "      <td>0.23</td>\n",
       "      <td>351</td>\n",
       "      <td>156</td>\n",
       "      <td>9.12</td>\n",
       "      <td>20.51</td>\n",
       "    </tr>\n",
       "    <tr>\n",
       "      <th rowspan=\"4\" valign=\"top\">paving_stones</th>\n",
       "      <th>1.0</th>\n",
       "      <th>excellent</th>\n",
       "      <td>300.0</td>\n",
       "      <td>2.98</td>\n",
       "      <td>2761</td>\n",
       "      <td>991</td>\n",
       "      <td>10.87</td>\n",
       "      <td>30.27</td>\n",
       "    </tr>\n",
       "    <tr>\n",
       "      <th>2.0</th>\n",
       "      <th>good</th>\n",
       "      <td>70.0</td>\n",
       "      <td>10.62</td>\n",
       "      <td>456</td>\n",
       "      <td>151</td>\n",
       "      <td>15.35</td>\n",
       "      <td>46.36</td>\n",
       "    </tr>\n",
       "    <tr>\n",
       "      <th>3.0</th>\n",
       "      <th>intermediate</th>\n",
       "      <td>79.0</td>\n",
       "      <td>1.94</td>\n",
       "      <td>2586</td>\n",
       "      <td>794</td>\n",
       "      <td>3.05</td>\n",
       "      <td>9.95</td>\n",
       "    </tr>\n",
       "    <tr>\n",
       "      <th>4.0</th>\n",
       "      <th>bad</th>\n",
       "      <td>8.0</td>\n",
       "      <td>0.22</td>\n",
       "      <td>797</td>\n",
       "      <td>209</td>\n",
       "      <td>1.00</td>\n",
       "      <td>3.83</td>\n",
       "    </tr>\n",
       "    <tr>\n",
       "      <th rowspan=\"3\" valign=\"top\">sett</th>\n",
       "      <th>2.0</th>\n",
       "      <th>good</th>\n",
       "      <td>31.0</td>\n",
       "      <td>0.56</td>\n",
       "      <td>1418</td>\n",
       "      <td>240</td>\n",
       "      <td>2.19</td>\n",
       "      <td>12.92</td>\n",
       "    </tr>\n",
       "    <tr>\n",
       "      <th>3.0</th>\n",
       "      <th>intermediate</th>\n",
       "      <td>98.0</td>\n",
       "      <td>1.97</td>\n",
       "      <td>506</td>\n",
       "      <td>205</td>\n",
       "      <td>19.37</td>\n",
       "      <td>47.80</td>\n",
       "    </tr>\n",
       "    <tr>\n",
       "      <th>4.0</th>\n",
       "      <th>bad</th>\n",
       "      <td>306.0</td>\n",
       "      <td>1.26</td>\n",
       "      <td>2568</td>\n",
       "      <td>656</td>\n",
       "      <td>11.92</td>\n",
       "      <td>46.65</td>\n",
       "    </tr>\n",
       "    <tr>\n",
       "      <th rowspan=\"4\" valign=\"top\">unpaved</th>\n",
       "      <th>2.0</th>\n",
       "      <th>good</th>\n",
       "      <td>NaN</td>\n",
       "      <td>NaN</td>\n",
       "      <td>5</td>\n",
       "      <td>1</td>\n",
       "      <td>NaN</td>\n",
       "      <td>NaN</td>\n",
       "    </tr>\n",
       "    <tr>\n",
       "      <th>3.0</th>\n",
       "      <th>intermediate</th>\n",
       "      <td>140.0</td>\n",
       "      <td>5.75</td>\n",
       "      <td>399</td>\n",
       "      <td>230</td>\n",
       "      <td>35.09</td>\n",
       "      <td>60.87</td>\n",
       "    </tr>\n",
       "    <tr>\n",
       "      <th>4.0</th>\n",
       "      <th>bad</th>\n",
       "      <td>105.0</td>\n",
       "      <td>7.67</td>\n",
       "      <td>367</td>\n",
       "      <td>235</td>\n",
       "      <td>28.61</td>\n",
       "      <td>44.68</td>\n",
       "    </tr>\n",
       "    <tr>\n",
       "      <th>5.0</th>\n",
       "      <th>very_bad</th>\n",
       "      <td>89.0</td>\n",
       "      <td>7.38</td>\n",
       "      <td>476</td>\n",
       "      <td>331</td>\n",
       "      <td>18.70</td>\n",
       "      <td>26.89</td>\n",
       "    </tr>\n",
       "  </tbody>\n",
       "</table>\n",
       "</div>"
      ],
      "text/plain": [
       "                                              tp  osm_distr  TCM_classified  \\\n",
       "surface       smoothness_int smoothness                                       \n",
       "asphalt       1.0            excellent     123.0      20.31             442   \n",
       "              2.0            good          147.0      29.29             515   \n",
       "              3.0            intermediate  353.0       4.05            2396   \n",
       "              4.0            bad            94.0       0.69            1667   \n",
       "concrete      1.0            excellent      47.0       0.36            1112   \n",
       "              2.0            good          104.0       0.94             446   \n",
       "              3.0            intermediate  107.0       0.78             479   \n",
       "              4.0            bad            32.0       0.23             351   \n",
       "paving_stones 1.0            excellent     300.0       2.98            2761   \n",
       "              2.0            good           70.0      10.62             456   \n",
       "              3.0            intermediate   79.0       1.94            2586   \n",
       "              4.0            bad             8.0       0.22             797   \n",
       "sett          2.0            good           31.0       0.56            1418   \n",
       "              3.0            intermediate   98.0       1.97             506   \n",
       "              4.0            bad           306.0       1.26            2568   \n",
       "unpaved       2.0            good            NaN        NaN               5   \n",
       "              3.0            intermediate  140.0       5.75             399   \n",
       "              4.0            bad           105.0       7.67             367   \n",
       "              5.0            very_bad       89.0       7.38             476   \n",
       "\n",
       "                                           annotated  OSMT: tp/TCM_classified  \\\n",
       "surface       smoothness_int smoothness                                         \n",
       "asphalt       1.0            excellent           283                    27.83   \n",
       "              2.0            good                293                    28.54   \n",
       "              3.0            intermediate       1738                    14.73   \n",
       "              4.0            bad                1068                     5.64   \n",
       "concrete      1.0            excellent           165                     4.23   \n",
       "              2.0            good                189                    23.32   \n",
       "              3.0            intermediate        240                    22.34   \n",
       "              4.0            bad                 156                     9.12   \n",
       "paving_stones 1.0            excellent           991                    10.87   \n",
       "              2.0            good                151                    15.35   \n",
       "              3.0            intermediate        794                     3.05   \n",
       "              4.0            bad                 209                     1.00   \n",
       "sett          2.0            good                240                     2.19   \n",
       "              3.0            intermediate        205                    19.37   \n",
       "              4.0            bad                 656                    11.92   \n",
       "unpaved       2.0            good                  1                      NaN   \n",
       "              3.0            intermediate        230                    35.09   \n",
       "              4.0            bad                 235                    28.61   \n",
       "              5.0            very_bad            331                    18.70   \n",
       "\n",
       "                                           OSMT+CTM: tp/annotated  \n",
       "surface       smoothness_int smoothness                            \n",
       "asphalt       1.0            excellent                      43.46  \n",
       "              2.0            good                           50.17  \n",
       "              3.0            intermediate                   20.31  \n",
       "              4.0            bad                             8.80  \n",
       "concrete      1.0            excellent                      28.48  \n",
       "              2.0            good                           55.03  \n",
       "              3.0            intermediate                   44.58  \n",
       "              4.0            bad                            20.51  \n",
       "paving_stones 1.0            excellent                      30.27  \n",
       "              2.0            good                           46.36  \n",
       "              3.0            intermediate                    9.95  \n",
       "              4.0            bad                             3.83  \n",
       "sett          2.0            good                           12.92  \n",
       "              3.0            intermediate                   47.80  \n",
       "              4.0            bad                            46.65  \n",
       "unpaved       2.0            good                             NaN  \n",
       "              3.0            intermediate                   60.87  \n",
       "              4.0            bad                            44.68  \n",
       "              5.0            very_bad                       26.89  "
      ]
     },
     "execution_count": 18,
     "metadata": {},
     "output_type": "execute_result"
    }
   ],
   "source": [
    "group_by_annot = [\"surface\", \"smoothness_int\", \"smoothness\"]\n",
    "group_by_osm = [\"surface_osm\", \"smoothness_osm_int\", \"smoothness_osm\"]\n",
    "cts = osmt_precisions(df, osm_tag_counts, group_by_annot, group_by_osm)\n",
    "cts"
   ]
  },
  {
   "cell_type": "code",
   "execution_count": 19,
   "metadata": {},
   "outputs": [
    {
     "data": {
      "text/plain": [
       "19747"
      ]
     },
     "execution_count": 19,
     "metadata": {},
     "output_type": "execute_result"
    }
   ],
   "source": [
    "cts.TCM_classified.sum()"
   ]
  },
  {
   "cell_type": "code",
   "execution_count": 20,
   "metadata": {},
   "outputs": [
    {
     "name": "stdout",
     "output_type": "stream",
     "text": [
      "\\begin{tabular}{lrrr}\n",
      "\\toprule\n",
      "class & osm_distr & OSMT: tp/TCM_classified & OSMT+CTM: tp/annotated \\\\\n",
      "\\midrule\n",
      "asphalt-excellent & 20.31 & 27.83 & 43.46 \\\\\n",
      "asphalt-good & 29.29 & 28.54 & 50.17 \\\\\n",
      "asphalt-intermediate & 4.05 & 14.73 & 20.31 \\\\\n",
      "asphalt-bad & 0.69 & 5.64 & 8.80 \\\\\n",
      "paving_stones-excellent & 2.98 & 10.87 & 30.27 \\\\\n",
      "paving_stones-good & 10.62 & 15.35 & 46.36 \\\\\n",
      "paving_stones-intermediate & 1.94 & 3.05 & 9.95 \\\\\n",
      "paving_stones-bad & 0.22 & 1.00 & 3.83 \\\\\n",
      "\\bottomrule\n",
      "\\end{tabular}\n",
      "\n"
     ]
    }
   ],
   "source": [
    "cts.reset_index(inplace=True)\n",
    "cts[\"class\"] = cts.surface + \"-\" + cts.smoothness\n",
    "print(\n",
    "    cts.loc[cts.surface.isin([\"asphalt\", \"paving_stones\"]), \n",
    "            [\"class\", \"osm_distr\", \"OSMT: tp/TCM_classified\", \"OSMT+CTM: tp/annotated\"]]\n",
    "    .to_latex(float_format=\"%.2f\", index=False)\n",
    ")"
   ]
  },
  {
   "cell_type": "code",
   "execution_count": 21,
   "metadata": {},
   "outputs": [
    {
     "data": {
      "text/html": [
       "<div>\n",
       "<style scoped>\n",
       "    .dataframe tbody tr th:only-of-type {\n",
       "        vertical-align: middle;\n",
       "    }\n",
       "\n",
       "    .dataframe tbody tr th {\n",
       "        vertical-align: top;\n",
       "    }\n",
       "\n",
       "    .dataframe thead th {\n",
       "        text-align: right;\n",
       "    }\n",
       "</style>\n",
       "<table border=\"1\" class=\"dataframe\">\n",
       "  <thead>\n",
       "    <tr style=\"text-align: right;\">\n",
       "      <th></th>\n",
       "      <th>tp</th>\n",
       "      <th>osm_distr</th>\n",
       "      <th>TCM_classified</th>\n",
       "      <th>annotated</th>\n",
       "      <th>OSMT: tp/TCM_classified</th>\n",
       "      <th>OSMT+CTM: tp/annotated</th>\n",
       "    </tr>\n",
       "    <tr>\n",
       "      <th>surface</th>\n",
       "      <th></th>\n",
       "      <th></th>\n",
       "      <th></th>\n",
       "      <th></th>\n",
       "      <th></th>\n",
       "      <th></th>\n",
       "    </tr>\n",
       "  </thead>\n",
       "  <tbody>\n",
       "    <tr>\n",
       "      <th>asphalt</th>\n",
       "      <td>2207</td>\n",
       "      <td>54.42</td>\n",
       "      <td>5020</td>\n",
       "      <td>3382</td>\n",
       "      <td>43.96</td>\n",
       "      <td>65.26</td>\n",
       "    </tr>\n",
       "    <tr>\n",
       "      <th>concrete</th>\n",
       "      <td>553</td>\n",
       "      <td>2.32</td>\n",
       "      <td>2388</td>\n",
       "      <td>750</td>\n",
       "      <td>23.16</td>\n",
       "      <td>73.73</td>\n",
       "    </tr>\n",
       "    <tr>\n",
       "      <th>paving_stones</th>\n",
       "      <td>1265</td>\n",
       "      <td>15.78</td>\n",
       "      <td>6600</td>\n",
       "      <td>2145</td>\n",
       "      <td>19.17</td>\n",
       "      <td>58.97</td>\n",
       "    </tr>\n",
       "    <tr>\n",
       "      <th>sett</th>\n",
       "      <td>796</td>\n",
       "      <td>4.05</td>\n",
       "      <td>4492</td>\n",
       "      <td>1101</td>\n",
       "      <td>17.72</td>\n",
       "      <td>72.30</td>\n",
       "    </tr>\n",
       "    <tr>\n",
       "      <th>unpaved</th>\n",
       "      <td>554</td>\n",
       "      <td>22.14</td>\n",
       "      <td>1247</td>\n",
       "      <td>797</td>\n",
       "      <td>44.43</td>\n",
       "      <td>69.51</td>\n",
       "    </tr>\n",
       "  </tbody>\n",
       "</table>\n",
       "</div>"
      ],
      "text/plain": [
       "                 tp  osm_distr  TCM_classified  annotated  \\\n",
       "surface                                                     \n",
       "asphalt        2207      54.42            5020       3382   \n",
       "concrete        553       2.32            2388        750   \n",
       "paving_stones  1265      15.78            6600       2145   \n",
       "sett            796       4.05            4492       1101   \n",
       "unpaved         554      22.14            1247        797   \n",
       "\n",
       "               OSMT: tp/TCM_classified  OSMT+CTM: tp/annotated  \n",
       "surface                                                         \n",
       "asphalt                          43.96                   65.26  \n",
       "concrete                         23.16                   73.73  \n",
       "paving_stones                    19.17                   58.97  \n",
       "sett                             17.72                   72.30  \n",
       "unpaved                          44.43                   69.51  "
      ]
     },
     "execution_count": 21,
     "metadata": {},
     "output_type": "execute_result"
    }
   ],
   "source": [
    "group_by_annot = [\"surface\"]\n",
    "group_by_osm = [\"surface_osm\"]\n",
    "cts = osmt_precisions(df, osm_tag_counts, group_by_annot, group_by_osm)\n",
    "cts"
   ]
  },
  {
   "cell_type": "markdown",
   "metadata": {},
   "source": [
    "### Precision of overall surface type for OSM-tag + pseudo-label approach"
   ]
  },
  {
   "cell_type": "markdown",
   "metadata": {},
   "source": [
    "\"OSM labels and manual annotation agreed on 68\\% of surface type labels, and among these, the quality was correct for 53\\% of the images.\"\n",
    " > See \"anlayze_prediction_V4.ipynb\""
   ]
  },
  {
   "cell_type": "code",
   "execution_count": 22,
   "metadata": {},
   "outputs": [
    {
     "data": {
      "text/html": [
       "<div>\n",
       "<style scoped>\n",
       "    .dataframe tbody tr th:only-of-type {\n",
       "        vertical-align: middle;\n",
       "    }\n",
       "\n",
       "    .dataframe tbody tr th {\n",
       "        vertical-align: top;\n",
       "    }\n",
       "\n",
       "    .dataframe thead th {\n",
       "        text-align: right;\n",
       "    }\n",
       "</style>\n",
       "<table border=\"1\" class=\"dataframe\">\n",
       "  <thead>\n",
       "    <tr style=\"text-align: right;\">\n",
       "      <th></th>\n",
       "      <th>tp</th>\n",
       "      <th>annot</th>\n",
       "      <th>prec</th>\n",
       "    </tr>\n",
       "  </thead>\n",
       "  <tbody>\n",
       "    <tr>\n",
       "      <th>asphalt</th>\n",
       "      <td>2207</td>\n",
       "      <td>3382</td>\n",
       "      <td>0.652572</td>\n",
       "    </tr>\n",
       "    <tr>\n",
       "      <th>concrete</th>\n",
       "      <td>553</td>\n",
       "      <td>750</td>\n",
       "      <td>0.737333</td>\n",
       "    </tr>\n",
       "    <tr>\n",
       "      <th>paving_stones</th>\n",
       "      <td>1265</td>\n",
       "      <td>2145</td>\n",
       "      <td>0.589744</td>\n",
       "    </tr>\n",
       "    <tr>\n",
       "      <th>sett</th>\n",
       "      <td>796</td>\n",
       "      <td>1101</td>\n",
       "      <td>0.722979</td>\n",
       "    </tr>\n",
       "    <tr>\n",
       "      <th>unpaved</th>\n",
       "      <td>554</td>\n",
       "      <td>797</td>\n",
       "      <td>0.695107</td>\n",
       "    </tr>\n",
       "    <tr>\n",
       "      <th>mean</th>\n",
       "      <td>5375</td>\n",
       "      <td>8175</td>\n",
       "      <td>0.657492</td>\n",
       "    </tr>\n",
       "  </tbody>\n",
       "</table>\n",
       "</div>"
      ],
      "text/plain": [
       "                 tp  annot      prec\n",
       "asphalt        2207   3382  0.652572\n",
       "concrete        553    750  0.737333\n",
       "paving_stones  1265   2145  0.589744\n",
       "sett            796   1101  0.722979\n",
       "unpaved         554    797  0.695107\n",
       "mean           5375   8175  0.657492"
      ]
     },
     "execution_count": 22,
     "metadata": {},
     "output_type": "execute_result"
    }
   ],
   "source": [
    "# for OSM pre-label + pseudo-label\n",
    "\n",
    "# precision, when **including** nostreet\n",
    "valid_img = df[(df.model_prediction == df.surface_osm) &\n",
    "            (df.surface.notna()) ]\n",
    "\n",
    "annotated = valid_img.groupby(group_by_osm).size()\n",
    "\n",
    "tp = valid_img[\n",
    "            (valid_img.surface == valid_img.model_prediction)].groupby(group_by_osm).size()\n",
    "\n",
    "prec_surface_only_valid = pd.DataFrame({\"tp\": tp}).join(pd.DataFrame({\"annot\": annotated}))\n",
    "total = prec_surface_only_valid.sum()\n",
    "prec_surface_only_valid = pd.concat([prec_surface_only_valid, pd.DataFrame({\"mean\": total}).T])\n",
    "prec_surface_only_valid[\"prec\"] = prec_surface_only_valid.tp / prec_surface_only_valid.annot\n",
    "#tp / len (df[(df.surface != \"nostreet\") & df.surface.notna()])\n",
    "prec_surface_only_valid"
   ]
  },
  {
   "cell_type": "code",
   "execution_count": 25,
   "metadata": {},
   "outputs": [
    {
     "data": {
      "text/html": [
       "<div>\n",
       "<style scoped>\n",
       "    .dataframe tbody tr th:only-of-type {\n",
       "        vertical-align: middle;\n",
       "    }\n",
       "\n",
       "    .dataframe tbody tr th {\n",
       "        vertical-align: top;\n",
       "    }\n",
       "\n",
       "    .dataframe thead th {\n",
       "        text-align: right;\n",
       "    }\n",
       "</style>\n",
       "<table border=\"1\" class=\"dataframe\">\n",
       "  <thead>\n",
       "    <tr style=\"text-align: right;\">\n",
       "      <th></th>\n",
       "      <th>tp</th>\n",
       "      <th>annot</th>\n",
       "      <th>prec</th>\n",
       "    </tr>\n",
       "  </thead>\n",
       "  <tbody>\n",
       "    <tr>\n",
       "      <th>asphalt</th>\n",
       "      <td>2207</td>\n",
       "      <td>2225</td>\n",
       "      <td>0.991910</td>\n",
       "    </tr>\n",
       "    <tr>\n",
       "      <th>concrete</th>\n",
       "      <td>553</td>\n",
       "      <td>588</td>\n",
       "      <td>0.940476</td>\n",
       "    </tr>\n",
       "    <tr>\n",
       "      <th>paving_stones</th>\n",
       "      <td>1265</td>\n",
       "      <td>1416</td>\n",
       "      <td>0.893362</td>\n",
       "    </tr>\n",
       "    <tr>\n",
       "      <th>sett</th>\n",
       "      <td>796</td>\n",
       "      <td>834</td>\n",
       "      <td>0.954436</td>\n",
       "    </tr>\n",
       "    <tr>\n",
       "      <th>unpaved</th>\n",
       "      <td>554</td>\n",
       "      <td>557</td>\n",
       "      <td>0.994614</td>\n",
       "    </tr>\n",
       "    <tr>\n",
       "      <th>mean</th>\n",
       "      <td>5375</td>\n",
       "      <td>5620</td>\n",
       "      <td>0.956406</td>\n",
       "    </tr>\n",
       "  </tbody>\n",
       "</table>\n",
       "</div>"
      ],
      "text/plain": [
       "                 tp  annot      prec\n",
       "asphalt        2207   2225  0.991910\n",
       "concrete        553    588  0.940476\n",
       "paving_stones  1265   1416  0.893362\n",
       "sett            796    834  0.954436\n",
       "unpaved         554    557  0.994614\n",
       "mean           5375   5620  0.956406"
      ]
     },
     "execution_count": 25,
     "metadata": {},
     "output_type": "execute_result"
    }
   ],
   "source": [
    "# for OSM pre-label + pseudo-label\n",
    "# precision, when **removing** nostreet\n",
    "valid_img = df[(df.surface != \"nostreet\") &\n",
    "            (df.model_prediction == df.surface_osm) &\n",
    "            (df.surface.notna()) ]\n",
    "\n",
    "annotated = valid_img.groupby(group_by_osm).size()\n",
    "\n",
    "tp = valid_img[\n",
    "            (valid_img.surface == valid_img.surface_osm) &\n",
    "            (valid_img.model_prediction == valid_img.surface_osm)].groupby(group_by_osm).size()\n",
    "\n",
    "prec_surface_only_valid = pd.DataFrame({\"tp\": tp}).join(pd.DataFrame({\"annot\": annotated}))\n",
    "total = prec_surface_only_valid.sum()\n",
    "prec_surface_only_valid = pd.concat([prec_surface_only_valid, pd.DataFrame({\"mean\": total}).T])\n",
    "prec_surface_only_valid[\"prec\"] = prec_surface_only_valid.tp / prec_surface_only_valid.annot\n",
    "#tp / len (df[(df.surface != \"nostreet\") & df.surface.notna()])\n",
    "prec_surface_only_valid"
   ]
  },
  {
   "cell_type": "code",
   "execution_count": 26,
   "metadata": {},
   "outputs": [
    {
     "data": {
      "text/plain": [
       "0.9549596678373276"
      ]
     },
     "execution_count": 26,
     "metadata": {},
     "output_type": "execute_result"
    }
   ],
   "source": [
    "prec_surface_only_valid[prec_surface_only_valid.index != \"mean\"].prec.mean()"
   ]
  },
  {
   "cell_type": "markdown",
   "metadata": {},
   "source": [
    "## Datapool size"
   ]
  },
  {
   "cell_type": "code",
   "execution_count": 27,
   "metadata": {},
   "outputs": [],
   "source": [
    "# how many images in entire datapool V101\n",
    "v100 = pd.read_csv(\"/Users/alexandra/Documents/GitHub/dataset_creation/data/v100/train_tiles_selection.csv\", index_col=False)\n",
    "v100[\"tile_id\"] = [str(x) + \"_\" + str(y) + \"_14\" for x, y in zip(v100[\"x\"], v100[\"y\"])]"
   ]
  },
  {
   "cell_type": "code",
   "execution_count": 223,
   "metadata": {},
   "outputs": [],
   "source": [
    "v5 = pd.read_csv(\"/Users/alexandra/Documents/GitHub/dataset_creation/data/v5/train_tiles_selection.csv\", index_col=False)\n",
    "v5[\"tile_id\"] = [str(x) + \"_\" + str(y) + \"_14\" for x, y in zip(v5[\"x\"], v5[\"y\"])]"
   ]
  },
  {
   "cell_type": "code",
   "execution_count": 224,
   "metadata": {},
   "outputs": [],
   "source": [
    "v5_selection = pd.read_csv(\"/Users/alexandra/Documents/GitHub/dataset_creation/data/v5/train_image_selection_metadata.csv\", index_col=False)"
   ]
  },
  {
   "cell_type": "code",
   "execution_count": 225,
   "metadata": {},
   "outputs": [],
   "source": [
    "v5x = v5[~v5.tile_id.isin(v5_selection.tile_id)]"
   ]
  },
  {
   "cell_type": "code",
   "execution_count": 228,
   "metadata": {},
   "outputs": [
    {
     "data": {
      "text/plain": [
       "21369848"
      ]
     },
     "execution_count": 228,
     "metadata": {},
     "output_type": "execute_result"
    }
   ],
   "source": [
    "sum(v100.image_count) + sum(v5x.image_count)"
   ]
  },
  {
   "cell_type": "markdown",
   "metadata": {},
   "source": [
    "## Image sizes per class"
   ]
  },
  {
   "cell_type": "code",
   "execution_count": 35,
   "metadata": {},
   "outputs": [
    {
     "name": "stdout",
     "output_type": "stream",
     "text": [
      "\\begin{tabular}{llllll}\n",
      "\\toprule\n",
      " & excellent & good & intermediate & bad & very_bad \\\\\n",
      "surface_type &  &  &  &  &  \\\\\n",
      "\\midrule\n",
      "asphalt & 791 (180) & 1407 (289) & 768 (53) & 238 (8) & 0 (0) \\\\\n",
      "concrete & 310 (4) & 340 (10) & 248 (2) & 58 (0) & 0 (0) \\\\\n",
      "paving_stones & 360 (25) & 989 (74) & 505 (14) & 70 (0) & 0 (0) \\\\\n",
      "sett & 0 (0) & 128 (1) & 677 (17) & 526 (14) & 0 (0) \\\\\n",
      "unpaved & 0 (0) & 0 (0) & 305 (21) & 339 (48) & 287 (16) \\\\\n",
      "\\bottomrule\n",
      "\\end{tabular}\n",
      "\n"
     ]
    }
   ],
   "source": [
    "v1point0 = pd.read_csv(\"/Users/alexandra/Nextcloud-HTW/SHARED/SurfaceAI/data/mapillary_images/V1_0/streetSurfaceVis_v1_0.csv\")\n",
    "\n",
    "\n",
    "# split by train / test\n",
    "v1point0[\"train_\"] = \"\"\n",
    "v1point0.loc[v1point0.train, \"train_\"] = \"0\"\n",
    "v1point0.loc[v1point0.train == False, \"train_\"] = \"1\"\n",
    "summary = (v1point0\n",
    "    .groupby([\"surface_type\", \"surface_quality\", \"train_\"]).size()\n",
    "    .unstack(\"surface_quality\", fill_value=0)\n",
    "\n",
    "    .reindex(columns=[\"excellent\", \"good\", \"intermediate\", \"bad\", \"very_bad\"])\n",
    "    .unstack(\"train_\", fill_value=0)\n",
    "    .droplevel(1, axis=1)\n",
    "    )\n",
    "\n",
    "summary_table = pd.DataFrame()\n",
    "summary_table.index = summary.index\n",
    "summary_table[\"excellent\"] = summary.iloc[:, 0].astype(str) + \" (\" + summary.iloc[:, 1].astype(str) + \")\"\n",
    "summary_table[\"good\"] = summary.iloc[:, 2].astype(str) + \" (\" + summary.iloc[:, 3].astype(str) + \")\"\n",
    "summary_table[\"intermediate\"] = summary.iloc[:, 4].astype(str) + \" (\" + summary.iloc[:, 5].astype(str) + \")\"\n",
    "summary_table[\"bad\"] = summary.iloc[:, 6].astype(str) + \" (\" + summary.iloc[:, 7].astype(str) + \")\"\n",
    "summary_table[\"very_bad\"] = summary.iloc[:, 8].astype(str) + \" (\" + summary.iloc[:, 9].astype(str) + \")\"\n",
    "print(summary_table.to_latex())"
   ]
  },
  {
   "cell_type": "code",
   "execution_count": 36,
   "metadata": {},
   "outputs": [
    {
     "name": "stdout",
     "output_type": "stream",
     "text": [
      "\\begin{tabular}{lrrrrr}\n",
      "\\toprule\n",
      "surface_quality & excellent & good & intermediate & bad & very_bad \\\\\n",
      "surface_type &  &  &  &  &  \\\\\n",
      "\\midrule\n",
      "asphalt & 971 & 1696 & 821 & 246 & 0 \\\\\n",
      "concrete & 314 & 350 & 250 & 58 & 0 \\\\\n",
      "paving_stones & 385 & 1063 & 519 & 70 & 0 \\\\\n",
      "sett & 0 & 129 & 694 & 540 & 0 \\\\\n",
      "unpaved & 0 & 0 & 326 & 387 & 303 \\\\\n",
      "\\bottomrule\n",
      "\\end{tabular}\n",
      "\n"
     ]
    }
   ],
   "source": [
    "summary = (v1point0\n",
    "    .groupby([\"surface_type\", \"surface_quality\"]).size()\n",
    "    .unstack(\"surface_quality\", fill_value=0)\n",
    "    .reindex(columns=[\"excellent\", \"good\", \"intermediate\", \"bad\", \"very_bad\"])\n",
    "    )\n",
    "\n",
    "print(summary.to_latex())"
   ]
  },
  {
   "cell_type": "code",
   "execution_count": 37,
   "metadata": {},
   "outputs": [],
   "source": [
    "#summary"
   ]
  },
  {
   "cell_type": "code",
   "execution_count": 39,
   "metadata": {},
   "outputs": [
    {
     "data": {
      "text/plain": [
       "9122"
      ]
     },
     "execution_count": 39,
     "metadata": {},
     "output_type": "execute_result"
    }
   ],
   "source": [
    "len(v1point0)"
   ]
  },
  {
   "cell_type": "code",
   "execution_count": 38,
   "metadata": {},
   "outputs": [
    {
     "data": {
      "text/plain": [
       "train\n",
       "False     776\n",
       "True     8346\n",
       "dtype: int64"
      ]
     },
     "execution_count": 38,
     "metadata": {},
     "output_type": "execute_result"
    }
   ],
   "source": [
    "v1point0.groupby([ \"train\"]).size()"
   ]
  },
  {
   "cell_type": "markdown",
   "metadata": {},
   "source": [
    "### V12 numbers"
   ]
  },
  {
   "cell_type": "code",
   "execution_count": 33,
   "metadata": {},
   "outputs": [
    {
     "data": {
      "text/plain": [
       "surface        smoothness  \n",
       "asphalt        bad              123\n",
       "               excellent        783\n",
       "               good            1334\n",
       "               intermediate     623\n",
       "concrete       bad               54\n",
       "               excellent        189\n",
       "               good             340\n",
       "               intermediate     249\n",
       "paving_stones  bad               31\n",
       "               excellent        342\n",
       "               good             693\n",
       "               intermediate     197\n",
       "sett           bad              518\n",
       "               good              99\n",
       "               intermediate     659\n",
       "unpaved        bad              336\n",
       "               intermediate     305\n",
       "               very_bad         158\n",
       "dtype: int64"
      ]
     },
     "execution_count": 33,
     "metadata": {},
     "output_type": "execute_result"
    }
   ],
   "source": [
    "v12 = pd.read_csv(\"/Users/alexandra/Nextcloud-HTW/SHARED/SurfaceAI/data/mapillary_images/training/v12/metadata/annotations_combined.csv\", index_col=False, dtype={\"image_id\": str})\n",
    "\n",
    "v12.groupby([\"surface\", \"smoothness\"]).size()"
   ]
  },
  {
   "cell_type": "markdown",
   "metadata": {},
   "source": []
  }
 ],
 "metadata": {
  "kernelspec": {
   "display_name": "sai_dc",
   "language": "python",
   "name": "python3"
  },
  "language_info": {
   "codemirror_mode": {
    "name": "ipython",
    "version": 3
   },
   "file_extension": ".py",
   "mimetype": "text/x-python",
   "name": "python",
   "nbconvert_exporter": "python",
   "pygments_lexer": "ipython3",
   "version": "3.12.0"
  }
 },
 "nbformat": 4,
 "nbformat_minor": 2
}
