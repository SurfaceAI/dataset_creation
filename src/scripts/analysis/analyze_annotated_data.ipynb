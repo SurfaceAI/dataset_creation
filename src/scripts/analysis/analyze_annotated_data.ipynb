{
 "cells": [
  {
   "cell_type": "code",
   "execution_count": 1,
   "metadata": {},
   "outputs": [],
   "source": [
    "import pandas as pd"
   ]
  },
  {
   "cell_type": "code",
   "execution_count": 3,
   "metadata": {},
   "outputs": [],
   "source": [
    "\n",
    "def clean_smoothness(metadata):\n",
    "    \"\"\"Clean smoothness column of metadata dataframe according to defined OSM smoothness values\n",
    "\n",
    "    Args:\n",
    "        metadata (df): dataframe with image metadata, including column \"smoothness\"\n",
    "\n",
    "    Returns:\n",
    "        df: dataframe with cleaned smoothness column \"smoothness_clean\"\n",
    "    \"\"\"\n",
    "    metadata[\"smoothness\"] = metadata.smoothness.str.strip()\n",
    "    metadata[\"smoothness_clean\"] = metadata[\"smoothness\"].replace(\n",
    "        [\n",
    "            \"horrible\",\n",
    "            \"very_horrible\",\n",
    "            \"impassable\",\n",
    "        ],\n",
    "        \"very bad\",\n",
    "    )\n",
    "\n",
    "    metadata[\"smoothness_clean\"] = metadata[\"smoothness_clean\"].replace(\n",
    "        [\"perfect\", \"very_good\"], \"excellent\"\n",
    "    )\n",
    "    return metadata\n",
    "\n",
    "\n",
    "def clean_surface(metadata):\n",
    "    \"\"\"Clean surface column of metadata dataframe according to defined OSM surface values\n",
    "\n",
    "    Args:\n",
    "        metadata (df): dataframe with image metadata, including column \"surface\"\n",
    "\n",
    "    Returns:\n",
    "        df: dataframe with cleaned surface column \"surface_clean\"\n",
    "    \"\"\"\n",
    "    metadata[\"surface\"] = metadata.surface.str.strip()\n",
    "    metadata[\"surface_clean\"] = metadata[\"surface\"].replace(\n",
    "        [\n",
    "            \"compacted\",\n",
    "            \"gravel\",\n",
    "            \"ground\",\n",
    "            \"fine_gravel\",\n",
    "            \"dirt\",\n",
    "            \"grass\",\n",
    "            \"earth\",\n",
    "            \"sand\",\n",
    "        ],\n",
    "        \"unpaved\",\n",
    "    )\n",
    "    metadata[\"surface_clean\"] = metadata[\"surface_clean\"].replace(\n",
    "        [\"cobblestone\", \"unhewn_cobblestone\"], \"sett\"\n",
    "    )\n",
    "    metadata[\"surface_clean\"] = metadata[\"surface_clean\"].replace(\n",
    "        [\"concrete:plates\", \"concrete:lanes\"], \"concrete\",\n",
    "    )\n",
    "    return metadata"
   ]
  },
  {
   "cell_type": "code",
   "execution_count": 2,
   "metadata": {},
   "outputs": [],
   "source": [
    "#annotations = pd.read_csv(\"/Users/alexandra/Nextcloud-HTW/SHARED/SurfaceAI/data/mapillary_images/training/V6/metadata/annotations_combined.csv\", index_col=False)\n",
    "annotations = pd.read_csv(\"/Users/alexandra/Nextcloud-HTW/SHARED/SurfaceAI/data/mapillary_images/training/v12/metadata/annotations_combined.csv\", index_col=False)"
   ]
  },
  {
   "cell_type": "code",
   "execution_count": 5,
   "metadata": {},
   "outputs": [
    {
     "data": {
      "text/plain": [
       "surface        smoothness  \n",
       "asphalt        bad              123\n",
       "               excellent        783\n",
       "               good            1334\n",
       "               intermediate     623\n",
       "concrete       bad               54\n",
       "               excellent        189\n",
       "               good             340\n",
       "               intermediate     249\n",
       "paving_stones  bad               31\n",
       "               excellent        342\n",
       "               good             693\n",
       "               intermediate     197\n",
       "sett           bad              518\n",
       "               good              99\n",
       "               intermediate     659\n",
       "unpaved        bad              336\n",
       "               intermediate     305\n",
       "               very_bad         158\n",
       "dtype: int64"
      ]
     },
     "execution_count": 5,
     "metadata": {},
     "output_type": "execute_result"
    }
   ],
   "source": [
    "annotations.groupby([\"surface\", \"smoothness\"]).size()"
   ]
  },
  {
   "cell_type": "code",
   "execution_count": 5,
   "metadata": {},
   "outputs": [],
   "source": [
    "metadata = pd.read_csv(\"/Users/alexandra/Documents/GitHub/dataset_creation/data/v5/train_image_selection_metadata.csv\", index_col=False)\n",
    "metadata2 = pd.read_csv(\"/Users/alexandra/Documents/GitHub/dataset_creation/data/v4/v4_train_image_selection_metadata.csv\", index_col=False)\n",
    "metadata_full = pd.concat([metadata, metadata2], ignore_index=True)"
   ]
  },
  {
   "cell_type": "code",
   "execution_count": 6,
   "metadata": {},
   "outputs": [],
   "source": [
    "\n",
    "metadata = metadata_full[metadata_full.id.isin(annotations.image_id)]"
   ]
  },
  {
   "cell_type": "code",
   "execution_count": 7,
   "metadata": {},
   "outputs": [],
   "source": [
    "grouping_level = [\"surface\"]\n",
    "grouping_level_ = [\"surface_clean\"]"
   ]
  },
  {
   "cell_type": "code",
   "execution_count": 8,
   "metadata": {},
   "outputs": [],
   "source": [
    "#original_class_counts = pd.read_csv(\"/Users/alexandra/Documents/GitHub/dataset_creation/data/v5/original_class_counts.csv\", index_col=False)\n",
    "#remaining_class_counts = pd.read_csv(\"/Users/alexandra/Documents/GitHub/dataset_creation/data/v5/remaining_classes_after_V8.csv\", index_col=False)\n",
    "\n",
    "annotated_class_counts = pd.DataFrame(annotations.groupby(grouping_level).size())"
   ]
  },
  {
   "cell_type": "code",
   "execution_count": 9,
   "metadata": {},
   "outputs": [],
   "source": [
    "df = annotations[[\"image_id\", \"surface\", \"smoothness\"]].set_index(\"image_id\").join(metadata[[\"id\", \"surface_clean\", \"smoothness_clean\"]].set_index(\"id\"), how=\"inner\", rsuffix='_osm')"
   ]
  },
  {
   "cell_type": "code",
   "execution_count": 10,
   "metadata": {},
   "outputs": [],
   "source": [
    "incorrect_surface = df[df.surface != df.surface_clean]\n",
    "incorrect_surface = pd.DataFrame(incorrect_surface.groupby(grouping_level_).size())"
   ]
  },
  {
   "cell_type": "code",
   "execution_count": 11,
   "metadata": {},
   "outputs": [],
   "source": [
    "if grouping_level == [\"surface\"]:\n",
    "    label_as_osm = pd.DataFrame(df[(df.surface == df.surface_clean)].groupby(grouping_level).size())\n",
    "else:\n",
    "    label_as_osm = pd.DataFrame(df[(df.surface == df.surface_clean) & (df.smoothness == df.smoothness_clean)].groupby(grouping_level).size())"
   ]
  },
  {
   "cell_type": "code",
   "execution_count": 12,
   "metadata": {},
   "outputs": [],
   "source": [
    "original_class_counts = pd.DataFrame(metadata_full.groupby(grouping_level_).size())"
   ]
  },
  {
   "cell_type": "code",
   "execution_count": 13,
   "metadata": {},
   "outputs": [],
   "source": [
    "remaining_class_counts = pd.read_csv(\"/Users/alexandra/Documents/GitHub/dataset_creation/data/v5/remaining_classes_after_V12.csv\", index_col=False)"
   ]
  },
  {
   "cell_type": "code",
   "execution_count": 14,
   "metadata": {},
   "outputs": [],
   "source": [
    "remaining_class_counts = remaining_class_counts.groupby(grouping_level_).sum()"
   ]
  },
  {
   "cell_type": "code",
   "execution_count": 15,
   "metadata": {},
   "outputs": [],
   "source": [
    "annotated_class_counts.columns=[\"ds_counts\"]\n",
    "original_class_counts.columns=[\"orig_counts\"]\n",
    "label_as_osm.columns=[\"label_as_osm\"]\n",
    "incorrect_surface.columns=[\"incorrect_surface\"]"
   ]
  },
  {
   "cell_type": "code",
   "execution_count": 16,
   "metadata": {},
   "outputs": [],
   "source": [
    "osm_tag_counts = pd.read_csv(\"/Users/alexandra/Nextcloud-HTW/SHARED/SurfaceAI/data/OSM/osm_tag_counts_germany.csv\")"
   ]
  },
  {
   "cell_type": "code",
   "execution_count": 17,
   "metadata": {},
   "outputs": [],
   "source": [
    "osm_tag_counts.surface = osm_tag_counts.surface.str.strip()\n",
    "osm_tag_counts.smoothness = osm_tag_counts.smoothness.str.strip()"
   ]
  },
  {
   "cell_type": "code",
   "execution_count": 18,
   "metadata": {},
   "outputs": [],
   "source": [
    "osm_tag_counts = clean_surface(osm_tag_counts)\n",
    "osm_tag_counts = clean_smoothness(osm_tag_counts)"
   ]
  },
  {
   "cell_type": "code",
   "execution_count": 19,
   "metadata": {},
   "outputs": [],
   "source": [
    "if grouping_level == [\"surface\"]:\n",
    "    drop_col = [\"surface\", \"smoothness\", \"smoothness_clean\"]\n",
    "else:\n",
    "    drop_col = [\"surface\", \"smoothness\"]\n",
    "\n",
    "osm_tag_counts = osm_tag_counts.drop(drop_col, axis=1).groupby(grouping_level_).sum()"
   ]
  },
  {
   "cell_type": "code",
   "execution_count": 20,
   "metadata": {},
   "outputs": [],
   "source": [
    "osm_tag_counts[\"OSM_share\"] = round(osm_tag_counts.ct / sum(osm_tag_counts.ct)* 100, 2)"
   ]
  },
  {
   "cell_type": "code",
   "execution_count": 21,
   "metadata": {},
   "outputs": [],
   "source": [
    "cts = (original_class_counts\n",
    " .join(remaining_class_counts, on=grouping_level_, how=\"left\")\n",
    " .join(annotated_class_counts, on=grouping_level_, how=\"left\")\n",
    " .join(incorrect_surface, on=grouping_level_, how=\"left\")\n",
    " .join(label_as_osm, on=grouping_level_, how=\"left\")\n",
    " .join(osm_tag_counts, how=\"left\")\n",
    " .fillna(0)\n",
    ")"
   ]
  },
  {
   "cell_type": "code",
   "execution_count": 22,
   "metadata": {},
   "outputs": [],
   "source": [
    "cts[\"annotated_counts\"] = cts.orig_counts - cts.remaining_counts\n",
    "cts[\"annotated_counts_only_correct_surface\"] = cts.annotated_counts - cts.incorrect_surface\n",
    "cts[\"annotation_ratio\"] = (cts.ds_counts / cts.annotated_counts).round(3) * 100\n",
    "cts[\"correct_OSM/ds_counts\"] = round(cts.label_as_osm / cts.ds_counts * 100)\n",
    "cts[\"correct_OSM/annotation_counts\"] = round(cts.label_as_osm / cts.annotated_counts * 100, 2)\n",
    "cts[\"correct_OSM/annotation_counts_only_correct_surface\"] = round(cts.label_as_osm / cts.annotated_counts_only_correct_surface * 100, 2)\n",
    "cts[\"times_better\"] = round(cts[\"correct_OSM/annotation_counts\"] / cts.OSM_share, 2)\n",
    "cts[\"times_better_correct_surface\"] = round(cts[\"correct_OSM/annotation_counts_only_correct_surface\"] / cts.OSM_share, 2)"
   ]
  },
  {
   "cell_type": "code",
   "execution_count": 23,
   "metadata": {},
   "outputs": [
    {
     "data": {
      "text/html": [
       "<div>\n",
       "<style scoped>\n",
       "    .dataframe tbody tr th:only-of-type {\n",
       "        vertical-align: middle;\n",
       "    }\n",
       "\n",
       "    .dataframe tbody tr th {\n",
       "        vertical-align: top;\n",
       "    }\n",
       "\n",
       "    .dataframe thead th {\n",
       "        text-align: right;\n",
       "    }\n",
       "</style>\n",
       "<table border=\"1\" class=\"dataframe\">\n",
       "  <thead>\n",
       "    <tr style=\"text-align: right;\">\n",
       "      <th></th>\n",
       "      <th>ds_counts</th>\n",
       "      <th>annotated_counts</th>\n",
       "      <th>annotated_counts_only_correct_surface</th>\n",
       "      <th>annotation_ratio</th>\n",
       "      <th>OSM_share</th>\n",
       "      <th>label_as_osm</th>\n",
       "      <th>correct_OSM/ds_counts</th>\n",
       "      <th>correct_OSM/annotation_counts</th>\n",
       "      <th>correct_OSM/annotation_counts_only_correct_surface</th>\n",
       "    </tr>\n",
       "    <tr>\n",
       "      <th>surface_clean</th>\n",
       "      <th></th>\n",
       "      <th></th>\n",
       "      <th></th>\n",
       "      <th></th>\n",
       "      <th></th>\n",
       "      <th></th>\n",
       "      <th></th>\n",
       "      <th></th>\n",
       "      <th></th>\n",
       "    </tr>\n",
       "  </thead>\n",
       "  <tbody>\n",
       "    <tr>\n",
       "      <th>asphalt</th>\n",
       "      <td>2864</td>\n",
       "      <td>4353</td>\n",
       "      <td>3342</td>\n",
       "      <td>65.8</td>\n",
       "      <td>54.43</td>\n",
       "      <td>1951</td>\n",
       "      <td>68.0</td>\n",
       "      <td>44.82</td>\n",
       "      <td>58.38</td>\n",
       "    </tr>\n",
       "    <tr>\n",
       "      <th>concrete</th>\n",
       "      <td>832</td>\n",
       "      <td>2101</td>\n",
       "      <td>1465</td>\n",
       "      <td>39.6</td>\n",
       "      <td>2.33</td>\n",
       "      <td>613</td>\n",
       "      <td>74.0</td>\n",
       "      <td>29.18</td>\n",
       "      <td>41.84</td>\n",
       "    </tr>\n",
       "    <tr>\n",
       "      <th>paving_stones</th>\n",
       "      <td>1263</td>\n",
       "      <td>5188</td>\n",
       "      <td>4328</td>\n",
       "      <td>24.3</td>\n",
       "      <td>15.77</td>\n",
       "      <td>982</td>\n",
       "      <td>78.0</td>\n",
       "      <td>18.93</td>\n",
       "      <td>22.69</td>\n",
       "    </tr>\n",
       "    <tr>\n",
       "      <th>sett</th>\n",
       "      <td>1276</td>\n",
       "      <td>3559</td>\n",
       "      <td>3239</td>\n",
       "      <td>35.9</td>\n",
       "      <td>4.04</td>\n",
       "      <td>999</td>\n",
       "      <td>78.0</td>\n",
       "      <td>28.07</td>\n",
       "      <td>30.84</td>\n",
       "    </tr>\n",
       "    <tr>\n",
       "      <th>unpaved</th>\n",
       "      <td>799</td>\n",
       "      <td>1571</td>\n",
       "      <td>1252</td>\n",
       "      <td>50.9</td>\n",
       "      <td>22.19</td>\n",
       "      <td>575</td>\n",
       "      <td>72.0</td>\n",
       "      <td>36.60</td>\n",
       "      <td>45.93</td>\n",
       "    </tr>\n",
       "  </tbody>\n",
       "</table>\n",
       "</div>"
      ],
      "text/plain": [
       "               ds_counts  annotated_counts  \\\n",
       "surface_clean                                \n",
       "asphalt             2864              4353   \n",
       "concrete             832              2101   \n",
       "paving_stones       1263              5188   \n",
       "sett                1276              3559   \n",
       "unpaved              799              1571   \n",
       "\n",
       "               annotated_counts_only_correct_surface  annotation_ratio  \\\n",
       "surface_clean                                                            \n",
       "asphalt                                         3342              65.8   \n",
       "concrete                                        1465              39.6   \n",
       "paving_stones                                   4328              24.3   \n",
       "sett                                            3239              35.9   \n",
       "unpaved                                         1252              50.9   \n",
       "\n",
       "               OSM_share  label_as_osm  correct_OSM/ds_counts  \\\n",
       "surface_clean                                                   \n",
       "asphalt            54.43          1951                   68.0   \n",
       "concrete            2.33           613                   74.0   \n",
       "paving_stones      15.77           982                   78.0   \n",
       "sett                4.04           999                   78.0   \n",
       "unpaved            22.19           575                   72.0   \n",
       "\n",
       "               correct_OSM/annotation_counts  \\\n",
       "surface_clean                                  \n",
       "asphalt                                44.82   \n",
       "concrete                               29.18   \n",
       "paving_stones                          18.93   \n",
       "sett                                   28.07   \n",
       "unpaved                                36.60   \n",
       "\n",
       "               correct_OSM/annotation_counts_only_correct_surface  \n",
       "surface_clean                                                      \n",
       "asphalt                                                    58.38   \n",
       "concrete                                                   41.84   \n",
       "paving_stones                                              22.69   \n",
       "sett                                                       30.84   \n",
       "unpaved                                                    45.93   "
      ]
     },
     "execution_count": 23,
     "metadata": {},
     "output_type": "execute_result"
    }
   ],
   "source": [
    "cts[[\"ds_counts\", \"annotated_counts\", \"annotated_counts_only_correct_surface\", \"annotation_ratio\", \"OSM_share\", \"label_as_osm\", \"correct_OSM/ds_counts\", \"correct_OSM/annotation_counts\", \"correct_OSM/annotation_counts_only_correct_surface\"]]"
   ]
  },
  {
   "cell_type": "code",
   "execution_count": 81,
   "metadata": {},
   "outputs": [
    {
     "data": {
      "text/html": [
       "<div>\n",
       "<style scoped>\n",
       "    .dataframe tbody tr th:only-of-type {\n",
       "        vertical-align: middle;\n",
       "    }\n",
       "\n",
       "    .dataframe tbody tr th {\n",
       "        vertical-align: top;\n",
       "    }\n",
       "\n",
       "    .dataframe thead th {\n",
       "        text-align: right;\n",
       "    }\n",
       "</style>\n",
       "<table border=\"1\" class=\"dataframe\">\n",
       "  <thead>\n",
       "    <tr style=\"text-align: right;\">\n",
       "      <th></th>\n",
       "      <th></th>\n",
       "      <th>OSM_share</th>\n",
       "      <th>correct_OSM/annotation_counts</th>\n",
       "      <th>correct_OSM/annotation_counts_only_correct_surface</th>\n",
       "      <th>times_better</th>\n",
       "      <th>times_better_correct_surface</th>\n",
       "    </tr>\n",
       "    <tr>\n",
       "      <th>surface_clean</th>\n",
       "      <th>smoothness_clean</th>\n",
       "      <th></th>\n",
       "      <th></th>\n",
       "      <th></th>\n",
       "      <th></th>\n",
       "      <th></th>\n",
       "    </tr>\n",
       "  </thead>\n",
       "  <tbody>\n",
       "    <tr>\n",
       "      <th rowspan=\"4\" valign=\"top\">asphalt</th>\n",
       "      <th>bad</th>\n",
       "      <td>0.69</td>\n",
       "      <td>6.16</td>\n",
       "      <td>8.00</td>\n",
       "      <td>8.93</td>\n",
       "      <td>11.59</td>\n",
       "    </tr>\n",
       "    <tr>\n",
       "      <th>excellent</th>\n",
       "      <td>20.31</td>\n",
       "      <td>41.29</td>\n",
       "      <td>47.94</td>\n",
       "      <td>2.03</td>\n",
       "      <td>2.36</td>\n",
       "    </tr>\n",
       "    <tr>\n",
       "      <th>good</th>\n",
       "      <td>29.29</td>\n",
       "      <td>42.58</td>\n",
       "      <td>51.16</td>\n",
       "      <td>1.45</td>\n",
       "      <td>1.75</td>\n",
       "    </tr>\n",
       "    <tr>\n",
       "      <th>intermediate</th>\n",
       "      <td>4.05</td>\n",
       "      <td>15.40</td>\n",
       "      <td>22.08</td>\n",
       "      <td>3.80</td>\n",
       "      <td>5.45</td>\n",
       "    </tr>\n",
       "    <tr>\n",
       "      <th rowspan=\"4\" valign=\"top\">concrete</th>\n",
       "      <th>bad</th>\n",
       "      <td>0.23</td>\n",
       "      <td>6.38</td>\n",
       "      <td>7.69</td>\n",
       "      <td>27.74</td>\n",
       "      <td>33.43</td>\n",
       "    </tr>\n",
       "    <tr>\n",
       "      <th>excellent</th>\n",
       "      <td>0.37</td>\n",
       "      <td>18.93</td>\n",
       "      <td>35.51</td>\n",
       "      <td>51.16</td>\n",
       "      <td>95.97</td>\n",
       "    </tr>\n",
       "    <tr>\n",
       "      <th>good</th>\n",
       "      <td>0.94</td>\n",
       "      <td>18.15</td>\n",
       "      <td>22.44</td>\n",
       "      <td>19.31</td>\n",
       "      <td>23.87</td>\n",
       "    </tr>\n",
       "    <tr>\n",
       "      <th>intermediate</th>\n",
       "      <td>0.79</td>\n",
       "      <td>20.59</td>\n",
       "      <td>29.01</td>\n",
       "      <td>26.06</td>\n",
       "      <td>36.72</td>\n",
       "    </tr>\n",
       "    <tr>\n",
       "      <th rowspan=\"4\" valign=\"top\">paving_stones</th>\n",
       "      <th>bad</th>\n",
       "      <td>0.22</td>\n",
       "      <td>1.41</td>\n",
       "      <td>1.66</td>\n",
       "      <td>6.41</td>\n",
       "      <td>7.55</td>\n",
       "    </tr>\n",
       "    <tr>\n",
       "      <th>excellent</th>\n",
       "      <td>2.98</td>\n",
       "      <td>11.30</td>\n",
       "      <td>13.69</td>\n",
       "      <td>3.79</td>\n",
       "      <td>4.59</td>\n",
       "    </tr>\n",
       "    <tr>\n",
       "      <th>good</th>\n",
       "      <td>10.62</td>\n",
       "      <td>22.19</td>\n",
       "      <td>27.06</td>\n",
       "      <td>2.09</td>\n",
       "      <td>2.55</td>\n",
       "    </tr>\n",
       "    <tr>\n",
       "      <th>intermediate</th>\n",
       "      <td>1.94</td>\n",
       "      <td>3.75</td>\n",
       "      <td>4.60</td>\n",
       "      <td>1.93</td>\n",
       "      <td>2.37</td>\n",
       "    </tr>\n",
       "    <tr>\n",
       "      <th rowspan=\"3\" valign=\"top\">sett</th>\n",
       "      <th>bad</th>\n",
       "      <td>1.26</td>\n",
       "      <td>18.09</td>\n",
       "      <td>19.64</td>\n",
       "      <td>14.36</td>\n",
       "      <td>15.59</td>\n",
       "    </tr>\n",
       "    <tr>\n",
       "      <th>good</th>\n",
       "      <td>0.55</td>\n",
       "      <td>3.85</td>\n",
       "      <td>4.23</td>\n",
       "      <td>7.00</td>\n",
       "      <td>7.69</td>\n",
       "    </tr>\n",
       "    <tr>\n",
       "      <th>intermediate</th>\n",
       "      <td>1.97</td>\n",
       "      <td>25.24</td>\n",
       "      <td>31.60</td>\n",
       "      <td>12.81</td>\n",
       "      <td>16.04</td>\n",
       "    </tr>\n",
       "    <tr>\n",
       "      <th rowspan=\"3\" valign=\"top\">unpaved</th>\n",
       "      <th>bad</th>\n",
       "      <td>7.68</td>\n",
       "      <td>25.76</td>\n",
       "      <td>34.57</td>\n",
       "      <td>3.35</td>\n",
       "      <td>4.50</td>\n",
       "    </tr>\n",
       "    <tr>\n",
       "      <th>intermediate</th>\n",
       "      <td>5.76</td>\n",
       "      <td>33.33</td>\n",
       "      <td>41.38</td>\n",
       "      <td>5.79</td>\n",
       "      <td>7.18</td>\n",
       "    </tr>\n",
       "    <tr>\n",
       "      <th>very_bad</th>\n",
       "      <td>3.88</td>\n",
       "      <td>17.29</td>\n",
       "      <td>23.09</td>\n",
       "      <td>4.46</td>\n",
       "      <td>5.95</td>\n",
       "    </tr>\n",
       "  </tbody>\n",
       "</table>\n",
       "</div>"
      ],
      "text/plain": [
       "                                OSM_share  correct_OSM/annotation_counts  \\\n",
       "surface_clean smoothness_clean                                             \n",
       "asphalt       bad                    0.69                           6.16   \n",
       "              excellent             20.31                          41.29   \n",
       "              good                  29.29                          42.58   \n",
       "              intermediate           4.05                          15.40   \n",
       "concrete      bad                    0.23                           6.38   \n",
       "              excellent              0.37                          18.93   \n",
       "              good                   0.94                          18.15   \n",
       "              intermediate           0.79                          20.59   \n",
       "paving_stones bad                    0.22                           1.41   \n",
       "              excellent              2.98                          11.30   \n",
       "              good                  10.62                          22.19   \n",
       "              intermediate           1.94                           3.75   \n",
       "sett          bad                    1.26                          18.09   \n",
       "              good                   0.55                           3.85   \n",
       "              intermediate           1.97                          25.24   \n",
       "unpaved       bad                    7.68                          25.76   \n",
       "              intermediate           5.76                          33.33   \n",
       "              very_bad               3.88                          17.29   \n",
       "\n",
       "                                correct_OSM/annotation_counts_only_correct_surface  \\\n",
       "surface_clean smoothness_clean                                                       \n",
       "asphalt       bad                                                            8.00    \n",
       "              excellent                                                     47.94    \n",
       "              good                                                          51.16    \n",
       "              intermediate                                                  22.08    \n",
       "concrete      bad                                                            7.69    \n",
       "              excellent                                                     35.51    \n",
       "              good                                                          22.44    \n",
       "              intermediate                                                  29.01    \n",
       "paving_stones bad                                                            1.66    \n",
       "              excellent                                                     13.69    \n",
       "              good                                                          27.06    \n",
       "              intermediate                                                   4.60    \n",
       "sett          bad                                                           19.64    \n",
       "              good                                                           4.23    \n",
       "              intermediate                                                  31.60    \n",
       "unpaved       bad                                                           34.57    \n",
       "              intermediate                                                  41.38    \n",
       "              very_bad                                                      23.09    \n",
       "\n",
       "                                times_better  times_better_correct_surface  \n",
       "surface_clean smoothness_clean                                              \n",
       "asphalt       bad                       8.93                         11.59  \n",
       "              excellent                 2.03                          2.36  \n",
       "              good                      1.45                          1.75  \n",
       "              intermediate              3.80                          5.45  \n",
       "concrete      bad                      27.74                         33.43  \n",
       "              excellent                51.16                         95.97  \n",
       "              good                     19.31                         23.87  \n",
       "              intermediate             26.06                         36.72  \n",
       "paving_stones bad                       6.41                          7.55  \n",
       "              excellent                 3.79                          4.59  \n",
       "              good                      2.09                          2.55  \n",
       "              intermediate              1.93                          2.37  \n",
       "sett          bad                      14.36                         15.59  \n",
       "              good                      7.00                          7.69  \n",
       "              intermediate             12.81                         16.04  \n",
       "unpaved       bad                       3.35                          4.50  \n",
       "              intermediate              5.79                          7.18  \n",
       "              very_bad                  4.46                          5.95  "
      ]
     },
     "execution_count": 81,
     "metadata": {},
     "output_type": "execute_result"
    }
   ],
   "source": [
    "cts[[\"OSM_share\", \"correct_OSM/annotation_counts\", \"correct_OSM/annotation_counts_only_correct_surface\", \"times_better\", \"times_better_correct_surface\"]]"
   ]
  },
  {
   "cell_type": "code",
   "execution_count": 227,
   "metadata": {},
   "outputs": [
    {
     "data": {
      "text/plain": [
       "1.45"
      ]
     },
     "execution_count": 227,
     "metadata": {},
     "output_type": "execute_result"
    }
   ],
   "source": [
    "cts.times_better.min()"
   ]
  },
  {
   "cell_type": "code",
   "execution_count": 231,
   "metadata": {},
   "outputs": [
    {
     "data": {
      "text/plain": [
       "11.248333333333333"
      ]
     },
     "execution_count": 231,
     "metadata": {},
     "output_type": "execute_result"
    }
   ],
   "source": [
    "cts.times_better.mean()"
   ]
  },
  {
   "cell_type": "code",
   "execution_count": 84,
   "metadata": {},
   "outputs": [
    {
     "data": {
      "text/plain": [
       "6.1"
      ]
     },
     "execution_count": 84,
     "metadata": {},
     "output_type": "execute_result"
    }
   ],
   "source": [
    "cts.times_better.median()"
   ]
  },
  {
   "cell_type": "code",
   "execution_count": 229,
   "metadata": {},
   "outputs": [
    {
     "data": {
      "text/plain": [
       "51.16"
      ]
     },
     "execution_count": 229,
     "metadata": {},
     "output_type": "execute_result"
    }
   ],
   "source": [
    "cts.times_better.max()"
   ]
  },
  {
   "cell_type": "code",
   "execution_count": 82,
   "metadata": {},
   "outputs": [
    {
     "data": {
      "text/plain": [
       "15.841666666666665"
      ]
     },
     "execution_count": 82,
     "metadata": {},
     "output_type": "execute_result"
    }
   ],
   "source": [
    "cts.times_better_correct_surface.mean()"
   ]
  },
  {
   "cell_type": "code",
   "execution_count": 83,
   "metadata": {},
   "outputs": [
    {
     "data": {
      "text/plain": [
       "7.365"
      ]
     },
     "execution_count": 83,
     "metadata": {},
     "output_type": "execute_result"
    }
   ],
   "source": [
    "cts.times_better_correct_surface.median()"
   ]
  },
  {
   "cell_type": "code",
   "execution_count": 49,
   "metadata": {},
   "outputs": [],
   "source": [
    "cts.to_csv(\"/Users/alexandra/Documents/GitHub/dataset_creation/data/v5/V9_analysis.csv\")"
   ]
  },
  {
   "cell_type": "code",
   "execution_count": 53,
   "metadata": {},
   "outputs": [
    {
     "data": {
      "text/plain": [
       "nostreet\n",
       "False    6725\n",
       "True     2654\n",
       "Name: count, dtype: int64"
      ]
     },
     "execution_count": 53,
     "metadata": {},
     "output_type": "execute_result"
    }
   ],
   "source": [
    "annotations[\"nostreet\"].notna().value_counts()"
   ]
  },
  {
   "cell_type": "code",
   "execution_count": null,
   "metadata": {},
   "outputs": [],
   "source": []
  }
 ],
 "metadata": {
  "kernelspec": {
   "display_name": "sai_dc",
   "language": "python",
   "name": "python3"
  },
  "language_info": {
   "codemirror_mode": {
    "name": "ipython",
    "version": 3
   },
   "file_extension": ".py",
   "mimetype": "text/x-python",
   "name": "python",
   "nbconvert_exporter": "python",
   "pygments_lexer": "ipython3",
   "version": "3.12.0"
  }
 },
 "nbformat": 4,
 "nbformat_minor": 2
}
