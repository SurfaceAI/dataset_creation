{
 "cells": [
  {
   "cell_type": "code",
   "execution_count": 61,
   "metadata": {},
   "outputs": [],
   "source": [
    "import os\n",
    "\n",
    "import numpy as np\n",
    "import pandas as pd\n",
    "import json\n",
    "\n",
    "from sklearn.metrics import cohen_kappa_score\n",
    "import krippendorff as kd"
   ]
  },
  {
   "cell_type": "code",
   "execution_count": 62,
   "metadata": {},
   "outputs": [],
   "source": [
    "version = \"v5\""
   ]
  },
  {
   "cell_type": "code",
   "execution_count": 74,
   "metadata": {},
   "outputs": [],
   "source": [
    "path = os.path.join(\"/\", \"Users\", \"alexandra\", \"Nextcloud-HTW\", \"SHARED\", \"SurfaceAI\", \"data\", \"mapillary_images\", \"training\", f\"{version}_c0\", \"metadata\")\n",
    "files = [\n",
    "    \"annotations_a1.csv\",\n",
    "    \"annotations_a2.csv\",\n",
    "    \"annotations_a3.csv\",\n",
    "]\n",
    "\n",
    "nostreet_values = [\"(mainly) no street visible\", \"surface / smoothness not visible\"]\n",
    "unsure_revise_value = \"unsure - please revise\""
   ]
  },
  {
   "cell_type": "code",
   "execution_count": 75,
   "metadata": {},
   "outputs": [],
   "source": [
    "df = pd.DataFrame()\n",
    "for file in files:\n",
    "    df = pd.concat([df, pd.read_csv(os.path.join(path, file))])"
   ]
  },
  {
   "cell_type": "code",
   "execution_count": 76,
   "metadata": {},
   "outputs": [],
   "source": [
    "df[\"image_id\"] = df.image.apply(\n",
    "lambda x: str.split(\n",
    "    x, \"https://freemove.f4.htw-berlin.de/data/local-files/?d=v5/\"\n",
    ")[1]).apply(lambda x: int(str.split(x, \".jpg\")[0]))"
   ]
  },
  {
   "cell_type": "code",
   "execution_count": 77,
   "metadata": {},
   "outputs": [
    {
     "data": {
      "text/plain": [
       "180"
      ]
     },
     "execution_count": 77,
     "metadata": {},
     "output_type": "execute_result"
    }
   ],
   "source": [
    "df.image_id.nunique()"
   ]
  },
  {
   "cell_type": "code",
   "execution_count": 78,
   "metadata": {},
   "outputs": [
    {
     "data": {
      "text/plain": [
       "12"
      ]
     },
     "execution_count": 78,
     "metadata": {},
     "output_type": "execute_result"
    }
   ],
   "source": [
    "len(df[df[\"nostreet\"] == \"unsure - please revise\"].image_id.unique())"
   ]
  },
  {
   "cell_type": "markdown",
   "metadata": {},
   "source": [
    "12 images were at least one annotator said \"please revise\"."
   ]
  },
  {
   "cell_type": "code",
   "execution_count": 81,
   "metadata": {},
   "outputs": [
    {
     "data": {
      "text/plain": [
       "61"
      ]
     },
     "execution_count": 81,
     "metadata": {},
     "output_type": "execute_result"
    }
   ],
   "source": [
    "df[~df.nostreet.isna()].image_id.nunique()"
   ]
  },
  {
   "cell_type": "markdown",
   "metadata": {},
   "source": [
    "Another 49 images excluded by at least one annotator."
   ]
  },
  {
   "cell_type": "code",
   "execution_count": 83,
   "metadata": {},
   "outputs": [],
   "source": [
    "df.loc[~df.nostreet.isna(), \"surface\"] = \"nostreet\"\n",
    "df.loc[~df.nostreet.isna(), \"smoothness\"] = \"nostreet\""
   ]
  },
  {
   "cell_type": "code",
   "execution_count": 84,
   "metadata": {},
   "outputs": [],
   "source": [
    "nostreet_ids = df[~df.nostreet.isna()].image_id.unique()\n",
    "df = df[~df.image_id.isin(nostreet_ids)]"
   ]
  },
  {
   "cell_type": "code",
   "execution_count": 85,
   "metadata": {},
   "outputs": [
    {
     "data": {
      "text/plain": [
       "119"
      ]
     },
     "execution_count": 85,
     "metadata": {},
     "output_type": "execute_result"
    }
   ],
   "source": [
    "df.image_id.nunique()"
   ]
  },
  {
   "cell_type": "code",
   "execution_count": 89,
   "metadata": {},
   "outputs": [
    {
     "data": {
      "text/plain": [
       "annotator\n",
       "1    119\n",
       "5    119\n",
       "4    119\n",
       "Name: count, dtype: int64"
      ]
     },
     "execution_count": 89,
     "metadata": {},
     "output_type": "execute_result"
    }
   ],
   "source": [
    "# ensure every annotator has the same image count\n",
    "df.annotator.value_counts()"
   ]
  },
  {
   "cell_type": "code",
   "execution_count": 90,
   "metadata": {},
   "outputs": [
    {
     "data": {
      "text/plain": [
       "91.94"
      ]
     },
     "execution_count": 90,
     "metadata": {},
     "output_type": "execute_result"
    }
   ],
   "source": [
    "# compare predictions \n",
    "image_id_counts = df.groupby([\"image_id\"]).size()\n",
    "image_ids = image_id_counts[image_id_counts == 3].index\n",
    "grouped_surface = df[df.image_id.isin(image_ids) ].groupby([\"image_id\", \"surface\"]).size()\n",
    "\n",
    "# same surface rating \n",
    "round(100* len(grouped_surface[grouped_surface == 3]) / len(grouped_surface), 2)"
   ]
  },
  {
   "cell_type": "code",
   "execution_count": 91,
   "metadata": {},
   "outputs": [
    {
     "data": {
      "text/plain": [
       "31.49"
      ]
     },
     "execution_count": 91,
     "metadata": {},
     "output_type": "execute_result"
    }
   ],
   "source": [
    "# same smoothness rating\n",
    "grouped_smoothness = df.groupby([\"image_id\", \"smoothness\"]).size()\n",
    "round(100* len(grouped_smoothness[grouped_smoothness == 3]) / len(grouped_smoothness), 2)"
   ]
  },
  {
   "cell_type": "code",
   "execution_count": 93,
   "metadata": {},
   "outputs": [],
   "source": [
    "# quality to rank\n",
    "df[\"smoothness_int\"] = df.smoothness.apply(lambda x: \n",
    "                                           0 if x == \"ver_bad\" \n",
    "                                           else 1 if x == \"bad\" \n",
    "                                           else 2 if x == \"intermediate\" \n",
    "                                           else 3 if x == \"good\" \n",
    "                                           else 2.5 if x == \"nostreet\"\n",
    "                                           else 4)"
   ]
  },
  {
   "cell_type": "code",
   "execution_count": 95,
   "metadata": {},
   "outputs": [
    {
     "name": "stdout",
     "output_type": "stream",
     "text": [
      "Krippendorfs alpha for surface: 0.96\n",
      "Krippendorfs alpha for smoothness: 0.52\n",
      "Krippendorfs alpha for smoothness as ordinal: 0.74\n"
     ]
    }
   ],
   "source": [
    "rater1 = df[(df.image_id.isin(image_ids)) & (df.annotator == annotator1)].sort_values(by=[\"image_id\"])\n",
    "rater2 = df[(df.image_id.isin(image_ids) )& (df.annotator == annotator2)].sort_values(by=[\"image_id\"])\n",
    "rater3 = df[(df.image_id.isin(image_ids) )& (df.annotator == annotator3)].sort_values(by=[\"image_id\"])\n",
    "krippendorfs_alpha_surf = kd.alpha(np.array([\n",
    "                rater1.surface.tolist(), \n",
    "                rater2.surface.tolist(),\n",
    "                rater3.surface.tolist()]), level_of_measurement='nominal')\n",
    "krippendorfs_alpha_smooth = kd.alpha(np.array([\n",
    "                rater1.smoothness.tolist(), \n",
    "                rater2.smoothness.tolist(),\n",
    "                rater3.smoothness.tolist()]), level_of_measurement='nominal')\n",
    "krippendorfs_alpha_smooth_int = kd.alpha(np.array([\n",
    "                rater1.smoothness_int.tolist(), \n",
    "                rater2.smoothness_int.tolist(),\n",
    "                rater3.smoothness_int.tolist()]), level_of_measurement='ordinal')\n",
    "\n",
    "print(f\"Krippendorfs alpha for surface: {round(krippendorfs_alpha_surf, 2)}\")\n",
    "print(f\"Krippendorfs alpha for smoothness: {round(krippendorfs_alpha_smooth, 2)}\")\n",
    "print(f\"Krippendorfs alpha for smoothness as ordinal: {round(krippendorfs_alpha_smooth_int, 2)}\")"
   ]
  },
  {
   "cell_type": "code",
   "execution_count": null,
   "metadata": {},
   "outputs": [],
   "source": []
  }
 ],
 "metadata": {
  "kernelspec": {
   "display_name": "sai_dc",
   "language": "python",
   "name": "python3"
  },
  "language_info": {
   "codemirror_mode": {
    "name": "ipython",
    "version": 3
   },
   "file_extension": ".py",
   "mimetype": "text/x-python",
   "name": "python",
   "nbconvert_exporter": "python",
   "pygments_lexer": "ipython3",
   "version": "3.12.0"
  }
 },
 "nbformat": 4,
 "nbformat_minor": 2
}
